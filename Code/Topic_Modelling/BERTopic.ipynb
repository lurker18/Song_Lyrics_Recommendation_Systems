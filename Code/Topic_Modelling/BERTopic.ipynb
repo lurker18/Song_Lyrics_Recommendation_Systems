{
 "cells": [
  {
   "cell_type": "code",
   "execution_count": null,
   "id": "f7e65838",
   "metadata": {},
   "outputs": [],
   "source": [
    "from bertopic import BERTopic\n",
    "import pandas as pd\n",
    "import numpy as np\n",
    "import matplotlib.pyplot as plt\n",
    "from sentence_transformers import SentenceTransformer\n",
    "\n",
    "melon = pd.read_csv('C:/Users/Hydra18/Desktop/텍스트이해와인공지능/Project/Dataset/Preprocessed/[멜론]Top_4500_Songs_with_Translations.csv', encoding = 'utf-8-sig')\n",
    "#billboard = pd.read_csv('C:/Users/Hydra18/Desktop/텍스트이해와인공지능/Project/Dataset/Preprocessed/[Billboard]Top_5000_Songs_with_Translations.csv', encoding = 'utf-8-sig')\n",
    "billboard = pd.read_csv('C:/Users/Hydra18/Desktop/텍스트이해와인공지능/Project/Dataset/Preprocessed/[Billboard]Top_5000_Songs_Lyrics_Genres_2010_2021_with_Dates_with_Translations.csv', encoding = 'utf-8-sig')"
   ]
  },
  {
   "cell_type": "code",
   "execution_count": null,
   "id": "cd03fff2",
   "metadata": {},
   "outputs": [],
   "source": [
    "print(melon.info())\n",
    "print()\n",
    "print(billboard.info())"
   ]
  },
  {
   "cell_type": "code",
   "execution_count": null,
   "id": "9929279d",
   "metadata": {},
   "outputs": [],
   "source": [
    "melon['Lyrics'][0]"
   ]
  },
  {
   "cell_type": "code",
   "execution_count": null,
   "id": "bc7b0426",
   "metadata": {
    "scrolled": true
   },
   "outputs": [],
   "source": [
    "billboard['Translations'][0]"
   ]
  },
  {
   "cell_type": "markdown",
   "id": "a7333b88",
   "metadata": {},
   "source": [
    "### 외국 음악 - Billboard - BERTopic - Topic Modelling"
   ]
  },
  {
   "cell_type": "code",
   "execution_count": null,
   "id": "c935e46a",
   "metadata": {},
   "outputs": [],
   "source": [
    "billboard['Translations'][0:1500]"
   ]
  },
  {
   "cell_type": "code",
   "execution_count": null,
   "id": "b5db091f",
   "metadata": {},
   "outputs": [],
   "source": [
    "billboard_list = list(billboard['Translations'][:4000])\n",
    "\n",
    "#sentence_model = SentenceTransformer(\"distiluse-base-multilingual-cased-v1\")\n",
    "sentence_model = SentenceTransformer(\"distiluse-base-multilingual-cased-v2\")\n",
    "#sentence_model = SentenceTransformer(\"all-mpnet-base-v2\")\n",
    "\n",
    "billboard_topic_model = BERTopic(min_topic_size = 8, n_gram_range=(1, 2), language = \"multilingual\", embedding_model = sentence_model)\n",
    "\n",
    "topics, probs = billboard_topic_model.fit_transform(billboard_list)"
   ]
  },
  {
   "cell_type": "code",
   "execution_count": null,
   "id": "482b33e5",
   "metadata": {},
   "outputs": [],
   "source": [
    "billboard_topic_model.get_topic_info()"
   ]
  },
  {
   "cell_type": "code",
   "execution_count": null,
   "id": "fa09640b",
   "metadata": {},
   "outputs": [],
   "source": [
    "billboard_topic_model.get_topic(0)"
   ]
  },
  {
   "cell_type": "code",
   "execution_count": null,
   "id": "df910498",
   "metadata": {
    "scrolled": true
   },
   "outputs": [],
   "source": [
    "billboard_topic_model.visualize_topics()"
   ]
  },
  {
   "cell_type": "code",
   "execution_count": null,
   "id": "7decef13",
   "metadata": {},
   "outputs": [],
   "source": [
    "billboard_topic_model.visualize_barchart()"
   ]
  },
  {
   "cell_type": "code",
   "execution_count": null,
   "id": "6eecfd69",
   "metadata": {},
   "outputs": [],
   "source": [
    "billboard_topic_model.visualize_hierarchy()"
   ]
  },
  {
   "cell_type": "code",
   "execution_count": null,
   "id": "2ed6206a",
   "metadata": {},
   "outputs": [],
   "source": [
    "billboard_topic_model.visualize_term_rank(log_scale=True)"
   ]
  },
  {
   "cell_type": "code",
   "execution_count": null,
   "id": "431a8495",
   "metadata": {},
   "outputs": [],
   "source": [
    "billboard_topic_model.visualize_heatmap()"
   ]
  },
  {
   "cell_type": "markdown",
   "id": "340ab2f7",
   "metadata": {},
   "source": [
    "### 멜론 음악 - Melon - BERTopic - Topic Modelling"
   ]
  },
  {
   "cell_type": "code",
   "execution_count": null,
   "id": "60ff02d7",
   "metadata": {},
   "outputs": [],
   "source": [
    "melon_list = list(melon['Lyrics'][::])\n",
    "\n",
    "sentence_model = SentenceTransformer(\"distiluse-base-multilingual-cased-v2\")\n",
    "melon_topic_model = BERTopic(min_topic_size = 8, n_gram_range=(1, 2), language = \"multilingual\", embedding_model = sentence_model)\n",
    "\n",
    "topics, probs = melon_topic_model.fit_transform(melon_list)"
   ]
  },
  {
   "cell_type": "code",
   "execution_count": null,
   "id": "303bc700",
   "metadata": {},
   "outputs": [],
   "source": [
    "melon_topic_model.get_topic_info()"
   ]
  },
  {
   "cell_type": "code",
   "execution_count": null,
   "id": "7e4d457f",
   "metadata": {},
   "outputs": [],
   "source": [
    "melon_topic_model.get_topic(0)"
   ]
  },
  {
   "cell_type": "code",
   "execution_count": null,
   "id": "6fe05442",
   "metadata": {},
   "outputs": [],
   "source": [
    "melon_topic_model.visualize_topics()"
   ]
  },
  {
   "cell_type": "code",
   "execution_count": null,
   "id": "e6b62e16",
   "metadata": {},
   "outputs": [],
   "source": [
    "melon_topic_model.visualize_barchart()"
   ]
  },
  {
   "cell_type": "code",
   "execution_count": null,
   "id": "72079c9b",
   "metadata": {},
   "outputs": [],
   "source": [
    "melon_topic_model.visualize_hierarchy()"
   ]
  },
  {
   "cell_type": "code",
   "execution_count": null,
   "id": "bdc2e8e6",
   "metadata": {},
   "outputs": [],
   "source": [
    "melon_topic_model.visualize_term_rank(log_scale=True)"
   ]
  },
  {
   "cell_type": "code",
   "execution_count": null,
   "id": "074c1fbd",
   "metadata": {},
   "outputs": [],
   "source": [
    "#classes = [melon[\"Genre_names\"][i] for i in melon[\"Genre\"]]\n",
    "#topics_per_class = topic_model.topics_per_class(melon_list, topics, classes=classes)"
   ]
  },
  {
   "cell_type": "code",
   "execution_count": null,
   "id": "871b7637",
   "metadata": {},
   "outputs": [],
   "source": []
  }
 ],
 "metadata": {
  "kernelspec": {
   "display_name": "Python 3",
   "language": "python",
   "name": "python3"
  },
  "language_info": {
   "codemirror_mode": {
    "name": "ipython",
    "version": 3
   },
   "file_extension": ".py",
   "mimetype": "text/x-python",
   "name": "python",
   "nbconvert_exporter": "python",
   "pygments_lexer": "ipython3",
   "version": "3.7.10"
  }
 },
 "nbformat": 4,
 "nbformat_minor": 5
}
