{
 "cells": [
  {
   "cell_type": "code",
   "execution_count": 22,
   "id": "797f9f9f",
   "metadata": {},
   "outputs": [],
   "source": [
    "import numpy as np\n",
    "import torch\n",
    "import torch.nn as nn\n",
    "from tqdm import tqdm\n",
    "from gensim import corpora\n",
    "import gensim\n",
    "import pandas as pd\n",
    "from MyTop import Top2Vec\n",
    "import re\n",
    "from textblob import TextBlob\n",
    "import contractions    \n",
    "from numpy import inf"
   ]
  },
  {
   "cell_type": "markdown",
   "id": "bb20cd2d",
   "metadata": {},
   "source": [
    "# DATA LOAD"
   ]
  },
  {
   "cell_type": "code",
   "execution_count": 23,
   "id": "d091f288",
   "metadata": {},
   "outputs": [],
   "source": [
    "data1 = pd.read_csv('[Billboard]Top_5000_Songs_with_Translations.csv')\n",
    "data2 = pd.read_csv('[멜론]Top_4500_Songs_with_Translations.csv')"
   ]
  },
  {
   "cell_type": "code",
   "execution_count": 269,
   "id": "1465cbe4",
   "metadata": {},
   "outputs": [],
   "source": [
    "Pop_artist = data1['Artist']"
   ]
  },
  {
   "cell_type": "markdown",
   "id": "3de24138",
   "metadata": {},
   "source": [
    "# KPOP 한글 전처리"
   ]
  },
  {
   "cell_type": "code",
   "execution_count": 24,
   "id": "a42221c8",
   "metadata": {},
   "outputs": [
    {
     "name": "stderr",
     "output_type": "stream",
     "text": [
      "[nltk_data] Downloading package punkt to\n",
      "[nltk_data]     C:\\Users\\MJ\\AppData\\Roaming\\nltk_data...\n",
      "[nltk_data]   Package punkt is already up-to-date!\n",
      "[nltk_data] Downloading package averaged_perceptron_tagger to\n",
      "[nltk_data]     C:\\Users\\MJ\\AppData\\Roaming\\nltk_data...\n",
      "[nltk_data]   Package averaged_perceptron_tagger is already up-to-\n",
      "[nltk_data]       date!\n"
     ]
    },
    {
     "data": {
      "text/plain": [
       "True"
      ]
     },
     "execution_count": 24,
     "metadata": {},
     "output_type": "execute_result"
    }
   ],
   "source": [
    "from konlpy.tag import Okt\n",
    "import nltk\n",
    "nltk.download('punkt')\n",
    "nltk.download('averaged_perceptron_tagger')"
   ]
  },
  {
   "cell_type": "code",
   "execution_count": 25,
   "id": "ebf69a24",
   "metadata": {},
   "outputs": [],
   "source": [
    "def clean_text(text):\n",
    "    content = text\n",
    "    cleaned_text = re.sub(r'[^가-힣a-zA-Z0-9 ]', '', content) # 한글 / 영어 알파벳과 숫자(0~9)와 공백(1개)까지만 포함\n",
    "    cleaned_text = re.sub(r'([오])\\1+', r'\\1', cleaned_text)  # '오' 란 글자 2개 이상 이면 제거함\n",
    "    cleaned_text = re.sub(r'([루])\\1+', r'\\1', cleaned_text)  # '오' 란 글자 2개 이상 이면 제거함\n",
    "    cleaned_text = re.sub(r'([르])\\1+', r'\\1', cleaned_text)  # '오' 란 글자 2개 이상 이면 제거함\n",
    "    cleaned_text = re.sub(r'([어])\\1+', r'\\1', cleaned_text)  # '오' 란 글자 2개 이상 이면 제거함\n",
    "    cleaned_text = re.sub(r'([베])\\1+', r'\\1', cleaned_text)  # '오' 란 글자 2개 이상 이면 제거함\n",
    "    cleaned_text = re.sub(r'([라])\\1+', r'\\1', cleaned_text)  # '라' 란 글자 2개 이상 이면 제거함\n",
    "    cleaned_text = re.sub(r'([워])\\1+', r'\\1', cleaned_text)  # '워' 란 글자 2개 이상 이면 제거함\n",
    "    cleaned_text = re.sub(r'([나])\\1+', r'\\1', cleaned_text)  # '오' 란 글자 2개 이상 이면 제거함\n",
    "    cleaned_text = re.sub(r'([척])\\1+', r'\\1', cleaned_text)  # '오' 란 글자 2개 이상 이면 제거함\n",
    "    cleaned_text = re.sub(r'([우])\\1+', r'\\1', cleaned_text)  # '우' 란 글자 2개 이상 이면 제거함\n",
    "    cleaned_text = re.sub(r'([하])\\1+', r'\\1', cleaned_text)  # '하' 란 글자 2개 이상 이면 제거함\n",
    "    cleaned_text = re.sub(r'(la)\\1+', r'\\1', cleaned_text)    # 'la' 란 글자(들)이 2개 이상 이면 제거함\n",
    "    cleaned_text = re.sub(r'(두근)\\1+', r'\\1', cleaned_text)  # '두근' 란 글자(들)이 2개 이상 이면 제거함\n",
    "    cleaned_text = re.sub(r\"(\\w)\\1+(\\w)\\2+\", r\"\\1\\2\", cleaned_text)\n",
    "    cleaned_text = re.sub(r'(.)\\1{3,}', r'\\1', cleaned_text)  #  그외 하나의 글자(또는 Character)가 3개이상 일 때는 제거함\n",
    "    #cleaned_text = re.sub(r'(.+?)\\1+', r'\\1', cleaned_text)  # stemming 또는 Hello 같은 'm'자 또는 'l'자도 하나로만 사용하고 싶을 때 사용해도됨.\n",
    "    return cleaned_text"
   ]
  },
  {
   "cell_type": "code",
   "execution_count": 26,
   "id": "1ea1d449",
   "metadata": {},
   "outputs": [],
   "source": [
    "kr_stopwords ='아 휴 아이구 에르 쿠안 코모 에스 포르 비엔 페로 야야 하소 야만 마다나 어머나 순간 오안 하라 가야 오난 타요 래야 티엔 엘라 프레 안도 데스 아호 아시 하스타 파라 올비 건초 라나 마디 다야 타요 마오 요나 아누 래야 야오 야만 자기야 페라리 마넌 니키 무언가 다누 중이 다나 마미 아아 다오 게토 야야 오지 마내 똑바로 하나요 마이바흐 도아 건가 다날 해당 상이 아난 내내 여지 오네가 가득 바비 테라 마스 라스 모스 로스 데일 라마 스토 리오 스타 디아 멜로 프리 가나 제이 에나 주사위 미스 다드 아모 프로 아미 스트로 칼리 부스 보라 리아 레고 카르 크리 아이쿠 아이고 어 나 우리 저희 따라 의해 을 를 에 의 가 으로 로 에게 뿐이다 의거하여 근거하여 입각하여 기준으로 예하면 예를 들면 예를 들자면 저 소인 소생 저희 지말고 하지마 하지마라 다른 물론 또한 그리고 비길수 없다 해서는 안된다 뿐만 아니라 만이 아니다 만은 아니다 막론하고 관계없이 그치지 않다 그러나 그런데 하지만 든간에 논하지 않다 따지지 않다 설사 비록 더라도 아니면 만 못하다 하는 편이 낫다 불문하고 향하여 향해서 향하다 쪽으로 틈타 이용하여 타다 오르다 제외하고 이 외에 이 밖에 하여야 비로소 한다면 몰라도 외에도 이곳 여기 부터 기점으로 따라서 할 생각이다 하려고하다 이리하여 그리하여 그렇게 함으로써 하지만 일때 할때 앞에서 중에서 보는데서 으로써 로써 까지 해야한다 일것이다 반드시 할줄알다 할수있다 할수있어 임에 틀림없다 한다면 등 등등 제 겨우 단지 다만 할뿐 딩동 댕그 대해서 이제 고통 모든 가장 위해 대가 고우리 때그 왜냐면 갑자기 그게 이유 이건 야우리 깜둥이 항상 거나 젠장 정말 려고 타고 예전 지그 째깍 다그 오늘이 로나 번의 해나 난나 다가 라리 어쩌 그거 빙빙 놨다 어머 대하여 대하면 훨씬 얼마나 얼마만큼 얼마큼 남짓 여 얼마간 약간 다소 좀 조금 다수 몇 얼마 지만 하물며 또한 그러나 그렇지만 하지만 이외에도 대해 말하자면 뿐이다 다음에 반대로 반대로 말하자면 이와 반대로 바꾸어서 말하면 바꾸어서 한다면 만약 그렇지않으면 까악 툭 딱 삐걱거리다 보드득 비걱거리다 꽈당 응당 해야한다 에 가서 각 각각 여러분 각종 각자 제각기 하도록하다 와 과 그러므로 그래서 고로 한 까닭에 하기 때문에 거니와 이지만 대하여 관하여 관한 과연 실로 아니나다를가 생각한대로 진짜로 한적이있다 하곤하였다 하 하하 허허 아하 거바 와 오 왜 어째서 무엇때문에 어찌 하겠는가 무슨 어디 어느곳 더군다나 하물며 더욱이는 어느때 언제 야 이봐 어이 여보시오 흐흐 흥 휴 헉헉 헐떡헐떡 영차 여차 어기여차 끙끙 아야 앗 아야 콸콸 졸졸 좍좍 뚝뚝 주룩주룩 솨 우르르 그래도 또 그리고 바꾸어말하면 바꾸어말하자면 혹은 혹시 답다 및 그에 따르는 때가 되어 즉 지든지 설령 가령 하더라도 할지라도 일지라도 지든지 몇 거의 하마터면 인젠 이젠 된바에야 된이상 만큼 어찌됏든 그위에 게다가 점에서 보아 비추어 보아 고려하면 하게될것이다 일것이다 비교적 좀 보다더 비하면 시키다 하게하다 할만하다 의해서 연이서 이어서 잇따라 뒤따라 뒤이어 결국 의지하여 기대여 통하여 자마자 더욱더 불구하고 얼마든지 마음대로 주저하지 않고 곧 즉시 바로 당장 하자마자 밖에 안된다 하면된다 그래 그렇지 요컨대 다시 말하자면 바꿔 말하면 즉 구체적으로 말하자면 시작하여 시초에 이상 허 헉 허걱 바와같이 해도좋다 해도된다 게다가 더구나 하물며 와르르 팍 퍽 펄렁 동안 이래 하고있었다 이었다 에서 로부터 까지 예하면 했어요 해요 함께 같이 더불어 마저 마저도 양자 모두 습니다 가까스로 하려고하다 즈음하여 다른 다른 방면으로 해봐요 습니까 했어요 말할것도 없고 무릎쓰고 개의치않고 하는것만 못하다 하는것이 낫다 매 매번 들 모 어느것 어느 로써 갖고말하자면 어디 어느쪽 어느것 어느해 어느 년도 라 해도 언젠가 어떤것 어느것 저기 저쪽 저것 그때 그럼 그러면 요만한걸 그래 그때 저것만큼 그저 이르기까지 할 줄 안다 할 힘이 있다 너 너희 당신 어찌 설마 차라리 할지언정 할지라도 할망정 할지언정 구토하다 게우다 토하다 메쓰겁다 옆사람 퉤 쳇 의거하여 근거하여 의해 따라 힘입어 그 다음 버금 두번째로 기타 첫번째로 나머지는 그중에서 견지에서 형식으로 쓰여 입장에서 위해서 단지 의해되다 하도록시키다 뿐만아니라 반대로 전후 전자 앞의것 잠시 잠깐 하면서 그렇지만 다음에 그러한즉 그런즉 남들 아무거나 어찌하든지 같다 비슷하다 예컨대 이럴정도로 어떻게 만약 만일 위에서 서술한바와같이 인 듯하다 하지 않는다면 만약에 무엇 무슨 어느 어떤 아래윗 조차 한데 그럼에도 불구하고 여전히 심지어 까지도 조차도 하지 않도록 않기 위하여 때 시각 무렵 시간 동안 어때 어떠한 하여금 네 예 우선 누구 누가 알겠는가 아무도 줄은모른다 줄은 몰랏다 하는 김에 겸사겸사 하는바 그런 까닭에 한 이유는 그러니 그러니까 때문에 그 너희 그들 너희들 타인 것 것들 너 위하여 공동으로 동시에 하기 위하여 어찌하여 무엇때문에 붕붕 윙윙 나 우리 엉엉 휘익 윙윙 오호 아하 어쨋든 만 못하다 하기보다는 차라리 하는 편이 낫다 흐흐 놀라다 상대적으로 말하자면 마치 아니라면 쉿 그렇지 않으면 그렇지 않다면 안 그러면 아니었다면 하든지 아니면 이라면 좋아 알았어 하는것도 그만이다 어쩔수 없다 하나 일 일반적으로 일단 한켠으로는 오자마자 이렇게되면 이와같다면 전부 한마디 한항목 근거로 하기에 아울러 하지 않도록 않기 위해서 이르기까지 이 되다 로 인하여 까닭으로 이유만으로 이로 인하여 그래서 이 때문에 그러므로 그런 까닭에 알 수 있다 결론을 낼 수 있다 으로 인하여 있다 어떤것 관계가 있다 관련이 있다 연관되다 어떤것들 에 대해 이리하여 그리하여 여부 하기보다는 하느니 하면 할수록 운운 이러이러하다 하구나 하도다 다시말하면 다음으로 에 있다 에 달려 있다 우리 우리들 오히려 하기는한데 어떻게 어떻해 어찌됏어 어때 어째서 본대로 자 이 이쪽 여기 이것 이번 이렇게말하자면 이런 이러한 이와 같은 요만큼 요만한 것 얼마 안 되는 것 이만큼 이 정도의 이렇게 많은 것 이와 같다 이때 이렇구나 것과 같이 끼익 삐걱 따위 와 같은 사람들 부류의 사람들 왜냐하면 중의하나 오직 오로지 에 한하다 하기만 하면 도착하다 까지 미치다 도달하다 정도에 이르다 할 지경이다 결과에 이르다 관해서는 여러분 하고 있다 한 후 혼자 자기 자기집 자신 우에 종합한것과같이 총적으로 보면 총적으로 말하면 총적으로 대로 하다 으로서 참 그만이다 할 따름이다 쿵 탕탕 쾅쾅 둥둥 봐 봐라 아이야 아니 와아 응 아이 참나 년 월 일 령 영 일 이 삼 사 오 육 륙 칠 팔 구 이천육 이천칠 이천팔 이천구 하나 둘 셋 넷 다섯 여섯 일곱 여덟 아홉 령 영 이 있 하 것 들 그 되 수 이 보 않 없 나 사람 주 아니 등 같 우리 때 년 가 한 지 대하 오 말 일 그렇 위하 때문 그것 두 말하 알 그러나 받 못하 일 그런 또 문제 더 사회 많 그리고 좋 크 따르 중 나오 가지 씨 시키 만들 지금 생각하 그러 속 하나 집 살 모르 적 월 데 자신 안 어떤 내 내 경우 명 생각 시간 그녀 다시 이런 앞 보이 번 나 다른 어떻 여자 개 전 들 사실 이렇 점 싶 말 정도 좀 원 잘 통하 하니 하자놓 듯이 라면 거기 여기 때내 오라 라서 뚜루 한단 요사 엄머머머 잠시 아예 에이'\n",
    "kr_stopwords = kr_stopwords.split()"
   ]
  },
  {
   "cell_type": "code",
   "execution_count": 27,
   "id": "f2b009a2",
   "metadata": {},
   "outputs": [
    {
     "name": "stderr",
     "output_type": "stream",
     "text": [
      "100%|██████████████████████████████████████████████████████████████████████████████| 4577/4577 [02:29<00:00, 30.52it/s]\n"
     ]
    }
   ],
   "source": [
    "okt = Okt()\n",
    "kpop_kr =[]\n",
    "for i in tqdm(range(4577)):\n",
    "    add=[]\n",
    "    text = data2['Lyrics'][i]\n",
    "    cleaned_text = clean_text(text)\n",
    "    nouns = list(okt.nouns(cleaned_text))\n",
    "    lemmatized_words = [word for word in nouns if len(word) >= 2]\n",
    "    stopwords_removed_sentence = [word for word in lemmatized_words if not word in kr_stopwords]\n",
    "    for word in stopwords_removed_sentence:\n",
    "        docs = \"\".join(word)\n",
    "        add.append(docs)\n",
    "    doc = \" \".join(add)\n",
    "    kpop_kr.append(doc)"
   ]
  },
  {
   "cell_type": "code",
   "execution_count": 41,
   "id": "94af4f8c",
   "metadata": {},
   "outputs": [],
   "source": [
    "df_kpop_kr=pd.DataFrame(kpop_kr)"
   ]
  },
  {
   "cell_type": "markdown",
   "id": "2e4f06ff",
   "metadata": {},
   "source": [
    "# POP 한글 전처리 및 Top2vec"
   ]
  },
  {
   "cell_type": "code",
   "execution_count": 34,
   "id": "44eb77ef",
   "metadata": {},
   "outputs": [
    {
     "name": "stderr",
     "output_type": "stream",
     "text": [
      "100%|██████████████████████████████████████████████████████████████████████████████| 5147/5147 [05:48<00:00, 14.76it/s]\n"
     ]
    }
   ],
   "source": [
    "okt = Okt()\n",
    "pop_kr =[]\n",
    "for i in tqdm(range(5147)):\n",
    "    add=[]\n",
    "    text = data1['Translations'][i]\n",
    "    cleaned_text = clean_text(text)\n",
    "    nouns = list(okt.nouns(cleaned_text))\n",
    "    lemmatized_words = [word for word in nouns if len(word) >= 2]\n",
    "    stopwords_removed_sentence = [word for word in lemmatized_words if not word in kr_stopwords]\n",
    "    for word in stopwords_removed_sentence:\n",
    "        docs = \"\".join(word)\n",
    "        add.append(docs)\n",
    "    doc = \" \".join(add)\n",
    "    pop_kr.append(doc)"
   ]
  },
  {
   "cell_type": "code",
   "execution_count": 44,
   "id": "8f6f4579",
   "metadata": {},
   "outputs": [],
   "source": [
    "df_pop_kr=pd.DataFrame(pop_kr)"
   ]
  },
  {
   "cell_type": "markdown",
   "id": "cdb2d029",
   "metadata": {},
   "source": [
    "# POP 영어 전처리 및 Top2vec"
   ]
  },
  {
   "cell_type": "code",
   "execution_count": 4,
   "id": "322c08cc",
   "metadata": {},
   "outputs": [],
   "source": [
    "def complete_words(text):\n",
    "    # 1.단계 --> 철자 체크\n",
    "    textBlb = TextBlob(text)\n",
    "    fixed_sentence = textBlb.correct()\n",
    "    f_fixed_sentence = str(fixed_sentence)\n",
    "    \n",
    "    # 2. 단계 --> 짧은 단어들을 풀어주는 역할\n",
    "    expanded_words = []\n",
    "    for word in f_fixed_sentence.split():\n",
    "        expanded_words.append(contractions.fix(word))   \n",
    "    \n",
    "    expanded_text = ' '.join(expanded_words)\n",
    "    return str(f_fixed_sentence)"
   ]
  },
  {
   "cell_type": "code",
   "execution_count": 5,
   "id": "170e26fa",
   "metadata": {},
   "outputs": [
    {
     "name": "stderr",
     "output_type": "stream",
     "text": [
      "[nltk_data] Downloading package stopwords to\n",
      "[nltk_data]     C:\\Users\\MJ\\AppData\\Roaming\\nltk_data...\n",
      "[nltk_data]   Package stopwords is already up-to-date!\n"
     ]
    }
   ],
   "source": [
    "import nltk\n",
    "nltk.download('stopwords')\n",
    "from nltk.corpus import stopwords"
   ]
  },
  {
   "cell_type": "code",
   "execution_count": 6,
   "id": "ebf7a351",
   "metadata": {},
   "outputs": [],
   "source": [
    "stopwords=stopwords.words('english')\n",
    "newstopwords= ['oh', 'ooh', 'eh', 'oooh', 'whoa', 'im', 'mmh','boom','whataya', 'nobody', 'tiempo', 'pero', 'otra', 'estoy', 'nunca', 'ahora', 'porque', 'hace', 'siempre', 'cuando', 'ella', 'vamo', 'bien', 'nadie', 'conmigo', 'como', 'tiene', 'esta', 'vida', 'quiero', 'noche', 'sola', 'contigo', 'puedo', 'hasta', 'amor', 'gusta', 'tengo', 'para', 'todo', 'dale', 'loca', 'mami', 'dura', 'rico', 'dice', 'dime', 'flow', 'lambo', 'hookah', 'gate', 'solo', 'chris', 'papi', 'size', 'pill', 'real', 'blunt' 'imma', 'ohh', 'uh', 'la', 'li', 'im', 'na', 'huh', 'ah', 'ou', 'oou', 'yeah', 'de', 'p']\n",
    "stopwords_list=stopwords+newstopwords"
   ]
  },
  {
   "cell_type": "code",
   "execution_count": 7,
   "id": "8afeb345",
   "metadata": {
    "scrolled": true
   },
   "outputs": [
    {
     "name": "stderr",
     "output_type": "stream",
     "text": [
      "100%|████████████████████████████████████████████████████████████████████████████| 5147/5147 [1:34:04<00:00,  1.10s/it]\n"
     ]
    }
   ],
   "source": [
    "import nltk\n",
    "from nltk.stem import WordNetLemmatizer\n",
    "from nltk.stem import PorterStemmer\n",
    "import re\n",
    "wlem = nltk.WordNetLemmatizer()\n",
    "pop_en = []\n",
    "for i in tqdm(range(5147)):\n",
    "    add = []\n",
    "    whole_text = data1['Lyrics'][i]\n",
    "    whole_text = re.sub('[^a-zA-Z ]+',' ',whole_text)\n",
    "    no_capitals = whole_text.lower().split()\n",
    "    no_stops = [word for word in no_capitals if not word in stopwords_list]\n",
    "    \n",
    "    lem_word = [wlem.lemmatize(w) for w in no_stops]\n",
    "    len_word = [word for word in lem_word if len(word) >= 4]\n",
    "    len_word = [word for word in len_word if len(word) <= 12]\n",
    "    tokens_pos = nltk.pos_tag(len_word)\n",
    "    NN_words = []\n",
    "    for word, pos in tokens_pos:\n",
    "        if 'NN' in pos:\n",
    "            NN_words.append(word)\n",
    "        if 'JJ' in pos:\n",
    "            NN_words.append(word)\n",
    "\n",
    "    words = ' '.join(NN_words)\n",
    "    completed_words = complete_words(words)\n",
    "    \n",
    "    for word in completed_words:\n",
    "\n",
    "        words3 = \"\".join(word)\n",
    "        add.append(words3)\n",
    "    doc = \"\".join(add)\n",
    "    pop_en.append(doc)"
   ]
  },
  {
   "cell_type": "code",
   "execution_count": 45,
   "id": "f3d9870f",
   "metadata": {},
   "outputs": [],
   "source": [
    "df_pop_en=pd.DataFrame(pop_en)"
   ]
  },
  {
   "cell_type": "markdown",
   "id": "c2fc2182",
   "metadata": {},
   "source": [
    "# Kpop 영어 전처리 및 Top2vec"
   ]
  },
  {
   "cell_type": "code",
   "execution_count": 56,
   "id": "e47343b2",
   "metadata": {},
   "outputs": [
    {
     "name": "stderr",
     "output_type": "stream",
     "text": [
      " 89%|█████████████████████████████████████████████████████████████████████▎        | 4577/5147 [33:34<04:10,  2.27it/s]\n"
     ]
    },
    {
     "ename": "KeyError",
     "evalue": "4577",
     "output_type": "error",
     "traceback": [
      "\u001b[1;31m---------------------------------------------------------------------------\u001b[0m",
      "\u001b[1;31mValueError\u001b[0m                                Traceback (most recent call last)",
      "\u001b[1;32m~\\Anaconda3\\lib\\site-packages\\pandas\\core\\indexes\\range.py\u001b[0m in \u001b[0;36mget_loc\u001b[1;34m(self, key, method, tolerance)\u001b[0m\n\u001b[0;32m    350\u001b[0m                 \u001b[1;32mtry\u001b[0m\u001b[1;33m:\u001b[0m\u001b[1;33m\u001b[0m\u001b[1;33m\u001b[0m\u001b[0m\n\u001b[1;32m--> 351\u001b[1;33m                     \u001b[1;32mreturn\u001b[0m \u001b[0mself\u001b[0m\u001b[1;33m.\u001b[0m\u001b[0m_range\u001b[0m\u001b[1;33m.\u001b[0m\u001b[0mindex\u001b[0m\u001b[1;33m(\u001b[0m\u001b[0mnew_key\u001b[0m\u001b[1;33m)\u001b[0m\u001b[1;33m\u001b[0m\u001b[1;33m\u001b[0m\u001b[0m\n\u001b[0m\u001b[0;32m    352\u001b[0m                 \u001b[1;32mexcept\u001b[0m \u001b[0mValueError\u001b[0m \u001b[1;32mas\u001b[0m \u001b[0merr\u001b[0m\u001b[1;33m:\u001b[0m\u001b[1;33m\u001b[0m\u001b[1;33m\u001b[0m\u001b[0m\n",
      "\u001b[1;31mValueError\u001b[0m: 4577 is not in range",
      "\nThe above exception was the direct cause of the following exception:\n",
      "\u001b[1;31mKeyError\u001b[0m                                  Traceback (most recent call last)",
      "\u001b[1;32m<ipython-input-56-ea2a880ecb46>\u001b[0m in \u001b[0;36m<module>\u001b[1;34m\u001b[0m\n\u001b[0;32m      7\u001b[0m \u001b[1;32mfor\u001b[0m \u001b[0mi\u001b[0m \u001b[1;32min\u001b[0m \u001b[0mtqdm\u001b[0m\u001b[1;33m(\u001b[0m\u001b[0mrange\u001b[0m\u001b[1;33m(\u001b[0m\u001b[1;36m5147\u001b[0m\u001b[1;33m)\u001b[0m\u001b[1;33m)\u001b[0m\u001b[1;33m:\u001b[0m\u001b[1;33m\u001b[0m\u001b[1;33m\u001b[0m\u001b[0m\n\u001b[0;32m      8\u001b[0m     \u001b[0madd\u001b[0m \u001b[1;33m=\u001b[0m \u001b[1;33m[\u001b[0m\u001b[1;33m]\u001b[0m\u001b[1;33m\u001b[0m\u001b[1;33m\u001b[0m\u001b[0m\n\u001b[1;32m----> 9\u001b[1;33m     \u001b[0mwhole_text\u001b[0m \u001b[1;33m=\u001b[0m \u001b[0mdata2\u001b[0m\u001b[1;33m[\u001b[0m\u001b[1;34m'Filtered'\u001b[0m\u001b[1;33m]\u001b[0m\u001b[1;33m[\u001b[0m\u001b[0mi\u001b[0m\u001b[1;33m]\u001b[0m\u001b[1;33m\u001b[0m\u001b[1;33m\u001b[0m\u001b[0m\n\u001b[0m\u001b[0;32m     10\u001b[0m     \u001b[0mwhole_text\u001b[0m \u001b[1;33m=\u001b[0m \u001b[0mre\u001b[0m\u001b[1;33m.\u001b[0m\u001b[0msub\u001b[0m\u001b[1;33m(\u001b[0m\u001b[1;34m'[^a-zA-Z ]+'\u001b[0m\u001b[1;33m,\u001b[0m\u001b[1;34m' '\u001b[0m\u001b[1;33m,\u001b[0m\u001b[0mwhole_text\u001b[0m\u001b[1;33m)\u001b[0m\u001b[1;33m\u001b[0m\u001b[1;33m\u001b[0m\u001b[0m\n\u001b[0;32m     11\u001b[0m     \u001b[0mno_capitals\u001b[0m \u001b[1;33m=\u001b[0m \u001b[0mwhole_text\u001b[0m\u001b[1;33m.\u001b[0m\u001b[0mlower\u001b[0m\u001b[1;33m(\u001b[0m\u001b[1;33m)\u001b[0m\u001b[1;33m.\u001b[0m\u001b[0msplit\u001b[0m\u001b[1;33m(\u001b[0m\u001b[1;33m)\u001b[0m\u001b[1;33m\u001b[0m\u001b[1;33m\u001b[0m\u001b[0m\n",
      "\u001b[1;32m~\\Anaconda3\\lib\\site-packages\\pandas\\core\\series.py\u001b[0m in \u001b[0;36m__getitem__\u001b[1;34m(self, key)\u001b[0m\n\u001b[0;32m    851\u001b[0m \u001b[1;33m\u001b[0m\u001b[0m\n\u001b[0;32m    852\u001b[0m         \u001b[1;32melif\u001b[0m \u001b[0mkey_is_scalar\u001b[0m\u001b[1;33m:\u001b[0m\u001b[1;33m\u001b[0m\u001b[1;33m\u001b[0m\u001b[0m\n\u001b[1;32m--> 853\u001b[1;33m             \u001b[1;32mreturn\u001b[0m \u001b[0mself\u001b[0m\u001b[1;33m.\u001b[0m\u001b[0m_get_value\u001b[0m\u001b[1;33m(\u001b[0m\u001b[0mkey\u001b[0m\u001b[1;33m)\u001b[0m\u001b[1;33m\u001b[0m\u001b[1;33m\u001b[0m\u001b[0m\n\u001b[0m\u001b[0;32m    854\u001b[0m \u001b[1;33m\u001b[0m\u001b[0m\n\u001b[0;32m    855\u001b[0m         \u001b[1;32mif\u001b[0m \u001b[0mis_hashable\u001b[0m\u001b[1;33m(\u001b[0m\u001b[0mkey\u001b[0m\u001b[1;33m)\u001b[0m\u001b[1;33m:\u001b[0m\u001b[1;33m\u001b[0m\u001b[1;33m\u001b[0m\u001b[0m\n",
      "\u001b[1;32m~\\Anaconda3\\lib\\site-packages\\pandas\\core\\series.py\u001b[0m in \u001b[0;36m_get_value\u001b[1;34m(self, label, takeable)\u001b[0m\n\u001b[0;32m    959\u001b[0m \u001b[1;33m\u001b[0m\u001b[0m\n\u001b[0;32m    960\u001b[0m         \u001b[1;31m# Similar to Index.get_value, but we do not fall back to positional\u001b[0m\u001b[1;33m\u001b[0m\u001b[1;33m\u001b[0m\u001b[1;33m\u001b[0m\u001b[0m\n\u001b[1;32m--> 961\u001b[1;33m         \u001b[0mloc\u001b[0m \u001b[1;33m=\u001b[0m \u001b[0mself\u001b[0m\u001b[1;33m.\u001b[0m\u001b[0mindex\u001b[0m\u001b[1;33m.\u001b[0m\u001b[0mget_loc\u001b[0m\u001b[1;33m(\u001b[0m\u001b[0mlabel\u001b[0m\u001b[1;33m)\u001b[0m\u001b[1;33m\u001b[0m\u001b[1;33m\u001b[0m\u001b[0m\n\u001b[0m\u001b[0;32m    962\u001b[0m         \u001b[1;32mreturn\u001b[0m \u001b[0mself\u001b[0m\u001b[1;33m.\u001b[0m\u001b[0mindex\u001b[0m\u001b[1;33m.\u001b[0m\u001b[0m_get_values_for_loc\u001b[0m\u001b[1;33m(\u001b[0m\u001b[0mself\u001b[0m\u001b[1;33m,\u001b[0m \u001b[0mloc\u001b[0m\u001b[1;33m,\u001b[0m \u001b[0mlabel\u001b[0m\u001b[1;33m)\u001b[0m\u001b[1;33m\u001b[0m\u001b[1;33m\u001b[0m\u001b[0m\n\u001b[0;32m    963\u001b[0m \u001b[1;33m\u001b[0m\u001b[0m\n",
      "\u001b[1;32m~\\Anaconda3\\lib\\site-packages\\pandas\\core\\indexes\\range.py\u001b[0m in \u001b[0;36mget_loc\u001b[1;34m(self, key, method, tolerance)\u001b[0m\n\u001b[0;32m    351\u001b[0m                     \u001b[1;32mreturn\u001b[0m \u001b[0mself\u001b[0m\u001b[1;33m.\u001b[0m\u001b[0m_range\u001b[0m\u001b[1;33m.\u001b[0m\u001b[0mindex\u001b[0m\u001b[1;33m(\u001b[0m\u001b[0mnew_key\u001b[0m\u001b[1;33m)\u001b[0m\u001b[1;33m\u001b[0m\u001b[1;33m\u001b[0m\u001b[0m\n\u001b[0;32m    352\u001b[0m                 \u001b[1;32mexcept\u001b[0m \u001b[0mValueError\u001b[0m \u001b[1;32mas\u001b[0m \u001b[0merr\u001b[0m\u001b[1;33m:\u001b[0m\u001b[1;33m\u001b[0m\u001b[1;33m\u001b[0m\u001b[0m\n\u001b[1;32m--> 353\u001b[1;33m                     \u001b[1;32mraise\u001b[0m \u001b[0mKeyError\u001b[0m\u001b[1;33m(\u001b[0m\u001b[0mkey\u001b[0m\u001b[1;33m)\u001b[0m \u001b[1;32mfrom\u001b[0m \u001b[0merr\u001b[0m\u001b[1;33m\u001b[0m\u001b[1;33m\u001b[0m\u001b[0m\n\u001b[0m\u001b[0;32m    354\u001b[0m             \u001b[1;32mraise\u001b[0m \u001b[0mKeyError\u001b[0m\u001b[1;33m(\u001b[0m\u001b[0mkey\u001b[0m\u001b[1;33m)\u001b[0m\u001b[1;33m\u001b[0m\u001b[1;33m\u001b[0m\u001b[0m\n\u001b[0;32m    355\u001b[0m         \u001b[1;32mreturn\u001b[0m \u001b[0msuper\u001b[0m\u001b[1;33m(\u001b[0m\u001b[1;33m)\u001b[0m\u001b[1;33m.\u001b[0m\u001b[0mget_loc\u001b[0m\u001b[1;33m(\u001b[0m\u001b[0mkey\u001b[0m\u001b[1;33m,\u001b[0m \u001b[0mmethod\u001b[0m\u001b[1;33m=\u001b[0m\u001b[0mmethod\u001b[0m\u001b[1;33m,\u001b[0m \u001b[0mtolerance\u001b[0m\u001b[1;33m=\u001b[0m\u001b[0mtolerance\u001b[0m\u001b[1;33m)\u001b[0m\u001b[1;33m\u001b[0m\u001b[1;33m\u001b[0m\u001b[0m\n",
      "\u001b[1;31mKeyError\u001b[0m: 4577"
     ]
    }
   ],
   "source": [
    "import nltk\n",
    "from nltk.stem import WordNetLemmatizer\n",
    "from nltk.stem import PorterStemmer\n",
    "import re\n",
    "wlem = nltk.WordNetLemmatizer()\n",
    "kpop_en = []\n",
    "for i in tqdm(range(4577)):\n",
    "    add = []\n",
    "    whole_text = data2['Filtered'][i]\n",
    "    whole_text = re.sub('[^a-zA-Z ]+',' ',whole_text)\n",
    "    no_capitals = whole_text.lower().split()\n",
    "    no_stops = [word for word in no_capitals if not word in stopwords_list]\n",
    "    \n",
    "    lem_word = [wlem.lemmatize(w) for w in no_stops]\n",
    "    len_word = [word for word in lem_word if len(word) >= 4]\n",
    "    len_word = [word for word in len_word if len(word) <= 12]\n",
    "    tokens_pos = nltk.pos_tag(len_word)\n",
    "    NN_words = []\n",
    "    for word, pos in tokens_pos:\n",
    "        if 'NN' in pos:\n",
    "            NN_words.append(word)\n",
    "        if 'JJ' in pos:\n",
    "            NN_words.append(word)\n",
    "\n",
    "    words = ' '.join(NN_words)\n",
    "    completed_words = complete_words(words)\n",
    "    \n",
    "    for word in completed_words:\n",
    "\n",
    "        words3 = \"\".join(word)\n",
    "        add.append(words3)\n",
    "    doc = \"\".join(add)\n",
    "    kpop_en.append(doc)"
   ]
  },
  {
   "cell_type": "code",
   "execution_count": 67,
   "id": "525b0077",
   "metadata": {},
   "outputs": [
    {
     "data": {
      "text/plain": [
       "['weird heart face imagine control facial expression crazy miss anna first want fingers mouth control heart broken heart point pull love baby you talk everyone whistle reduce everyone cut voice call open love first fingers mouth control heart broken heart point pull love baby long time heart love word control heart broken heart point pull love baby hello hello meet talk melon think',\n",
       " 'nice smile jealous make afraid give trust jealous make thinking phone feel sleep night moonlight confess feel feel look heart anxious hold late here love song cool everyday love dance spend night look heart anxious hold late hehehehe wrong bring push pull honest jealous make curious jealous make love everyday know feel everyday everyday know feel',\n",
       " 'heart refuge someone black tunnel invisible path desert thirsty person kiss baby night hurry miss guess much night pass silver moon scent memory dream rain kiss baby love kiss baby tear ddurururu ddurudu wind ddurururu ddurudu draw daddy night miss memory hear voice many night kiss baby love kiss baby tear ddurururu ddurudu wind ddurururu ddurudu draw tell road road crazy dangerous cliff tough love poem black eyeskiss baby night hurry kiss baby ease kiss baby tear kiss baby medal',\n",
       " 'love obvious word easy easy love hard care hard time today please word action truth please please bear action painful memory love obvious word night laugh deep night tired hard time today please word action truth please wait please bear action painful memory catch obvious word love love love please word action truth please wait please bear action painful memory',\n",
       " 'look stay head place person know heart ache habit habit front love fool hard time look pray know wish heart ache habit habit front love fool heart ache know meet everyday want grab place word love turn miss',\n",
       " 'langham style langham style warm human woman dignity relaxation coffee woman woman heart heat night woman twist warm drinking coffee heart night kind beautiful beautiful langham style langham style langham style langham style langham style sex lady langham style sex lady girl look quiet play play time woman unites hair time woman sensual woman gentle play crazy time muscle kind beautiful beautiful langham style langham style langham style langham style langham style sex lady langham style sex lady baby baby something baby baby something langham style sex lady langham style sex lady langham style',\n",
       " 'electric electric shock electric electric shock electric current flow body faint enough love black hole hata hard long king long head beat jump louder limit shock electric shock nananananana electric nananananana electric nananananana electric shock nananananana electric nananananana electric nananananana electric shock please voltage please surprise hesitation collide little world upheaval doctor hata breath head round round jump louder limit shock electric shock nananananana electric nananananana electric nananananana electric shock nananananana electric nananananana electric nananananana electric shock electric electric electric shock energy everything intense laser laser deep heart energy gage gage jump louder limit shock electric shock nananananana electric nananananana electric nananananana electric shock nananananana electric nananananana electric nananananana electric shock nananananana nananananana electric shock',\n",
       " 'feel hide blank fool heart afraid pretend today heart explode face name share tough world laugh case hard come heart afraid pretend today heart explode face name share pain difficult world laugh case hard come smile endure endure love share pain difficult world laugh case hard come stand',\n",
       " 'hard face memory suffer please place perfume chance night make calm place place please avoid calm balaga balaga balaga balaga balaga balaga balaga balaga hard face memory know please place perfume chance night make calm place place please avoid calm balaga balaga balaga balaga balaga balaga balaga balaga flower chance night make calm place place please calm chance night night spring everything drive crazy sigh',\n",
       " 'girl knowyou better enough kind beautiful raise head wrong make hand many time second happy much value person decoration interested emotion wound dream waste tear beautiful need treat enough hurt beautiful beautiful make girlyou better girl person first time spot idiot angry make time enough take love sidepretty girl knowpretty girl jewel blind help relationship happy enough hurt beautifulyou better beautiful pretty enough hurt beautiful beautiful make enough better lovejoy better wonder side wonder enough better lovejoy better happy baby',\n",
       " 'turn body right stop shake drowsy boring tired daily life work hurry wind wake hold hand baby open feel baby hurry feel baby ready baby open feel baby hurry feel baby ready turn body right stop shake heavy thing heart luggage bird forget worry music hurry trust baby open feel baby hurry feel baby ready baby open feel baby hurry feel baby ready turn body right stop shake walk hair head shoulder hair stand foot foot walk right foot head shoulder hair stand foot foot turn body right stop',\n",
       " 'handsome gotten beautiful look different today cold look sympathy small front pretend okay change topic conversation hair smooth cheek funny anything step moon drive crazy baby monster time disappear baby baby monster monster matter happy tomorrow love today last life life imprisonment world existence continuation chronic disease trial heart people world everything twisted bee biggest pain pain love baby monster time disappear baby baby monster monster filtered look look look last last last last standing front please baby monster time disappear baby baby monster monster sick sick sick sick',\n",
       " 'funny lazy reminded sculpture promise filled meet someone reminded memory live change heart remembers seat reach live change heart remembers seat love dream everything meaningless inside bigger bigger heart remembers seat',\n",
       " 'fragrant wind touch cheek reminds hiding side road time wild flower bloom name hidden memory ill ill illababy ill ill illababy ill ill ill beautiful flower bloom spring bright flower child good first much love ill ill ill ill ill ill ill ill ill lovegood star drawn dark night memory diary take baby ill ill illababy ill ill illababy ill ill ill beautiful flower bloom spring bright flower child good first much love young ill ill ill ill ill ill illailla ill ill ill sick fever mind adult much ill ill ill ill ill ill ill ill ill lovegood byeilla ill ill ill ill ill ill ill ill lovegood',\n",
       " 'friday sock call friend club heard clock crazy corner room confident taxi clock heard clock crazy corner room text message call alarm corner room rotten heart thirsty empty stomach burning thirsty empty stomach burning hello hello jaedong brother stay club next time heard clock crazy corner room',\n",
       " 'good morning text feel last night everything restaurant ready song exhibition tack clumsy face flower lighting good morning text good morning feel reply tell good good morninghope good good morninghope good good morninghope good good morning good morning home midnight difficult heart confess guess answer hope rush much answer feel morning text good morning feel reply right tell good morninggood morninggood morninggood morning text feel reply right hope good good morninghope good good morninghope good good morninghope good good morning',\n",
       " 'rain window hidden memory heart someone love love miss hear miss love name painful love love darkness window hidden memory reveal love love miss hear love miss love name painful love love moment moment love thank love heart precious love breath cherish love',\n",
       " 'sound rain front door umbrella dark look stop stop please cool shower moment pass miss please little thought dawn hold umbrella convenience store expensive rain stop stop please cool shower moment pass mysterious heart stop stop please cool shower moment pass miss rain depressed please cool shower moment pass miss please',\n",
       " 'long night fall usual night summer spent someday night sleep tonight night midnight midnight sleep midnight night tonight night midnight midnight sleep midnight open enough stop hurt name night talk guess keep thinking miss time night sleep tonight night midnight midnight sleep midnight night night midnight midnight sleep midnight little star comfort faint place lean little star comfort place lean night star night little little night night tonight night midnight midnight sleep midnight',\n",
       " 'monday heart flutter first time sunday long closer step curious cold feel much face love holiday cloudy tear resemble heart heart whole whole world cold feel much face love want word hidden heart turn slow step hear heart stick hand reason hesitation',\n",
       " 'right girl listen ready matter much wind guilty farewell innocent night agony eternal love rest peace much knot bottom beautiful cold word baby body temperature warm keep cold please baby everyday youbecause bend knee break heart please love baby live matter much think baby everyday youbecause bend knee break heart please touch body touch last love please hand loving youbecause tear',\n",
       " 'listen song song listen worse song listen mood listen girl yesterday sure listen listen beautiful farewell song main character song song listen listen friend side friend listen listen early morning text team leader everything breakup everything young listen yesterday listen listen music rain you rain rain alcoholic beverage listen news woman male care listen voice message listen team leader everything breakup everything young song guess painful song guess world beautiful listen song listen song listen everything everything breakup everything young',\n",
       " 'wait heart danger moment automatic kind emotion moment automatic answer tonight come time crazy hurt heart heart everything backbaby booby baby hope booby miss hope first onlynight flashback sister disappears tonight first time deep wound heart heart everything backbaby booby baby hope booby miss hope beautiful magic magical feeling trust fall fall second love hear dance flashback flashback flashback flashback baby miss baby hope booby miss hope flashback',\n",
       " 'sign night night non sign clear night heart people love street heart non sign night night non sign clear night ease night nothing sentimental memory street heart non sign night night non sign clear beautiful place place star heart beautiful place whew non sign night night non sign clear whose who who who whose who who who non sign everyone',\n",
       " 'ready look wolf wood taste back keep moment ready tonight sister ready ready baby curious imagine wood wrong apple face wood ready tonight sister ready ready baby wood wood wood wood wood mamma mamma hide hesitate come ready tonight sister ready ready baby',\n",
       " 'single good time goodby trial sex free single ready sex free single ready lingo everyone higher stronger endure hang hang person person trust surface deepens long ordeal becomes upgrade next level breath good time party time much today taste victory heart flutter good time sex free single ready lingo sex free single ready lingo odds odds unfavorable lingo heavy scar nananananana everyone experience least fail lose afraid person person gotten stronger time romance towards dream upgrade keep bolder bolder sex sex rough world ready sex sex sex much endless variable breath good time party time much today taste victory heart flutter good time sex free single nice sex free single odds odds unfavorable lingo world catch breath person precious faith look sex free single ready lingo sex free single ready lingo breath good time party time much today taste victory heart flutter good time sex free single ready lingo',\n",
       " 'who who who who anna who who who who please who who who fallen who who who who fallen many memory case love strong guess fooled sweet word know movie like point today who who who who who who who who street drunk everyday sweet shadow sleep tonight who who who who who who who who who who today sweet word know movie sang point today who who who who who who who who street drunk everyday sweet shadow sleep tonight who who who who who who obvious frequent cheap smile miss heart empty empty street who who who anna who who who who please who who who fallen who who who who fallen',\n",
       " 'today happy stop today couple lazy everything nothing weird love face case know excited weird mind please serious angry please second please guess mind second break heart please happy stop today happy everyday today happy finish luggage angry angry moment fight please serious angry please second please guess mind second break heart please happy stop today sorry annoyed sorry care everyone sorry sorry sorry sorry sorry nothing sorry sorry nice sorry sorry sorry sorry happy sorry love today accept apology wonder regret stronger resentment stop smile home',\n",
       " 'alive alive alive look people fall alive nothing lose leave past jump beautiful right throw free moment alive alive love look unhappy disappearing afraid public emotional anxiety painful night death photo relic youth youth decoration others receive spiritual energy future lead melody life climax girl crazy smart inferiority everyone everyone pitiful tell world work alive nothing lose past move jump deep beautiful right throw free moment alive alive alive alive alive living living good life alive alive alive living living good life silent shout exclamation reflection sentimental praise positive wake conclude daytime look people evidence issue expectation reason ground place thing sunny everyone everyone pitiful tell world work alive nothing lose leave past jump beautiful right throw free moment alive alive alive alive alive living living good life alive alive alive living living good life',\n",
       " 'sound breath night summer night city light baby today lady dark scan other right deep dream midsummer night distance look feel drunk first time kiss shoulder midsummer night dusk honest hand feel bump show night sticky sweet kiss full wake hope last forever lover beautiful baby story share night tell deep dream midsummer night distance look feel drunk first time wish speak little slower love give night lean dream wake dream againkiss',\n",
       " 'hear voice hear voice hear voice wave think pain lonely ocean stop stop stop stop voice voice breath hear voice voice person touch wave heart hurt time hard catch people breakup want hurt everything nice someone nice heart walk street wave voice hear breath hurt worse watch touch miss heart live everyday voice hear voice everyday feel cover mouth rest life girl hurt worse touch wave',\n",
       " 'seongbala woman fire okay thought crazy tired miss hate cool thank honey night piece busy stop thing mean stop hiding sigh crazy precious person moonlight pillow trace feeling picture ease everything report blind date delete everything mean heart head morning night sleep drunk alcohol sleeping pill stayed night break pride precious person moonlight miss dirty miss dizzy dirty life life luxury shut ladies precious person moonlight good night',\n",
       " 'heart high high feeling high high past high high love high high love moment first time everything moment smile ease guess notice heart face sign heart high high feeling high high past high high love high high love guess everything world beautiful happy dream love love thank painful memory smile look pray happy pray feel lonely heart high high feeling high high past high high love high high love love thank painful memory smile look happy pray',\n",
       " 'everyday tear image heart heart lack hurt heart bigger bigger bigger ease much fingers good love spent everything good time guilty beloved heart beat heart miss face head good love spent everything good time guilty enough love love cover guilty good love spent everything goodby',\n",
       " 'everyday tear image heart heart lack hurt heart bigger bigger bigger ease much fingers good love spent everything good time guilty beloved heart beat heart miss face head good love spent everything good time guilty enough love love cover guilty good love spent everything goodby',\n",
       " 'much story left story mouth wash rainwater today heart love seat empty story left story many star last scene first time life much heart cold wind blow empty heart time love story today heart leave seat empty story left story happy caution mark story story left love story',\n",
       " 'night view champagne wake caffein night beautiful night home baby time home goodby tonight late friend house battery phone everybody interfere world care anything hesitation baby baby baby beautiful night beautiful night point wonder pretty selfish girl anything love little history place deep night sentimental night night full emotion call late friend house battery phone everybody interfere world care anything hesitation baby baby baby beautiful night beautiful night everybody everybody interfere world care anything hesitation baby baby baby beautiful night',\n",
       " 'young young word heard life want life care green frog matter anyone happy green frog green right someone someone right insists word life want life green frog someone matter happy green frog green frog frog frog shout loud green frog breathe something disappointed indifference what care look crazy guess someone green frog matter much anyone happy green frog wrong different problem problem',\n",
       " 'listens good good everything trouble compliment climb nice kind course mamma trick moment love strong strong girl good crazy obvious love rough speaking cool tough everything face change palm play fool baby nice kind course mamma trick moment love strong strong girl good please mamma terrible drama terrible drama drama drama hate game treat queen become owner young young bah bah bah blahoh mamma mamma great framepuzzle think puberty childish stop barking thin foot nice bite owner strong strong girl good feel sorry trust feel heart good please mamma terrible drama lift please mamma terrible drama drama drama',\n",
       " 'look today mirror nice girl today heart nervous look fool cheek hold hand lululala hearing name happy nice hear voice much much little little everything feel good hearing name happy voice good good good good good blunt warm keep face keep keep thinking walk picnic many thing cheek hold hand lululala hearing name happy nice hear voice much much little little everything feel good hearing name happy voice good good good good good cheek hold hand lululala hearing name happy nice hear voice much much little little everything feel good hearing name happy voice good good good good good',\n",
       " 'walk street today lullaby night hand unknown nervousness spring breeze cherry blossom leaf street resolute spring breeze cherry blossom leaf street resolute dear hold hand hear street love song hand love mysterious distance spring breeze cherry blossom leaf street resolute spring breeze cherry blossom leaf street resolute caseous blow wind blow appearance nausea blow appearance many blossom leaf love spring breeze cherry blossom leaf street resolute spring breeze cherry blossom leaf street resolute walk',\n",
       " 'gutta been who who who who who who hear heart pretend idiot fallen deeper longing girl today everyone crazy tell forgetting think tired time pass everyday heart feel frustrated heart who who who who who who today room long everything love fool happy word expect happy meet guess different dead heart feel frustrated heart who who who who who who please give chance make right song',\n",
       " 'sorry strong good fold heart love protect forget forget word breakup knee heart sorrow drag burnt cold heart heart heart flutter wander walk stronger diyeoracha smile protect forget close distance hold hand bill strong heart instinct possession help today something sorry girl change mind okay deal heart torn feel know thing bent hurt sorry want good fold heart',\n",
       " 'love love love love likemoney listen heart screaming trying show touch girl moreprecious pearlsand deserve baby donna baby everything heart treasure teach love love money love babe babe love love babe babe love money love babe babe diamond treat star babe love babe stop friend misery little company feed side hard trust fear girl promise girl heart beat care care girl money love babe babe love love babe babe love money love babe babe diamond treat star babe love babe tiresome thing little rain heart thou pain thou letting front plan instruction teach love love dollar bill brand love fresh hair love pair kick risk love love money love babe babe love love babe babe love money love babe babe diamond treat star babe love babe love babe babe wherever babe love babe love babe',\n",
       " 'first night head avoid sorry unimaginable sorry hear sorry painful story first break dump first finish first heart explode honest tell everything pride true feeling tears face sorry nice tear sorry first first first break dump first finish please live first first first love fact backbut trace heart ache steal happiness love knew silly thing time',\n",
       " 'much sick sick good minor story moment pause conversation static freeze cold anyone tear tried hurt moment breakup sick sick good sudden reason peace mind wrong place much edge heart pain swollen heart hollow time rumble moment breakup sick sick good good history trail head month year baby forget memory live',\n",
       " 'heart call think heart ease live long second miss miss miss today live everything long second miss miss miss today much hurt something hear something hear love',\n",
       " 'sleep today asleep sleep hang phone wear fancy clothes ready anyone who tonight fool today tonight awkward slide good night good night dancing head today good night good night dancing moonlight sorry today ready midnight sure text message good night honey tomorrow feeling today night good night tonight fool today tonight late slide baby good night good night dancing head today good night good night dancing moonlight sorry today heart tremble reason home today today busy play tomorrow sorrybaby good night good night dancing head today good night good night dancing moonlight sorry today good night good night good night sorry today today today',\n",
       " 'person miss fall asleep dream today wish live side loneliness fine love side love place love scarecrow wish live side loneliness fine love reason fool love love wish side loneliness fine love fine love',\n",
       " 'person laugh memory time fade empty glass pour drink memory memory bitter prescription higher performance many time matter much hungry thirsty great time reason break know love love draw break caught happier morning spent night close window sparrow window want sleep elementary school student anyone knowing talk hear time temperature higher equator angry cold fever body pulse sound hear voice know love love draw break caught happier live front living someone memory side body someone memory know love love draw break caught happier',\n",
       " 'money money idiot give money world everything possible money drunk night home taxi home word arrival mean fingers voice call enough taxi fare fare money money idiot give money world everything possible money shake pocket search installment split split principal break hang cigarette hang life money everything money money money right recognize please honey honey taxi fare right house money money idiot give money world everything possible money shake pocket search installment split split principal break hang cigarette hang life money everything money money thing change person life matter time money money people bite enjoy live money close world cover world hear foot sweat nonstop milk delivery convenience store part time worth caparazzi suction world button bigger money money money breath money thing raise head money fill body body bone hang evil half live live live world money',\n",
       " 'walk hear song love song story baby baby baby forget fool want tear survive love forget wait wait wait wait wait forget fool side street front house late night drunk night wrist tear photo wallet live love rainy love remember thought baby baby baby forget fool want tear survive love forget single want tear survive love forget wait wait wait wait wait forget fool',\n",
       " 'walk hear song love song story baby baby baby forget fool want tear survive love forget wait wait wait wait wait forget fool side street front house late night drunk night wrist tear photo wallet live love rainy love remember thought baby baby baby forget fool want tear survive love forget single want tear survive love forget wait wait wait wait wait forget fool',\n",
       " 'farther fool feel sigh laugh endure many time much hard fine mind place much endure many time much hard fine love much love greedy',\n",
       " 'you night light beautiful story play call you night you night walk walk street walk you night you night unknown scent deliver call you night you night walk walk walk street come ocean light beautiful story play call you night you night right you night',\n",
       " 'different want talk time smile time heart grows time night wait clumsy heart heart bigger hurt express close breathe look love night wait clumsy heart heart bigger beautiful tried hold night good time heart heart bigger tried hold little longer heart heart bigger',\n",
       " 'donna move frustration talk bush worry thirsty shot hand heart fire bang look babe star front easy bang banging move nothing afraid show hearth ooh ooh step look angry anything flame stuck heart reload fire bang look babe star front easy bang banging move nothing afraid show heart strong confident come babe fire bang look babe star front easy bang banging move nothing afraid show hearth ooh ooh bang bang',\n",
       " 'shower person permission steal heart push person single step flower petal hope pass wind point take picture memory sudden afraid chest nervous person person warm person wind point nothing laugh picture memory love please first time treat please happy love',\n",
       " 'miss lagging knew okay regret time live right guess forget person side forget several time smile come person side forget forget able smile happiest life person',\n",
       " 'terrible hanover drank interest child touch care perfume charge steal picture interested take love page mind empty position saliva night wish time tears left left hate pain tear keep feel sleep terrible hanover work busy hung opportunity something trouble vacancy sense business amen fine think time word point sick phone number clear forgotten addition tear feel left left hate pain tear keep feel sleep terrible hanover wish time wish time time miss rain night next spring please tough time tear feel left left hate pain tear keep feel sleep terrible hanover',\n",
       " 'world hard life tear held hand path pain belief look dream hold hand endless storm rough confident jump tear shabbyness life path pain dream faith look hold hand endless storm rough confident jump tear shabbyness life silent roughness blade street endless storm rough confident jump tear shabbyness life life',\n",
       " 'many girl cut girl innocent girl anything first time sex something different crazy crazy sex lady heart beat much girl sex lady crazy crazy crazy sex lady sex lady lady girl drive crazy sex lady sex lady lady girl drive crazy today heart head sex self something different crazy crazy sex lady heart beat much girl sex lady crazy crazy crazy sex lady sex lady lady girl drive crazy sex lady sex lady lady girl drive crazy place everything open crazy sex lady heart beat much girl sex lady crazy crazy crazy sex lady sex lady lady girl drive crazy sex lady sex lady lady girl drive crazy',\n",
       " 'payphone call home change time wrong plan hard remember people picture next late time bridge night light paralyzed timewhen payphone call home change time wrong plan happy fairytale full king love song sick tomorrow cause yesterday borrow expect fine care know bridge night light paralyzed timewhen payphone call home change time wrong plan happy fairytale full king love song sick payphone spending moneywhile round youth nothing bottom startwith push button chance upon call number phone name tell ball swish shamecould good gamut last shot talk aboutwho pulled valet open door want take thatlittle piece payphone call home change time wrong plan happy fairytale full king love song sick payphone',\n",
       " 'hush hush hush hush hush hush hush hush hush hush hush hush nervous heart heart heart case heart hush hush hush hush wait look hush hush hush hush hush hush hush hush hush hush hush hush look talk notice face head blank energy able turn anything hold hush hush hush hush wait look hush hush hush hush name know hush hush hush hush name know hush hush hush hush case heart hush hush hush hush wait look hush hush hush hush hush hush hush hush hush hush hush hush hush hush hush hush',\n",
       " 'today clock head tomorrow fill fantasy hate person know bear little little heart right today everything heart cold follow snow melt hate people feel pretty face fuller bear little heart little heart heart everything little little heart right today everything little heart little heart heart everything good good good good happy good good good good happy',\n",
       " 'party time know drink bartender cause music temps temps color skirt lipstick point stupid different woman heart chyeodaman work work tomorrow bartender serf glass toxic credit card glass limit home keen wrong woman talent moderation avoid friend creep skirt lipstick point stupid different woman heart chyeodaman step step step step head club rush hour baengbaeng sageori swarm humble bubble strange gibunya light woes communicate anyone curious good wait sorry heart chyeodaman',\n",
       " 'reduce badminton call coffee walk neighborhood flower flower flower flower flower many people road people give special hard hard hard reduces something delicious call watch movie reduce walk bandage flower flower flower flower flower many people road people give special hard hard good good harmonize flower flower flower flower flower flower flower many people road people give special hard hard hard',\n",
       " 'nervous happy seem happy everything worry life fancy woman nothing much thing hear live mind baby girl come rain place time excitement felt worry hand anybody matter time change live mind baby girl live mind baby girl come rain',\n",
       " 'long time good friend family trust tell secret special precious friend friend lean drunk meet expectation sulky everything stopped heart different case afraid relationship illusion worn heart smile tired inside look tell center loving alone time guess afraid leave side side fingers jealous relationship want work sleep night couple night walk hold hand talk smile fool hard stopped heart different case afraid relationship illusion want today outside heart nervous look tell center loving alone time guess afraid leave side side fingers friendship closer relationship waste time older think look something joke tired alone time guess afraid leave side side fingers loving alone time guess afraid leave side side time positive work blue mine time clean tell time positive work blue mine time clean tell',\n",
       " 'something different normal girl matter natural closest true live different world confident smile beautiful mesmerized night fall wonderful crazy pull dizzy right woman woman tough strong pride hard hide heart baby knelt front hang beautiful night fall wonderful crazy pull dizzy sudden making sick feel collapse egoshe know beautiful mesmerized night fall wonderful crazy pull dizzy knows',\n",
       " 'hello smile honest stay know believe long time steps little little open heart thank next hard time overcome hand know time tear heart tear story build trust hard time next hard time overcome hand thank possible next dark road hand',\n",
       " 'tear knew hyanghan mind style pain look love anything else please happy great time regret love love anything else reach please love anything love please',\n",
       " 'baby baby lady come side tonight protect lalalalalala water desert moon night absolute right hand roll baby baby lady come side tonight protect lalalalalala right right push main character life drama baby lady lalalalalala come side tonight protect lalalalalala meet life stormy religion shine moon tonight breeze heart flutter little bubble souvenir others breathless towards night blue rise whisper love everything stand front lalalalalala protect lalalalalala baby',\n",
       " 'everyone open heart empty head fire rire question answer follow face hand jump nanananana nananana mess turn shake ground minute overheard thing nananana everything sand crazy easy blue anything feel sound heart curtain corruption today crazy want catch dan tabor tonightmama lover chaos nananana visual shock sense shock others level start sound heart curtain corruption today crazy play jump',\n",
       " 'emergency shortness breath stop breath forgotten sorrow time bear tear time little faster please light wait dazzling tomorrow anyone front want world love shoulder clinch love upset nervous time clear confession time little faster pick please distance bright please anyone high front want world love love pain right dark cool tunnel hand order faulty memory walk front want world love right love',\n",
       " 'hard talk everything munjengeo anything step dream noseuteljia word need talk word stay girl true clumsy convenient need step dream noseuteljia word need talk word stay girl true troubled anna soul change true',\n",
       " 'shoot star right heart okay swear behave control show make give shit tongue till drunk show dagger dagger dagger need control dagger dagger dagger hard feel nothing feel believe ride steer gear tongue till drunk show dagger dagger dagger need control dagger dagger dagger anna smile control night share secret donna else watch learn show baby share secret donna else eyes tongue till drunk show dagger dagger dagger need control dagger dagger dagger',\n",
       " 'guess everything heart warm guess guess forget single thing enough push hate thing heals heart rest head heart wish last time side scent liked call name caught time change useless thing stop push hate please happy miss sleep night pray anything okay happiness half place heart guess anyone everything thing heals heart rest head heart wish last time side scent liked call name caught time change',\n",
       " 'miss sleep night tear cheek cold wind blowing alley street wait night tonight forget stop time lull house lull window sleep night empty room tonight cold wind blowing know forget night tonight forget time stop stop thing live tonight meet dream awake tomorrow tonight forget forever',\n",
       " 'who who who who heat cool summer selfish matter much look selfish please baby liking girl beach picture film film butt cool muscle heart tremble girl beach white house girl sell medicine play sleep sleep bear selfish matter much look selfish please thinking think baby summer summer everyone summer summer everyone enjoy corn bucket tube awesome awesome hotel hotel peak season awesome awesome excessive exposure affection awesome awesome everyone summer rent house understand possible possible life serious listening song lose relax summer good grace selfish matter much look selfish please thinking baby sound weather right summer burning summer jumping summer summer baby summer summer everyone summer summer everyone enjoy',\n",
       " 'love mind love reason sorry anything wounded love pain pain pain fool sorry magazine word neck charred worry happy wool worse worried pain fool sorry magazine neck charred word today love something secret resist live',\n",
       " 'curious curious everything sleep face curious feel smile friend something want hear become different person blue awkward joke weird cloud heart guess want thing wait wait stay curious live heart curious curious feel hate pretty many many cool many place next come girl suspicious thing thing guess want thing wait wait stay matter hand confident play hand hand much love thing nervous love tell trust trust love love walk side side',\n",
       " 'meeting person world life sick useless nothing last forever eternal breakup smile leaf cap beautiful farewell life worry death tear comedy tragedy play instant rest youngest today people useless pretend dead nothing last forever eternal breakup meet smile everything regret meeting loved comedy tragedy play instant today young nothing last forever eternal breakup meet smile',\n",
       " 'good love painful last parting desecrate foolish dear love luxury unsuitable dress stop good love painful last parting desecrate foolish good hear word care want hear word good love painful last parting desecrate foolish dear wonder friend full year hard time world dirty love please hand hand clean hand clear memory good love painful last parting desecrate foolish good hate sorry word',\n",
       " 'share life cause color everything look much follow passion nowhere close door stay dare nothing nothing nothing right heart wall strength look much follow passion remember close door stay dare nothing nothing nothing close door stay dare nothing nothing nothing',\n",
       " 'many style handed people follow worry follow girl girl girl everyone hand boy boy boy right follow girl girl hand boy boy shout loud noah crown name happy childlike heart power scale knife happy girl girl girl everyone hand boy boy boy right follow girl girl girl hand boy boy shout loud come name happy wish true everyday pray touch heart everyday york london paris tibia bangkok shanghai tokyo soul crown name happy noah',\n",
       " 'guess sorry anything wanted hear voice second stay girlfriend right serious true girlfriend mean anything serious crazy something fine mind asleep girlfriend right serious true girlfriend mean anything serious girlfriend hear anything need baby nothing easy empty ease crazy forget nonsense tomorrow girlfriend right serious true girlfriend mean anything serious girlfriend right serious true girlfriend mean anything serious',\n",
       " 'beautiful night beautiful starry night night last hand night beautiful blue come walk heart flutter gutta control crazy right shake disco night forth heart upside cotton candy enough night night first moment strong wave deep corner heart girl beautiful starry night night last hand night beautiful blue come walk heart flutter gutta control crazy something good nothing credit card limit feel know dream meet much front strong corner heart girl beautiful starry night night last hand night beautiful blue come walk heart flutter gutta control crazy anna night fall asleep tonight heart flutter gutta control crazy beautiful starry night night last hand night beautiful blue come walk beautiful starry night',\n",
       " 'movie approach step playing waste others year game action fall runner bottom situation joke dizzy change subject headache girl world girl world lover weird round round round round twist head relaxed dirty snowy house feel sorry matter beautiful ugly mean change subject headache girl world girl world baby wrong heart race tell please tonight change subject headache girl world girl world',\n",
       " 'open love love hard endure fate coincidence painful memory miss hate miss much miss meet destiny tear deep heart someone please live life painful memory miss hate guess love choice meet live life watch tear guess love choice meet live life tear guess love choice meet live life watch tear',\n",
       " 'mister wrong heart heart race heart mister love minute thing need time many time talk difference you milk shout hanover soup apple young little rock paper scissors girl wake please anything good think time young wrong tteokbokki popcorn romantic movie belliard stock baseball talk girl generation kind much right head fairy tale prince white horse castle much time stop mamma drama someday understand endure endure want meet true anything good think time young wrong study honest confident child note cherry honest confident honest open heart wrong heart heart race heart mister love minute thing need time ridiculous sense shake please happen uncle',\n",
       " 'bigbang boysnoize housewoo party peoplelet let move get loose know yupparty time upset move get loose knowthrow hand airjump alley streetlight light feel familiar deep night conscious others building soul shine non sign afraid brilliant night everything strong exciting moment today night easy stop everybody move mother father happy dance music stop feeling dance music stop feeling baby cherry steady rude listen baby daddy regret limit night fire silence look night easy stop everybody move lady dance music stop feeling dance music stop feeling dance music stop feeling move get know time move get know throw hand airjump care crazy righttonight night crazy crazy',\n",
       " 'crazy everything pathetic everything hard easy clock heart second hand cogwheel time clockwork clock heart second hand cogwheel time clockwork everything everyone everything easy clock heart second hand cogwheel time clockwork clock heart second hand cogwheel time',\n",
       " 'moment love excuse chum regret phone number gorgeous attract obvious finger likely shrivels childish brilliant excuse pretty contact today good weekend star wall busy character star emotion concern problem write poem coffee dinner first date date date several head gorgeous care jeomanchiseo look prettier today',\n",
       " 'easy talk dance voice want hear voice space raise voice raise raise music louder everybody time rock clean pump volume hear pump volume change strong interested everyday heart gaze tighten left scar heart space raise voice raise raise music louder everybody time rock clean pump volume hear pump volume change stronger know anything front clean pump volume hear pump volume change stronger',\n",
       " 'smile pray open next heaven thank side babe thank difficult world happy heaven heaven heaven heaven heaven heaven breathe kiss hear voice feel tell heaven thank side babe thank difficult world happy person someone protect sadness jealous anyone hold hand reason want thank side babe thank difficult world happy heaven heaven heaven heaven heaven heaven donna',\n",
       " 'happy blind left pain kind person sorry sorry forgive heart hard liar time find life today comfortable betrayed fool trip hard memory present time magic medicine hostage sorry forgive heart watch hard liar time find life today comfortable better offwithout sorry forgive heart watch hard liar time find life today comfortable better offwithout daywithout',\n",
       " 'embraced world brilliant person touch small breath love good jealous ordinary moment dark eternity sunlight world lonely place beautiful flower bloom greedy wrinkled hand life warm short encounter rain happy least forget everything live breath call forget jealous moment meet someday happiest snow',\n",
       " 'hope song famous hope song famous hope people lyric singing ebebebe week bathtubs song people piano base song much hope song famous hope song famous hope people lyric ebebebe song famous famous song hope like street first time rest necklace obvious give song gift son crazy wear feel heart fresh sleep please play worried hasty pocket hope song famous hope song famous hope people lyric singing ebebebe cap hand cap hand cap hand cap hand cap hand cap hand song song song song song song song song song song song',\n",
       " 'beautiful life side beautiful life stand beautiful love happy breathing beautiful live memory beautiful life beautiful stay beautiful life beautiful life beautiful life you beautiful life lean beautiful love tear beautiful life beautiful lose beautiful heart beautiful life memory resemble world memory memory you sorrowful overcome life sorrowful live memory beautiful life',\n",
       " 'alright confidence raise head look rook rook super rook rook time type rook rook super rook rook strong presence small thing enjoy hata front unfamiliar number closer right rook rook superrookie rook rook rook rook superrookie rook rook approach cool rook rook superrookie rook time heart cool rook rook superrookie rook angry morning pick baby afraid guard baby sharp anything special wait closer unfamiliar number closer right rook rook superrookie rook rook rook rook superrookie rook rook reason much stole heart cold anxious heart everything rook rook myrookie rook rook rook rook myrookie rook rook rook rook myrookie rook rook rook rook myrookie rook rook rook rook superrookie rook rook rook rook superrookie rook rook',\n",
       " 'mind heart freezing wanted forgotten dream please destiny destiny please relationship heart fall live deep heart stay close come mind heart freezing wanted forgotten dream please destiny heart beating breathe want wrong different first time time heart towards heart beat feel long time feel something close come mind heart freezing wanted forgotten dream please destiny',\n",
       " 'today accept popular handsome cold last night remember liked streetlight next time pretend know sure love boyfriend hurry good today front seat library hello popular handsome cold last night remember liked streetlight next time pretend know sure love boyfriend hurry good much long skirt shabby tall next many pretty girlfriend boyfriend hurry good girlfriend boyfriend hurry good',\n",
       " 'hope gain weight skinny body sleep pillow throat wish taller tall want hand bigger hard everyday personal information singer song much work stop song bridge matter complex complex complex magazine hate hate complex magazine wish idol dance handsome dance write love song love crazy handsome hansom complex sorry lion know face money shoe look complex due complex complex think complex problem problem complex complex complex complex magazine hate hate complex magazine complex complex complex magazine hate hate complex magazine know imagine hand hand others park',\n",
       " 'sight yesterday understand yesterday yesterday hour addition diving phone tongue today sensitive much true explain time refusal deal fact point dumb yesterday trouble close death hearing sight yesterday understand yesterday girl matter glance wrong nervous change profile picture yesterday purpose evaluation evidence foot head makeshift battle sight yesterday understand yesterday lalalalala pattern fortune rarer lalalalala yesterday anything sight yesterday understand yesterday lalalalala pattern fortune rarer lalalalala yesterday',\n",
       " 'anna nothing last need time start strongest bartender please mouth lady loyal first time gee girl tender talk girl dull light mood heart adolescence felt nervousness night love anna girl anna girl anna excitement multiple prisoner pavilion white hair flirtatious older love idea clean romance blood tear game rhythm forth also sprang different melody break dream felt nervousness night love anna girl anna girl anna ride drunk rest baby hand honey honeybut know love love girl anna girl anna girl anna love love girl anna girl anna',\n",
       " 'star night word love angry quiet long night dark voice next happy fact long time much fact help ridiculous hate please trace precious good night time long time deep afraid stay long time time mean anything memory next happy meant long time much fact help ridiculous hate please trace precious flurry heart last voice last hate please trace ease precious',\n",
       " 'reason look avoid love love love fate arched miss someone destiny recognize glance love love fate arched miss someone destiny many time break side leave',\n",
       " 'reason look avoid love love love fate arched miss someone destiny recognize glance love love fate arched miss someone destiny many time break side leave',\n",
       " 'nice something sure last long hesitate hold voice teeth hurt child candy everything spill everything hard dung roll moment tunnel heart feel please nowhere sure home miss look night love time house grumpy much distance sharp heart word sincerity slower step peons apartment able live room sorry thought familiar friend curse party know side headache home wallet missed miss look night love time house place place heart house mister please person place sleep find house missed miss look night love time house alley road walk stop hair salon hill front house light miss meet coincidence miracle cartoon person right find house look love time',\n",
       " 'answered hour trouble feel heart call call baby room noisy place honey please understand sorry sorry hate sorry sorry sorry troublemaker front blackguard path member hurry work workbag sorry need course talk sorry woainiliebe rich please love want punishment right take nice give judgment money stop anger reason swear word fight inspiration song sorry time something tail bring tiptoe kind logical anger sorry hate sorry sorry sorry troublemaker front blackguard answer good path member babe sorry sorry sorry forgive excuse',\n",
       " 'memory single star single star loneliness star star star poem star mother poem feel life thing hope love vain lethargy yukchubbang remember lamp memories courage knife strength pencil cold look star name country today soil memory single star single star loneliness star star star poem star mother night star wind night night star poem feel dream thing hope criticism sarcastic comment area mouth walking backwards head organ organ afraid wind candle name sorrow country roman mixed guilt thanks baby baby walk dark tonight poem star becomes light square light memory single star single star loneliness star star star poem star mother night star wind night night star heart manchuria japan trajectory life follow heart thanks someone country name fair little thing honorable poet country memory single star single star loneliness star star star poem star mother night star wind night night star',\n",
       " 'umbrella shoulder able feel little nervousness distance stop think night story painful today sleep guess ready guess night worried used painful today sleep guess everything last everything last happy painful today sleep guess ready guess',\n",
       " 'umbrella shoulder able feel little nervousness distance stop think night story painful today sleep guess ready guess night worried used painful today sleep guess everything last everything last happy painful today sleep guess ready guess',\n",
       " 'person hard time glare front handsome face voice fingers voice excited face curious like talk like talk afraid distant talk lose afraid distant talk nervous someone heart heart heart like talk like talk like talk like talk like talk talk',\n",
       " 'thing keep know answer hear hear word test pretty talk talk matter angry expression speechless anxious quit game hair color nail change hang hear hear hint talk talk matter angry expression express baby heart love love angry upset time time answer yesterday today tomorrow world prettiest',\n",
       " 'baby imagine name beautiful anything mirror fashion show time talk first resolution resolution nananananana grown push attracted baby mean tell ridiculous good face comfort baby crazy midst hungry beat innocent doll time dull nananananana annoyed angry much push attracted baby mean tell baby time first talk talk resolution resolution push attracted baby mean tell baby',\n",
       " 'knock knock unfamiliar appearance usual suspicious right drunk mood shine silence sticky relationship explode kiss good good dangerous dangerous think cross line good drew orange good dangerous dangerous stop feel good knock knock girl fast lunch water welcome dawn time knock knock last summer night adolescent girl dream romance today phone fatal breathing secret party carpet welcome space knock knock knock knock hand head cap hand feel good good dangerous dangerous think cross line good drew orange good dangerous dangerous stop feel good whisper wake good hand gesture gesture good morning good feel good good good good mess hair body breathe control self knock knock knock knock hand head cap hand feel good good dangerous dangerous think cross line good drew orange feel good creation decalcomanie feel good',\n",
       " 'happy happier happy happier secret tell anyone people sure look happy someone left anticipation know afraid scared word talk happy happier miss miss lean happy happier ashamed true love fill empty love person next hate much hate know afraid scared word talk happy happier miss miss lean happy happier happy happy happy pretending happier',\n",
       " 'prison people everyone place who youth world crazy sure wherever regardless look sure remember look countless time expression cloudy cloud everything time slower hand life sure wherever regardless look sure remember look countless time forget everything find sure wherever regardless look sure remember look countless time expression',\n",
       " 'reason today heart today understand weird much world know live unfair stand please reason today today guess last anything understand weird love start case heart like world know live unfair sure fine please tear hold please live unfair stand please please honest rational hate nothing night painful affectionate person',\n",
       " 'miss speaking miss picture cold time face winter winter august heart time snowpiercer hold hand side world winter much miss spring snow small dust small dust snow little faster miss miss miss long wait stay night meet meet cold winter spring flower bloom please change like time flow moment everyone hate single ease much cold white smoke white ease word miss miss miss long wait stay night meet meet best friend morning matter darkness season guess cherry blossom winter miss miss miss wait little stay night meet meet pick pick cold winter spring flower bloom please longer',\n",
       " 'midnight hurry knock knock knock knockknock door knock knock knock knockknock door heart night door open someone someone week knock knock knock knockknock door knock knock knock knockknock door sure knock knock heart open harder harder harder time harder harder baby knock knock knock knockknock door knock knock knock knock knock open mine please tomorrow tomorrow ready wait knock baby knock knock knock knockknock door knock knock knock knock knock door gold lucky serious everything donna okay guess wait second crazy right show time come hear puppy fall asleep keep knock knock knock knockknock door knock knock knock knockknock door come babytake hand knock heart open harder harder harder time harder harder baby knock knock knock knockknock door knock knock knock knock knock open mine please tomorrow tomorrow ready wait knock knock baby knock knock knock knockknock door knock knock knock knock door time heart heart heart melt cream knock door heart open harder harder harder time harder harder baby knock knock knock knockknock door knock knock knock knock knock open mine please tomorrow tomorrow ready wait knock knock baby knock knock knock knockknock door knock knock knock knock knock door knock knock knock knock door breaking breaking outfreakin outknock knock knock knock knock knock door knock knock knock knockknock door knock knock knock knockknock door',\n",
       " 'careful fire hurt heart heat greater attraction towards stop nervousness world throw everything anxious turn playing fire love fire burn baby fire love fire play fire everything joke love flame wind fire bigger medicine poison police heart heart kiss don addition crack color heart black stop nervousness flame throw anxious turn playing fire love fire burn baby fire love fire play fire control fire love burn night awaywhooo',\n",
       " 'star star guess dimmler today night dark night pass morning nervous cloud rain pray star star guess anything shine much think hear song right night hand avoid pray fall army star star time process star star guess moment left trace anyone time star star guess',\n",
       " 'home feel strange dizziness mysterious frustration okay week time look person miserable shabby want look many emotion week time miss feel useless wish keep',\n",
       " 'cheek yellow hair hair girl hair bend shoe best walk secretlywith spyglass miss short skirt lady handkerchief hair unna contact take hand mess hair little melted cream matter cut handsome woman girl friend miss short skirt lady handkerchief hair unna contact hand mess hair melt little spilled cream matter diligent give cheeks cheek making cooked heart mean',\n",
       " 'love thought last common friend older guess nervous people today world well young guess anything happy feel yesterday first time everything clumsy memory time dream right singing song beautiful listening song last dance moment last dance faint light star star much anything happy feel yesterday first time everything clumsy memory time dream beautiful listening song last dance moment last dance music give chance please long singing song singing song beautiful listening song last dance moment last dance hand last night beautiful last smile orange mysterious ecstasy world hand last night beautiful last smile orange mysterious ecstasy world',\n",
       " 'blood sweat last dance blood sweat cold breath blood sweat tear blood sweat body heart soul punish each cream sweeter sweet chocolate cheeksand chocolate devil sweet front bitter bitter kiss sick hurry sick drunk drink whiskey deep throat blood sweat last dance blood sweat cold breath take sick tight kiss secret deeply prison anyone holy grain knew blood sweat last dance blood sweat cold breath take touch sweet sweet sweet blood sweat tear blood sweat tear',\n",
       " 'rainy umbrella darkness light cold winter stove wind touch hair fall afraid next sudden blue matter happens tomorrow marry hand marry forever life live marry marry moment give love cold dark lonely world sidelong partner walk marry hand marry forever life live marry marry beautiful breathes good marry heaven marry umbrella darkness come light',\n",
       " 'heart touch long cool colder winter feel freeze tear please quiet please many time name minute endure course picture memory long time gift long time reach snow heart time hurt next laugh draw dream heart picture memory long time gift long time reach snow heart laugh beautiful brilliant shining time memory heart beat time breath hard break please heart',\n",
       " 'nothing special house nothing special matter need difficult world tough world side thank pray hope pray last morning wake front house meet luxury drunk excessive kiss asleep luxury luxury happiness nothing special happy nothing special love fingers rough world rough world promise promise change side promise morning wake front house meet luxury drunk excessive kiss asleep luxury luxury person much dare night fall table prepared luxury drunk excessive kiss sleep luxury luxury',\n",
       " 'excuse case babecuse case second excuse case babecuse look excuse case babecuse case second excuse case babecuse case hang beautiful sure match heaven earth surprised first sight heart hear heart baby anything come baby case babecuse case hold time excuse case babecuse look first time rude something phone number hurry case babecuse case excuse baby dance devil picture phone number number courage younger dare cross anything felt excuse case babecuse case hold time excuse case babecuse look first time rude something phone number hurry case babecuse case excuse chin babe slow babe foot excuse babe curious first today crazy excuse case babecuse case hold time excuse case babecuse look first time rude something phone number hurry case babecuse case',\n",
       " 'world thing street fool sick clothes thin avoid face thin night wrong reality mind hard time happy fool sick clothes thin face tear notion valuable insecure sorry fool good living',\n",
       " 'clock movie rain memory road everything world move opposite step fate encounter painful novel last scene book need sense lip painful diary picture powder tear spit harsh word opposite step fate encounter painful write novel last scene book need sense page front mind write novel last scene book need sense',\n",
       " 'sound rain drag okay tomorrow alarm longing obvious wake time want catch living regret listen song listen spill look happy someone look okay song song sing honest anna phone know side good ridiculous street lyric nothing song last minute point small tell turn sound breakup stop song nothing look happy someone look call front house rainy turn phone short show weak hard time selfish talk meet friend nice read mind unhappy confident good woman want understand someone happy need happy',\n",
       " 'girl heart right baby kick body today heart anna kick girl important baby watch wear work amazing woman work hard baby night girl night show body alright girl heart right baby kick body today heart anna heart dangerous careful move look wrap body solve meet chance baby tonight cloud show body heart ready anna kick answer meet call everything want popular different organ american open smell kimchi thanks tiger clothes room wear night imagine seat next guarantee anything girl heart right baby kick body today heart anna kick',\n",
       " 'better better stay round round round round show hold tight wondering shine someday moon tomorrow tomorrow world thousand thing thing round round round round show delight',\n",
       " 'hear voice hear anything else look crazy hair weird happen crazy keep shaking forth make close heart hear voice hear anything else look crazy hide close heart',\n",
       " 'sharp secret story deeper deeper hush heart dark shadow game lightness mean thing avoid heart beat heart look last moment closer crazy russian follette heart beat last moment sweet russian follette glitter secret turn blind accept push heart image find game voice shake heart beat heart look last moment closer crazy russian follette heart beat last moment sweet russian follette deep dream game heart night control heart beat heart beat hold last moment closer crazy russian follette heart beat chest heart sweet russian follette heart beat heart beat heart beat',\n",
       " 'hear tell heart grown bigger ease little little love sorry person first time season image ease empty love time know much want sorry backside mole person first time season image ease empty love time harder time heart person first time season image ease empty love time',\n",
       " 'fool today today give chance smile tell miss baby right today date endure long melt baby baby little greedy right mean today date love baby clumsy heart afraid reach hand nervous today like look look become person bigger heart want tight',\n",
       " 'faint everything give people nothing special tell situation matter kind smile world gift dream name greatest open promise whole body protect promise whole body road road brighter look dress white side feel scent towards world gift dream name greatest open fourth finger promise everything calm world gift dream name greatest open',\n",
       " 'rain fall head heart please young scared stop everything enough stop rain water tear rain cold nervous someday cold rain water warm fall shower shower kind feeling hope memory lose rain rain time stop smile enough stop rain water tear rain cold nervous someday cold rain water warm fall shower right strength open umbrella second lean rain tear stop rain water tear rain cold nervous someday cold rain water warm fall shower',\n",
       " 'much keep keep keep call trust word look careful friend forget sorry sorry heart trust open heart much keep keep keep call stop feel fresh pillow endure long time reveal snake adam write read wolf kind girl crime many woman heart show careful word matter much heart sorry little towards heart much keep keep keep call hope frustrated please little heart open heart give much keep keep keep call',\n",
       " 'minute side side skin color screen mean blue movie theater movie doubting word focus line curious next episode skin color screen mean gray passenger seat movie theater movie doubting word focus line curious next episode blue green movie theater image head line curious next episode kind scene story someday people next main actor cameo',\n",
       " 'night embroidery time time short remember smile someday tomorrow forget long time today postpone dream fall asleep last wind picture light fade remember smile someday tomorrow forget long time today persimmon fall asleep dream flower spring butterfly summer leaf moonlight spread winter memory side flower fate bloom heart leaf oblivion fall firewood sleep comfortably',\n",
       " 'world cold inside much adult flower bloom small rain rain remind look sorry give young beautiful season floor walk flower path mouth smiled wrinkle life gift word thankful flower bloom small rain rain remind look sorry give young beautiful season floor walk flower path come heart full spring scent remind short wind shake time flowerpots look happiness hold hand flower path',\n",
       " 'wrist role street song crime game criminal ingest zone fancy shovel microphone spot something medium year content expected expectation subject burdensome angry online anybody anybody play role object trend change generation idiot future dream cork path stage studio life havana matas money famous time face wishes space hours tula pour murder murder breath head come bermuda hang injong black soul polite time chart dispute review interview cut right make upset success first mean anything sure success stage camera ticket focus project view beautiful floor danger good overwork good fighting illegal return vacation bribe paint perfect picture part picture everyone tomorrow comeback controversy help elasticity control fancy face wishes space hours tula pour murder murder breath head come test care proof interested casket unlucky triangular relationship exit fact spring look jump stroke head tula pour murder murder breath foot wash hand mission gorgeous world order wrist role street song crime game criminal ingest zone',\n",
       " 'drop head awkward silence love tear heart reason forgiveness everything mean love love love tear heart reason forgiveness everything mean love love reason forgiveness everything mean love love',\n",
       " 'endless daydreams flurry darkness fear blossom bright sunshine shadow tear light everything shine cause love heart broken hush angel smile glow tear frosty night someday moon rise older time somehow hush angel smile glow tear frosty night heart little piece look shine tonight heart little piece look shine tonight',\n",
       " 'turtle ship panokseon cheonja hongkong loud infinite challenge serious history chungmugong movie enjoy song front statue sunshine general long gather come bird come uldolmok different current situation military general bring word front word people game person seaside motion sickness answer seaside motion sickness step ready shoot whose whose shoot whose whose whose whose nanjung diary shoe straw shoe luxury good check hakikjin middle great people humble sense duty wish sang seaside motion sickness answer seaside motion sickness step ready shoot whose whose shoot whose whose whose forget grit side coin ancestor weak straight voice louder courageous burn burn turn shoot high whose whose whose whose whose whose whose shoot shoot high whose whose whose shoot wanted arrow arrow arrow',\n",
       " 'space today time wish everything reminds cold heart open window blowing time breakup everything place leaf everything heart needle clock place anna calendar month long time everything ease sure everything place leaf everything heart needle clock place anna strange flower bloom middle season star middle everything everything place nothing name least much anna',\n",
       " 'breath rest today rest today today dream last night tired heart close okay different shape others asleep morning want laugh open night dream stay wish something wish today tear fall small heart bird look road spring world today live night dream stay wish something wish today tear fall young heart breathes',\n",
       " 'bell please considerate waste battery phone explode hard heart friend meet sorry call last long sing baby early heart show cheer woman heart calmly nothing much youjust togetherand baby restless voice sweat phone hard answer attractive read message basic check much afraid worried fall friend meet sorry call fast sincerity cheer woman heart calmly nothing much youjust togetherand baby afraid hurt please understand woman afraid find feel come long togetherand baby love cheer woman heart calmly nothing much youjust togetherand baby',\n",
       " 'hard better watch surprised dream crazy break know heart explode pain much love heart floor afraid everything everyone fall mean happy love crazy break know heart explode pain much love know answer answer everything pretend swallow anything look place kind think',\n",
       " 'love star love moon nothing different ceiling special reason empty hour first hungry any obvious obvious watch channel much half half half half fill half half night moon thought heart keep back time night half moon right half half half half fill half half tomorrow darkness swallow moon world smaller filled longing full moon rise know clear time time long time tell quite dream love place fill empty heart half half half half fill half half love love star love moon half half case',\n",
       " 'cold hear word breakup lyric song fingers fingers snow heart head fall broken heart ache meet someone happy moment hope anything want pain night many hide head fall broken heart ache meet someone happy moment hope live hate approach happy moment hope',\n",
       " 'first meeting single afraid lose heart reach listen song miss name matter call people world jealous fall girl next everyday side please stay argue different love baby happy girlfriend dream wake girlfriend side girlfriend girlfriend nothing worldcompare girlfriend temper simple unparalleled spark flower pretty color stayed night harmony flame today subject appreciate right masterpiece beautiful feeling heart stuffy girl next everyday side time everything change baby happy girlfriend dream wake girlfriend side girlfriend girlfriend nothing worldcompare girlfriend weird woman street matter hear voice feel become fool stop mouth happy girlfriend happy girlfriend dream wake girlfriend side girlfriend girlfriend nothing worldcompare girlfriend',\n",
       " 'thing choose obedience death freedom land liberation blood sweat heart embrace republic more life future ruler fail country huge earth today usual body scent loneliness meaning home blood leon independence more yesterday today liberation land trigger front habit people shot country hurrah moment become hurrah towards tomorrow today hurrah dance freedom hurrah hurrah doorway doorway doorway dance freedom doorway people history tomorrow wanderer land bright tomorrow today last tomorrow hurrah hurrah independent confidence march movement strong heart freedom blood sweat teeth path shine tomorrow revolution step public picture last least people country front evil good bound venue festival open koreaura life future ruler fail change koreaura hurrah moment become hurrah towards tomorrow today hurrah dance freedom hurrah hurrah hurrah moment become hurrah towards tomorrow today hurrah dance freedom hurrah hurrah doorway doorway doorway dance freedom doorway',\n",
       " 'whistlelike missile bomb bomb time show whistlelike missile bomb bomb time show beautiful forget heart flutter night check illusion thing heart heart show whistle forget heart fire heart hear whistle whistle whistle whistle whistle hear ball whistle whistle whistle whistle whistle hear ball anything whistle heart sound heart flutter thought feeling stay room room room arrogant front darling desert island heart stop checkmate game choose someone forget heart fire heart hear whistle whistle whistle whistle whistle hear ball whistle whistle whistle whistle whistle hear ball feeling wind common relationship much side whistlelike missile bomb bomb time show whistlelike missile bomb bomb time show blow',\n",
       " 'whistlelike missile bomb bomb time show whistlelike missile bomb bomb time show beautiful forget heart flutter night check illusion thing heart heart show whistle forget heart fire heart hear whistle whistle whistle whistle whistle hear ball whistle whistle whistle whistle whistle hear ball anything whistle heart sound heart flutter thought feeling stay room room room arrogant front darling desert island heart stop checkmate game choose someone forget heart fire heart hear whistle whistle whistle whistle whistle hear ball whistle whistle whistle whistle whistle hear ball feeling wind common relationship much side whistlelike missile bomb bomb time show whistlelike missile bomb bomb time show blow',\n",
       " 'certain point word baby many night beautiful attracted baby magnet beautiful hand baby wood baby baby baby baby baby baby baby baby baby baby youthink chuaha touch pillow warm smile hand touch time fastyeah front firewood look higher many baby feel smile towards heart middle summeryeah baby time song face talk memory love feel feel baby feel cheek turn deeper night youthink think youyeah',\n",
       " 'dream last night coincidence bumping indifferent feeling excitement empty heart weird moonlight night making awake awkward reason silly thing countless star beautiful feeling nervousness empty heart weird moonlight night center life instant guess love cell shine itchy dream empty heart weird moonlight night making awake',\n",
       " 'alcohol sweet today drink swallow meantime empty glass think work memory drunk flurry happy long dream happy okay okay drunk clearer tear drink empty fill empty much memory empty bottle liquor bottle many thankful thing sorry memory time side yesterday tonight drunk clearer resent tear habit',\n",
       " 'ordinary thursday night anywhere week today anna drive mind night towards place everything laugh afraid tomorrow night know night pick home stay home baby rent good music course early tomorrow work time little thursday night breath ordinary thursday night take week today drive mind night towards anywhere keyboard street lamp street listening rule outside world night music window river star moon future thursday arrive ordinary thursday night wherever drive mind wherever feel open window wider anything trust baby drive mind night towards wherever wherever',\n",
       " 'night worry drama moon bright anna voice night phone heat night much time crazyyeah stop feel dizzy help dark outside love sound clock candle louder stop move baby night baby heart moon much squeeze silence fill night today front small street cold hand heat night yesterday yesterday home crazyyeah stop feel dizzy help dark outside love sound clock candle louder conclusion look everything help heart sound clock candle louder right moment baby heart',\n",
       " 'fire fire fire fire wake room anything stumble walk everyone drunk mess drunk curse street mind crazy everything mess living been live hard okay embody hand burn dawn live young spoon spoon chopstick person live hard okay embody hand burn burn fire scared fire fire hold bare fist night long step fire march fire jump crazy other burn woot other burn firehot other fire burn firehot other fire forgive',\n",
       " 'yesterday full excuse future fear coexist liar fool time vain wish followed world happier myself sorry sorry admit young obsessed bigger dream happiness knew know face good today right hope happy time wake day anna dance dancelike birthday proud baby time dream true daddy shall everyone anna dance dancelike birthday different life life full good feeling weather beautiful calm pulse yesterday care talk common center firm main character roll main character trust reality proof hair soul look rain blessing mouth innocent come grind live life keep smell scent welcome face look good today right hope happy time wake day anna dance dancelike birthday proud baby time dream true daddy shall everyone anna dance dancelike birthdance birthdance birthday',\n",
       " 'anything long time head sighing expression angry last moment want good person sorry okay little little call everyday upset guess guess break unto last moment want good person ready draw well happiness live told look leave',\n",
       " 'crazy heart beautiful goddess knock hidden thrill curiosity afraid love shanty call monster heart babe lip collapse swallow steal indulge ruin heart heart girl call monster heart crazy heart impatient gentle want right type chest sends dangerous signal afraid love shanty call monster heart babe lip collapse swallow steal indulge ruin heart heart girl call monster heart life everything upside crazyyou everyone afraid mess unteachable mean surprised hide week anti some part existence worry fear enjoy pain endure deeper play play hand much call monster heart babe lip collapse swallow steal indulge ruin heart heart girl call monster heart',\n",
       " 'front door early hour stillness investment usual lazy spring warm winter summer dream good season fall room live scent miss original separation fall anaemic spring cold winter summer last reality bloody autumn live scent miss original anna fall hope contact mind song',\n",
       " 'time everything moment change heart wake hearted walk world call miracle thing breathe feel cherish close sound world show everyone heaven tear fall smile close deeply call name smile possible everyone least kind blow heart heaven sound world show everyone heaven tear fall smile today last look sound world show everyone heaven tear fall smile',\n",
       " 'face angel mystery warmth side mean cold winter morning darkness turn light tonight incredible miracle tight today heart soul everything life life born reason horse enough life hard time person lean young christmas full present person life harmony beautiful silence silence change song tonight tonight song listen tight today heart soul everything life life born reason look life everything easy protect life love heart soul everything life life born reason look life look life',\n",
       " 'medicine true normal voice true cold water bitter coffee sweet wrong skill know everything kind anything frustrated what give world give world everything long spring summer corner baby night other july weekend cold today different thing emotion hope long time ticket meet baby light perfume jordan brought call time think today world give world everything long spring summer corner baby night think today press phone number girl side reading room story season moment miss much need clear stop thought next june obvious busy friend shirt know fine fine july enough reason baby fine fine july better',\n",
       " 'dance body today black something people something laugh dance body today today body today body move',\n",
       " 'rich rich rich rich rich something want earn heart empty money matter course important something important everything doctor approach important everyone goal good person happy tremble everyone different name everyone different name rich everyone rich right building owner landowner rich matter much fill head chin mirror punch love hold hand stay want time full think throw everyone goal good person happy tremble everyone different name everyone different name think',\n",
       " 'more main deux manager busier call phone first place cast brand reputation trend moment game thing first year high school right daily life meal conglomerate life front money name internet article today title beth fever crazy popular successful popularity sense people success prayer true feel create trend superstar beth course manager thankful hallelujah life true stay night night yesterday mine young doctor doctor doctor doctor doctor doctor doctor doctor right true right want young young young main kick bitter today friend upset best mofucka trust pretend strong childish cut street beth first thank repent good night night domain payday lose wallet city damn lady hallo shoot tape yesterday berth relaxed much forgiveness lady honor woman money puzzle thursday night tomorrow team lame tonight good person life live life able life right drew life true stay night night yesterday mine young doctor doctor doctor doctor doctor doctor doctor doctor right true right want young young young lady celebrity star star star star star star right feel bottom daejeon dieu hair easy allowance debt pick fight right life true stay night night yesterday mine young doctor doctor doctor doctor doctor doctor doctor doctor right true right want young young young',\n",
       " 'come come today money round rock paper scissors confident goal easy blink simple much feel crazy night middle crazy visual canister crazy visual canister crazy visual canister much much thing thank much make tear thing half life sharpen knife trial error number time come watch daughter total patient medicine total patient believe imitate love love crazy visual canister crazy visual canister crazy visual canister much much thing thank much tear thing thing thank much much thingyou thing total patient want total patient want want',\n",
       " 'last summer smile hand clear performance write lyric window cool breeze touch face summer cold month minute second year everything change today yesterday song right memory stay past summer palm stage number remember face familiar line tomorrow come front cherish last summer smile hand clear music loose head faster temperature hand lukewarm stage recall time natural look winter first performance christmas present light wherever hall area hall stage little different respective seat heart forever last summer smile hand clear smile',\n",
       " 'last summer smile hand clear performance write lyric window cool breeze touch face summer cold month minute second year everything change today yesterday song right memory stay past summer palm stage number remember face familiar line tomorrow come front cherish last summer smile hand clear music loose head faster temperature hand lukewarm stage recall time natural look winter first performance christmas present light wherever hall area hall stage little different respective seat heart forever last summer smile hand clear smile',\n",
       " 'feat reason give strength person people generous gun country invasion foreign power denial corruption powerful person violation public sentiment long nothing wrong kill swan stretch fist write name history small strength candle gather wake hiding learn fought country shout place side survive need strong higher walk towards dream stretch fist voice loud open door path great people history great people history great people history great people history fist voice loud open door path great people history great people history great people history great people history reason sends frustrated move overcome failure many great sacrificed life protect country peace strong survives strong home alive soon long others others small become bigger dream opportunity wait person chance come truth changes word meaning right come true shout louder place side survive need strong higher walk towards dream stretch fist voice loud open door path great people history great people history great people history great people history fist voice loud open door path great people history great people history great people history great people history shout louder place side survive need strong higher walk towards dream stretch fist voice loud open door path great people history great people history great people history great people history fist voice loud open door path great people history great people history great people history great people history',\n",
       " 'place something come mind cold wind blow alley memory beautiful anyone want drink come mind sadness forget okay know habit alcohol table draw today alcohol beat painful breakup winter alone drinking sadness forget okay stay want want people come tomorrow',\n",
       " 'sleep twinkle twinkle drink coffee watch next cried tear fool rain forget love next think everything last open loved forget left tear fool rain forget love next long feeling someone dream tell meet okay painful memory cried louder stumble fool forget love next forget love next forget love next next next',\n",
       " 'window outside noise keep puddles swim hand neighborhood worry time foolish fine outside people hope talk anything nothing nothing hope comfort something nothing curious melody hope hope talk anything nothing nothing hope comfort something nothing nothing nothing hope hope talk anything nothing hope comfort something nothing',\n",
       " 'overcome heart endure sleepless night despair morning wound deeper think countless night hell side stay hand step take step time harsh word cold cold expression person pretty person please side stay hand step take step confident confident stand know anything anxious heart love love shout long silence foolish weak heart',\n",
       " 'pick hear voice sure heart shake talk share heart baby hate help meet know love heart baby hate help road obvious path look understand heart baby hate help last',\n",
       " 'leave memory look catch fall temptation everything last winter spring come today tomorrow different able live meet meet anyone anyone feel meet word small small heart promise tear forget hard lean short time today tomorrow different able live meet meet anyone anyone feel meet meet meet',\n",
       " 'time world change borrow wisdom harsh strict night people heart study proud future generation mean everyone open read read reality front hurt angry disappointed question governance care cross time show anything stay laugh idol hero inspire pride greatness again spirit come time idol hero love country engraved currency textbook respect dare slave people people live smooth life half office worker lack sleep wearing jacket overcome turbulent world whole nation potential great deep history strength child start roll talk respect cross time show anything stay imagine busy anyone life second cheer annals volume stretch shoulder raise head change cross time show please',\n",
       " 'find following coordinate coordinate matter silver compass resembles beautiful today today bend familiar unfamiliar road parallel line mind wave voyage moment will stop world moment shine brighter lucky living moment become time lucky girl girl secret confession right approach step baby today today change rule parallel line mind wave voyage moment will stop world moment shine brighter lucky living moment become time lucky many people leaf clever lucky matter others place coexist lucky cause moment will stop world moment shine brighter lucky living moment become time lucky lucky lucky',\n",
       " 'resin full wound road want step tired sick okay laugh hand wing forget dark lonely thing wing pain wing hard painful hold hand road chose fault life crime walk sick laugh feel hand warmth come crawl crawl crawl baby walk walk baby baby road rough laugh laugh',\n",
       " 'wallet taxi card been sound driver voice warm warm turn theater warm warm turn warm much money taxi hell full people bank account balance smartphone lower brightness lower brightness reality reality understand reality reality amity amity nitric single course thing small frequent sweet gargle mint scent chocolate chocolate moment regret chocolate moment regret everyone silent everyone cold reality reality understand reality reality amity amity nitric single course donna great great great great reality couple wake pouring reality quick quick quick donna great great great great reality mirror little cool cool cool flurry reality flurry reality reality understand reality reality amity amity nitric single course flurry reality flurry',\n",
       " 'fear whisper matter feel erased shelter memory feel hand hand bird pulse whole life heart whole life heart home home',\n",
       " 'childhood small become wing full faith belief laughter bird path thing want hurt call stupid smile push word trust wing grow trust weak huge leap high road first flight higher higher higher spread spread spread spread spread spread wing break chose faith time brave afraid trust different home head spread spread spread spread spread wing',\n",
       " 'felt front promise single sure side moment time point word enough anna reason live long time world separate back time world countless time leaf foot look thin side second sure second moment time point word enough anna reason live long time world separate time arrow able catch break closer anna reason live long time world separate',\n",
       " 'rapier ticket walk posture path artist gotten belief history footstep life living witness life power need power part pocket thicker location belong temporary world move eternal forever anna eternal love peace mind anna eternal love peace mind beth trend look become collection step live earphone stage studio right beth busy dream time feel wrinkle middle forehead year month sheet pocket body company independent attention honor money role model dreamer follow look something valuable follow last forever everyone fortune time name hear time best fact famous hurry lady turn camera later follow money problem silver balance famous become increase visible sweet idol course existence huge wherever forever time limit inner side pioneering place spit dream name remember first beat world introduction something walk faith lord want hand groove welcome hand welcome groove listen mine sure level glory shouted peace peace many rapier movie best role mine lyric word name know beth omnipotence better life beautiful time negative place focus energy thing head',\n",
       " 'happy happy everything everything leaf want love anything worn memory orange dance shadow thing breakup meet beautiful memory young young wake small island young castle goodby disaster text message morning fear island someone passing easy memory time place orange dance shadow thing long hamlin meet beautiful memory talk something thing gloomy meet memory young young wake forever',\n",
       " 'dark light candle promise wine glass protect side thing want dream eternal happiness fancy dream need moment smile lose light sweet everything night sweet dream change look light life life everything regret unchanging love thing dream eternal happiness fancy dream promise hard time shadow heart smile light love sweet everything night sweet dream change look light life life everything regret unchanging love light life life everything regret love',\n",
       " 'first picture january september phone call habit today happiest person world love happen knew fade time catch close hard love long time painful tear wicked heart fade time catch imagine hard tear knew fade time catch worry hand first',\n",
       " 'stop cause deserve worry cause open donna mine donna stop time anna stop time stop time stop time believe person tickling thing cause call hear voice donna mine time donna stop time anna stop time stop time stop time greedy sorry advance need opinion steal heart stray today come time stop time stop time',\n",
       " 'downtown baby star night dream baby downtown baby star night dream baby house number front house roll waste time hold hand anna hair piercing pillow downtown baby downtown baby star night dream baby downtown baby star night dream baby watched movie night cigarette talk night hard time cover alarm time alarm hand foot cold hurry rich little wait anything little wait clear gray meet wine broken downtown baby star night dream baby downtown baby star night dream baby okay baby okay baby turn cell phone okay baby okay baby turn cell phone downtown baby star night dream baby downtown baby star night dream baby',\n",
       " 'back watch donna rain brother posture world side earth thanks time ticking toxin busy bold catch making fuss team ride home flash light shine light alone matter later care everything everything feel rain dance faint gutta hunt taller taller shot called matter money moneythen talkative other amount different want time wish sabathaba hunter worker lululala pride step tunnel time butterfly water matter follow catch gang flash light shine light alone matter later care everything everything feel rain dance faint back watch donna brother flash light come',\n",
       " 'nonstop sense right yayayaya nothing obvious nanananana secret weak body burn today tomorrow different clothes different everything dark island scar thinking excited nananana little excited nananana excited nonstop nonstop nonstop excited gotten little weird heart beat pack stand problem heart crime line rear friend zone island scar thinking excited nananana little excited nananana excited night sleepy time need head move space anna spot space pretend sorry right confused time anyone much point look little excited little excited nananana little excited nananana excited nonstop nonstop nonstop excited nonstop nonstop nonstop excited',\n",
       " 'hide weather stay hand rest reach hand anything purple sweet heart heart hide weather stay hand rest reach hand anything purple sweet heart heart hide weather stay hand rest full excitement weather stay hand rest lean close second',\n",
       " 'hook good person sometimes water fire want mature diligent person good person practice love care small thing hope experience least heartbreak someone consoled tiredness someone pretty hand forget loneliness hook good person someone painful wound people least heartbreak someone consoled tiredness someone pretty hand forget loneliness cold winter lover cold heard time someone someone past miss someone past',\n",
       " 'beautiful memory precious blue hope picture regret past becomes sunlight small white hand jewel becomes eternity beautiful memory precious blue hope picture regret green song small heart numerous star shine forever beautiful memory precious blue hope picture regret sunset beautiful memory precious blue hope picture regret hope picture',\n",
       " 'start heart flutter everything clock time cross line life blame cross line stay faint exhaustion reason need courage support dream last right stop dream nothing hang dream become stronger start lose everything want dream nothing hang dream become stronger start',\n",
       " 'memory winter passing hear wait cold love season winter bloom season memory first time longing heart tear tear bloom fine blooming winter bloom small word painful memory first time season memory first time',\n",
       " 'memory winter passing hear wait cold love season winter bloom season memory first time longing heart tear tear bloom fine blooming winter bloom small word painful memory first time season memory first time',\n",
       " 'bouquet flower light scent either prettier flower different flower affection breathe promise word tear present distant future small vast world long time people promise word tear present distant future small vast world long time people vast world long time people meeting',\n",
       " 'flower shampoo scent look past people house phone reason call heart walk front house flower scent look past heart busy front house kind season chance anything miss walk front house wait street flower bloom night front house',\n",
       " 'problem something cold trend tell play song anything exciting dance look nothing want think anything live random person moment sick everyday song play song care refresh urgent stressed point fall days beer snack club hurry gather living room block outsider much better enough time night hard time others restless reason youth seat problem something cold trend tell play song anything exciting dance look nothing want think anything live random person moment sick everyday song window care image last minute much time change comfortable clothes nice high first glance comedy harmless party mixed drink emotion will problem something cold trend tell play song anything exciting dance look nothing want think anything live random person moment sick everyday song song song song play song song song play song song song play song song song song',\n",
       " 'everyone cut nothing snackychan borrow jesus taft freak noah yesterday mayor meet town clumsy build year happened find notebook year star order meet devil cover notebook mirror jealous wrist mandate role nationwide people monster method giant motor stuck starlight come warning warning metal town song mirror light star first verse star second verse true story hard time bitter song fantasy match stop counting perignon people kind existence life look feel matter fantasy reality hand high nationwide people monster method giant motor stuck starlight come warning warning metal full darkness please please last full excitement shout city',\n",
       " 'understand people follow shadow grows step place sleep soul york paris wake body stumble look foot look shadow resembles small everything okay clumsy black wind crazy crazy throw world side beautiful prison find donna live bring bring pain pain rain pouring fallen everyday bring bring pain bring pain everyone blood flesh bring pain fear small thing oxygen dark power scream scream touch ground kind matter matter matter matter others give want crazy crazy throw world side beautiful prison find donna live bring bring pain pain rain pouring fallen everyday bring bring pain place breathe everything blood tear fear singing taken hold dark abyss donna bleed bring pain pain rain pouring fallen everyday donna bleed bring pain pain knows going bring pain',\n",
       " 'word know last miss everything you you you time gasp break please release song sorry insomnia worse someone knock door fantasy open scar face conversation time scar thing unfamiliar worse boring word know last miss everything you you you reservation hospital monday hard time meet people single miss much medicine nothing special happen ride bike place make excuse habit insomnia someone scar guess tearing boring word know last miss everything you you you hospital break hospital',\n",
       " 'letter miss heart emotion subtle psychology change busy nothing asleep insomniaania anyone right square bloom bloom thumb think drunk scent secret garden feel bloom feel bloom feel bloom flower update night author work climax relationship move good timing feel realize baize choose repeat playful metaphor curious color gray blue speech bubble thumb breath dizzy feel blue feel blue feel blue space love bloom paint color petal withers square bloom bloom thumb think drunk scent secret garden feel bloom feel bloom feel bloom flower',\n",
       " 'tired world welcome rain heart torn song hope live dream beautiful dream sunshine night slow beautiful dream sunshine night slow measure life today clean chest thorn forest rest precious person beautiful dream sunshine night slow beautiful dream sunshine night slow',\n",
       " 'weird word send afraid intuition flash hidden image feel afraid caught baby fine fine okay heart dumhdurum humdrum colder anyone good baby heart dumhdurum humdrum heart dumhdurum sound heart dumhdurum humdrum nananana wherever song nananana nananana think love flash hidden image prettier worry baby fine fine okay heart dumhdurum humdrum colder anyone good baby heart dumhdurum humdrum heart dumhdurum sound miss time fall heard voice time everything heart dumhdurum humdrum heart dumhdurum sound heart dumhdurum humdrum',\n",
       " 'honey careful pick sugar spice respect mysterious energy hate time limit give something something original choose special reach pick girl candy chemistry adult cinnamon funny mint likepop rock strawberry bubble pocket full scent love candy dark little little cracked flower transparent simple give something original person laugh wish babe wish open girl candy chemistry adult cinnamon funny mint likepop rock strawberry bubble pocket full scent love candy accept invitation hand close feel body temperature enough melt little girl candy uneasy time choice girl wait next girl candy chemistry adult cinnamon funny mint likepop rock strawberry bubble pocket full scent love candy tell',\n",
       " 'curious everything tell happy text picture come everything listen baby high wing high want making life something something stronger momentthan moment love longer know life trivial star everything special interest gait small habit everything small hero tell fate nothing destiny mine world peace huge order protect high wing high want high fast fast nothing stronger nothing stronger honest energy higher bigger hall wound resolution carts life something something stronger momentthan moment love love nothing stronger',\n",
       " 'front dream door long time small song small song lean painful time reason hand chance countless time last step friend walk life reach hand promise life door future open promise life noah dream heart life dream heart life lean painful earth island next right next scared nervous stop chance countless time last step friend walk life reach hand promise life noah island island connect small line solid dream heart life dream heart life friend walk life reach hand promise life noah dream bloom reality shine flame life noah dream',\n",
       " 'window light write letter someone tear side lower forget letter touch someday side lower forget letter touch someday letter touch someday tear',\n",
       " 'anything give give heart everything many heart hand feel reason reason thank happy tired life side news wait cross letter come hold hand reason reason thank happy tired life side season month time breath love reason moment look hope best happy tired life side hope memory',\n",
       " 'anything give give heart everything many heart hand feel reason reason thank happy tired life side news wait cross letter come hold hand reason reason thank happy tired life side season month time breath love reason moment look hope best happy tired life side hope memory',\n",
       " 'good person trust anything person hand best reflection shine rain biggest umbrella world walk trust luck gather rain biggest umbrella world walk trust last star life front someone lower head hard time thank sorry world long time fall smile much want night trust',\n",
       " 'long picture wait word come faint memory heart ease tear ease laugh clear memory heart face reach hand dream piece road stare long time something voice long time moment young person sadness night pain heart time world yesterday happy laugh hungry fill time world yesterday happy laugh distant future child everything',\n",
       " 'harder strong follow rule live dead thing life move endure hard hurt hand look nothing fall look stone stronger stronger world handle world worse everyone laughed pain trap world okay mistake live life look nothing fall look stone stronger stronger matter others path everything fall walk someday road throat burst',\n",
       " 'psychic much control thing sure play game weird eccentric weird break break apsycho psychic keep understand funny right psychic psychic fool much idiot feel dizzy energy good relationship trouble original visual afraid interesting handle hard smile beautiful relationship shine tell moon river feeling apsycho psychic keep understand funny right psychic psychic fool much idiot feel dizzy energy good relationship whole body everything psychic psychic psychic good relationship alright alright weird psychic',\n",
       " 'express feeling look season street time matter love hurry closer stay time want space right believe practice matter love hurry closer answer promise long time pass feel',\n",
       " 'start night landscape something warm smile forever heart full present beautiful dream walk endless night give convey fall asleep blue wind shine night small life greatest world become light right side full happiness night darkness heart fact dream decision fate right give convey fall asleep blue wind shine night small life greatest world become light right side shine close second front time wind season better person fall asleep wind last breath world light right side shine night',\n",
       " 'step purpose empty scenery middle black white street look difficulty something breakup love pain time quiet road anything flashlight breaking step step hand love breakup love pain afterwards deep ocean afterwards deep ocean',\n",
       " 'smile someone hard time protect warm place everything much flower bloom fall shining sunlight look dream moment anxious life approach light enough everything much flower bloom fall unknown future moment wish windy sunny first',\n",
       " 'guess drunk friend calm okay face anything drunk guess drunk guess crazy guess drunk today path long time anything drunk guess drunk guess crazy guess drunk today today tell right moment front keep crazy guess drunk today today',\n",
       " 'happy happy happy happy happy happy dream season spread sweet tell baby baby night imagine smile anyone night many time year miracle happy copy dream season frozen warmth wonderful night long time wish happy eternal dream happy happy happy happy happy happy endless story moment stop breath kiss baby baby cover temperature night tremor fall asleep crazy excitement night scene gift tonight happy copy dream season frozen warmth wonderful night long time wish happy eternal dream season pass everything moment change promise today happy memory happy wake dream warm love memory deep night fall long time wish happy eternal dream happy happy happy happy happy happy',\n",
       " 'everything person similar personality curse point person heals everything sick okay half half half half person sorry person know front pick phone call endure much person long side side side happy okay half half half half person sorry person hour minute fill please fault many year much think',\n",
       " 'swan swan swan swan hear something fairy tale secret secret secret keep small world world world door open gaze towards deeper deeper start finger fairy tail moment right front dance swan swan swan magic swan swan swan baby dance baby swan swan swan everyone laugh dream dream place afraid time last heart light main character story moment right front dance swan swan swan magic swan swan swan baby dance baby swan swan swan paradise front fill imagination hope moment last swan swan swan swan swan dance swan swan swan swan swan baby dance baby swan swan swan',\n",
       " 'care care anna live normal life live life mine selfish nice hurt time interference matter others something perfect anna somebody anna anna somebody anna anna embody embody everyone something touch take care than than people talk others interested people life sorry mind none business business matter others something perfect anna matter moor hate anna turn beat anna matter others something perfect anna somebody anna anna somebody anna anna',\n",
       " 'time long wait wake drunken heart wide darker sudden time talk morning think today good distant dream hold festival good time colourful flower pollen festival peak climax moment beautiful thing first heart season season festival come visit least first festival first jump higher shout manage long time special tell star tomorrow afraid continue festival unfamiliar scent embrace newer colourful flower pollen festival peak climax moment beautiful thing first heart season season festival come visit least first close wake stop shine various color close drawn everyday first heart season season festival come visit least first shine right festival moment dance first',\n",
       " 'time long wait wake drunken heart wide darker sudden time talk morning think today good distant dream hold festival good time colourful flower pollen festival peak climax moment beautiful thing first heart season season festival come visit least first festival first jump higher shout manage long time special tell star tomorrow afraid continue festival unfamiliar scent embrace newer colourful flower pollen festival peak climax moment beautiful thing first heart season season festival come visit least first close wake stop shine various color close drawn everyday first heart season season festival come visit least first shine right festival moment dance first',\n",
       " 'reason body heavy everyone busy fierce step whole world speed bump rattle heart hard home fault dizzy night look clock different think second hand minute hand world breath second zero clock donna happy donna happy snow breathe first time donna happy donna happy everything zero clock little little make easy expression forgetting familiar lyric nothing heart easy talk fault wrong answer home think fault dizzy night look clock different think second hand minute hand world breath second zero clock donna happy donna happy snow breathe first time donna happy donna happy everything zero clock hand tomorrow hope song song start hope happier donna happy donna happy hold breath second today donna happy donna happy everything clock',\n",
       " 'name rain swag call return junior busy solace schedule manager phone nothing quiet year everyone value body arrogant moment first performance sex open stage rain effect butterfly effect flamboyant light surround pray time stout donna alone stage light voice dance faint thing many film festival official catch impatient body busy forth world drama movie everyone turn volume water call open stage lane effect butterfly effect flamboyant light surround pray time stout donna alone stage light voice dance faint',\n",
       " 'special meet breakup heart special meet close miss life break meet used live life dull pain miss time special miss life break meet used live life dull pain everyone break meet used live life dull pain miss time meeting',\n",
       " 'word know forgot easy forget needed time break please release song sorry busy meeting friend front fantasy open wrong time resolution scar left better worse boring word know forgot easy forget hard miss medicine nothing ride bicycle memory place disappear habit naval force someone scar guess thing boring word know forgot easy forget hospital ruin',\n",
       " 'someone someone guess poem breath seat late till song stop listen second night world star tear breath speechless silent voice sound memory till song breathe loud sing loud walk till song night',\n",
       " 'than than than than than than heart beat listen music trying pull time death afraid heart tremble sure moment slow heart sound bump bump jump jump jump relate song noise light silent ankle againyeah anything killing killing hear possessednah floor moment eternalyeah film film than than than than than than deeper think going deeper keep focus foot jump deepest part open studio studio strong hear fast heartfelt sound bump bump bump open forestjump jump jump nothing swallow shout loud light silent ankle againyeah anything killing killing hear possessednah floor moment eternalyeah film film than than than than than than',\n",
       " 'floor basement hold shirt hand high light dark place kiss goodby much look look girl share help trigger clock plain jane tell shine star darker place smile kiss goodby much look look dark finish look bird plane wish',\n",
       " 'short period time sure dream disappears night sleep afraid forget anxious heart heart something hope meet long time person afraid greedy help heart something hope meet door open able meet blossom destiny dream miss thing want please',\n",
       " 'jjinjjin thing jjinjjin much world many thing trust waste everything person everything life attracted leaning towards towards stole heart jjinjjin thing jjinjjin much world many thing trust waste everything person everything life attracted leaning towards towards stole heart jjinjjin thing jjinjjin love thick thick love',\n",
       " 'soul world sweat weird moon star conversation homework best friend wens anna hello alien mystery special someday stop stay little pink summer cold winter long time promise memory long time school uniform movie memory incident comedy movie story school drive today dreamcatcher room year history special someday stop stay little pink summer cold winter long time promise memory long time little finger everything trust forget thank fight tomorrow someday stop stay soulmate stay soulmate summer cold winter long time promise memory long time someday stop stay soulmate stay soulmate summer cold winter long time promise memory long time',\n",
       " 'miss time moment thought keep mind fact hard reason reason night night image night night show memory time night mind heart night night image night night show memory alone night miss lonely night night image night night show memory night night image night nights nights night night',\n",
       " 'anna cool pick kick head shoulder knee copy matter respect matter interest glance glance everything easy veteran piece michel anyone season long time walk backwards cool kick head shoulder knee been been been controversy fashion action click room close close head shoulder knee head shoulder knee attention reflection shine world face thank lower reflection thanks mental strength strong next album anna trend attract gimmick ddaezi been been been controversy fashion action click room close close head shoulder knee head shoulder knee shirt nose mouth chew hair care shirt mouth chew hair shirt nose underwear chew hair care shirt underwear chew hair been been been controversy fashion action click room close close head shoulder knee head shoulder knee',\n",
       " 'name come mind deep morning make long time good personality surround shine night sleep thinking open early excitement heart deeper deeper miss weather nice hang sleep make smile nose mouth voice long universe smile beautiful surround everything know night sleep thinking open early excitement heart deeper deeper miss weather nice hang sleep make smile call white heart everything beautiful sleepless night night open window night sleep thinking open early excitement heart deeper deeper miss weather nice hang sleep make smile sleep make smile',\n",
       " 'expression please phone head type choose cover hand approach secret whole world open color palate pick filter kind filter change world heart feel girl chance genii gladden anything choose embrace dream secret speck thing time color palate pick filter kind filter change world heart look child outer preference standard brand filter something pick filter pick filter capture filter heart',\n",
       " 'night light drunk night drunk dawn feeling stay time drunk night drunk leave know sadness shoe childhood fairy tale star tonight drunk carriage pick moon smile pick star morning star disappear childhood fairy tale star tonight drunk carriage pick moon tonight bright petal stay foot',\n",
       " 'beautiful white hand honey time youngest college entrance exam night open honey time time life leaning towards eldest daughter tear everyone honey tear time life leaning towards time life leaning towards road alone honey word honey good honey',\n",
       " 'moon earth start existence stay earth little star light heart earth everyone beautiful black flower bloom blue beautiful able painful wound hover side name love reason earth moon little star light heart earth crescent moon night come blue full moon night okay open capture able painful wound hover side bright dark night side sick anything thank side dark night much brighter side side light',\n",
       " 'happy like nothing ambiguous excited feel nothing ambiguous everything good breeze much warm nice letter love miss everything meet several time want feel everything everything come good breeze much warm nice hold tight warm nice sunlight think fall pleasant wind cheek heart shine heart heart heart closer afterwards open warm nice',\n",
       " 'feel comfortable natural process fight time anxious heart thing tired anything love clearer time guess emotion leave breakup realize miss beautiful mind memory guess anything love clearer time guess emotion leave breakup realize miss beautiful wrong like okay time scatter full good time guess cold realize miss beautiful',\n",
       " 'home second today right okay hang love foot shot good night sick earth house right langham loud club pass love foot shot love play drink hung wrong tongue earth next church brother come family buddhist love foot shot love',\n",
       " 'breath footprints happy hear voice road scream reach cold matter feel spring hear voice road scream reach road person heart tell road heart ache dream live life road scream hope reach',\n",
       " 'feel adult anyone else life movie time place rise single night someone tomorrow whole world keep friday grab friend airplane mode rock motto world trace right different time space call touch someday finns find time finns find time someday find time think yesterday everybody young child tripping right different time space call touch someday finns find time finns find time someday find time gutta opposite time present time happy call touch someday finns find time someday find time finns find time time',\n",
       " 'dream open cloudy morning night endless score shout throw everything fight world anna much pain much crying dull winter spring fingertips hand stone fearless come matter block heaven bullet bullet bulletproof negative view memory many trial everything bulletproof winter everyone name proof iron bullet winter spring fingertips hand stone fearless come matter block stop story tell walking heaven stone fearless come matter block heaven',\n",
       " 'little stuffy contact deep want look finger touch heart distant single night sapphire swimming cuba time dive heart everything little little violet reason blue sure hunger clothes time write poem give different word hidden metaphor drunk blue sapphire tell mine explode spread body fall little little violet reason blue sure hunger clothes water color spread chance draw line love supreme little little violet reason blue sure hunger clothes heart',\n",
       " 'hard first star unload milky silver galaxy endless light summer sound grey street cold breathing door change change change change change hope today yesterday everything thorn want stop summer sound grey street cold breathing door change change change change change tonight hand touch hold hand milky star give world light change change change change change change change change',\n",
       " 'many thing hand hand weight life hurt whole body thing time busy life tired little midst time alone thing small word desert flower path little little little little high place',\n",
       " 'feel light darkness side time clumsy passage time black night night white deeper moment stay stay stay tonight stay stay drunk scent night move steps deep stay tonight stay anna stay tone tonight tone tone tonight tell stay flame towards moment stay stay stay tonight stay stay drunk scent night move steps deep stay tonight stay anna stay tone tonight tone tone tonight tell stay tonight stay anna stay tone tonight tone tone tonight tell stay tonight',\n",
       " 'asleep thought think sleep wake good stone stuck smell grass summer time long vice stimulation tres everything know stress nothing much sofa stress wrong anything hard rest fullest help madam madam madam asleep thought think sleep wake good awake sunday vice thought think sleep wake sunday good hair round look talk crazy need stimulation tres everything know stress comfortable problem stress wrong anything hard rest fullest help madam madam madam asleep thought think sleep wake good night worry contact rest okay rush matter youth baby mind asleep sunday sleep wake good awake sunday vice thought think sleep wake sunday good',\n",
       " 'tell everything mirror told love nothing understand love race babe tell tell baby night baby love want turn everything place everything balloon memory understand love race babe tell tell baby night baby love come',\n",
       " 'happy small change morning open face face table good want answer smile trivial thing peace forever happy meet reason able love young hearted warm sick indifferent tone relationship cold stand nervous happy meet reason able love young hearted warm summer sound rain miss face mind kiss walk happy sorry selfish anxious nice long time think perfect love hold give strength west hugging precious',\n",
       " 'clear strange shadow cheer hear good thing quiet sadness shake quiet wave louder bomb break pain expression knew expression louder bomb break baby nothing lighter light thing something something lighter light life stay everyday made wonder place ground mute louder bomb tell darkness afraid night swallow give fight shine sadness pain coincidence game louder bomb front world time blind kept bomb people jealous hypocrisy matter dirt okay people jealous hypocrisy matter dirt okay bomb promise matter bomb',\n",
       " 'flame swallow touch sure today player number case bite becomes okay reaction soak truth true place everyone moral funny perfect judge anger course reason history change world anger manure anger angry kill countless people tired killing stepping look people numb manure indifference team lose temper angry anger malice angry anger malice lose temper lose angry anger angry anger lose lose temper lose lose temper break lose lose temper lose angry anger malice angry anger turn anger world guess live anger angry angry angry drive crazy reason angry good faith malice angry someone life damage someone action someone someone word action dark someone moment someone moment anger life lose temper lose angry anger malice angry anger earn endure much them them them them them them them them them lose temper lose lose temper break lose lose temper lose angry anger malice angry anger turn',\n",
       " 'nothing nothing lonely place flower bloom fall heart time felt break flower unhappy broken part everything anything lock forget guess fool today excited flower unhappy broken forget everything anything lock forget guess fool empty spot fool selfish silence foolish foolish hate nothing nothing',\n",
       " 'heart content person first thing side first sigh today romance much romance love come confess hope today long tried best smile fool cotton change romance much look picture hold miss romance love romance much romance love come confess hope',\n",
       " 'hello goodby regret season hello repeat painful goodby fool common something ease sick good place ran fool common something ease late love sorry hello hello hello happy everything good love',\n",
       " 'broken case something unhealthy loud sleepy home colder night dress dress moment express language good drink drank afraid hate sober drunk come think come xiyehn today kind sorry face moment hate drink drank afraid hate sober drunk come think come xiyehn miss today',\n",
       " 'anna star anna rockstar mine anna rich anna anna anna anna star anna rockstar mine anna rich anna anna want thing dream shadow foot head bigger light proportional shadow high scar place leap fall understand lane people brilliant light shadow grows bigger swallow become monster higher hope moment high wish shadow bigger light please shine afraid moment face bottom please shine shine smile afraid wanted life life life everything regret house everything want problem enjoy stop whine thing much fall understand time moment high wish shadow bigger light please shine afraid moment face bottom please shine shine anna star anna rockstar mine anna rich anna anna anna anna star anna rockstar mine anna rich anna anna anna understand right body bump separate okay admit success failure body bump',\n",
       " 'night secret lick look scratch laugh endless voice dream know think cover cover truth vain dream spit poison night nightmare turned exit light please stop sound emma blow sens stand edge stir fall open phantom permeates light turn confused obsessed night nightmare turned exit light please slacken heart creeping dark night staining soul open asleep goosebump clear trace name ground owner call dance tonight happy time everything cover truth vain dream spit poison night nightmare turned exit light please night darkness strange shadow exit light mirror meet hell',\n",
       " 'back give world truth change time future thing devil touch destiny curious sang everyday whip repeat nothing change force much love much comfort stay give everything choice fate look front skin going ready begin trust hung life right till catch cloud dream breathing time year persecution everything answer heart hope soul smile answer truth clear care give choice fate look front skin going ready begin trust fate center hard thing know soul soul',\n",
       " 'much indifferent interest anything black white time moment dream lead darkness drunk emotion light breakup moment dark trace full cold warmth heart feel endless darkness broken piece memory empty heart tear reason bright tell gaze capture close yeahjust kiss burn yoursand baby baby hurt hide just kiss burn yoursand baby baby mine pretend hand moment radio heart repeat birth true kind side want endure want baby baby time second minute reach month year true sweet sleep heart hidden start deep whisper anything story spread mouth unfamiliar familiar moment night gaze capture close yeahjust kiss burn yoursand yoursbaby yoursbaby hurt hide just kiss burn yoursand yoursbaby must kiss burn means hurt must burn means',\n",
       " 'hand hand care care word float respect something both sure higher love list list concept mean respect drawback fact miss necessary perfect belief towards someone hope someday heart please scared weak self respect respect respect look respect time respect time respect respect time respect respect know respect respect someone easy respect feel pushkin seed everything respect respect skin respect respect round applause friend curse respect respect life glory prosperity respect eternal blessing future respect respect money honor advance respect respect respect respect respect respect look respect time respect time respect respect time respect',\n",
       " 'heart street front afraid heart white snow lean warm shoulder feel deeper different remember feeling heart frozen road side heart movingand afraid memory heart afraid able afraid time look matter world anywhere side heart movingand',\n",
       " 'think you stew liked look person news please high cart place love last cart place repeat repeat person high cart place love last cart place repeat repeat everything guess habit hate love last cart place love last anything repeat',\n",
       " 'think you stew liked look person news please high cart place love last cart place repeat repeat person high cart place love last cart place repeat repeat everything guess habit hate love last cart place love last anything repeat',\n",
       " 'color personality color personality kind person hurt broke someone someone stole invincible strong person much memory weaker memory weaker movable right donna rock night spend night right mood sleep feel fall unmanageable come drink unbearable right mood sleep feel fall come sure trace reminiscence trace thing remind sense right truly able feel strange someone strange invincible strong person much memory weaker memory weaker movable right donna rock night spend night right mood sleep feel fall unmanageable come drink unbearable right mood sleep feel fall come sure yesterday yesterday alive today alive today comfort comfort tell mean need come donna rock night spend night right mood sleep feel fall unmanageable come drink unbearable right mood sleep feel fall come sure',\n",
       " 'love practice time place situation different relationship thing immature good woman meet time crazy mind confident make sense know time cherish think time immature wait person right thank good woman jealous happy next right soon better confident sense know time cherish forget',\n",
       " 'song matter many time cut lovely movie click dangerous kind story sound lame shine girl much time trust change life draw smile morning full love explode popping everything shine know kind story brag obvious baby crazy time short everything everyone romance empty page girl person hold hand thing change life draw smile morning full love explode everything make worry nonsense honest hope morning woke freshness hectic night need warm comfort draw smile morning full love explode everything everything',\n",
       " 'scent purple tear heart story able capture heart today diary write tear story today diary write tear story today diary write tear story story',\n",
       " 'happy many cried long time distant fault clumsy love honest excitement heart race good person guess excuse son sick hearing heart case meet good little different love distant immature honest excitement heart race good person drunk morning dark forget hate handsome front hope',\n",
       " 'phone wait airplane mode room light silence darkness everything stop place light shade warm know know coldness love least breath hand middle live dark swept locked heart underwater middle window shine night time push world place night everything clear black night dangerous love least breath hand middle live dark swept locked heart underwater light quiet whole body strength love least breath hand middle live hand direction night underwater deep night underwater deep night underwater',\n",
       " 'easy read soothe lonely heart stay impression please love shine white light night keep secret night fork head open heart break better sick warm hurry night keep secret night fork head hurry look feel bloom season full bloom lose dream dream postpone',\n",
       " 'subways station front city hall newspaper place space step call name look hmmmmm approach someone foot smile sorry life story story weather story memory tired slow time mother little asked life move shoulder something someday meet show fruit embedded soul song sentimental wanted play short greeting busy people long time image disappears heart someday meet show fruit embedded soul song sentimental',\n",
       " 'obvious quit press fool alcohol drink pretty face gotten thinner alcohol suffering pain pretend crazy afraid afraid start meeting friend much staying home feel want meet anyone hide pretend crazy afraid afraid start past memory clear much clear memory protect afraid strong afraid pretend crazy afraid afraid start',\n",
       " 'devil hand lyric matter much paper stop exaggerated sadness lyricist need talk sick cover hear song forgive selfish greed protect feel play write sociopath contrary truth distant star tragic fine someone lyricist need talk sick cover hear song forgive selfish greed somebody honest photograph film somebody honest photograph film need talk sick cover hear song forgive selfish greed',\n",
       " 'breeze touch look good read expression loud music volume share world mine ruin next vein mine love last love ruin trust mine stay riding city stopped world long time simple weird incident show lead signal stay baby next vein mine love last love ruin trust mine stay feel doubt everything song playlist room baby ruin next vein mine love last love ruin trust mine stay mine riding',\n",
       " 'silence wrap dream lock deeper deeper deeper calm heart used memory capturedyou lost time drive crazy crazyyou ghost crazyyou ghost crazy night ghost word ghost ghost ghost ghost strong sure stop heart fire turned memory fair time love drive crazy crazyyou ghost crazyyou ghost crazy night ghost word ghost ghost ghost ghost dream wake today hold sleepless night ghost ghost ghost crazy night ghost traceyou ghost ghost time time time ghost ghost ghost ghost ghost ghost ghost ghost ghost',\n",
       " 'good morning moon woke doorbell delivery call lock pattern son penza yesterday good brush teeth respect morning people index roof please spinal midst wear parking several week navigation dead lukewarm start crazy hope rain hurry avoid full people cool soul hate summer hate summer weekend long time much sweat play seamen hawaii sorry seawater clergy summer song surf exit open internet know angry cool cold water time fast stick floor caterpillar layer several year side hell wide orange city annoyance everyone pretending enjoy right right hurry avoid full people cool soul hate summer hate summer july breathe mamasaid stay face place anyone save people',\n",
       " 'much indigestion everyone hard hate break okay strength angry much time mean wrong maria maria night bother maria beautiful beautiful maria frame face obvious blue change change crisis opportunity tear strength angry reason heart dirty maria maria night bother maria beautiful beautiful maria maria night bother maria beautiful beautiful maria',\n",
       " 'house cuckoo cuckoo cuckoo right memory drawer flowing time memory beach last summer drunk wave beach shine star everyone warm fallen spread sand letter ease memory want receive time memory beach last summer drunk wave beach shine star river time precious love please beach last summer drunk wave beach shine star',\n",
       " 'want star open anything want night hand purple night stay early purple night night night night night purple night everything disappears open night banana banana banana anna purple night banana banana anna banana banana purple night alcohol tipsy little think dizzy want kiss purple night stay early purple night night night night night purple night everything disappears open night wonder dream night truth purple night everything disappears open night love banana purple night love banana night banana banana anna purple night',\n",
       " 'moment heart bright feel cool come feel happy open next standing bright smile blue time happy happy smile face blue feel happy open next standing bright smile blue sadness happy right open next standing bright smile blue open next standing bright smile blue blue love love love love',\n",
       " 'movement unique normal dancer dark bend whole body scar steal heart dominate shadow think something inside little monster scare dream dance play sleep paralysis cast spell body little monster little monster cold ground twilight dawn hate madness save tease perfect mess little monster scare dream dance play sleep paralysis cast spell body little monster little monster look intention small dangerous time rise come dream monster life little monster scare dream dance play sleep paralysis cast spell body little monster little monster little monster',\n",
       " 'danger baby feel continuous attraction clear different color hand heart baby dance sound heart sound second hand mind feel rough breath anyone knowing donna play play light fire play play repeat dance want love free play repeat girl remedy flame heart current level danger control intuition regret luxury young people yesterday repeat look clock hush hush hush stay know feel vice sound heart connection stop hide blow mind rough breath anyone knowing donna play play light fire play play repeat dance want love free play repeat playayay repeat know dance playayay repeat moment play repeat anyone knowing donna play play light fire play play repeat dance want love free play repeat play play repeat play repeat',\n",
       " 'right left right right seventeen forget line open wide raise head knee gain momentum call friend stop party today climax tail buffalo jump carpet tomorrow hole make hole hole smile ahahah time ahahah ceremony cross finish line cool right left right right left right right left happy left right right right anyone something loud sweet tomorrow smile ahahah time ahahah ceremony cross finish line cool right left right right left right right left happy left right right left afraid ceremony passion count right left right right left right right left left right right left',\n",
       " 'bright sunlight warm shadow sound breath wind broken memory precious scene close meet line memory short time many scene painful memory back regret tell light dark heart alive scene close meet line memory short time hurt memory mind moment tomorrow first line tell bright sunshine warm love tell',\n",
       " 'stop think sunlight easy stop donna crying stop feeling stop thinking babe come cherish donna stop important better suffer countless precious look bare face heart gutta stop donna crying stop feeling stop thinking babe come cherish donna donna',\n",
       " 'want summer play summer song please summer song play summer song please okay okay okay alright sings jump summer hand melody open next stop season play night summer song please summer song song heart race play summer song please wave reason reason summer think yeah money courage work lunch youth flex spare season night summer song please summer song song heart race play summer song please summer summer today youngest summer stay season hmmmmm play summer song please summer song excited play summer song please sing',\n",
       " 'bring umbrella heard sunny guess guess rain stop think time memory static radio obvious love song painful excitement reminds road walk melody clear rain heart shine warmly good easy repeat face breathe painful memory forget harder track time night love song sweeter dream moment afraid notice caught road walk melody clear rain heart shine warmly sunlight good',\n",
       " 'good byebaby anything phone call case wait baby girl quiet night baby home gutta change call fallen fallen waitanswer fallen youcuz fallen youwoah woahwoah woahwoah number friend curse behalf small expectation young keep away time look comfortable little little home walk phone okay baby none change call fallen fallen waitanswer fallen youcuz fallen youwoah woahwoah woahwoah woahwoah noah',\n",
       " 'night skywander long time front night whole world think pour night know natural miraculous dream star night whole world think night rest star star middle dark heart heart explode full feel dream pour night',\n",
       " 'full rain rain memory guess good thing today pick miss particular feel good explain right time good little open cloudy today awkward today pick miss particular feel good explain right time good following rain moment great time heart longer rainy long time memory little time little',\n",
       " 'morning call wide open today date good dream yesterday shoe open front door today becomes heart whole body tickling heart feeling nice nice nice something doing doing cool fitness think first time relationship nervous question curious something cross traffic delicious restaurant today resembles becomes heart whole body tickling heart feeling nice nice nice people relationship point start circle hand hand come true lose word serious random blue today nice nice nice great today date road home short time tomorrow',\n",
       " 'cold story everything time clear fairy tale time nothing fear heart time painful time live time evermore heart cold memory ease everything painful time live time afraid pain afraid ease painful time live time evermore',\n",
       " 'crazy dance lose voice nothing different going sick heart right feeling good feeling fine honest feeling mulberry mulberry slow time crazy hate stop foot enjoy rhythm lead body singing mulberry mulberry louder mulberry singing mulberry ohio fine alright girl rise give remote control lyric caught play song something sticky summer argued young sick heart right feeling good feeling fine honest feeling mulberry mulberry ohio singing mulberry ohio louder mulberry singing mulberry ohio fine alright girl anna feel anna dancelike anna feel anna feel good anna feel anna dancelike anna feel anna feel good singing mulberry ohio louder mulberry singing mulberry ohio fine alright girl',\n",
       " 'pace okay cloud become umbrella sunlight open full newness meet mirror draw time nothing nothing late life lalalalalala parallel line dream time happiness heart full pocket rush stay trip step closer place hold heart everything hold hand okay lalalalala spread dream weight happiness decide rush stay trip step closer place hold heart life trip trip trip heart road road movie path song song step closer place hold heart',\n",
       " 'sorry much fool heart heart give left force time pathetic change mind love yesterday warmth heart feel give left force time pathetic change mind love abandon fault heart hurt break please care confirmation heart guess selfish love true crazy regret nice someone',\n",
       " 'different path meeting dream time life deep faith love confess love please heart hard time anything someone thank person good faith starlight confess love please heart hard life sunlight give hand star moon world love',\n",
       " 'curtain sunlight room phone thumb good time greene summer everything feel dream melody story place song wish yesterday street dinner want wind place trip melody song last melody breath overwhelmed voice long tunnel meet good wind blow sing song smile reason tomorrow remember daytime reason tomorrow wait wherever',\n",
       " 'piece paper true heart something resembles different right much month year different daily life easy fool swallow word mouth fine fine hair organize dizzy room something handle feel something reason month year smile think easy fool swallow word mouth fine fine meaningless joke look anything people blunt turn blind last moment calm breakup word repeat fool swallow word mouth fine fine fine',\n",
       " 'nothing reason excuse meaningless everything question everything hard time night moment tell scar feel help heart hard time today night moment tell scar nothing deeper afraid pretend night moment sorry please tell feel night moment sorry please know easy',\n",
       " 'everyone trust next waste matter night girl sleep careful wake divide able fire careful dark street lady piece humor cake best sort thing modified history standing towards night little dizzy hold tight heart warm good listen please movie obvious love everything time please late hurt heart anyone last love better stop edition wishingyou girlyou position cluball girl stare thing seemed wishthey cleanfrom head foot definition word masterpiece excited something weird feel dangerous plant dynamite storm reason break heart bomb bomb obvious love revolution princess prince movie obvious love everything time please late hurt heart anyone last love meeting mistake body again again love movie obvious love everything time please late heart anyone last love',\n",
       " 'special today start drawn light step good today feel good feeling guard sense look perfect flaw moment point mine heart heart stop care side closer hand heart start ready short time heart step moment nice closer hour fantasy open spacious space full moment point mine heart heart stop care side closer hand long time moment calm anyone notice gesture heart time come moment fall heart heart stop care side closer hand heart hand',\n",
       " 'night firmly close window think close daytime farthest place sand feel disappear miss heart everything mean love right great sand feel disappear miss miss diary everything night firmly window hope good dream',\n",
       " 'today reason turn head okay drop sigh break heart light please shadow angel face small wound leave baby baby prettier smile face heart ache much smile please face hide tell anything wound heal want capture beautiful thing smile light please shadow angel face small wound leave baby baby prettier smile face heart ache much smile please face everyone leaf need happy waste world baby smile face heart ache much smile please face',\n",
       " 'hand voice clear mind guess best wish stronger much forgotten memory dilemma fact different keep mind deeper kind delusion spice first time good first time mess meet someday happier cooper meet happier calmer foolish blame everything hated hurt torn childhood stronger hold hand meet someday happier cooper meet happier calmer honest regret word apology honest admit fault fact tell sorry pray pray youevery night youface face someday meet someday happier cooper meet happier calmer someday',\n",
       " 'knew distance afraid become unfamiliar okay worry breakup bitter precious love memory help heal someday empty space beautiful inevitable tried hide small breakup bitter precious love memory help heal someday empty space beautiful pain look precious much anything nice beautiful heart time everything beautiful know dream cheek beautiful know dream cheek beautiful',\n",
       " 'winter brown coat hide people wrong spring come hand sweet spring breeze much everyone fall spring song petal bloom flutter front hear something spring love cherry blossom spring love cherry blossom spring love cherry blossom spring love cherry word wriggle mind nothing special walk hand love song everyone fall spring song petal bloom flutter front hear something spring love cherry blossom lyric love song desperate others countless couple street clothes yesterday world spring road someone everyone stay least memory want make cherry leaf spring past miss curious feel everyone fall spring song petal bloom flutter front hear something spring love cherry blossom spring love cherry blossom spring love cherry blossom spring love cherry blossom spring love cherry blossom',\n",
       " 'suspicious reason little late busy thing heart busy first person wrong liking little nervous cautious call look phone wait person heart today busy happens call think tell person wrong nervous cautious call wait love look phone wait wait call wait wait love last time miss wait wait call',\n",
       " 'girl prayergive last shot desperate prayer dark mouth please chance please breathe please donna hold tightened block dream reality flame willing walk halo desperation prayer hear please dream please name live baby pray alwaysalways mind dear hear pray night promise everted give chance please breathe please donna hold tightened lord prayer give girl weak lamb listen everything hurt habit finding time please call name baby pray desperate prayer dark mouth baby pray instinct follow baby pray care night please name blade breeze live baby pray',\n",
       " 'wait adult young similar pretending live live bite woman life pretend happy case disappointed think happy anxious love smile break nightmare break thinking opening door effort existence future time look afraid pretending happy face smile everything thought free alley time band lyric place call name universe word good important hear happy answer execution conclusion climb mountain foot cloud happy want walk foot face smile everything thought steal struggle pain picture magic heart happy happy sing song woman woman world everything change call name answer execution conclusion climb mountain foot cloud cover happy want walk foot everything thought steal walk happy foot happy make happy sing song happy happy call name',\n",
       " 'hope meet mind today much little hope break dream trust nothing hate loved thing knew break breakup familiar difficult guess person happy come hate expect anything sorry nice heart',\n",
       " 'smile familiar scent feel unfamiliar heart looked moment move sleep head awkward miss stop love guess contact heart explode stop love guess contact tell able deliver looked moment move sleep head awkward miss stop love guess contact heart explode stop love guess contact tell able deliver',\n",
       " 'miss miss last call girlfriend baby lady call girlfriend baby lady right want girl everything blank face baby call girlfriend baby lady call girlfriend baby lady please smile time smile picture couple friend tear able live know girl girlfriend baby lady girlfriend baby lady girl love girlfriend',\n",
       " 'count meaningless butterfly flower hand crystal something similar star diamond lightluxury better someone bigger shoulder please write frown moment anxious good sorry pride elegant trade elegant channel neat marginal inferiority complex high value beautiful someone much anything okay mask sorry scratch little hard please everyone know fact city apgujeong club dust special walk street shine shabby elegant trade elegant channel neat marginal inferiority complex beautiful',\n",
       " 'cold season spring cold winter future warmth season overcome long time yesterday memory tomorrow forgotten hard step night spring soothe heart spring breeze street habit scent painful season froze long time season mysterious right time right time trip message heart give love beautiful beautiful today memory tomorrow smile step today breathe spring night soothe heart spring breeze street habit scent painful season thatroad walk home girl flower bloom spring road breathe spring night soothe heart spring breeze street habit film memory spring thinking scent wind copy point time reason front last spring silly bright thank sunshine sure spring remember',\n",
       " 'tickling tickling tickling surprise surprise surprise tickling tickling tickling surprise surprise surprise something moment distance special dimension mystery depth everything drawn fine love strange dimensions story tear hold hand tickling tickling tickling surprise surprise surprise tickling tickling tickling surprise surprise surprise think moment reality world special dimension mystery shadow everything drawn fine love strange dimensions page fall wind hear voice pretty cheek pretty pretty hear voice reach heart balloon balloon fold heart stand level time time special dimension mystery depth everything drawn fine love strange dimensions story tear hold hand pretty cheek pretty hold hand tickling tickling tickling surprise surprise surprise',\n",
       " 'guess different fragrant song reason spring hear bench hand earphone sure spring small flower tree place dazzling season early flower watercolor spread everything resembles welcome contact good imagination everything normal special feel listen sound spring hear grass hand earphone share spring small flower tree place dazzling season early flower watercolor spread everything baby everything miracle minute second second hour moment good memory girl small flower tree place dazzling season early flower watercolor spread everything resembles',\n",
       " 'someday thought bump time full weekend appointment different girl special many time sure tired take serious right worry choose open morning side sleepless night tight move head matter boring voice everything different rush time serious right worry smile open morning side sleepless night tight move head fall step anna fall love side stay open morning side sleepless night tight move head open morning side sleepless night tight move head',\n",
       " 'rest penalty thanks lazy member considerate old work dreamer learn donate first level dangerous ground site everything afterwards minute room gold ring gold chain year show money edited dickens light people cut everyone scream place space rapier chapter matter everything change shoe backpack time spray samdasoo flash different world hunger navigation happens wake wake happens wake wake change room hate obvious sum night room need something black paint paint picture paint something want jealousy best shortest colleague life comic book home leave something better dress welcome hello lady rapier many gutta success luck skill class camera uninvited guest fine seat different world hunger navigation happens wake wake happens wake wake stay night world something stretch harder high sick ball look contrary year time shine different world hunger navigation happens wake wake happens wake wake',\n",
       " 'star heart hover stop dizzy clear heart night street everything full need time cover heart steps heart little little cover cover upon cover cover upon cover come cover upon cover heart cover color seat know heart night street everything full need time cover heart steps heart little little cover heart side imagine sweet dream heart cover love love mean love moment regret cover heart steps heart little little cover heart side imagine sweet dream heart cover cover upon cover love cover upon cover love cover upon cover heart cover',\n",
       " 'time last year scar time forget reminded memory forgotten time place forgotten memory time understand mean goodby hard liked guess confident place forgotten memory time everything back time cafe remember movie perfume tattoo wrist much ease memory place forgotten memory true feeling recognize',\n",
       " 'please love forget please glass track time tilt glass burst tear sure nothing middle heart star night magic heart race black hard ease easy write first kiss place voice nothing forget anything anything anything matter right alone time medicine unique constitution heart hurry sleep open time deep last look nothing forget anything wish control doctor strange back first time kissesand pause staying moment girl time memory nothing forget anything anything tell please',\n",
       " 'look good overcome everything look okay think happy heart heart heart live side heart happy okay good smile thinking alive feel living time everything word world little little good listen broken self live side heart happy okay good smile thinking alive feel living',\n",
       " 'bitten scene movie everything broken caution look villain cold desert night please lame wish front full shoot head turn hand band change time trust hurt feel angry look walk afraid side answer fool resolution please breath nothing please hesitate movie movie movie movie know love bitten hate love bitten someone drunk voice shake something give throw thing front phone imminent breakup night anxiety pathetic love biting funny easy melted salt tear angry guess forward walk face breath nothing please hesitate movie movie movie movie know love bitten hate love hate scene movie everything broken caution look villain right look villain right',\n",
       " 'flower bloom important weather warmer point cold stick cold weird sweet boyfriend likely internet cafe spring much idiot cherry blossom idiot petal fall fall screw problem weather nice catch cold cold look good cold life unfair perfect relationship sure awful spring much idiot cherry blossom idiot petal fall fall hand cross please anything excited heart race happy sight spring much idiot cherry blossom idiot petal fall fall screw screw',\n",
       " 'flower bloom important weather warmer point cold stick cold weird sweet boyfriend likely internet cafe spring much idiot cherry blossom idiot petal fall fall screw problem weather nice catch cold cold look good cold life unfair perfect relationship sure awful spring much idiot cherry blossom idiot petal fall fall hand cross please anything excited heart race happy sight spring much idiot cherry blossom idiot petal fall fall screw screw',\n",
       " 'hyungdon daejun everyone late traffic highway late gangbyeonbuk olympic highway traffic monday tuesday traffic small medium small medium traffic traffic langham hour half soul hour half limp fukuoka hour half aroma massage hour half club girl atmosphere nice phone number play night morning house apgujeong maggie shout neighborhood loud voice blocked right sign freckled face right life life life traffic thursday friday traffic saturday upper reach yeouido bank dear traffic bridge everything cool sins long cool woman long everything sins long changes right date mind homage picture phone call excitement love voice similar hobby personality value dream house maggie mountain moran market everything good neighborhood live suit right sign freckled face right life life life traffic life thing know life short today fierce competition live life traffic life thing know life short today fierce competition live life blocked right sign freckled face right life life life hole hole hole hole hole hole block realistic olympic highway hole hole hole hole hole hole block realistic olympic highway',\n",
       " 'mamma mamma mamma mamma mamma mamma mamma barbara barbara mamma mamma mamma mamma mamma mamma mamma barbara barbara mamma mamma mamma mamma mamma mamma mamma barbara barbara mamma mamma mamma mamma mamma mamma mamma barbara barbara people world world best people people best humility humility hard humility humility hard humility hard humility successful open play helicopter garden quiet look singer cheekbones high romance magic popular pure horse life spend money scold arrogant lady humility hard humility humility hard humility hard humility father grandmother humble thing humility front people head stubborn bend year jealous living color lyric music love life proud everything spend money scold arrogant lady humility hard humility humility hard humility hard humility hard cap hand humility humility hard humility humility hard humility hard humility hardest thing world humility humility hard humility humility hard humility humility hard humility hard',\n",
       " 'everything time heart disappears time someday someday forgotten miss love hard time someday poor love miss love happy stair love anxious hand moment thankful please happy smile picture series hard time anxious hand heart strict separation restraint heals hard repeat pain crazy disappears time someday someday forgotten love hard someday poor love miss love happy regardless someday forgotten love struggle someday poor love miss love happy regardless right happy time call closing mouth endless regret word breakup write past overcome everything hope aside',\n",
       " 'white face crazy smile pretty babe heart ache stiff word explain world enough pretty know beautiful young marry word explain world enough pretty many time know itchy voice crazy',\n",
       " 'head heart year change nothing anything heart happy heart ache miss heart memory matter much smile thankful nothing love come happy heart ache miss heart want luxury come miss love love lifetime love',\n",
       " 'night darkness fall sound clock room hand chest know love everything anything person light world special love everything anything person light world dangerous cliff hand short moment nothing light disappears',\n",
       " 'hello girl hesitate nervous venus felo trust cool good venus girl repeating nervous confidence important cheer venus felo trust cool good venus black baby cutis bottle girl girl venus love perfect leader stop feel sorry good appearance hero trust zero cool cool good venus good feeling today hello venus',\n",
       " 'someone face please accept hard love left someone face please accept meet girl great time keep face please accept much love hard ease someone face please accept keep face please accept',\n",
       " 'fine happy heart felt smile smile call look memory everything much good stop love sure person confident best catch memory everything much time memory last night live memory everything much',\n",
       " 'pitch darkness dead obvious question life fresh kimchi life living life obvious question sure work live life uphill road life look rabbit fall speck speck used others suction high school student diploma debt certificate money money name dream take care nothing chasing tomorrow answer clue black bare foot corner world crouch face rise boring black bare foot corner world crouch face rise boring life pattern mess friend call anything drunk voice thanks inferiority complex reunion chew dictionary high school deserve please help order third rate novel huge building many place foot body cool cold world cool spring spirit living spirit animal black bare foot corner world crouch face rise boring black bare foot corner world crouch face rise boring keep others trivial corner world rise front friend practice kind ridiculous unfamiliar black bare foot corner world crouch face rise boring',\n",
       " 'reason chest hurt fingertips miss word hear love miss heart forever cold chest hurt fingertips miss much word hear love miss someone deep heart ease white everything miss much word hear love miss heart love',\n",
       " 'bad look beautiful tonsil heart flutter spine drive crazy good plump soft saline small grab finger good chubby good hair good high tone voice intestine heart beat babe cochlea cartilage knee cheekbones round good chubby wrist good hair good high tone voice feel captivated know good chubby wrist good hair good high tone voice',\n",
       " 'front house thing breakup guess sick heart towards place crazy heart read letter flower chest chest catch cold sick hate forget love today hour everything look catch cold sick hate forget wherever sound afraid miss habit door asleep habit shoulder someone farewell goodby habit voice crazy wait crazy wait crazy forget everything first catch cold sick hate forget love',\n",
       " 'give heart sick stop smile make regret give heart sick tear ease ease miss call name close miss point course heart tears flow heart forget ease much miss love heart sick person hard hope someday hard break someone someday flower time medicine miss time meet person meet someday break break love farewell',\n",
       " 'reading room path make miss heart meeting round round year relationship afraid round round year relationship afraid path make miss heart meeting round round year relationship afraid round round year relationship afraid round round year relationship afraid',\n",
       " 'woman know tell wrong something wrong time trust feel slow crazy hair make time trust feel slow crazy slow crazy frustration',\n",
       " 'everyone come front microphone heart worry song forget everything stand everyone hesitate look listen music crazy crazy crazy crazy ready follow anna body stop baby body drop floor floor floor drop floor floor floor everybody bounce bounce bounce bounce bounce bounce bounce bounce bounce bounce everybody shake shake everybody shake shake everybody rock roll feel whole body rhythm stuffy world wake everything heart today people follow follow place forget everything heart open everything look look today anna body stop baby body drop floor floor floor drop floor floor floor everybody bounce bounce bounce bounce bounce bounce bounce bounce bounce bounce everybody shake shake everybody shake shake everybody rock roll feel whole body rhythm stuffy world wake everything heart burn',\n",
       " 'love strawberry gold king candy taste right good good body head good good sweet thing mouth clear good good good think cool cool thing june food delicious cool year carrot good woman better person thankful strawberry sweet vitamin matter much gain weight good good good good sweet thing mouth clear good goodreal good goodreal good goodly good good want waste youth settle play late think young much cotton candy chink sugar matter much hungry sweet head sweet sticky rotten strawberry sweet vitamin matter much gain weight good good good good sweet thing mouth clear good goodreal good goodreal good good love real good good love obvious hold late love debate threw diamond good love true good good body head good good sweet thing mouth clear good good good love good good good good sweet thing mouth clear good goodreal good goodreal good good love real good good love strawberry gold king',\n",
       " 'torn chest tear sangcheon mind please tired favor time finish grabbed torn chest live torn chest mind please tired favor time finish grabbed torn chest live torn chest',\n",
       " 'countless street everyone weird person street non sign everyone weird person little phone call voice phone call melody memory hand everyone weird person little phone call voice phone call melody beautiful beautiful hair good phone',\n",
       " 'pick movie ticket teddy cell phone white matter everything forget anything want meet anyone anything answer call hard arched year spoon face heart number change different number picture rice tear letter everything meet little funny thing everything forget anything want meet anyone anything answer call hard arched ease heart number change different number picture rice tear letter everything meet little funny thing everything forget pick movie ticket teddy',\n",
       " 'thing face face thing guess ease guess guess forget street long time happy road miss time time memory star people happy feel missed time know time memory star able heart everything full regret empty thing today spot sing',\n",
       " 'winter spring heart blue blue tear blue sadness blue cloud different place dangerous mole letter cruel breakup word love word comfort last romance life point meet life cold heart blue feel spring heart blue blue tear blue sadness blue cloud feel frozen afterwards head remember moist happiness stand anything nothing nothing people point meet life cold heart blue spring heart blue moonlight fall dream look singing song blue blue tear blue sadness blue cloud blue blue tear blue sadness blue cloud',\n",
       " 'love painful small heart place different place love hurt tear hidden rain hide feeling love painful sorry matter person guess people look person wind catch tear hidden rain hide feeling love painful sorry matter person love painful small heart place stay feel',\n",
       " 'name question talk sweeter like ooh different others little stuffy somehow charm everyone pretty decent name question talk sweeter like ooh first impression good nice first cherish name question talk sweeter like ooh ooh say smile smile name question talk sweeter like ooh ooh',\n",
       " 'yesterday alley breakup catch little much home faint little rest word pain expression sure hate know little much home faint little rest stay tired faint little rest',\n",
       " 'today glass alcohol memory hurt repeat cold anything heart resent guess speak love first time guess hurt excuse love love love everything forgive pretending strong harshly guess want catch guess hide guess speak love first time dream fool love everything forgive please',\n",
       " 'stuffy shout tired anna rock mind stand gutta good today worried hair point please shout tired anna rock mind stand good want gutta rock baby crazy night worry afraid protect reach world anna rock mind stand gutta good worry afraid protect worry afraid protect',\n",
       " 'phone call heart something else heart stiff expression much imagine much wrong wrong forgot everything heart much imagine much wrong much imagine much hurting play fool fool much imagine much wrong much imagine much hurting hate',\n",
       " 'make high heel street song people long time regret thought worth noble drunk late night contact crazy meet someone anyone tell different habit joke poor thought worth noble drunk late night contact crazy meet someone please phone number baby mouth catch relationship anybody heart emptied matter much shake wave hand anna voice cryluv late wake contact late night contact crazy meet someone anna',\n",
       " 'loved shaken resolution baby sorry baby sorry feel hear love baby sorry stand forget love hope meet heart baby sorry baby sorry feel hear love baby scar live love hate love forget forgive sorry sorry baby everything baby heart baby sorry',\n",
       " 'strand step street huhuhuhu whole time sick many thing laugh smile placenta doll friend huhuhuhu whole time sick smile everyday smile think happy laugh matter much sick',\n",
       " 'confident pride foolish love heart push angry hell okay forgotten love know heart first please sorry love heart love love',\n",
       " 'entrance alley last summer different face stiff time sing song entrance alley time small face stiff time sing song sing song sing song distance time warm grass precious wish memory night sentimental song canada frog precious memory balaga balaga balaga balaga entrance alley last summer small time entrance alley',\n",
       " 'late night window look sound open drunk wide look half cold glass young face memory drink shot alcohol memory drink night hope silent encounter story light young face glass drink memory drink shot alcohol memory drink memory drink shot alcohol memory drink drink drink drink drink',\n",
       " 'warm fingertips cold next comfort hurt someone hard breathe heart first chest love dream next love hurt someone hard breathe heart someday dream true hurt reason stay love heart love',\n",
       " 'understand true love time lovejoy first sigh several night long time someone recognize girl time step sick mean wait close stand need place lean know heart little little closer tomorrow heart wait ready afraid thing approach ready game honest place heart comfort young child know emotion brief attraction accept heart happy wait show little little closer tomorrow heart wait ready hard someone open tired heart better right watch precious love wait ready',\n",
       " 'people life live open minute second please miss last time miss crazy miss face miss name miss love love breathe time reach reach true please miss last time miss crazy miss face miss name miss love death something hard something stand twisted heart ache ease forget memory heart miss touch miss person miss',\n",
       " 'much girl time pass breath hugging shallow wound punishment long time feel mysterious place world abandon memory like place stay people long time hate mysterious place different love world happy matter space everything change alive',\n",
       " 'rain night soak dryness cloud plane heading bluntness anxiety memory take time long time memory tear time self rain night soak dryness cloud plane heading bluntness anxiety memory take time long time memory tear time self season know break heart love time time wrong memory take time long time memory tear time self',\n",
       " 'need taste spice flavor baby trouble baby sweat little baby taste spice flavor baby trouble baby point baby nervous baby female height male height kidnap shop speak february march birthday gift year come clock window come shopping woman full make month cream month tattoo month month lady many half world woman lady many woman foot woman right coffee thank luxury trip rainy season heavy heat least cinderella midnight clock house number match number woman yesterday thumb thumb thumb thumb thumb yesterday thumb thumb year thumb thumb thumb thumb thumb friend house night lady many half world woman lady many woman foot woman unfair unfair confident tell unfair unfair confident boyfriend mean woman treat credit card defense lady girl many half world woman lady many woman foot woman world world woman',\n",
       " 'realistic mary kiril realistic mary kiril touch realistic mary realistic mary kiril word star similar life spread trend king peri give everything awesome music show restaurant beautiful life spring flower bloom path okay last month york bangkok europe plane call friend rent room charge mood realistic time time realistic wind stop moment realistic time everyone reach interest affection good idol short message article title fail know song title mary last year many busy much time least gentle ride cool everything realistic time time realistic wind stop moment realistic time everyone anger sorrow everything bubble star year news story distant future famous friend know feeling drunk local supermarket song',\n",
       " 'crazy shout passion best brave show bravery hour shopping shut wait bathroom wait expensive take picture food wait refill bread hour make wait wait wait wait wait wait wait woman boyfriend payday month month product money money money money money army wait year thing meet stop woman wait wait wait wait wait ready shout passion best brave here shout passion best brave second story prepare pack lose prepare handwritten letter night envelope gift certificate prepare cool song impress please confession prepare trip hand sleep jerk ready ready ready ready ready ready ready ready card restaurant need money restroom anything picnic prepare gimbap rice roll line much effortless ready ready ready ready ready ready ready shout passion best brave here shout passion best brave world wait world prepare world shout passion best brave here cheer passion best brave',\n",
       " 'everything love star light awesome perfect everything incomparably beautiful flower lilac scent good hair good melt heart everything love star light flower bright girl flower look look little heart everything love star light flower bright girl flower love everything love star light sunflower look everything life love',\n",
       " 'fire heart pitch bring dark crystal clear sheet bare piece thing fire heart pitch bring dark scar love remind scar love breathless help feeling deep heart hand beat baby story heard donna head burn depth despair home mine sure scar love remind scar love breathless help feeling deep heart hand beat deep heart hand beating throw soul open door count look sorrow gold kind reap sown deep heart hand beat deep heart hand beat',\n",
       " 'someday rise opportunity shoot dream tomorrow girl first time today funny keep attached okay polite jump jump nervous sandbag spirit listen endure nice good shape feel look place everyone world hard cheer shoot tomorrow miss dream true future mine someday rise opportunity shoot dream tomorrow hopeless woman mine save pitch darkness light brightens anything today hello hello hear wrong interested give please answer everyday front house wait please everyone world hard cheer shoot tomorrow miss dream true future mine ignore young smile arrogant beat look dream anyone meant pork stallion best combination someday rise opportunity shoot dream tomorrow',\n",
       " 'start face academic background look body meticulous deal good chosen disrespect dare much dish scratch heart everything lady lady level comedy lady lady level comes girl compare grade word heart word many point bush disrespect dare much dish scratch heart everything lady lady level comedy lady lady level comes girl hang second iota weak relax shoulder money body baby baby baby sharp people house white horse pair lottery tack everyone work bank love attention others exhibition lonely look come',\n",
       " 'today passing love heart reason despair world please good tell good mean again again again work card reason ride home nothing look sorry despair world sharp wind heart anything tear cover world please good tell good nice tell able live nice today passing love heart reason miserable self world',\n",
       " 'sure little scared sorry promise know tomorrow word heart anything happy right please little longer heart hurt frequent meeting mistake love mask similar moment want stay sure little scared sorry promise know tomorrow word heart smile worried pretty smile letter love trap greed fulfill excitement half loyal trial error nervous everyday innocence burdensome tonight stay much lose hurt trust selfish sure little scared sorry promise know tomorrow word heart',\n",
       " 'turtle ship ship plump chubby shit pain feel bigger poisonous normal turtle ship ship plump ashore pain feel bigger poisonous normal whadsyaname cause feel undercover camouflage underground matter call much information emma whadsyaname call jack bean tree grown past year destination ride lazy full step take foot long prospect filter excuse wash hand precaution anaesthetic injection name turtle ship ship ashore pain feel bigger poisonous normal turtle ship ashore pain feel bigger poisonous normal who felt close next generation movement fuck ease break spine look cut emma wrong people tongue peace friend rotten laugh scoundrel analogy time nerve drink nose innocent naive boone look face high high high shot flaw work courage bravery come stick everything stop stop noah turtle ship ship plump chubby shit pain feel bigger poisonous normal turtle ship ship plump ashore pain feel bigger poisonous normal baby drank water alive suck experience failure spit taste plan life adair more sexagenary cycle taegeukgi world rico pale also third song proper home education everything filial piety company company sucked wise situation idol rapier pucker idol spyglass existence foul wrong rapier everything pseudo turtle ship ship ashore pain feel bigger poisonous normal turtle ship ship plump chubby shit pain feel bigger poisonous normal',\n",
       " 'tonight freak freak baby sometime give give sometime give tonight freak freak baby sometime give give sometime give song awesome awesome style awesome kind awesome shake money walk say call turn upside useless formula natural dealer cerebral haemorrhage manual want experience sexual school hard knock best home early curse name company guess famous welcome entrance ceremony much money bank many belliard ball song awesome awesome style awesome kind awesome shake money walk say anna song awesome dance awesome style awesome kind awesome shake money walk anna people ghost since reborn brain music sleepy caffein admire shinkansen francis bacon side head calder serious critic know weight young taste money stage realize reality little come light source inspiration awesome matter song awesome awesome style awesome kind awesome shake money walk say anna song awesome dance awesome style awesome kind awesome shake money walk anna gambler dragon devil smile yauza dragon devil bullet bang bang tonight freak freak baby sometime give give sometime give tonight freak freak baby sometime give give sometime give',\n",
       " 'house father taxi driver yanghwa bridge morning star candy raven ground father work early morning pocket childhood older sister youngest cutis happy happy sick sick happy happy sick money money call mother ddurururu yanghwa bridge yanghwa bridge happy sick sick happy happy sick young anything feeling bridge bridge yanghwa bridge bridge happy happy sick sick happy happy sick happy happy sick sick happy happy sick',\n",
       " 'drunk thought meet baby baby touch touch long feel crazy crazy grow baby touch feel voice feel long drunk meet baby baby touch touch long feel hear close feel sweet breath stop turn light gaze blush hand foot tickling body temperature breath stand please baby mine touch touch long feel crazy crazy grow baby',\n",
       " 'thing lower mind hand know week play goescause thiswhen child beforehand play stillplay game time glow dark star light tomorrow young notebook diary today come goescause thiswhen child beforehand play stillplay game time scene face moment play goescause thiswhen child beforehand play stillplay game time familiarity common sense feel everyone home',\n",
       " 'noticeable white skin blood straight sobbed hair mean step someone manila spin beat nikita guitar rift theme shape heart money call leon call leon call leon call call call call call call call midst loud people curious mysterious facial expression black spyglass cher look dance cher look look blink cold kind leon else choice wrong manila mamma manila manila calm heart throw make want dance please black spyglass need dance chere stop hard baby front dance deux this quatre look dance cher look look blink need dance chere stop hard baby front dance dance blinking',\n",
       " 'dance reduces charm heart fingertips heart shake shake banana banana banana banana banana banana dance moment shake baby love understand heart dance shake dance other wild louder louder make louder surprise shake night baby smart shake shake fire move move position shake shake banana banana banana banana banana banana dance moment shake baby love understand heart dance shake dance other wild louder louder make louder surprise shake night baby shake shake shake shake shake shake shake shake baby baby dance shake dance other wild louder louder make louder surprise shake night shake baby',\n",
       " 'simon simon dominion simon simon simon dominion simon simon keeproots school uniform lip break time soccer beatson live club colatech performance rhyme number copy right demotape innocent give unit susan station square freestyle first primitive marion susan force declaration line master plan envied dream take train hour parent trust weak music first step life woman call simon name name simon simon dominion simon simon simon dominion simon people others personality stronger gamehometown hero dieu meeting hand game sense humor gangsang meangsang finest country style dream soul single album king first place cast time mistake amoeba contract money stomachache place full talk dirty thing memory popularity money course right pressure night everything name essence name sense humor team woman call lesion name name simon simon dominion simon simon simon dominion simon always several cold dawn many time next night second sense anxious ambition open money everything anna rhyme homes live music coordinate success nothing everyone strength rapier label label major minor name simon simon dominion simon simon simon dominion simon',\n",
       " 'wake dark night everyone turn next crazy guerrilla worship voice burst change pathetic mood hide madness dignity woman pretense shameless clergy body chronic today heart make crazy bang shot bang bang bang bang bang bang move move move move finish finish finish tonight bang bang take moment dance round place valhalla praise hard invincible night play soccer vertex song loud scream magical melody black poison rein place who fire heart make crazy bang shot bang bang bang bang bang bang move move move move finish finish finish tonight bang bang ready ready girl pull bang bang bass drum comfort girl pull bang bang bass drum let bass drum let bass drum going bang banging angle bass drum going bang banging angle bass drum',\n",
       " 'drop love love love love love ready everyday judge side line lead variety show symphony today saturday draw infinity drop drop drop bass drop drop drop bass king king king heart beat little higher little higher love love love love year friend sticky rice cake buckwheat different color youth handsome direction shintoburi fire shake booty booty nice everybody pollard pollard come kwanghee jiyong drop drop bass drop drop drop bass king king king heart beat little higher little higher everyone comfort shake hand head mother bass drum everyone comfort shake hand head mother bass drum bass drum bass drum bass drum bass drum',\n",
       " 'shine wide blue yesterday memory time white sand remember wave fall laughter look cool breeze forget everything today shine wide blue yesterday time summer night darkness cover star shine brighter ground look better night time cool breeze forget everything today shine wide blue yesterday time everything throw blue late heart time moment feel yesterday shine wide blue yesterday time',\n",
       " 'easy busy wonder many rest loud home home home time song chocolate breakfast lunch rice sure compliment something similar love much hungry listen song apple morning breakfast lunch rice sure able night beautiful please please miss',\n",
       " 'sound little something soft voice nervous wrong girl heart guess hide contact sight understood moment wide shoulder sharp soft voice thin nervous heart heart know heart want baby contact heart little attention much tell friend understand first sight understood moment wide shoulder sharp soft voice thin nervous heart heart know heart want baby prince right cool soft voice nervous heart everybody little something heart time baby',\n",
       " 'pick baby ride skkkkrt okay baby ride night sick money pick body people accelerated brake last vacation shoe wheel stop road autobahn fasten seat belt worry next waste fast pick baby ride skkkkrt okay baby ride night parent girlfriend care fairbank money piece paper know follow luxury parent wish ride wheel baby shotgun baby strap ride ride wheel hunt baby running crazy noise pick baby ride skkkkrt okay baby ride night license money earn money money year month angry dust first ride waste pick baby ride skkkkrt okay baby pick baby ride skkkkrt okay baby ride night',\n",
       " 'everything tell sponsor sponsor sponsor baby dance lion hata pork meat pork meat pork cheek meat name hungry call hansom hold tight love heart everything tell sponsor sponsor sponsor dance flesh flesh infinite lifting name infinite filial piety call daytime answer call pick hold tight love heart everything tell sponsor sponsor sponsor love love give love sex girl love love love love love everything take hata everything tell sponsor sponsor sponsor dance love',\n",
       " 'okay approach type face front style nothing different today today plan look good outfit second plan first second hand time okay approach type face instinct hide today first walk chin cut yeahhelp time sens unexpected smile coin forth manner woman trust skin existence colic okay approach type face voice everything head drunk drunk drunk other distance woman time walk girl girl okay approach type face voice everything head',\n",
       " 'young yellow year mean dream minute second precious cherish respect listen music club choose wear today mood today deny hell move others foolish respect become respect respect dead internet malicious comment article private life everything mistake mask anonymous home everybody bitch pretend course different others mirror clenched fist shirt show wall come time onewho thing talk respect respect proud fist shout high express show respect respect respect respect respect respect respect respect madness inches unna great memory welcome rain eusol other current situation kind reaction talent hata voice everyone immersed people unique prepare robe luxurious worth dad close thinking name earth proud fist hold fist high shout higher express show suit body heart live suit body heart live suit body heart live foot form live respect proud fist shout high express show respect respect respect respect respect respect respect respect',\n",
       " 'baby step baby stomach long time small butt greedy touch time fast remote place nice barn chance step door thief holy mamma mamma papa thing empty gain gain gained gain gain guess accept hold numb tight need catch thief looked floor footprints forth holy mamma mamma papa empty gain gain gained gain gain guess fault know home regret repeat process guess mamma',\n",
       " 'anything blandly fool small mole disappears time reminds past late hard time easier okay past breakup forget easy look small mole disappears someone reminds past late hard time easier rainy today mind memory recall weight sadness hard time easier',\n",
       " 'sleep curiosity pathetic banana banana banana banana serious good time night home hugged word heart flutter sleepless fool looked fool know heart spin good time night home hugged word heart flutter sleepless know know emotion moment error middle last long relationship painful dawn case press night home come word heart flutter sleepless heart race melt cut keep',\n",
       " 'thirsty water deep puddles amazing land jungle know the lady hand lady hand drive crazy breathe mine mine mine mine lady hand lady hand drive crazy breathe closer body heaven body body night waterfall swim lady hand lady hand drive crazy breathe mine mine mine mine lady hand lady hand drive crazy breathe desire thirsty woman beer time right person someone contest closing fish first time experience exclamation thumb gwangju jelly night scream baby bite taste enjoy loud want take shoot rocket earth moon lady hand lady hand drive crazy mine mine mine',\n",
       " 'turn pitiful stimulate chase money power honor crutch fall good friendship good head hurt doctor doctor crazy talk thing word hear hard stay anything hate sober sleep time dirty live dead older many thing nothing world cold others adult young fantasy romance young feel vast wilderness people want taste drunk drunk able hell spinal laughter bomb reduces hard breathe hard stay anything hate sober sleep time dirty live dead older many thing nothing afraid everything dark night cold world trust look fool hard stay anything hate sober sleep',\n",
       " 'scared look fact know thousand time boring come opportunity trip hurry pack suitcase stop picture parent care mirror younger brother star family sleep sleep idiot obvious make mind lonely endure stop listen anything open wide anything voice purpose reason habit partner enemy mirror guess continuous fight conscious public place death tell answer young soft become adult bump much guess late easy whip many anything open wide anything voice purpose reason scared scared thankful everything regardless religion year company numerous participant performance life uncle family member brother consolation today tomorrow scared mature anything open wide anything voice purpose reason anybody fear hear nowwoahwoo',\n",
       " 'girls know time party time summer turn radio favorite song drive lead rhythm summer wind right voice louder louder sound stop stop party time party time party rock rock rock tonight lemon you tutuila motto jest california white pearl cool summer everything yesterday blue perfect water bright summer excited heart higher higher hurry glass shot stop stop party time party time party rock rock rock tonight lemon you tutuila motto jest california white pearl cool sunrise call continuous party time night stop stop stop party time party time party rock rock rock tonight lemon you tutuila motto jest california white pearl cool party time',\n",
       " 'young year time music first work fear different direction beginning crack young heart compromise money everything everything time missed time talk paper care family curse hand skyline artist value heavy everyone money famous rapier anna jigger bigger everyone finger different pretend move move rock roll hard money time wrong hope live life please script hand skyline artist heavy grow everyone money who famous rapier anna jigger bigger everyone finger different pretend many thing hair pink everyday choice kill team place blood splash right relaxed stage good blame sigh grab something waste high position everyone finger different pretend move',\n",
       " 'secret sex imagine show sex sex people unfair brother burn today sex sex hide sex sex sex sex sex sex matter hard hide told sex anything sex sex sexless burn today sex sex hide sex sex sex sex sex sex hide hide sex sex want hide sex sex sex sex want hide sex sex sex sex sex sex',\n",
       " 'white shirt bottom person mind disgrace blood dangerous call police baby baby beautiful time baby selfish deer chin crazy natural beauty unique perfect year comfortable body year change baby baby beautiful time baby selfish stay everyone love flower drunk scent feel dizzy please bent sticky rice cake sticky rice cake sticky rice cake sticky rice cake',\n",
       " 'love love morning open someone heart flutter heart alive breathing teach heart much heart beat thankful everyday reason reason next person shoulder straight smile life full mine person happy lean hard world worth much heart beat thankful everyday reason reason exist gratitude life side single thing love precious person person life side thankful person much heart much heart beat',\n",
       " 'wasps donna showtime bell bell bell bell bell bell bell bell bell certain other come heart towards girl tonight fall love moonlight moon mabel head heart explode name baby baby mabel heart drive crazy bell bell bell bell bell bell tremble strange attraction echo touched heart something girl tonight fall love moonlight moon mabel head heart explode name baby baby mabel heart drive crazy breathe feel breathe feel feel unconscious sound blank wake bell heart drive crazy mabel head heart explode name baby baby mabel heart drive crazy mabel head heart exploded name baby baby mabel heart drive crazy bell bell bell bell bell bell ring',\n",
       " 'excitement towards today today heart song miss guests guests sututuru guests step sentimental anything want approach petal wind know future confess heart tell today today heart song miss guests guests sututuru guests front promise hand memory precious sure please cherish cloud moonlight time confess heart tell today today heart song cover forever feel thankful excitement towards today today heart song miss guests guests sututuru guests',\n",
       " 'face pretty talk smile whole world stop call name next word hear beautiful beautiful love love moment stop shyly guess beautiful girl beautiful love thing prettiest pretty enough sincerity towards plane passport first class ticket pillow hard tell keep beautiful girl beautiful love thing prettiest mean anything matter life funny comedy wave ferry become compass look live breathe hard love love moment stop shyly guess beautiful girl beautiful love thing prettiest',\n",
       " 'feel good night cheek twist skirt hold hand look know baby look opposite side swim much hesitate tomorrow much please today tomorrow close line afraid heart obvious story kind thing sorry powerful baby look opposite side swim much hesitate tomorrow much please today tomorrow everything woman understands anything girl white paper body squeeze paint night pass baby imagination party course namhyup hawaii much hesitate tomorrow much please today tomorrow',\n",
       " 'spending time point everything call friend sorry friend breathe world look beautiful sweet short time fall baby protect happiness stop work busy many thing give delicious food good thing sex expression pretty devil sorry baby gutta work gutta work work face baby heart weak stop please late cooperate want think right goodby kiss sorry baby worried short time fall baby protect happiness stop work busy many thing give delicious food good thing sex expression pretty devil sorry baby gutta work gutta work work short hate hate wait little break heart work many thing give delicious food good thing sex expression pretty devil sorry baby gutta work gutta work work sorry busy something sorry busy baby stop much street lamp front house dress meet',\n",
       " 'combustion unnecessary emotion nothing many time place fall countless time hand reach place heart crazy live unnecessary emotion word mixed comfort thanks unnecessary emotion bump glass broken heart missed mess shake beat night everybody single other summer time raise heat everybody single need anything expectation pour care worn torn everything everything today other summer time tired mirror everything price faith nothing surprised fool people conclusion everybody single other summer time raise heat everybody single need anything expectation pour care worn torn everything everything today other summer time everything wait hate everything anything expectation pour care worn torn everything everything today other summer time',\n",
       " 'breathe reason sick light turn shiny alive comfort shiny everything world dare wrinkle heart shiny alive alive forever',\n",
       " 'longer scared strong mean mirror longer fool dirty trash mirror world serious time hopeful love song clown script young certain point look ground reach hand longer scared strong mean mirror longer fool dirty trash mirror woman night tired sunrise selfish thing everything dangerous spring stop emotion cliff place certain point afraid people smile recognize longer scared strong mean mirror longer fool dirty trash mirror resent blue road hope close longer scared strong mean mirror longer fool dirty trash mirror',\n",
       " 'windy curious today petal street crazy live memory much miss feel heart night street breakup crazy live memory much miss crazy forget miss much miss much point',\n",
       " 'long time street hill long time older remember avoid someday pain time pass older remember avoid someday pain time pass memory time love pain love',\n",
       " 'asylum alike hello bonjour sick domo domo james asylum alike hello bonjour african domo domo james dream sleep kind person half year year happen popping dancing bolder possible home staying home jungjoo late believe happy alike hello bonjour sick domo domo james asylum alike hello bonjour african domo domo james everything hold rhythm straw compliment dance crazy popping dancing future bold thing possible home staying home jungjoo everything gift think life feel music live life moment happy alike hello bonjour sick domo domo james asylum alike hello bonjour african domo domo james',\n",
       " 'stubborn grade middle people harsh world many question main culprit school violence fist rainy night grade memory beautiful something green june hand alcohol first time tell pain breakup last night everything drawn much time good good good good longing good good good world lived hectic life love dream everything everything look skin half summer incompetence trash tragedy dream music street luncheon sign sign reading know money tinge later delicious glass delicious food experience music hectic life love dream everything time good good good good longing good good good world story memory time passionate performance happy dark dirty blanket hope young like courage club regret dream dream shine',\n",
       " 'hook people concern certain point friend hand shoulder gutta stay cause good this downtown deserve reason for long fault anna anna keep head upland keep mouth shutwhy wait waldo thing laugh upside gutta stay cause good this downtown deserve reason for long fault anna anna keep head mouth shutwhy wait waldo thing',\n",
       " 'baby need need something weak knee anna anna deep love baby cause bullet care gutta little taste sugar please right cause little sympathy show good make sweetness life sugar please broken piece insecure thing thing anna love anna deep love baby cause bullet care gutta little taste sugar please right cause little sympathy show good make sweetness life sugar velvet sugar sweet touch somebody gutta cause girl other southern california anna play game gutta afraid shit sugar please right cause little sympathy show good make sweetness life sugar please sugar please right cause little sympathy show good make sweetness life sugar please',\n",
       " 'friend today last person wrist time gold fiery friday late regret tomorrow young dangerous today cheer rise head west sunrise fire moment noisy fantastic surprise scattered place que late regret tomorrow young dangerous today cheer rise head west sunrise crazy drunk rise head west sunrise',\n",
       " 'guess chance scent spring guess scent nose heart flutter nervous chance spring winter front left hand scent breathe different stage head felt simple everything prepared forget pick anything tell color black little closer guess chance scent spring guess scent nose heart flutter nervous chance chance strong step imagine cringe head white weather long keep repeating become insensitive thing tension silence make smile pretend next front flurry turn light winter cold spring long move hold feel want guess chance scent spring guess scent nose heart flutter nervous chance love easy hold girl wait want hide know front nervous chance',\n",
       " 'first time first time lion stole heart chance anxious anxious prey push time thousand time heart next wake lion heart anxious heart cool heart tame lion heart free soul faithful instinct next hundred time time answer heart next wake lion heart anxious heart cool heart tame lion heart nose sleep touch angry baby heart next wake lion heart anxious heart cool heart tame lion heart lady everyone good time like fine faster heart warm word sunlight hair tame lion heart lion heart lion balaga balaga lalalalala stay balaga lalalalala lion heart',\n",
       " 'look sorry hello worry heart heart fine sick person many thing like hate hate night cold blanket sorry worry break heart cold word spit sick natural true obvious want shabby first hesitate okay anything anna heart',\n",
       " 'time person look shirt show window person someone wallet kind person friend side break heart woman everything life kind person friend side break heart give life side anyone else world happy someday heart give life',\n",
       " 'cold mitchell pfeiler white gold hood girl good girl strain living city chuck saint parent gutta kiss damn police foreman damn dragon anna retire damn name damn money break girl hallelujah who girl hallelujah who girl hallelujah who cause upon sunk give cause upon sunk give cause upon saturday night spot watch watch watch watch watch watch stop wait minute fill sign check julie stretch ride hollywood jackson show show fresh skipper damn police foreman damn dragon anna retire damn bitch name damn money break girl hallelujah who girl hallelujah who girl hallelujah who cause upon sunk give cause upon sunk give cause upon saturday night spot watch watch watch watch watch watch tell something upon sunk upon sunk upon sunk upon sunk upon sunk upon sunk upon sunk upon sunk dance jump sex flaunt freak brag show come dance jump sex flaunt saturday night spot watch watch watch watch watch watch upon sunk upon sunk say what upon sunk upon sunk upon sunk upon sunk say what upon sunk upon sunk upon sunk upon sunk say what upon sunk upon sunk upon sunk upon sunk say what upon sunk',\n",
       " 'want lean tough control live live memory think smile moment forget forget person good memory time best memory life person forget forget relief look good live live live last living memory moment beautiful forget forget person good memory time best memory life person forget someone love memory heart forget forget word point everything precious happy memory thankful life forget forget forget',\n",
       " 'drunk voice word night faint broke life home something heart love people name love home something heart love people',\n",
       " 'look gaze distance tooth light clear skin contrary clear right amount smile feel reason inspiration obvious song similar nothing feeling feel contact serious mouth curious girl hear voice good and good anna ride girl look clear reason thing different screen people interested direction expression matter face think desolate city hand easy fall want move bite filling forgotten hear pleasant scent curious girl hear voice good and good anna ride girl look nothing suit look nothing suit girl smile drive crazy happiness thanks childish girl year damn curious girl hear voice good and good anna girl anna girl anna girl anna girl anna girl girl anna girl anna ride girl',\n",
       " 'kind honest baby keep excited emotional joke sure something sing song need girlfriend turn song nervous reason simple cause something different different spend money hope mind who sorry play yawn block block kind honest baby keep excited emotional joke sure something song need right next soul friend friend something call call night harsh sound service greasy mayo turn gutta ketchup kkuldtuk gentleman mercy kind honest baby keep excited emotional joke sure something once young young young',\n",
       " 'little young think regret relationship time little young think time little young regret feel look able ease',\n",
       " 'swallow word tongue girl blame anyone even concentrate work object lyric memory sleep afterimage miss hurt today sick loved point death hate hate hurt complain remember person left sorry breakup wise trustworthy heart funny busy stop line emotion welcome worry problem sigh appropriate time suit clothes thing life failure success someone pull death point death hate hate hurt point death hate hate hurt hard bring spend regret burn trace hard bring spend regret burn trace miss hurt today sick',\n",
       " 'feat pushkin year investment mole eyebrow hand satisfied order world tear sweat cool city matter much raise body first respect everything precious nothing jealous respect proud fist hold fist high shout higher express show respect respect respect respect respect respect respect respect least lyric show money year shine story world respect easy judge outside today greet tomorrow good morning appreciate respect everything precious nothing jealous respect proud fist hold fist high shout higher express show suit heart body live foot form ride suit heart body live foot form ride respect proud fist hold fist high shout higher express show respect respect respect respect respect respect respect respect',\n",
       " 'next someone little everything overcome face love hate time others able anything meaningless memory like dream bury memory anything know disappear anything bury come life time',\n",
       " 'cold sharp tongue please stop stand disappear dream reach afraid shake turn girl girl strange woman girl girl girl nervous rollacoasta sweet warning whisper order rose focus afraid tomorrow face midst rough tremor afraid shake turn girl girl strange woman girl girl girl nervous hook answer stop girl girl girl strange woman girl girl girl nervous girl girl girl girl girl girl',\n",
       " 'everyone champion star celebrity phone ring missed call body answering lucky turn need ambiguous something cold chance talkative front handsome first attitude talk change number number number follower balance call mean call rush drunk regret call matter hard squeeze someone pretending personal connection service post show mean feel mistake past think anna myentourage talk change number stupid attitude truth number case nervous interested think mouth give number kind attitude perfect change number stupid attitude',\n",
       " 'time night tonight right start engine foot accelerated everything special emma work shanty emma party till mysterious right rise wherever road runaway look right baby right come hesitate universe love right entire universe love entire universe shine light cross galaxy moonlight shine night half brilliant moonlight night fireworks star little higher moment heart explode mind earth foot love road runaway look milky right baby right come baby beautiful universe beautiful lady right entire universe love right anna love entire universe countless night shine whisper night road runaway look right baby right come hesitate universe love right entire universe love right time entire universe love right anna entire universe love love entire universe',\n",
       " 'hang smile flirt treat answer question many time today pull everyone signal today tomorrow hurry obvious thing comfortable time innocent habit leak head shoulder knee foot knee foot many question hell anything person much need trouble today tomorrow hurry obvious thing comfortable time thing come obvious thing comfortable time',\n",
       " 'sleep night know tickling drunk star night beer cheer nothing midsummer night honey midsummer night honey sweet sweet hard keep sorry nice meet time half half serious half alcohol flower garden memory colourful sentimental story flower smile flower tell something know guess drunk attention nonsense cheer cheer today night know tickling drunk star night beer cheer nothing midsummer night honey midsummer night honey likes sweet sweet hold song right moment hold title remember song smell melody cool night move jump innocent shadow overlap streetlight happy finger wake midsummer night dream midsummer night honey today night know tickling drunk star night beer cheer nothing midsummer night honey midsummer night honey likes sweet sweet today much nice good night sweet dream nothing happy happy good night sweet dream hope midsummer night honey midsummer night honey sweet sweet midsummer night honey midsummer night honey likes sweet sweet',\n",
       " 'worse proof month doubt tear wish crazy cause think call baby unfaithful heart obtainable lord mine crazy cause call baby many year realise deepest fear crazy cause think call baby crazy cause think call baby',\n",
       " 'waist young matter flesh blow hair thin woman waist high hard find right part shake booty booty booty booty booty booty nice front drive crazy look shake booty booty booty booty booty booty much head raise shake booty booty booty booty booty booty face mean girl girl pretty heart tell wait girl waist high hard find right part shake booty booty booty booty booty booty nice front drive crazy look shake booty booty booty booty booty booty much head raise shake booty booty booty booty booty booty high hard find right part shake booty booty booty booty booty booty nice front drive crazy look shake booty booty booty booty booty booty head oriental natural style rush dash everyone less sex head shoulder knee foot knee foot thin waist booty tight jean chocolate skin honey husky voice saliva much head raise shake booty booty booty booty booty booty',\n",
       " 'show money contest song micro sorry black retain house beauty look lung patient bunch money ready move rapier debt part subject review write listen original bubble spoon money hurry skill floor scab sleep surface know skill acrostic poem nothing clear spotlight work pillar hand pillar floor cap public bath lip rico paloalto fuck some fuck ambition team cliff make look easy make look easy rocking rocking rocking easy rocking rocking rocking easy easy easy easy easy easy easy easy easy easy easy easy hard easy hard look easy funny time life yesterday next half half pessimistic optimistic carer firm career people prime time stayed night small room modern rhyme album note strict professor course impress assignment time cheap domestic speaker girl next door door color year amazing make look easy make look easy look easy easy straight boost hair look back jongwon quinine switch change position sweet pathetic song best upon money tree chorus make look easy make look easy rocking rocking rocking easy rocking rocking rocking easy easy easy easy easy easy easy easy easy easy easy easy hard easy hard look easy look easy sorry spit',\n",
       " 'come heart tremble reason soothe heart voice hear today confess today tell world love give happiness moment fool confess today tell world love give happiness bright star shine side chest disappears thank love',\n",
       " 'memory memory care night iron grip black ceiling moon hard show full moon repetition look side life busy live pretend adult time break break today someday nothing',\n",
       " 'word laughter small back appointment everything unsolved riddle sadness bloom common simple station fragrant wind build castle cloud window towards word laughter small back appointment everything unsolved riddle sadness bloom common simple station fragrant wind build castle cloud window towards sadness bloom common simple station fragrant wind build castle cloud window towards word laughter small back appointment',\n",
       " 'think busy monday tuesday hasty wednesday thursday friday friday hard wait weekend time watch mind control minute second sweet help heart hand clock closer friday friday movie watch nothing hard wait weekend time watch mind control minute second sweet fall love help heart hand clock closer something girl help week friday heart closer closer',\n",
       " 'break collapse front love love melody heart spot love plea word live memory memory swallowing heart breath smile word hear head front love love anything come',\n",
       " 'everyone miracle higher view tongue bite light color note feel sensitive distinct color sixth sense tonight night rough sensitive hide beautiful view beautiful view next next next next next view beautiful view beautiful place beautiful show next next show beautiful view time ocean bottle dream true side imagine show everything tell become sensitive subtle touch endless sens night okay weird limitation sens moment beautiful view beautiful view next next next next next view beautiful view beautiful place beautiful show next next show beautiful view boredom specialness head kiss beautiful place beautiful place first time feel sens scent taste felt weight scent color shape sound',\n",
       " 'feel hard heavy burden easy someone dream hard time everyday hard feel song melody voice radio write lyric hard okay okay year life military parent thing pew part time yesterday friend vacation everything college unemployed people number hope bank account balance loud alarm start early morning space house cliff echo answer outside take harsh place voyage coordinate small paper boat force swallow tear becomes fool okay front others past bright doubt melody voice radio write lyric hard okay okay happy birthday family family least right song sure everyone feel melody melody melody voice radio write lyric hard okay okay',\n",
       " 'wait girl listen white high heel lace skirt beautiful lady shoulder heart step baby small gesture heart world dance conduct contact foot contact kiss stop music surprising music moment baby rhythm music hold hand divide hold tight divide music raise volume explode divide moment baby moist scent spotlight fill world melody breathe moment nothing come beat heart world small gesture heart world conduct contact foot contact stop music music moment baby rhythm music hold hand divide hold tight divide music raise volume explode divide moment baby moist scent music married music music married music please highlight music music moment baby rhythm music hold hand divide hold tight divide music raise volume explode divide moment baby moist scent everything explode turn',\n",
       " 'love crazy right people something person curse something make person light love understand crazy love love feel deeper love happen tell anyone serious love life love serious understand someone pass second balloon grows bigger heart heart different familiarity newness heart sincere selfish love love tell anyone serious love life love serious understand person heart thing heart hurt others ambiguous mean clumsy heart sincere selfish love much hurt anyone serious love love deeper love world understand',\n",
       " 'unfamiliar road place breath much miss hurt someone tear reason life fearless love everything yesterday today half time crazy matter hard longing love country nothing rough give everything happy heart reason live everything love',\n",
       " 'wind blow heart year silent tremor small sound piece life bump look faith love eternal promise remember breakup memory smile memory life lack bump look faith love eternal promise remember breakup memory smile',\n",
       " 'beautiful regret long date small gift many memory make beautiful please story secret love guess wicker beautiful many time afraid forget heart feeling obvious story obvious love song nothing shameless regret tomorrow express hell fault weekend many people window look happy little change guess beautiful beautiful please story secret love guess wicker live feeling beautiful walk heart stop stop stop stop chest guess wicker beautiful many time afraid forget chest live',\n",
       " 'night full light lovely stream tear flow heart night goodby anything night full light breakup beautiful past memory love goodby feel love night goodby anything night goodby anything night goodby anything night goodby anything',\n",
       " 'girl crayshow girl craypick drop girl sex girl sex sex girl sex sex girl sex heard birthday drink thirsty worst drop watch care first date place skin first base cause player matrena slide home plate cap cap cap light light cap cap name sitting girl crayshow girl craypick drop girl sex girl sex sex girl sex sex girl sex heard single talking lingo play causing friendsplus lingo nothing flirt council shirt drop pick work body lethal goddammit fast sitting high feed cap cap cap light light cap cap name apple call girl crayshow girl craypick drop girl hard type anna things than hard type anna things than sex girl sex sex girl sex sex girl sex',\n",
       " 'someone wherever touch original swag complaint water queen scale different touch jealous everyday board smile care care seat jealous little dangerous matter popular jealous everything baby stomach hurt sorry done touch touch touch touch touch touch touch touch popular answer simple lack interest thing time coward fraud character jealousy massage queen everything height open door curse hold hand hung sister younger sister matter popular jealous everything baby stomach hurt sorry done touch touch care care seat touch touch popular jealous everything baby stomach hurt sorry done touch touch touch touch touch touch touch touch',\n",
       " 'emotion hand game saint gutta stop finger break total waste time mind blind cause water moon stop star fall world blind love cause best mistake hold gold rainbow chase hold guess time tick keep feeling fresh lock wear heart watch pickpocket guess distance hold love count know hard need dream family tree everything overdue much cause older wish happy guess thing number oldest couple human kept goddess honest start friend hard best mistake total waste time mind blind cause water moon stop star fall world blind love cause best mistake hold gold rainbow chase hold saving love saving love',\n",
       " 'beautiful girl special everything world girl thank much side tell case face body personality much calm many everyone good memory model idol actor dispatch glad forget past friday night next want everyday girl feel millionaire wear luxury woman luxury money woman beautiful special everything world girl thank much side tell case first time last last first time last last forehead bridge skirt short wherever hand fine morning heavier eyelid reason butt jump front girl thicker reason face situation time last think story doubt attention everything tomorrow enough time care beautiful special everything world girl thank much side tell case first time last last first time last last wherever feel number heart baby beautiful trust want last goddess victory beautiful girl special everything world girl thank much side tell case first time last last first time last last',\n",
       " 'call baby street mess call baby people different call baby moment girl moment moment destiny moment world call name amazing full flash moment care side see wake time girl wait wait shiny thing thing call baby call baby call baby call baby name girl heart door girl call baby call baby call baby call baby call many time exist world girl shiny thing thing call baby call baby call baby call baby call many time baby edge greed word line kind faith everyone change leaf lady hold hand shiny thing thing call baby call baby call baby call baby name girl heart door girl call baby call baby call baby call baby dark made darkness hear voice born listen name chronic space light lead face people thing huge void heart shake world who babe light girl want shiny thing thing call baby call baby call baby baby name girl exist girl world girl shiny thing thing call baby call baby call baby call baby call many time',\n",
       " 'local long drink sleep forget tonight local ease everything heart ache hungry love please feel ease local fill good memory empty mind case forget tonight local comfort seat ease everything heart ache hungry love please feel ease please everything flurry face clearer empty forget everything much heart ache hungry love please feel ease please',\n",
       " 'unusual fall neighborhood sleep head trampling float night fall asleep anything special sweat catch cold fever keep light predict sudden shower today greet umbrella feel good anything next fact enough baby pressure side need today relationship unusual lowered mood normal breathe want friend sorry double light weak summer cold open tonight today love relationship high make smile make happy mine high make smile make shine moment sunshine everything heart protect high make smile make happy mine high make smile make shine moment everyday want love love relationship unusual',\n",
       " 'bitterness piece memory stupid wanderer poor fellow live peace ohio gentle wave ocean recall watch pain mine story short remind fine rest world stupid deny bright light glow live peace ohio gentle wave ocean recall watch pain mine take breath ease free hard watch pain mine watch pain mine',\n",
       " 'cold white snow winter spring breeze someone able love warm spring much people winter winter much hate hate hate mind window spring sunshine empty heart small room painful snow spring spring come someone street crazy heart painful wound snow spring white memory cold spring warm spring come',\n",
       " 'boycaught dream fantasy please forsomeone take hand weak tomorrow best laid plan adjust night stand rapid arrow drunk tear tell reason youth young season thislamb star trying light dark speck dustwithin galaxy reality dare bring sorrow yesterday lion deer turn page brand dancing tear tell reason youth young season thislamb star trying dark thought heardyou call name give reason youth young season thislamb star trying dark thought heardyou call name heardyou star trying dark lost star tonight dark',\n",
       " 'first enough okay lover need love need smile resemble everything baby sweet girl butterfly sweet girl cloud sweet baby sweet girl full sweet scent sweet girl love love girl holy drunk figure side yellow butterfly baby butterfly drive crazy gutta deep girl innocent please need smile resemble everything baby sweet girl butterfly sweet girl cloud sweet baby sweet girl full sweet scent sweet girl love obvious know right heart sweeter please sweet girl butterfly sweet girl cloud sweet baby sweet girl full sweet scent sweet girl love love girl love girl',\n",
       " 'child want talk person glad lend shoulder shadow guess comfortable word bind easy word thing place approach right next afraid step time afraid ease friend word easy word thing place approach right next somewhere heart word long time love miss step closer time friend love countless time spring better anyone world time everything',\n",
       " 'need whole body baby male friend girl others baby anything different obvious matter different call baby baby heart racing anything touch heart baby people girl others baby anything different obvious matter different call baby baby look good next right song anything baby different obvious matter different call baby baby',\n",
       " 'next look happy dream opening moment gift feel happy hold hand asleep everyday joyyeah today voice cause soul song love everyday tomorrow draw cause home joy life everything rejoice right pray give thanks everything live miracle open blessing hard darkyou you show understand life carry thing happiness today voice cause soul song love everyday tomorrow draw cause home joy life everything everything everything baby everything sound everything everything time good myselfcause soul song lovely everyday hard time good myselfcause home life everything',\n",
       " 'hard much want baby baby please front natural begging cold devil shower middle summer shower wetting body thirsty salt desert equator feel pleasure moment thirsty cold wipe allow star throw years despair everything modified romantic cold devil shower middle summer shower wetting body thirsty salt desert equator feel pleasure moment thirsty cold throat taste listen listen everything everything everything everything beautiful beautiful becomes cold devil shower middle summer shower wetting body thirsty salt desert equator feel pleasure moment thirsty cold cold cold cold make thirsty devil',\n",
       " 'crazy fault did durum love data walk street grinder finger finger ringday monday better laugh goodby death please know time duruduru durum bah bah duruduru durum beautiful beautiful beautifulone duruduru durum bah bah duruduru durum idiot idiot mind love love guess goodby did durum love today cuba sing song grinder finger finger stay night monday better forget everything mind time goodby death please know time duruduru durum bah bah duruduru durum beautiful beautiful beautifulone duruduru durum bah bah duruduru durum good ready say tell goodby love heart miss happy duruduru durum bah bah duruduru durum beautiful beautiful beautifulone duruduru durum bah bah duruduru durum love',\n",
       " 'back stop matter nervous obvious situation free secret room breath secret heart anxious gaze list suspect freeze face anything shake heart chance answer exploded flame night baby curious smile picture curious curious time shake question fill head flow moment heart curious picture curious curious front know sure interrogative wanted know knew heart culprit everything evidence explode curious picture curious curious tonight house give for give give give for',\n",
       " 'back stop matter nervous obvious situation free secret room breath secret heart anxious gaze list suspect freeze face anything shake heart chance answer exploded flame night baby curious smile picture curious curious time shake question fill head flow moment heart curious picture curious curious front know sure interrogative wanted know knew heart culprit everything evidence explode curious picture curious curious tonight house give for give give give for',\n",
       " 'first painful true point break heart wonder mean true point break heart wonder mean memory time breakup bearable prepared feel pain double scared word word reach',\n",
       " 'first time foolish first time know habit word reason okay girl love perfume aftershave smell scent smell scent habit word reason okay girl love perfume aftershave smell scent smell scent heart become heart become heart heart much ahhhhhhhhhhh ahahah',\n",
       " 'reach reach someone wait someone protect look pray everyday moon love person person person crazy rain moon rise everything find keep walking light someone protect look pray everyday moon love person person person crazy rain moon rise everything hear hear voice breath scent everything want start light moon person',\n",
       " 'closed heart love heart opening heart heart touch heart babytouch touch touch heart babytouch touch soft touch touch heart touch touch heart babytouch touch touch heart babytouch touch heart everything touch hurt hate wound chest long time touch heart babytouch touch touch heart babytouch touch soft touch touch heart touch touch heart babytouch touch touch heart babytouch touch heart everything touch heart cold warm sunshine flesh wound lean chance baby touch heart babytouch touch touch heart babytouch touch soft touch touch heart touch touch heart babytouch touch touch heart babytouch touch heart everything touch',\n",
       " 'appearance stop head everything perfect anything moment light plight light light dream dreamer dreamer silk light dress angel closer closer thus venus frozen body catch catch love catch catch loveyour thus venus heart right want youjust want youjust fantastic beauty goddess heaven sentfallin different comparison crime cursed place destiny feel shadow crazy afraid miss youyou light plight light light time dreamer dreamer fantasy angel closer thus venus frozen body catch catch love catch catch loveyour thus venus heart right want youjust want youjust mysterious bright night touch hand young spread higher cloud higherbaby touch skin doubt ride night empty heart mindyour thus venus frozen body catch catch love catch catch youjust girl youroutta world angel wake dream goddess front star dance youall night crazy you venus',\n",
       " 'baby look best give time forget rest means free catch moon hand name fame donna learn fame coming people donna heaven light flame fame donna live forever baby name baby tight cause right shoot give love give baby tough ride heart break fame donna live forever donna high feel coming people donna heaven light flame fame donna live forever baby name donna live forever donna high feel coming people donna heaven light flame fame donna live forever baby name',\n",
       " 'step step sick heart heart person feeling forget world person stayed side thing feeling deserve heart heart person sick forget moment send smile breath live heart',\n",
       " 'sleep night breath love stabirabi rapststabira love love love stabirabi rapststabira love painful love skin sick matter hard hold sound bitter love bitter poison smile sentimental morning today love stabirabi rapststabira love love love stabirabi rapststabira love painful love skin sick matter hard hold sound bitter love bitter poison smile sentimental answer hold hand',\n",
       " 'high land once lullaby blue dream dare dream true someday wish strand wake where cloud trouble meltlike lemon drop chimney somewhere rainbow blue dream dare dream true rainbow happy little bluebirdsfly rainbowwhy',\n",
       " 'heart long time nice hear voice year tear keep sick year year someone need street hand hand fool happy natural year year someone need right shout loud hundred time time promise',\n",
       " 'head white everything turn time good painful heart blank heart cover black fall please schedule please floor',\n",
       " 'friend want angry hear look good wanted hard time song today memory night reason young love avoid hard felt unhappy dust disappear today look tear tomorrow nothing begin forget happy stay wish smile first full innocent smile sauvignon bland obedience towards relentless collision front reality fate last anger radio story relate heart fall thinking time young tried hard felt unhappy late dust disappear today look tear tomorrow nothing begin forget happy stay wish smile street come meet different people dust disappear today look tear tomorrow nothing begin forget happy stay wish smile',\n",
       " 'hard possession guess love easy trust everything donna ball right hard time fool easy trust youbaby right world everyone break people love harder promise love hard hard time great strength right rightly right world everyone break people love harder promise love time pass everything change afraid time leaf side world everyone break people love change world right rightright right rightright',\n",
       " 'alley tear luxury heart head look sure course ease night pass morning love heart head sure course ease night pass morning sound raindrops sound heart snow forget next world time',\n",
       " 'cloud light cloudy side side window memory cold sound rain heart deeper deeper time time follow rain road memory cloudy rain tear deeper deeper time time okay separate time image back time last time okay',\n",
       " 'obvious today look couple love lovely dovey dovey love dovey dovey lovely dovey dovey love dovey dovey dovey dovey love dovey sure frozen world cold spending good nice look anna tonight darkness dovey dovey love dovey dovey lovely dovey dovey love dovey dovey dovey dovey love dovey sure frozen world darkness long dovey dovey love dovey dovey lovely dovey dovey love dovey dovey dovey dovey love dovey sure frozen world',\n",
       " 'summer today time love pass mind change lady know little little little little honest hurry little little push pull nervous better habit thinking deep kiss want look accept kind know little little little little honest hurry little little push pull perfect perfect love love breakup eternal promise know push pull push pull push pull little little little little honest hurry little little closer closer little little little little honest hurry little little push pull push pull push pull push pull',\n",
       " 'know heart know reason afraid find nothing small hard time endure late regret able memory hope familiar lean hard time tired tear late regret able name hope hard time',\n",
       " 'wasps follow baby everything perfect guguga guguga lady crazy cheer wherever people talking baby lady ready lazy tight detail life shirt scale different look crazy hotyou know mean mean woman full exclamation phone number timing relationship point sense crisis time eyford follow baby everything perfect guguga guguga lady crazy cheer wherever people mess mess mess mess rock rock rock sample mother friend everyone line disinfection truck everyone personal possession grooves special question charm head shoulder knee foot knee foot hotyou know mean mean scared girl love follow baby everything perfect guguga guguga lady crazy cheer wherever people follow baby everything perfect guguga guguga lady crazy cheer wherever people mess mess rock rock rock rocking mess mess rock rock rock rocking',\n",
       " 'heart drive crazy dress someone hard busy trust wait need time purpose hear anything tell heart drive crazy dress someone next afraid cooper afraid meet true trust happy smile love excuse care dizzy woman love meet anyone afraid love believe first side time please',\n",
       " 'wipe tear picture hand everything memory name stuck mouth tattoo small little regret bigger heart watched movie yesterday today voice keep month matter year year sick small little regret bigger heart watched movie yesterday today voice keep mine small little regret bigger heart watched movie yesterday today voice',\n",
       " 'everything lose popularity sing different look screen everything know full confidence anxious know flash light dark everything lose popularity sing different right right love right right look question everything lose popularity sing different come come stage cheer shoulder droop droop head next next everything lose popularity sing different stay',\n",
       " 'facial expression hope practice everyday shake voice feel someone breaking thousand time terrible awful guess breathe quit terrible awful guess terrible thing matter much hurt hope think incurable disease awful awful guess breathe quit terrible awful guess terrible thing forget guess keep love want fool care terrible awful guess hard goodby hesitate terrible awful guess stay deeper heart scar ease',\n",
       " 'argument miss painful record time kill step step heavier kill time hurt much pain much sleepy sound hand son reason slap cheek hurry home expensive sell heart leave enough sorry sorry fine sick everything sorry flame matter much turn hand scar many time tried best watch everything much pain point meet today time backing life want backing life want look ease moment point',\n",
       " 'chemistry help something funny honest sick long time talk phone problem attitude conversation best people heart hand sorry anything answer stranger frustrated baby early broke hate anna lover angry annoyed warm kind bland dark something someone enthusiastic stop boring girl show know answer stranger baby much time chin beautiful queen merciful scholar help time reason trap friend hesitation answer stranger frustrated baby baby',\n",
       " 'secret clock desperate story heart care rush better call name heart crack hand caught heart full please wait want keep watch future name time name heart crack hand caught heart full please wait want keep watch future call name adult recognize remember strange nice crack hand fingertips clock hand little spell time many room future call name',\n",
       " 'look trouble maker next trouble maker little little time heart help front heart triple triple triple thou trouble maker trouble maker trouble maker trouble maker trouble maker bite heart impatient front angry sex head subtle touch start stand reflection know baby guess drunk lady forget front heart triple triple triple thou trouble maker trouble maker trouble maker trouble maker trouble maker heart mind trouble maker follow heart stop forget front heart triple triple triple thou trouble maker trouble maker trouble maker trouble maker trouble maker',\n",
       " 'guess everyday debt couple stranger okay many thing wrong frequent breakup live world regret rough thought anxious dangerous live world regret rough thought anxious dangerous rough thought anxious dangerous',\n",
       " 'forget memory heart towards open today memory path ease voice forget forget tear heart face forget memory heart towards open today forget tear heart forget forget tear heart face face thinking face',\n",
       " 'matter long wait side fool leave miss miss point hate knee everything something memory crazy memory excuse love lock miss much memory crazy memory excuse love lock miss forget point death',\n",
       " 'left happy tear thinking live joke anything obvious break love walk long time side afraid alcohol obvious break love walk long time please break come hard forget much second ease stop',\n",
       " 'hope last longer wish wish forget everything nice whole time sorry think anything pretend habit who girl tell girl who girl girl good woman look girl who girl point pretty person who girl leg novel full story interested neve holly girlbut tell girl next talk idiot pretend who girl tell girl who girl girl good woman look girl who girl point pretty person who girl thin step tell light habit show surprise woman babyjust girl woman pray last long who girl tell girl tell nice look who girl tell girl point pretty person who girl',\n",
       " 'spending close window cold wind quiet room small light darkness listen breakup happy drew beautiful miss miss want forget many thing miss know life able better anyone much miss much many thing miss miss forget right miss',\n",
       " 'look hand help right sadness tear love love today stay greedy swallow tear sigh love love today stay greedy call name long time love today stay greedy love today',\n",
       " 'fierce entrance examination university soul student part time worker night expensive suction generation debtor dark night street scar life soul gloomy miss mother warmth bread tomorrow morning need mother soybean paste soup light delicious food table mother soybean paste soup light delicious food hungry moment drunk middle gentleman star date point dream lottery anything fight family weapon talk thinking child holiday good night early morning drunk mother soybean paste soup light delicious food table mother soybean paste soup light delicious food hungry moment mother soybean paste soup light delicious food table mother soybean paste soup light delicious food hungry moment mother soybean paste soup mother soybean paste soup mother soybean paste soup light delicious food hungry moment',\n",
       " 'tear love love reason heart love come someday tear love reason heart love come someday anything think heart ache someone happy next tear love love reason heart love come someday sick wind cold someone warm hand wonder hand warmest worried useless thing tear love love reason heart love come someday heart someone first love hold behalf heart please love hold behalf heart borrow song',\n",
       " 'touch soft love heart heart anyone else world love moment anyone else world love difficult word curiosity irritate common play night heart anyone else world love love moment anyone else world love love love moment anyone else world love love moment anyone else world love love moment anyone else world love',\n",
       " 'party rock house everybody good time donna youlose everybody good time party rock house everybody good time donna youlose mind anna club party rocklook girl lock stephen spot booty likes block track got jean tattocause rock roll half black half white diamond gave money door running homelike drank devilish flowrock roll halo party rocky rise zeppelin party rock house everybody good time donna youlose everybody good time party rock house everybody good time donna youlose mind anna everyday shuffling shuffling shuffling step first girl cash money haven shot round please mess anna shake anna downput hand sound hand sound hand sound hand sound hand sound hand sound sound hand hand hand hand party rock house everybody good time donna youlose mind everybody good good time everyday shuffling',\n",
       " 'movie music girl loss back taste different life bitter salt bland soul think concern repetition note hard time space suffocates feel last train heart dark know guess standard heart chaos live friend drink night turn rice sleep cold corner room goosebump sound dawn warmth miss smell watch movie music girl loss everything meaningless full anaemia everything vain meaningless drowsiness emotion faint numb pillow good tighten word face bright energy pollution life nature friend love nothing miserable sympathy selfish stimulating night miss stride ragged overcome work advantage drunkenness early morning fool number weak right turn everything please movie music girl loss owner ease trace many everything different happiness something think complete perfect person movie music girl loss back',\n",
       " 'illusion mine love everything smile foretell heart miss cold tone much love pain pain hold cold heart breakup heart everyday everyday everyday everyday lonely behold hold baby sick look nothing much mean anything burden hand confusion drama side step shadow hand love pain pain hold cold heart breakup heart name name forget enjoy think name forget enjoy ease terrible love love pain pain hold cold heart breakup heart everyday everyday everyday everyday lonely behold hold baby everyday everyday everyday everyday lonely behold hold baby longer love pain',\n",
       " 'warm copy nest unknown land spread arrow star friend comfort heart vein bone world laugh river horizon walk walk vast land everything want achieve wall reality high confidence foot confidence rain night hard face darkness high spread dream give nothing world dream survive endless competition struggle much life test paper wrong answer answer sheet frustration light beautiful doubt confidence battery heart jealousy endless greed greed higher poet walk towards deep feeling feel dark night high give light whole body light horizon spread dream give anything world dream step give spread dream give anything world dream step give fear wind loud young night weak fear failure overcome loneliness bite teeth blow branch hard starlight night high',\n",
       " 'blue confession tear partner eternal love live live life stay street people thankful easy wish anything live life anything give please heart thank time sick love',\n",
       " 'postpone happiness today time wake false hope fight fight crazy competition habit wrapped frame anyone come wake hard false theory drive crazy sing song cap hand live echo make live round melody happiness manage dizzy world raise conscious come wake people play sinner matter anyone cooper cool come talk something people sing song cap hand echo make live round melody happiness manage dizzy world busy time break everything busy busy busy time break round everything busy busy please fool wheel time echo make live round melody happiness manage dizzy world ring',\n",
       " 'wake shoe foot look computer screen live cloud whole world party proper head full straight throat money coupon girl fraud buzz party rock love love love buzz buzz buzz donna play fair play anna game love later feel strong cause road love love love love love buzz buzz buzz stop pick name drop helicopter binary walk club anna fig vodka party rocket party dropped shut joke shut joke better hear love love love love love buzz buzz buzz love love love love buzz buzz buzz',\n",
       " 'knew club smile skin laugh fact wonder heard knew meet hold knew phone number honey much give phone need check something change password phone list clean everything fool cut baby weird honest angry phone something hearing voice home wait front door meet hold knew phone number wrong come wrong honest everything right stop tell baby please last thing person right handsome reliable wrong nice crime thing next guess funny hang honey something house meet hold knew phone number',\n",
       " 'hurt food know nervous self weird happy weird afraid resemble know nervous self weird happy weird afraid afraid sorry love sorry good love sorry keep afraid sorry difficult kind heart',\n",
       " 'straight hair start care worried natural habit something matter intervention sadness pain come breakup terrible thing break natural habit something something memory sadness pain breakup everything endure terrible thing break close tear open everything endure terrible thing break terrible thing break',\n",
       " 'fine used wild waste time trying figure plain game this hurting girl difference seen guess knew once start kissing mission knew donna empty heart soul baby rainy fade outcome stay mission start kissing mission knew start kissing',\n",
       " 'baby please baby heart need front house cafe right please call least world baby heart much memory baby please baby heart need letter last story short letter nothing nothing tear baby song radio song baby anna baby heart street crazy person place emotion thread sadness come side miss please nightmare baby listen song lady listen song baby listen song lady listen song please',\n",
       " 'live wake morning little little night used memory face time everyone cause slow pain hard time afraid everything afraid happen clear close afraid disappear point breakup mean worried many people time good listen today hard endure night clear afraid front afraid disappear world okay memorable memory hard hold time countless night find time',\n",
       " 'appeal appeal appeal appeal appeal appeal appeal feel appeal appeal appeal appeal appeal appeal appeal appeal sex lady appeal appeal appeal appeal appeal appeal appeal appeal appeal appeal appeal appeal appeal sex lady appeal appeal appeal appeal appeal',\n",
       " 'repeat word call call call answer nightmare fall asleep thin rain heart tear drying heart wind empty heavy shade heart dark alone memory ease everything babe fool baby sorry everything youevery night night yoooooou baby sorry everything youevery night night yoooooou friend yesterday yesterday forget loud noise ground regret cloud catch butterfly alone memory ease everything babe like habit baby sorry everything youevery night night yoooooou party time party tonightdan dandin dandin party time baby better everything youevery night night yooooou baby sorry tonightbaby city city love lighting city city love lighting city city love lighting city city love light',\n",
       " 'beautiful beautiful beautiful beautiful beautiful beautiful beautiful look beautiful today head yesterday shoulder look fool sang beautiful beautiful beautiful beautiful beautiful look beautiful word sound lagging hear knew world hurt time hide show body world break fool fool head knew everything younger tear sigh beautiful beautiful beautiful beautiful beautiful look beautiful beautiful beautiful beautiful beautiful beautiful look beautiful thank smile beautiful beautiful beautiful beautiful beautiful look beautiful beautiful beautiful beautiful beautiful beautiful look beautiful beautiful beautiful beautiful look beautiful',\n",
       " 'careless careless anonymous anonymous heartless endless care blind choice endure close mamma answer people beautiful time forgot love busy flesh jealousy anonymous mask hungry satisfied able communicate painful reality tear change change mamma mamma certain point smart prison digital version personality life warmth language trash desolate field loneliness increase help human meet hold hand alike connect able communicate painful reality tear change change mamma mamma turnback kill help mamma mamma mamma mamma mamma split side game help mamma mamma mamma careless careless shoot anonymous anonymous heartless endless care life thank relationship broken heart happy smile able communicate painful reality tear change change mamma mamma careless careless anonymous anonymous heartless endless care',\n",
       " 'listen sleep today toss wake case hidden deep draweryou happy heart ache face hate much miss unbelievable tired heart need killer killer killerpain killer killer killerpain killer killer killerpain killer repetition guess breakup know bruised heart forever afraid remember deep crazy hate much miss unbelievable tired heart need killer killer killerpain killer killer killerpain killer killer killerpain killer ease time everything precious special special everything matter hard hate much miss unbelievable tired heart need unbelievable pain killer killer killer killer need killer killer killer need killer killerpain killer',\n",
       " 'nothing empty fill hair heart grow different love afraid forget everything everything best ease everything sick ease hard memory heart thing give everything time resemble much time glad touch heart thank please love everything best ease everything something glad',\n",
       " 'night night door little baby helpless something night hidesall thing little black butterfly deep inside youth say hurt way feel guilty themention name perfect youth say hurt way thing girl thing control thing girl youth say hurt way',\n",
       " 'sorry break love want keep thing thank give love become stranger love want keep thing love love okay painful love ease fate love',\n",
       " 'beautiful excited beautiful beautiful heart towards beautiful wonderful beautiful love nervous beautiful fall pillow talk heart beautiful beautiful beautiful heart towards beautiful wonderful beautiful love nervous beautiful fall night dawn pure innocent please wait listen heart tomorrow beautiful wonderful world beautiful beautiful wonderful hope beautiful excited beautiful beautiful heart towards beautiful wonderful beautiful love nervous beautiful fall asleep',\n",
       " 'right curiosity meantime funny manner devil devil cell phone letter girl mind disgusting perfume nose explain meet someone horrible habit better better attention become better devil devil funny manner devil devil steadily side look girl super playboy raise head funny manner devil kick forget hold turn interest better half wide world cool look',\n",
       " 'today today break sorry anniversary today people head today shout louder something good okay tonight beautiful louder moment wood today crazy recognizes today hard time everyone happy today shout louder something good okay tonight beautiful louder moment protagonist world trust trust everything today shout louder something good okay tonight beautiful louder moment',\n",
       " 'listen transparent raindrops behalf love song couple small umbrella street walk hand whole body warm spring rain dream wherever touch time today reach raindrops close draw shoulder nervous self guess path meet look warm spring rain dream wherever touch time today reach raindrops tears person lend rain heart flutter rain approach talk today friend knock shoulder confess today',\n",
       " 'fill wallet restaurant someone something funny machine outside look person someone someone someone place choose outfit someone birthday happy birthday someone someone someone someone fine kind self much sick crazy heart forget live heart',\n",
       " 'love gutta stay true moral knee please playing game good knew gutta stay true moral knee please playing game good knew mercy release mercy release release mercy wont release mercy release mercy mercy wont release mercy release release release mercy mercy mercy release release release release release',\n",
       " 'empty glass hour much walk walk place memory spent time today today heart heart anyone long time drunk hoobae sorry front house time today today heart heart someone shoulder forget narrow heart seat guess hold come worse place need side wander everything world anything',\n",
       " 'pushed push kind third class novel land name more land domo guard domo guard event vain dream water much copy much open history book ridiculous vain wish dream mistake past lower head domo southeast route ulleungdo island ulleungdo island doksori southeast dokdori push domo undo island going fact second annals awesome caught taejeonggwan order reveal japan domo open debate anything truth copy much open history book ridiculous vain wish dream mistake past lower head domo southeast route ulleungdo island ulleungdo island doksori southeast land star land star dokdori yongbok name person general island name next crush open mouth everything upset wait wide open ghost domo island more ulleungdo island doksori southeast land star land star dokdori',\n",
       " 'wait moment smile precious first painful finger someday something keep hurting afraid hold hand first time able tomorrow human impatient life reach last moment someday something keep hurting afraid hold hand coincidence living closer look',\n",
       " 'change sorry listen crazy something caught fool perfect play waste sorry guilty reason face fact nice faith jerk give others stop truth hurt nothing truth horse mouth heart poor love tired loan neighbor next door shout shout front look change sorry listen crazy something change film novel different first place sick love tragedy comedy take picture sound everything love sick good annoyed thought dinner today cruel word look langham dear please swim know love change sorry listen crazy something trust trust trust fool white piece paper know laugh laugh heart fool white piece paper change sorry listen crazy something',\n",
       " 'work front crossway mind wood breath love half side love give time breakup give injured memory love wood half side half hidden heart finish half please today wood half live place place single love love',\n",
       " 'hard lean tear stop lend shoulder light heart dark heart second lean hesitate anything alright alright heavy afraid tomorrow fall asleep lend second lean hesitate anything alright interested feel hold loud okay collapse alright',\n",
       " 'person nervous afraid nervous kind call love brave flower petal frozen wind live anyone case nervous call love brave flower petal frozen wind come pray hesitate fine someone side love protect call flower petal frozen wind',\n",
       " 'moment something special feel heart butterfly banana wind wind approach white heart start anew admire good friend heart wait point speed soothe heart flower banana butterfly nervous voice white heart start anew admire good friend heart wait moment side achieve wake dream banana nabilera someday create wide future start anew admire good friend heart wait',\n",
       " 'check long time head look today year feeling frozen today countless coincidence side countless thing person miracle collar heart white baby girl hand slippery steps feel world vision full everything perfect countless thing person miracle collar scene chance best body perfect timing approach cover nothing wish stop time baby dream true girl shoulder step wait thought meeting okay look countless person miracle miraculous tonight collar heart white baby look',\n",
       " 'walking tired dream first step friend side point reality world young world spread narrow side road slope fancy pure dream handful hand hope start time hide barrier dream world young world spread narrow side road slope fancy pure dream handful thing hand time hand true small hand foot young world desperate happy dream handful hand hope clumsy step world unfamiliar encounter everything true future',\n",
       " 'cracked heart sigh little little flower heart love kill tear penetrate heart black hell fall kind behind heart desperately life light world gutta young gutta young heaven destiny hand long breath burn soul kill sick blood dangerous shadow kind behind heart desperately life light world gutta young gutta young dedicate protect crisis opportunity best choice stop light world wait gutta young wait gutta young gone anna',\n",
       " 'door world open inside step shine open world welcome approach stay world everyday heart flutter dream fearful tremor laugh approach stay world feel world close hold hand world change need',\n",
       " 'sleep work hard hungry concert tomorrow penza studio gotten year life many people attention many schedule many music many conversation many many thing slow stage sweat sweet favorite song thankful people anything care anywhere phone answer call phone sorry answer call quiet street something neighborhood song speaker taste clumsy personality change comfortable summer warm winter warm winter soul smaller season disappear everyone course obvious place world change change everyone little caleche everyone change anything care anywhere phone answer call phone sorry call loud light speaker greed candle initial resolution nervous mean much boil know look know look know tired lock dirty room people cheer applause yesterday take path trip today last line lyric drawing mole',\n",
       " 'something empty empty place heart beautiful world half past rest life dream love spend time deep heart sadness seat rainbow life promise moment everything house heart many front everyone hold hand spend time past make time memory love spend time',\n",
       " 'christmas suit thank special gift christmas song year white snow feel alive hope happen dream possible dream winter sunlight voice carl hear thank reason winter special want christmas song year white snow feel alive hope happen dream possible dream miracle jingle bell winter warm song sang year white snow feel alive hope happen dream possible dream',\n",
       " 'breakup different good memory ease everything show painful memory everything mean curse long time hope hope forget countless night memory hope loved beautiful hard forget easy memory heart long time nothing hard heart exist hope hope forget countless night memory hope hope hate memory love breakup stop pain hate hope forget countless night memory hope hope hate memory stop memory certain point someone',\n",
       " 'focus driver stair loss look ground road look blue predict hide regret sigh come return hope morning backwards distance house measure rest start something much waste spill shoe hole dream family earphone turn music brick wall streetlight alley push stone lead familiar smell familiar sound moment next door bark black blue night foggy walk road breath rest think hard today cover blanket asleep time want sleep bend climb uphill road stew afar quiet laughter mess outfit blue light light happiness small complaint happiness small complaint wall streetlight alley push stone lead familiar smell familiar sound moment next door bark black blue brick wall streetlight alley dark moon night family face familiar smell familiar sound half asleep warm breakfast today front',\n",
       " 'dream moonlight night memory person flower wind feel warm scent short relationship everything afraid ease blue horizon walk hand feel warm breath destiny stay breathe afraid ease blue horizon walk hand afraid ease blue horizon walk hand',\n",
       " 'sectional look wound heal look uglier face guess make funny right funny mistaken guess handsome handsome feel anything baby peekaboo talk baby baby baby baby baby baby baby baby baby baby look whole body body proud good want funny right witty mistaken guess handsome handsome feel anything baby talk make guess jealous handsome feel clothes price people unfair gong dyeing anything tease please nice smell play play role prince mistaken guess feel anything baby peekaboo talk baby baby baby baby baby baby baby baby baby time baby baby baby baby baby baby baby baby baby',\n",
       " 'thing year thing best worst thing girl front house call rrrr answer come little angry quick panic disorder little longer person look light tongue curse hell hell stupid person pathetic goodby goodby adieu girl girl good baby good baby good baby good baby girl girl good baby good baby good baby good baby adieu girl trust promise time change repertoire someone excuse dirty tongue puppet marionette sick girl ordeal help holy hurry finish byungshin year year chicken hashtag girl hashtag year year year year year stupid person pathetic goodby goodby adieu girl girl good baby good baby good baby good baby girl girl good baby good baby good baby good baby girl thing year thing want meantime best best thing fact much time',\n",
       " 'winter think today okay dream come cold winter closed imagination smile past memory capture like transparent winter heat warmth fill kiss winter heart time touch time sweet sing winter copy winter feel next open winter empty next fantasy hear time forgotten please transparent winter heat warmth fill kiss winter heart time touch time sweet sing winter copy winter winter winter winter time transparent winter heat warmth fill kiss loved heart everything winter heat warmth fill strong wind blow anything warm wake time melting time moment girl winter heat',\n",
       " 'film camcorder moment umbilical cord miss feel everyone miss film camcorder single piece lose fall asleep diary record sleepwake closet look make sure please miss single piece lose remember time happy share nothing nothing precious baby single piece lose',\n",
       " 'feel empty street fill heat boundary break point trigger brake everyone face scream towards long wait light fire moment start engine game talk talk wherever talk talk talk talk everyone making noise friction sound line heat moment road feel empty street fill heat boundary break point trigger look riding rolling baby riding rolling baby right fill something whip hesitation handle body roller coster step accelerated explode gutta control racingtill talk talk word talk talk moment explain speed towards everyone limit burn road tomorrow energy heart explode throw reading record break break change time shoot world look rolling baby riding rolling baby right fill something look world front story dream road roll full road light stay noah noah path switch lane path rush hour energy heart explode throw reading record break break change time shoot world look rolling baby riding rolling baby right fill something',\n",
       " 'think face star bright drop head cross black night closer open heart many time number star point fill dark night light today dream cast spell dream able dream face shine distant dream fact long time star dream lose breath come breath many time number star point fill dark night light today dream cast spell dream able dream admire dream night night soak many time number star point fill dark night light today dream cast spell dream able dream',\n",
       " 'today empty mind hear someone fool sure confidence forget much sick guess love sure confidence forget much sick guess even time pass yesterday kind funny love least friend love guess',\n",
       " 'music help lose breath free free melt sick keep break reason dangerous pain star babe babe rush mind test call hell earth mane dark black hole torn clumsy control sugar drug crime punishment beautiful devil reason love strong flame strong strong flame star color whole body deep purple scent high wide high love face matter anyone fall love star flowing music',\n",
       " 'time silence spread break hope miss like hope cold heart hand good memory heart step step purple cloud fill head light surround break hope cold heart hand good memory heart step step little longer noisy heart tear cold heart hand good memory keep heart step step',\n",
       " 'today chronic small night beautiful star dream piece dream love yesterday much heart flutter want countless hour hugging close capture moment write happiness smile cheek heart brightest breathe piece dream love yesterday much heart flutter want countless hour hugging close capture moment write happiness young everything heart world heart today everything gift moment last right special trip write happiness',\n",
       " 'rainy gordon fantasy dream moment please flower blooming desert anna tonight side season time life short shelter cool heat anxious future sadness pain dark come fine alright afraid night loneliness breathe protect rainy anythingdon wind please',\n",
       " 'morning close habit open count something movie sigh count forget forgotten repeat everyday confidence forget busy nothing best late night wind little memory forget lyric hear street sound story crazy hear living late night wind little memory faint whisper memory next loved forget love time easy hard happy memory memory push next count habit today',\n",
       " 'someone things things kick swinging bruce bruce bruce leeshimmy shiny shiny fire fire stage right bruce baby understand anything story dark yesterday today voice need louder shout trauma baby squad spread right left right things things things birthday kick marat roof space right bruce long bruce drip fear popping moving feet june block samuel jackson work baby gutta watch enter dragon movie martial everybody action movie knock mercy bomb donna kick bruce scene break yesterday trauma baby squad left right things things things right bruce long bruce world imagine dramatic scene deep world unfold front hold darkness left right things things things birthday shiny shiny fire hookyshimmy shiny shiny hook maroon roof space right bruce long bruce bruce',\n",
       " 'face rich world fair work hard success everything fine year package arrive pale baby sanggudu hair grow right today tomorrow goal year release hope album mode world tour habit plan chop mouth sleep earn marriage life medical check raise hand golf wishlist give love winter jacket sorry santa good time heard young life live sang yanghwa gideon term mistake gangdong basement skateboard parking film camera lacks hongdae flower calendar year last long time next time sangsoo everyone busy shutter solitary chatrov year river water life mission view river semi basement smile towards tomorrow waste time stop coming town next year best hope become past straighten shoulder head love world master fitness shout dingy huckleberry nucksal wonjae hyoeun everyone next year package arrive pale baby sanggudu hair grow gideon leave abandon season change time year honey moment calm mind light blue light havana nothing lose romance positive vice propagation year probe hero story choice life mine matter anyone happiness fact share inner self rich cold heart warm cool friend call album heaven christmas christmas love coincidence reason date winter warm money people today january kind image next year hope hope much money look song need small head left course taiwan dingy call need feel year olympic hall preparation park jaebeom make money break gentle arrive pale baby sanggudu hair grow gideon hyoeun laugh wonjae nucksal please drinking huckleberry happy great movie director first place work punch',\n",
       " 'yesterday anything special think anything different today hard time endure heart content live life night live life anything combine empty head heart thoughtless happen combine place tomorrow different wait fall live life open dark meaningless life rest dream anything combine empty head heart thoughtless happen combine place tomorrow different wait fall everything anna tear feel combine empty head heart thoughtless happen combine place tomorrow different wait fall asleep',\n",
       " 'different memory time meaningful everything understand taught first time sick scar everything ease selfish love beautiful much hurt love easy preparation breakup effort obvious everything hate first time sick scar everything ease selfish love beautiful much hurt crazy somehow sort thing tear drove crazy ease everything beautiful breakup love miss',\n",
       " 'long time long time was namyangju doksori pocket nothing mother full front rich gold rich give future trade moment life dream moment rest life college drank world hate best shed tear room yeouido tear taste different wish wish night time drunk cringe worthy hand wish wish night religion guess someone grant ssammai life cap tonight sense woke time last train house feel okay walk girlfriend express italy worry study give payment first secret told people market secret well dreamed life dream moment rest life college drank world hate best shed tear room yeouido tear taste different wish wish night time drunk cringe worthy hand wish wish night religion guess grant wish',\n",
       " 'glass makgeolli town youngest sick tooth father father better person bracket hand glass makgeolli reminds bull living whole place suffer want live nail heart comfort glass makgeolli glass makgeolli work bull living whole place suffer want live nail heart comfort glass makgeolli glass makgeolli',\n",
       " 'pain want wait fault time stay comfort first time felt alive wait fault time stay comfort first time felt alive stay anymore comfort first time felt alive',\n",
       " 'place feel nervous heart ease hurting anxious time want side closer heart ease everything tear happiness hard time love different hope fond memory heart little tear please wipe love',\n",
       " 'wind break look last month time stop world hope reach night everyone asleep come prettiest voice world love deep heart small gesture smile someone world hope night everyone wait please different world look star night world hope',\n",
       " 'pillow fragile truth door open window time want guess ship night night night ship night night night best friend feel river mind anna head heart tonight wonder good true guess ship night night night ship night night night',\n",
       " 'alarm early morning anything time everyone anyone call night open longest time wanted remains heart sentimental night hurt much true time yesterday memory miss true night today come time time nothing reminded time regret night hurt much true time yesterday memory miss true night today thought fact right guess something right face something heart memory brave time',\n",
       " 'black night light happy anything comfortable guess people shine hard thank world sure miss time excitement look precious long time know nervous understand sick midst tough fight world sure miss time excitement look kind relationship happiness dream clear',\n",
       " 'fierce left season okay full phone friend hear start different love precious point stranger guess live good life guess hard time hear hope sorry think heart comfortable someone next unfamiliar selfish precious point stranger guess live good life guess guess honest good love heartbroken happy sure smile feel guess guess hate much please happy please care good person night night late guess nothing',\n",
       " 'iron iron everything hungry hungry cook time hasty confession thought frozen front answer plaster second second second rrrr year year year nothing worry hesitate know hard know hesitate hard thoughtful time honey bitten biceps pick person line give spoon rice scent spring look frozen front answer plaster second second second rrrr year year year nothing worry hesitate know hard know know hard know',\n",
       " 'today hear last thing sadder open pain little smile feel time pain little late loved moment memory everything tomorrow clumsy heart remember shyly everything little late loved moment memory everything tomorrow meet someone person meet passing stranger fall someone smile',\n",
       " 'look good look busy nothing nothing worry person nothing worry comfortable hard time comfortable thought guess spread droop shoulder unusual love problem forgive think comfortable thought guess spread droop shoulder left danger angry everything problem crazy many thing heart hate able turn',\n",
       " 'rainy street umbrella rain reminds habit side protect girl high habit good person promise anyone bruising word heart wish sound footstep want asleep shoulder anything thank good person promise anyone bruising word heart wish sound footstep want miss matter many time shout guess reach guess afraid call fool cherish much miss wish sound footstep want',\n",
       " 'matter mind text message goodby face face good year heart remain warm thing good breakup world step step forget forever step step backwards time disappear forget hide pain great pain love possible first time life paper sorry time word youth name year heart remain warm thing good breakup world step step forget forever step step backwards time disappear forget next right make loved sick memory warm wish step step forget forever step step backwards time disappear forget forever step step forgotten break heart someone next',\n",
       " 'matter mind text message goodby face face good year heart remain warm thing good breakup world step step forget forever step step backwards time disappear forget hide pain great pain love possible first time life paper sorry time word youth name year heart remain warm thing good breakup world step step forget forever step step backwards time disappear forget next right make loved sick memory warm wish step step forget forever step step backwards time disappear forget forever step step forgotten break heart someone next',\n",
       " 'story deep heart call longing heart hard push much story deep heart call longing heart season heart ache crazy story deep heart call longing heart know reason please time ease clearer',\n",
       " 'stop closer stop flower windy wrong people spring sense wrong spring breeze blow moreflower sunshine wish cherry blossom side stick spring pass everyone disappear look wrong people spring sense wrong spring breeze blow moreflower sunshine wish cherry blossom side stick spring pass everyone disappear spring come feel spring breeze right next fall tell need want side stick spring pass everyone disappear look',\n",
       " 'cold warm sunlight night stop excitement hasty love breakup hard pretend sick thinking want admit cold tone fine fine love forget hard pretend miss sick memory hold past hated wait much love sorry hard pretend miss sick memory breakup',\n",
       " 'love true calculated number situation favorite song falsetto control careful favorite song indifferent sang song sang imagine reaction better logic nature bird love song open possibility complicated heart many month karaoke hobby favorite song okay sang song sang home chance karaoke follow walk nervous fine anything right home late night cell phone sleep home song song',\n",
       " 'resembles cold winter cold heart ache cold cold spring come cold cold full anxiety cold love dagger heart clumsy expression emotion crude cold sigh becomes feel cold tear snowflakes froze warm smile petal either heart cold spring cold give time point season street point smell nothing cherry blossom resemble fall shameless spring rain resembles sigh winter breeze spring time memory time memory cold spring cold happiness flower world stay frozen tomorrow handle hard breathe cold cold happiness resembles cold winter cold heart ache cold cold',\n",
       " 'long time modest person side nice person love country today tear thought answer feel reason anything happy answer hear today tear thought answer feel reason love love prettier someone everything today happy feel sorry word sorry sorry',\n",
       " 'season winter summer whole world spring shakespeare play love last guess something world winter summer cold season love night worn rust shine season world winter summer cold season love turn good need season winter summer whole world love love',\n",
       " 'head switch something turn breathe habit easy call drunk house think happen picture news search something someone hope call drunk come house think happen picture news search regret silent tear numerous anniversary name voice forget everything sleep forget everything sure miss today nothing nothing',\n",
       " 'look concern beautiful heart listen everything love anyone gift sick everything love smile okay comfort give moon gift hand anyone gift sick everything anyone gift sick everything much anyone gift sick everything give everything love',\n",
       " 'home flower smaller span little heart fall rain freeze worried young word heart moment happy course wind heart small seed sunlight shine take care water heart heart moment happy course think want moment heart moment happy course',\n",
       " 'good show brightness news people hear spit face smile next right happier much anxious drink alcohol increase short friend welcome kind meeting true catch much anxious drink alcohol increase',\n",
       " 'electroboyz bravesound someone second street night morning baby girl miss kiss deeply girl ease word making change person good condition simple forget lock thing fraser ease someone second street night morning baby dirty know rainy street know shot somebody call doctor useless medicine light turn light darkness heart life endless question mark baby miss miss someone second street night morning baby pain know pain greater stay stay girl stay hard smile girl someone second street night morning baby',\n",
       " 'long time turn honeyed flower separate someone like female people curious skirt world half male half female someday heart sick woman soft cotton candy good everyone reduces separate someone like female people curious skirt world half male half female someday heart sick woman wonder woman curious girl life please front distant future someday woman approach kiss heart wolmido heard relationship neighborhood look someone girl',\n",
       " 'mess hair heart miss girl help memory sleep sleepless night love love throw love smile remember mouth expression look mirror stranger hear voice love throw love love forget love remember love love love',\n",
       " 'hand head forget painful heart familiarity cover hand color familiarity love escape love love love escape love fingertips wound throat heart love escape love colored',\n",
       " 'love sorry right approach room give heart hard live much warm word dare wish push heart thing tear luxury look look heart reach breath warm word dare wish push anyone world love endure hand afraid sleep hard time heart thing',\n",
       " 'cover mouth busy stomach everything role money power honor role time strong weak break board revolution guernica everyone head justice world money shadow powerful weak stop power power front raise head power fight face look ready everybody hate hate everybody hate shot tyranny cover light shot look devil pretend shot mask justice shot rhythm break stereotyped anyone knowing time move crowd action create wind world weak passion pretensions world character survive come smile trample young soul stop power power front raise head power fight face look everybody hate hate everybody hate bomb bomb bomb bomb nananana balaga bomb bomb follow bomb bomb balaga power power front raise head power fight face look',\n",
       " 'filled sadness give love love fill heart tear live love remove tear sorry thankful love love fill irreversible scar cover deep tear live love remove tear',\n",
       " 'music life music life music life sunshine light hard time everything collapse thing music music tough world endure music music music life music life music life music life music life sunshine light piano front talk pain guitar liked music music life music life music music life music life music music life music life sunshine light someday chance listen song front great people hear heart burst music life music life music life music life sunshine light music life music life sunshine light sunshine light sunshine light',\n",
       " 'promise moment throw everything choose path fate deny beautiful life gift path hard life rust short time drunk door nothing last fate deny beautiful life life relationship long journey',\n",
       " 'wind sigh shake hurt heart love tear call sick smile much memory love breaking love clumsy heart tear dream much time forget okay sick much love memory hate cold heart weak gaze love smile laugh heart regret much love endless memory',\n",
       " 'want child miss romance rain warmth rain remember lovely rain watch rain rain rain last word last word love',\n",
       " 'love know world live happen right time delay little miss past today kind fast mirror much sweet dream heart stayed night reason high world live happen trust time smile delay little miss past situation begin traitor faith judy temptation promise sharp path channel cover face okay enough memory beautiful memory love world live many right love someone beautiful unknown life someday love love ready greet person future pray many someone mysterious life beautiful mysterious life beautiful',\n",
       " 'felt sorry sorry help afraid feel case refuse protect different weight weigh heart good friend mind heart okay know resemble fate afraid trust honest hidden heart different weight weigh heart different weight weigh heart good friend guess',\n",
       " 'girl girl girl girl girl baby baby girl today hair hard today hard girl girl girl girl girl girl baby baby baby girl girl girl girl girl baby baby baby girl today hard girl person small coin pocket hard girl girl girl girl girl girl baby baby baby girl girl girl girl girl baby baby baby girl moment tonight want make strong show moment tonight crazy night dance night home tonight girl party tonight crazy night dance night home tonight girl party tonight girl girl girl bring girl girl bring girl girl bring girl girl girl',\n",
       " 'know anna then baby come lead tonightbaby pick complete honey scold look thinking afraid love much obvious tease lata lata move baby friend horn bring want lean you love lovely heart heart baby lead tonightbaby pick complete honey scold talk reason count morand need bound night want front raven happy open raven everything love lovely heart heart baby lead tonightbaby pick complete honey scold baby pretend hold hand please come lead take tonightbaby complete honey scold baby lead hold control baby baby mug kiss baby complete hold control baby baby mug kiss',\n",
       " 'beautiful memory much sleeping face kiss forehead najeumaki hate break love love door frosty morning morning koteugit whistle blow timely manner najeumaki',\n",
       " 'type type type head type wait mind right fall speaker thin ankle perfect harmony blue skinny jean underneath bigger cardiac look hair smile look pretty heart show type delicate smile lawless time perfect cut voice closer appear type type head type wait mind right fall girl something learn harsh tone work walked spit word bosswonder woman version femininity feeling delicate touch awkward gesture babe smile look lawless time perfect cut voice closer appear type type head type wait mind right fall time time style wavelength heart full emotion call girl type type type head type wait mind right fall time time style time time style',\n",
       " 'true obey dovey true obey dovey okay dovey huge house dream year magnificent busy honey mind wait money friday front blue light cheese cake year round live event event confidence talent celebrity student much spoon look golden spoon hospital vision choose money honor hesitation everything sweep play much want true obey dovey true obey dovey okay dovey naked piece clothing relief touch music sure full warm artist rapier beat maker watch reward tongue sleep imagine anything attraction shyness quality model star watch learn jerk lyric colored glass dimension bite flock shit flower field sell yuma food crazy jealous choose money honor hesitation everything sweep play much want true obey dovey true obey dovey okay dovey stole take stepan going obey dovey london kind idol hope young greedy obey dovey true obey dovey true obey dovey okay dovey',\n",
       " 'dumb dumb dumb dumb dumb dumb dumb dumb dumb dumb dumb dumb dumb dumb dumb dumb dumb dumb dumb dumb dumb dumb dumb dumb dumb dumb dumb dumb dumb dumb dumb dumb dumb dumb dumb dumb dumb dumb dumb dumb dumb dumb dumb dumb dumb dumb dumb dumb thinking baby baby baby baby baby play play reply play gaze dizzy rational sens baby baby baby baby crazy crazy crazy crazy crazy doll everything usual dance start listen dumb dumb dumb dumb dumb dumb dumb dumb nervousness heart dumb dumb dumb dumb dumb dumb dumb dumb dumb dumb dumb dumb dumb dumb dumb dumb dumb dumb dumb dumb dumb dumb dumb dumb dumb dumb dumb dumb dumb dumb dumb dumb dumb dumb dumb dumb dumb dumb dumb dumb dumb dumb dumb dumb dumb dumb dumb dumb dumb dumb romantic movie love hand sweat time baby baby baby baby baby crazy crazy crazy crazy doll everything usual dance start dumb dumb dumb dumb dumb dumb dumb dumb dumb dumb dumb dumb dumb dumb dumb dumb dumb dumb dumb dumb dumb dumb dumb dumb dumb dumb dumb dumb dumb dumb dumb dumb dumb dumb dumb dumb dumb dumb dumb dumb dumb dumb dumb dumb dumb dumb dumb beat michael jackson willie jean ambiguous reaction black white give mirror anna trip mischievous scream wrong true love good thrilled cut younger brother root everything breathe dumb dumb dumb dumb dumb dumb dumb dumb nervousness heart dumb dumb dumb dumb dumb dumb dumb dumb dumb dumb dumb dumb dumb dumb dumb dumb dumb dumb dumb dumb dumb dumb dumb dumb dumb dumb dumb dumb dumb dumb dumb dumb dumb dumb dumb dumb dumb dumb dumb dumb dumb dumb dumb dumb dumb dumb dumb dumb dumb dumb dumb dumb dumb dumb dumb',\n",
       " 'fresh place look little hope lonely lonely fresh place relationship best love know meet lucky comfortable cool movie drunk time comfort night enough time hard breakup thing small smile make good thing feel comfortable change time like memory right tired thing smile fresh place look little hope lonely lonely fresh place life raven water polished sofa fall asleep watch drama movie time turn phone sure tomorrow farewell cold peace scar night long silence normal fullest tear tall building night light breakup breakup emotional fine breakup breakup tear fresh place look little hope lonely lonely fresh place fresh look little fresh look little',\n",
       " 'month break friend someone glass breakup fuss heart full happened come news honest hard afraid leak name joke happened common breakup story thing case funny word happened',\n",
       " 'everything much turn sleep people phone many contact lonely time energy thing decrease mountain sigh look forward daytime lean rest youth many thing talk bitter smile someone time feel hard sigh look forward daytime lean rest youth understand hard time hold know side daytime lean rest youth understand understand understand understand',\n",
       " 'interested people caleche word time aware drunken confession courage share become think familiar scene dejavu feel funny epicenter novel crisis process temperature relationship weird wrong excited impatient stay usual feeling moment different time baby place give lift normal action expression different ideal type beam lift normal feel excitement love obvious nickname phone text message better match honey dejavu side beautiful worried become person heart overnight different time wrong bigger impatient stay usual feeling moment different baby place give lift normal action expression ideal type different beam lift normal feel girl fool honest afraid change self defense thing tell comfort childish child baby place give lift normal action expression ideal type different beam lift normal feel',\n",
       " 'smaller meaningless meeting tear sound guess want make happy someone know sure happy fact common love today last time first time tear sound guess want make happy someone fact common love today last time first time small fight breakup heart trivial expression word sure thankful fact common love today last time first time last time',\n",
       " 'fall dreamer burning fire heart something able withstand passion girl tomorrow immature give thing proud hand point super rook style whole floor bumping world easy melt company colleague james bond suit salary sweet bass line dream wake wake wake wake everybody stand shout crazy everybody stand shout crazy shout enemy caught anxiety fearless everyone afraid failure wake wake wake dream rest life ground ground rise steel mind time people dominate frustration uncertain future think dream imagine mouth resolution loud universe dream wake wake wake wake everybody stand shout crazy everybody stand shout crazy shout enemy caught anxiety fearless everyone afraid failure wake wake wake dream rest life ground ground dream wake wake wake wake wake everybody stand shout crazy everybody stand shout crazy shout',\n",
       " 'hand cold heart cold coffee cold coffee street cafe coffee drinking bitter warm hand coffee scent time touch mouth coffee everything hand cold heart cold coffee cold coffee warm color know coffee coffee coffee coffee coffee coffee coffee coffee coffee coffee break wait raise head talk fall coffee sorry coffee warm hand coffee scent time touch mouth coffee everything hand cold heart cold coffee cold coffee warm color know coffee coffee coffee coffee coffee coffee coffee coffee coffee american american hand cold heart cold coffee cold coffee warm sweet coffee coffee last time bitterest coffee meet spend coffee look coffee small face black',\n",
       " 'better everything give world adult taste alcohol habit becomes reality strength foundation quit want felt proud husband right choice evil stage right people finger anything front spoiled reflection black world color anything home overcome reason time better something something prettier child born anything happy father grow guess many generation green onion month chatham give year full time weight decrease calm reflection world nothing home overcome reason time better world everything dream true nothing want heart empty back home overcome reason time better back home overcome reason time better better',\n",
       " 'unbelievable sunny last night distant dream fall breathe thank much heart call sweet kiss love pretty story promise everything feel afraid thank much heart call sweet kiss love pretty story promise change side close face anything happy dream tell trust love',\n",
       " 'true cheetah music moneytwo everyone talk night light song power right next life music decide work something experience life dirty thing punishment music live thing future doubt people know long time destination force everything music life rest dizzy room music music music music money show trouble problem maker puzzle cover nothing answer nothing lose heard night uncertain future judge life true type vice bishop life family everything music cold wind black queen incredible positive fabulous serious brown make life mind sonya voice beautiful life music music music music music know music cheetah truly music know music music music music music moneytwo everyone talk',\n",
       " 'guess enough hating farewell worse love corner welcome stumble think curse night morning much everything hate finish enough shake people forget world everything hate finish love grows sense life heart much everything hate finish enough forget everything much love hate finish love grows sense forever',\n",
       " 'guarantee place good feeling spotlight shine longer bridge higher darker make confidence friend suspicious right forth reed anna awesome girl girl crush cool girl crush color lipstick backside apple girl crush cool girl crush cash money enough money girl crush popular cut sexless highlight sweet expression thanks longer bridge higher darker make confidence friend suspicious right forth reed anna awesome girl girl crush cool girl crush color lipstick backside apple girl crush cool girl crush cash money enough money girl crush hard honest different woman breaking girl attention others lack affection fall forth reed anna awesome girl girl crush cool girl crush color lipstick backside apple girl crush cool girl crush cash money enough money girl crush love',\n",
       " 'cut pretty pretty look cut cut pretty pretty look cut gene right spacejams everything hashtag less sex taxi swallow winner competition ronde roused call strong unna strong everyone wear wear happen matter much curse people cut pretty pretty look cut friend call city flowsikbut wicker personality tower tell thebaddest seniority obvious anything cause okay call strong unna strong everyone wear wear curse curse people cut pretty pretty look cut judge moment popular matter judge matter performance popular wear curse curse people cut pretty pretty look cut',\n",
       " 'warmth touch fingertips voice fingers long time countless night heart afraid apart word dream honest scared witted heart bigger afraid hurt afraid hurt swallow tear stop dark dream chest honest scared witted heart bigger afraid hurt afraid hurt swallow stop narrow come empty spot please know slow heart bigger afraid hurt afraid hurt swallow tear hard word love',\n",
       " 'feel fact side face picture past last sudden feel sorry matter much smile smile forgot fine tear want feel sorry matter much smile smile heart hard time good people comfort happy feel sorry matter much smile smile',\n",
       " 'hello baby night hold night baby lotion nose nerve lunch midnight today girl turn midnight phone anna cinderella baby drive crazy crazy cinderella night tonight longer baby somebody help somebody somebody somebody somebody somebody somebody somebody carpet front house princess princess wolf meaning worry disappears today turn midnight phone anna cinderella baby drive crazy crazy cinderella night tonight longer baby somebody help somebody somebody somebody somebody somebody somebody somebody curious beautiful want dangerous love feel night somebody help somebody somebody somebody somebody cinderella green light turn baby cinderella night tonight longer baby somebody help somebody somebody somebody somebody somebody somebody somebody',\n",
       " 'others situation know become regrettable catch open window case hand minute second think indelible number ease catch hate anything situation cloud body listen dizzy drunk sober medicine weak night everything think indelible number ease catch hate guess guess sends crazy pathetic friend indelible number ease blandly treat phone word high indelible number ease today wait magazine wait',\n",
       " 'want sleep call forgot snack wanted live lazy hate goodby erased text message many time first bring person married sure headache married sure thinking headache live call movie want sleep make soap hate tell goodby erased text message many time hate hate turn married sure headache married sure thinking headache headache good guess front breakup someone worse please curse tell sure thinking headache married sure thinking headache married',\n",
       " 'loved please cover please dark life people precious please cover please today painful song please cover please choose world money thirsty love night forget resolution resonates anything listen song please love thinner loved please make block pride crazy become heart lose world laugh pretending normal last song singing song please',\n",
       " 'next year year turn pure want love miraculous love tall anything thing married little late couple time happier happy hard nice person love happy love nice person fool front love worry concern lower level feel careful stubborn marriage reality life love fool happy hard nice person love happy love nice person fool front cheer bachelor dream marriage love happy love nice person fool front love',\n",
       " 'bright stabbed horny word tattoo deeper music flame baby sadness other break come come come addicted miss miss prison guess music flame baby sadness other dance deep baby sadness other please loved break come come come time',\n",
       " 'song street familiar song close blandly play song want hear joke make expression smile song feel played blandly picture heart play song time street memory heart matter much cover fool forgotten everything nothing walked street song grab ankle memory keep heart towards memory thorn play song time street memory heart matter much cover scream fool hear time change left song tickle memory stop wiping heart catch memory time deeper deeper song walked street hear familiar close clearer comfort cover song hear someone turn song play song time street memory heart matter much cover fool play song today street',\n",
       " 'hold several time habit phone dozen time guess hand angry welcome kind thing drank upset sorry drunk upset drank know number reason number call drank miss sorry drunk upset drank hang point wait wanted drank drunk forget pathetic pitiful drank upset',\n",
       " 'heart guess heart love pass person miss world live wait meet thought survive reason tell live wait meet thought afraid disappear smoke afraid live person live thank tear happy miss live love',\n",
       " 'heart guess heart love pass person miss world live wait meet thought survive reason tell live wait meet thought afraid disappear smoke afraid live person live thank tear happy miss live love',\n",
       " 'sunset western loud break return strength endure love rain rainy someday rainy want forget tear rain rainy someday rainy want forget tear want find look miss someday meet rainy want forget tear love',\n",
       " 'sunset western loud break return strength endure love rain rainy someday rainy want forget tear rain rainy someday rainy want forget tear want find look miss someday meet rainy want forget tear love',\n",
       " 'funny sure course funny look sadness worry name clown audience selling laughter laugh louder bath sweat music curtain night wash body shiny shoe reach moon moon anyone hour love flower love world stop time dance world world everyone height funny sure course funny look sadness worry stage opposite become audience draw imaginary picture people spray paint youth tomorrow resume first line board director life test innocent love novice sadnesscome baby wear king clothes reality servant best drink education today water tomorrow today world stop time dance world world everyone height smile sure course smile look sadness smile sure course smile look sadness worry',\n",
       " 'feat horn loving face face hold hand think girl girl girl girl matter anyone girl girl girl girl matter everyone love time place interest surisuri measure true beauty ruby eerie eerie matter much look modern version rome juliet give front shriek anna girl time holly need side anna girl time holly hard time lean call girl girl girl girl matter anyone girl girl girl girl matter everyone good goosebump kind charm charm family long time person world person baby girl stick diamond anna girl time holly need side anna girl time holly hard time lean call girl girl girl girl matter anyone girl girl girl girl matter everyone breath listen love song baby heart ride love hero life guess much girl girl girl girl matter anyone girl girl girl girl matter everyone love',\n",
       " 'summer summer summer summer summer ready ready seagull heat seagull liking beaten enjoy matter summer mosquito wash body seagull summer american summer summer summer summer summer summer summer summer summer summer summer summer summer summer summer summer summer summer summer love summer easy open heart good someone train sticky people heart race american summer summer summer summer summer summer summer summer summer summer summer summer summer summer summer summer summer summer summer thank thank much bottom heart day song end took excited noise seagull heat seagull bite watermelon beach degree elderly child summer summer summer summer summer summer summer summer summer summer summer summer summer summer summer summer summer summer summer summer summer summer summer summer summer summer summer summer summer summer summer summer summer summer summer summer',\n",
       " 'love pain love love theory waste time today anything blue magic last love someone complete person person cover pain miss fate moment moment side eternity enough moment make laugh anything knock door heart person relationship last love someone complete person moment moment life know heart love know miss fate moment moment',\n",
       " 'moment remember today moment live wait please much foolish abandon breath night live wait please much miss death allows much please',\n",
       " 'friend want tear wish wait wrong loved touch girl much wait love friendship body nervous forgive coward coward love left told forget everything friend happen curse dirty mouth tear blood tear alone sure someday forgive coward coward everything coward everything love',\n",
       " 'tack feat long junhyung heart want catch catch first hurt everything collapse mind sleep angry miss heart want catch foolish thing poor girl race person heart natural break meeting everything easy light curious wrong moment different matter cold relationship woman heart want catch feel forgotten candy stuck throat sweeter anything swallow heart hurt little person room zero endure live heart want catch catch',\n",
       " 'baseball street room living room heart ache table raven reason cold water heartburn thinking today nonsense miss friend interested feeling useless hair nice anyone tell brag lover heart drunk nonsense miss drunk today nonsense miss',\n",
       " 'excited heart explode whole body tonight tomorrow night hide dream knock little anyone quiet open scent gentle drunk mood short candle tonight tomorrow night hide dream knock little anyone quiet open knock door please door frozen heart cotton blanket melt tonight tomorrow night hide dream knock little anyone quiet open tonight hide dream knock little quiet open tonight hide dream',\n",
       " 'nervous front much long thinking nervous talk kind feeling nervous happy call heart change stay first nervous white snow chance nervous heart love kind feeling right first time happy call heart change stay front heart heart flutter step time show right baby dear snowy you happy call heart change stay',\n",
       " 'worry told regret luxury start yesterday yesterday fool thank heart pretty hold hand person life girl girl love girl girl love girl yesterday yesterday fool hand alice sunk wonderland number microphone rabbit sound want sunlight beautiful sunset song poet rabbit sell song name dream sunlight beautiful sunset song poet memory person life girl girl love girl girl love girl person life girl girl love girl girl love girl',\n",
       " 'today write letter front water glass heart face face head many secret hard take heart night everyday front mirror heart clumsy make look scared many secret hard take heart night hear step step lighter word word hard scent feel heart today heart dream earnest desire fill room fill secret',\n",
       " 'bad tired tonight beomjun okay bad trouble owner today tonight dark circle life tired tonight lady overcome today life tired tonight light night people night night night night anna work tonight mister lady everything tonight tired tonight anna tonight people sleep friend mysterious life tonight bad stress tonight play drum tired tonight starlight night stop people stress hope until neck mister lady everything tonight tired tonight anna tonight people sleep friend mysterious life tonight tonight tired tonight tired tonight anna tonight people sleep friend mysterious life tonight monday wednesday thursday friday saturday',\n",
       " 'uncle drink today hand snack nephew trust uncle mischievous face tracksuit knee sticking uncle cut uncle prettiest world nose pretty last room house girlfriend shoulder full energy tall uncle mischievous face tracksuit knee sticking uncle cut uncle check minute trust small papa smell poor self uncle drinking small look need sick mischievous face tracksuit knee sticking uncle cut uncle uncle best',\n",
       " 'hand head everyone thanks charm leave fire samoa shout second bump look loud samoa samoa bump look fall love samoa charm able shake right love come crazy open sound music water tired life smile ahahah crazy open sound music water tired life smile ahahah samoa samoa samoa samoa samoa samoa samoa samoa samoa samoa samoa samoa samoa samoa noise shake right love come eternal love shake hand right shake hand right shake right love come samoa',\n",
       " 'anything live heart anything people street come flower alcohol everything long time night lazy sleepy open dream people curse guess become fool warm temperature fall little flower bloom seat apart loneliness side middle summer boiler turn girl flower alcohol everything long time night know heart long time night flower alcohol everything long time night scent crooked reason live next scent crooked reason live mean world look hate reason live feel good tonight',\n",
       " 'grumble hesitate opportunity open chest come bring bring bring bring bring order okay dark world feel funny watch break something sharp cool show mildness girl generation feel heat whole world attention proud bottom bone know girl bring keep place person life life high high tenacity earth everyone history anew star girl generation feel heat whole world attention proud bottom bone know girl girl bring anna dance right lead world wisdom enjoy excitement challenge world everyone girl generation bring blocked future future spread front fall heart grumble bring hesitate opportunity open chest come bring girl bring girl girl bring girl girl generation feel heat whole world attention lead world cool girl gather girl bring',\n",
       " 'disease scar hurt much endless line sadness domingo grows control endured keep memory heart matter hard ease scribble many everything flurry clear heart heart heart ease ease able ease able ease able ease able ease hear club girl pain worse think ease double memory point living courage listen song tear come heart heart heart ease ease heart heart heart heart ease ease',\n",
       " 'person everyone princess magic thing solve flow ocean remote island tsuyu tsuyu river mysterious sauce noble walk long time able step mercenary neighboring country younggye baeksuk younggye baeksuk strong rough skin younggye baeksuk younggye baeksuk arrogant twisted full stomach younggye baeksuk younggye baeksuk authentic anyone anyone baeksuk first time sight point jujube baeksuk beautiful thread stomach find sauce emilie younggye baeksuk younggye baeksuk strong rough skin younggye baeksuk younggye baeksuk arrogant twisted full stomach younggye baeksuk younggye baeksuk authentic anyone anyone',\n",
       " 'long time much pride hair suit empty space many time call side person feel look comfortable word want late heart burden',\n",
       " 'heart baby say love tonight heart funny funny you funny funny youfunny funny baby need funny funny funny baby tonight lucky dream crazy baby say love tonight heart funny funny you funny funny listen fool count funny funny funny honey funny funny funny honey funny funny baby need funny funny funny baby tonightfunny funny',\n",
       " 'taxi someone house lock door heart someone forget stop stop wish follow memory mean shadow today hour walk face alive front house stop stop wish follow memory mean shadow today hand curse forget nail minute second forget live forget forgotten memory hold hand give memory take happy happy telling happy',\n",
       " 'breakup step time breakup heart come shake hand shake call please voice love breakup break live loving forget tear memory miss memory image spent several word call please voice love overcome breakup live love breakup forget tear memory memory forget sadness mine tear sadness love breakup beat live loving forget tear memory memory longing forget',\n",
       " 'funny sure course funny look sadness worry name clown huge audience laughter front finger laugh louder bath sweat music curtain night wash body shiny shoe reach moon moon anyone quiet lonely time flower fall right world stop time dance world world everyone height funny sure course funny look sadness world stop time dance world world everyone height funny sure course funny look sadness funny sure course funny look sadness worry',\n",
       " 'beautiful beautiful everyone pretty face wrong everyone place visible place everyone love love want someone appearance stop look heart heart look oooh beautiful beautiful feed month wrong ugly thing snow please outside love love want someone cherish appearance stop look heart heart look curious tonsil look heart look handsome handsome appearance stop look heart oooh beautiful beautiful girl oooh beautiful beautiful',\n",
       " 'early goodby thing many like reason live life please miss person touch miss person crazy hello loved please love miss person touch miss person crazy last late late hard live afraid last back time late live tired',\n",
       " 'cover shoulder hand friend friend good friend hurt kiss surprised happy clench heart friend obvious rejection love love love hide word surprised happy clench heart wait look heart burst angry sick heart tear take step friend fool sound good person friend',\n",
       " 'star sunny street sadness soloist couple neighborhood empty seat next grows christmas light bright cheerful innocent innocent smell fresh shampoo perfume babel baby face fate bobby make make urgent smile respond frozen blue heart warmly shine brighter star heart black brightens heart star bouquet bouquet money hold hand heart heart open hard time last compass happiest person world night told fell star lady brighter frozen blue heart warmly shine brighter star heart black brightens heart star foreverbaby anything tight time everything hold hand anything obvious night good brighter frozen blue heart warmly girl better star star star anybody dark heart everything star forever',\n",
       " 'beautiful ivory magic makgeolli ivory magic bradley makgeolli rice wine makgeolli drink wipe soft hand makgeolli cheek tears makgeolli organ rice wine love makgeolli beautiful love ivory magic makgeolli makgeolli toast forth makgeolli love makgeolli beautiful love ivory magic makgeolli makgeolli makgeolli beautiful love ivory magic makgeolli makgeolli home makgeolli makgeolli noon makgeolli makgeolli rice wine last time bradley makgeolli rice wine makgeolli',\n",
       " 'mine thing mind time love treat party booth sound keep heart tune love love play night lalalalalala everyday lalalala sings into fade mine girl time rock music love night mine baby baby mine rock music love night mine girl baby side everyday lalalala sings into fade mine girl time rock music love night mine girl time rock music love night mine blasting headphone fallen head answer phone music stay chart play ulcer airplane hear case reiterated reiterated mine thing mind time love remind mine girl time rock music love night mine girl time rock music love night mine mine rock music love night mine',\n",
       " 'return extra extra read queen game sons girl fool fourth fall opportunity donna truck understand bring bring black shameless innocent hate hate give reason witch reason stronger repertoire work stop pitiful pretend change hate hate give reason witch reason stronger reason witch reason girl hate hate give reason witch reason stronger hung reason witch reason girl',\n",
       " 'chronic drive tonight imagination style style nervous careful think easy show world fast taxi taxi taxi right closer catch catch taxi taxi taxi right twinkle twinkle twinkle supersonic hypertonus chance thrilled taxi taxi taxi right catch street light star baby stop engine watch moment hesitate good measure late sure taxi taxi taxi right follow loops closer catch taxi taxi taxi right twinkle twinkle twinkle supersonic hypertonus chance thrilled taxi taxi taxi right special unknown fantasy nervous know good good good taxi taxi taxi right follow loops closer catch taxi taxi taxi right twinkle twinkle twinkle supersonic hypertonus chance thrilled taxi taxi taxi right',\n",
       " 'miss heart hair time head step reach fool woman skin heart sick fool weak need fool woman skin heart sick fool sound funny matter fool fool forget heart heart help fool fool',\n",
       " 'come come popular easy girl hard keep love love love love crazy person follow love love love good long time move move love move move careful careful love come forth heart come heart heart different hang break movie eating effort love good long time move move love move move careful careful love come forth heart come heart heart everybody excuse busy girl love heart shake shake loops loops loops many time much frustration woman reed move move love move move careful careful love come forth heart come heart heart',\n",
       " 'feel something happen friday down feel work friday night friday night today fiery night story tonight today fiery friday night today dark humid energy heavy need ventilator energy lend energy interest revenge cheer need share good thing taste hide hide mean hide press emotion today much live divide mine body mind spare share feel something happen friday down something happen friday down friday night everyone hand peace start judge today prejudice house hand center part happiness place weekend fiery weekend note emotion pitch look front dance night feel live ready feel something happen friday down feel work friday night friday night hotscream louder yeahscream louder today fiery night story tonight scream louderscream louder today fiery friday night today fever',\n",
       " 'time everyone pledge love time sick side comfort comfort marriage dynamic dynamic bother fuss crazy marriage rest life everybody opposed crazy temperament stand innocent temperament shine brighter rest life hurt haemorrhoids marriage ruin wedding many time married promise make noise favor marriage noise pledge love mine today hundred time answer pledge love mine today love pledge love cap cap cap play play play play play thing walk front time promise regret sings full love',\n",
       " 'twelve sound crazy crazy langham drink joke call talk night stop love come please problem making night talk tomorrow today much drank call early morning time annoying crazy anna stop bothering love love disappoint sober weird keep fire kissed please problem making night talk tomorrow today much drank call early morning time annoying crazy anna stop bothering love love disappoint sorry girl promise sorry girl love true love cap crazy cap body cap crazy cap body crazy crazy crazy',\n",
       " 'windy home window anything fool harsh world stand front stop close foot anything tear keep stay thank front stop leaf tiptoe face clothes anything tear keep stay',\n",
       " 'welcome super show name long party tonight fire heart original female killer write delete message write ease reduce sleep night hurt night fire night funny town baby shout loud tokyo london york paris cool cool party superstar pretty people want place people shanty everyone call open open open tell home everyone open happy today fire night funny town baby shout loud tokyo london york paris cool cool party superstar pretty people open shout loud tokyo london york paris cool cool party superstar pretty people open shout loud tokyo london york paris cool cool party superstar pretty people open shout loud tokyo london york paris cool cool party superstar pretty people',\n",
       " 'hurt hurt heart honey honey baby crazy thick make forget everything cheek half half tear melt cream until night long thing tear spread black forget noble want sleep heart think please please love others easy ease tattoo empty glass today girlfriend cool spot help make forgotten ease indifferent memory side forgotten black tear forget insisting sleep heart please drink please party make please hurt heart lotion honey honey baby hurt heart honey honey baby',\n",
       " 'come break news loops stop time come time ready ready ready wave hand goodby drop tear dirty regret show cool okay pretending okay sure obvious change show true loud nothing hate crazy time come time ready ready ready tear push okay sure obvious change show true loud nice cool moment time full energy great goodsgive great good okay pretending okay sure obvious thing curse feel everything break news loops stop time come time ready ready ready',\n",
       " 'anxiety step courage open heart build heart thing thing closer protect long time excitement person heart slow comfortable step look feel tear hand warmth want give closer closer protect long time excitement thankful place closer everything other love person word',\n",
       " 'much smile love matter much sing listen today today heart spent time bothering everyday guess love matter much sing listen today today meet keep crazy love much hear today name',\n",
       " 'signal front langham dear hello stare blandly second calm surprised heart people know look rock organize heart live signal care look good guess hairstyle good look good kind face worried hard time afraid sadder look good good case endure breakup make feel ease crowd next guess person unhappy different happy serious special emotion step pedal move foot step pedal move foot step pedal move look good guess hairstyle good look good kind face worried hard time afraid sadder look good green light onto time hear horn saying gutta move last light onto time hear horn saying gutta move last district look good guess hairstyle good look good kind face worried hard time afraid sadder look good good',\n",
       " 'today news picture nothing forget tonight work morning scream tear gland picture trust draw dream tone pretended friend fall hand hold fill bartender burn heart lose injured okay world spinninglike windfall keep colderthan wind chill dead upon split place place flower bloom heading towards place tonight tell anna place mine mine got place place mine tell anna place mine mine got place place mine swamps forest fall trap hard know melody rustle party come place place flower bloom place tonight tell anna mine got place place mine tell anna mine got place place mine today news picture nothing forget tonight work morning speak language speak language speak language speak language speak language speak language speak language',\n",
       " 'know break prediction lyric heart body know catch someone tell tonight heart ache heart ache open mouth cold word fall world collapse tear moment moment death please tonight leave heart ache heart ache open mouth breakup story memory heart open mouth',\n",
       " 'dream morning fail tired open reason forget dream open dream morning fail tired open reason forget dream open wrong forget everything long time happy long time reason forget dream open reason forget dream open',\n",
       " 'sarangsi confession district happiness long place live meeting sunshine girl sleep night balaga song girl phone night girl sarangsi confession happiness live beautiful starlight kind person love person heart flower love blooming balaga balaga balaga balaga balaga balaga balaga balaga balaga heart beating feel vibration smell chocolate vanilla time much heart fool sarangsi confession district happiness long place live meeting beautiful starlight kind person love person heart flower love blooming show sunshine love love person heart flower love place live meeting sarangsi confession district happiness long balaga balaga balaga balaga balaga balaga balaga balaga balaga',\n",
       " 'little little reading room care cold city turn blind strange voice movie drama contrary heart treat listen honest date long time date full interest kind attitude crazy blind turn contrary heart treat listen honest date long time date date long time sweet word everyday courageous want side time higher long time prisoner woman sweet word everyday courageous want side date',\n",
       " 'girl night girl night donna burnthis house girl night donna burnthis house girl night donna burnthis house girl night donna burnthis house black dress stick slight reflection shirt heel mess hair moist gloss ready take hand waist freedom delusion dance dance dance dance whereas dance dance worry anything today night tonight obvious home speaker girl night sound heart burstbounce girl night girl night girl night donna burnthis house ready girl night surprised mesmerizedmy library boyfriend sorry bold gesture everyone cap cap cap cap cap imagine slight smile dance dance dance matter anyone care dance dance whole body girl night tonight obvious home speaker girl night sound heart burstbounce girl night girl night girl night donna burnthis house dress kill hair ready long time today long body floor foot read minded empty mind worry ease everything girl girl night tonight obvious home speaker girl night sound heart burstbounce girl night girl night girl night donna burnthis house burnthis house tonight',\n",
       " 'dare forget mean dead world criticism crazy everyone know afraid love hear bleeding poor please forgive punish please jesuit mean jesuit mean jesuit mean jesuit hear bleeding poor please forgive punish please hear bleeding poor please forgive punish please',\n",
       " 'sort heart nothing word promised endure everything word place heart hear time world look close sort heart case hard time worried stop wait hurry sure please right sure heart hear time world look close heart even time stop hand',\n",
       " 'ready sister anna rock anna rock anna rock rock heyrock rock sister rock heyrock rock party time rock heyrock rock sister rock heyrock rock party time kind love joke handsome heart nonsense wish unhappy wish party time party time laugh look feel cool cool cool wash look cool cool cool girl feel cool cool cool cool cool cool girl yeah feel cool coolyeah feel yeah feel cool coolyeah feel cool coolyeah feel yeah feel cool cool okay cool regret half world male pathetic need hang thing career cool cool cool wish unhappy wish party time party time laugh look feel cool cool cool wash look cool cool cool girl feel cool cool cool cool cool cool girl yeah feel cool coolyeah feel yeah feel cool coolyeah feel cool coolyeah feel yeah feel cool cool okay sister high cool cooling quatre sister high cool anna fool flash solo shabby cooper rock heyrock rock sister rock heyrock rock party time rock heyrock rock sister rock heyrock rock',\n",
       " 'incomparably love comparable excitement matter ordinary greeting believe secret person different gaze forward touch heart someday confess point fast time fall love impatient step secret incomparably sadness tear imagination word hard catch person strength different forward touch heart someday confess fast time fall love impatient step secret different different',\n",
       " 'ultra factors magic wish ultra factors confess love hoihoi hoihoi nananana hoihoi nananana smoke hair nice body goddess wish wish true spell repair soon soon soon soon soon night fall ultra factors spell closer ultra factors fall hoihoi hoihoi nananana hoihoi dream birthday true world spotlight shine night fall ultra factors spell closer ultra factors fall hoihoi hoihoi nananana hoihoi nananana fall deep kiss kiss time sharp sharp come hoycome kiss magic hoycome ultra factors magic wish ultra factors confess love hoihoi hoihoi nananana hoihoi nananana hoihoi hoihoi nananana hoihoi nananana',\n",
       " 'held hand street love used lean heart smile heart explode winter much winter much time memory walked pace street heart explode winter hear street guess hear winter much winter much time memory bright light street whole world white nothing mean anything winter much winter much time memory',\n",
       " 'baby everything valuable gift bite long time long time love know love tell everything tell parkthey curious star star star touch baby starbaby girl shine girl long time long time love know love tell everything tell parkthey curious star star star touch baby star meeting river mountain many time change everything tell parkthey curious star star star touch baby star',\n",
       " 'clear forget everything ease empty space full anything guess feel empty face flurry image know pretend heart foolish heart heart slow late heart call heart love hurt heart slow late heart call heart love word finish mine painful time late heart catch heart ease love come',\n",
       " 'look night beautiful star right soul rough love space cause earth learn worth anna someone make difference make difference teach tool skill stake least tend work break burn learn bend world rough love know tough worth rough love',\n",
       " 'weak loneliness idiot give love thorn want lean love want believe love step tear secret country understand ease spin love forget step give wind blowing feel scent want want scared love recognize front tear wipe tear hand',\n",
       " 'coincidence story fool thing babe relationship people breakup smile open babe guess babe several time count miss miss step case heart come sick much worry tomorrow babe blank heart babe several time count miss miss step case heart come nothing donna change beautiful beautiful several time count miss miss step case heart come baby',\n",
       " 'breakup answer time fought snow crab luggage regret pillow left blanket enemy drink break pride call mind homage curious live study hard meeting good someone miss feeling weather heart little cloudy rain crazy miss endure live hard read book letter face hard walk street step scent thanks time prescription terrible disease calm used hurt much feel rough violent beautiful petty guess break sweet everything curious curious good person ease number crazy miss endure live dream last night depressed face immersed memory come curious nothing feel ease crazy miss endure',\n",
       " 'look contact empty space right smile curious smile wonder read mind approach step step heart hand shoulder contact dance baby round round fresh fresh smell scent bring heart remain indelible night dance bell midnight look clock cinderella nervous worried step tangled calm reading face face something long time clock heart race mind keep dancing baby round round fresh fresh smell scent bring heart remain indelible night dance baby love love babycome baby round round fresh fresh smell scent bring heart remain indelible night dance',\n",
       " 'much heart tear cold word night glass habit habit draw moment goodby ventilate room terrible relationship meet frozen time rotten keep heart ache numb love love name memory promise break regret wall good time right future pain pain time good good love love heart ache numb love love love nothing important love heart explode heart ache numb love love love love',\n",
       " 'beautiful face hand smile tonight regret finish feel empty fall asleep sure trust broke pick phone familiar habit sure miss voice forget beautiful face hand send pretty smile finish person anything pretend indifferent spend home time forget beautiful face hand send heart wait foolish thing foolish heart ease',\n",
       " 'alley case white dark night particular wish scatter delivered confession white snow look tell hand snow full footprints winter night regret much history love biggest interest life lonely love heart warmly heart show heart answer white snow tell talk want give everything specialwoo christmas cold weather frozen held hand body smile life time snow beautiful snowflakes winter weak cold forget pain wipe mustered courage silent confession portrait imagination bring reality',\n",
       " 'broke sleepless night many much find trust survive expectation lighted room draw face sleepless night trivial thing hurt someday find trust live expectation forget deep love break love make survive live loving life life',\n",
       " 'super star star dark everyone lady gentleman hesitate shout name come come little closer long time everything start super star shine brighter anyone happy time dazzling heart everyday everybody fall love heart beat super star shine brighter anyone happy time dazzling heart everyday long sadness need moment heart super star shine brighter anyone alone walk first time love',\n",
       " 'girlsall world girl gotdeep something listen hello hello heart path path muddy miss start road open courage pride girl girl girl world tell best girl come true feel hello talk step first imagination opportunity catch miss honest afraid ordinary girl girl girl world tell best girl come true feel waste something something right hesitation fine today hard tomorrow image everyone klapp klapp klapp towards resistant girl girl girl world tell best girl come true feel',\n",
       " 'cheat live rumor ridiculous dirty playboy baby talk forget nothing affair cooper right playboy baby scent tired heart fool unfamiliar everything time feel empty comfort meaningless dream wake ominous feeling sure different look girl bury hands girl meet point death return baby both baby baby babybaby baby baby',\n",
       " 'fall give kiss miss today show morning want hear love rain umbrella snowy winter night sing song tear sadness main character movie kind woman want hear love many please cherish stay love balloon fill memory afraid explode bright forget drawn house hand protect kind love world want hear love baby smile smile',\n",
       " 'dreaming look star please understand different others thank miss heart star heart hard time mysterious power miss heart star heart dream talked street emotional time heart miss star heart dream living dream',\n",
       " 'anxious voice know knew everything love hold trust life pretensions face tough abandon kick forgive regret everything play sick seem light wrong meet someone knew hold trust life pretensions face ease tough abandon kick forgive regret everything play sick word hate death word love joke laugh look girl belief loved upset give scar tough abandon kick forgive regret everything play sick disappear memory forgive regret everything play sick',\n",
       " 'empty heart tear think anything drank tried force calm miss love enough scar heart love hell fool anything pain regret love enough scar heart love hell fool anything relief person much love hurt love hell hate death fool hard',\n",
       " 'sister friend warship winter project fallen heart long snowflakes white snow warm cappuccino sweet love night pink romance heart love love pink romance romance pink light heart song love love pink romance fallen full white snow mood perfect come snowprincess pink romance candle promise look cold hand hohohohoh love tell pink romance heart love love romance clock heart pink pink romance best pink romance heart love love love pink romance romance pink light heart song love love pink romance pink romance',\n",
       " 'different world long time short memory wish nervous front love anxious collapse anxious hand foolish reach trace matter hard ease matter hard paint gotten memory left piece memory able heart transparent want watch collapse anxious hand foolish loved desperate moment time foolish back time foolish time stayed foolish frozen',\n",
       " 'breakup tear sure suit wrong heart meet good person thing sick much love heart hang whine scream angry pride open mouth meet good person thing sick much fate everyone love comfort meet good person thing sick much',\n",
       " 'feel second moment person heart alive heart explode look body happy feeling good want live dream high smile forever sunlight angel life fragrant coffee full heart beautiful want breathe fresh black love sweet imagination love live dream high smile forever sunlight angel life fragrant coffee full heart beautiful want time love sunlight angel life fragrant coffee full heart beautiful want time breathe',\n",
       " 'tell advance apologize anything regret interested anyone know today repeat everything hate hard love funny something love fifth sorry last know green dinner look hard funny something love home taxi home sorry everything wallet tell hard funny something love',\n",
       " 'busy front house something bring know weird please pressure beautiful heart money trust heart accept heart goal cool goal ceremony proposal name honey honey nervous smaller front first sight love criminal stole heart jealous beauty heart burr fatal charm kill fill empty glass sincerity beautiful heart money trust heart accept heart case step wait tell something tell trust heart accept heart',\n",
       " 'first time life much speak blunt kiss special admit kind interference point okay care baby baby trouble look hand tickle last long crazy fall love happy turn feel feel head baby baby trouble look grabbed index finger small hand smell each cool everything much strain heart time problem word character confusion something baby baby happy happy jealous boyfriend',\n",
       " 'palate feat easy true cringe darker purple button panama mischievous prank twenty know fine shorter long hair short hair true sing good wrong tack thing fuller picture palate diary time twenty know hate fine everything hard young childish question happy sick young dieu year adult year older twenty thirty right house child adult brightest afraid darkness beautiful petal full bloom palate diary time twenty know fine think twenty know hate think',\n",
       " 'love shadow light darkness time hand nervous heart scared night hand kiss kiss touch touch make make touch you make love love different world butterfly temptation full sweet scent higher become white star kiss make kiss touch touch make make touch you make love love make love first time life warm deep universe close love make kiss kiss touch touch make make touch you make love love make love love make love',\n",
       " 'hope repeated deep dream head eyesmake crazy blue precarious cross bridge everything small rest heart foot touch ground walk moon moon gentleman floor gentleman today night today rent house free neighborhood city princess city worry money want tell soul metropolitan government star covers hero kill full ambition shape right hand lain baby girl young time count second moooooah today small rest heart foot touch ground walk moon moon walk moon moon',\n",
       " 'spring point cherry blossom season wind swollen flower pretty couple bright beautiful thing jealous spring spring spring spring point cherry blossom hate middle night spring spring spring spring spring spring spring spring spring spring spring spring breeze swollen love sweet sweet come meet wind swollen flower pretty couple bright beautiful thing jealous spring spring spring spring point cherry blossom hate middle night spring warm spring breeze touch cheek spring frozen heart love spring point cherry blossom hate middle night spring spring spring spring spring spring spring spring spring spring spring spring breeze blowing',\n",
       " 'baby yoursooh baby front check follow push pull fall love miss who pick smile right baby minute baby sweeter honey tell amazed champagne okay change charm roll okay who empty thought something right baby minute baby sweeter honey baby everything hate night step step blow candle wish baby fingers flower tickle scent wherever baby sound fingers follow voice good want heart baby minute baby',\n",
       " 'changed step change phone call speechless family happy alone life straight tremble pillow tear funny nose please harsh word please noon take clothes pain daily life fool scared room void medicine sound small dark room reach thank people people beauty hope bless family bless family family bless family stretch shoulder rest shade small sprout bloom sacrifice whole world scent voice rang people make dance cloud right side breathe family shoulder flower raise volume people sound soul dream raise sound life dream raise volume dance worry alone world opportunity miss feel people beauty hope bless family bless family family bless family people beauty hope bless family bless family family bless family',\n",
       " 'long time question mark voice rule seat door everything able happier please love kind heart someone hope sorry easy give please love kind heart honest please believe someone',\n",
       " 'secret anyone tell story fact distant future star place full idiot something shiny right bright beautiful fireworks peacock blue blue blue wind place compass small rock shine life cool cool cool time live star meet elegant entrance bright beautiful sure today surprising',\n",
       " 'lethargy open beer bottle drunk world slow time society battlefield supper target goal oversupply information information smoking room smoking room small desire smoke smoke spark generous whose dislike someone look picture cloud picture precise expression chop world passion enough mistake hesitate people business tomorrow happen elephant step step step step elephant step step step step life thou player choose life world mon color everything grey night nile river ambiguous thing clear world state life destiny value solitude life discord world black certain part piano black star become starwise disrespect starwise but fish selfish mirror morning think look fight make hesitate want people business tomorrow happen elephant step step step step elephant step step step step too too too too too too too too too too too elephant step elephant step elephant step step step step shadow success light failure famous people life letter quarrel stop swayed keep balance night something last steve wonder margin masha moonsae respect thing want play background music someone life see chance time want long thought deep thought want failure self respect network controverted pressure manage knew work',\n",
       " 'fine smile sadness help okay sorry side fine comfortable listen please need girl person home wide lean fine smile sadness mouth help okay sorry side fine comfortable listen please need girl person home wide lean ridiculous clumsy consolation able gain strength laugh please girl person protect broad heart walk lean',\n",
       " 'tough harsh word hesitate throw matter sorry nothing change okay waste hear voice least foolish foolish fault good fool fault baby fool fool selfish time crazy fool baby regret nothing change moment last scene foolish foolish fault good fool fault baby fool fool shine trace scattered memory miss late nothing baby shine trace scattered memory miss late nothing baby foolish foolish fool foolish foolish fault good fool fault baby fool fool',\n",
       " 'people idiot anything time need sugar body something lukewarm important honest need sugar something face mean care cool please babe cover cover cover people idiot anything time think sugar sang sarangrang sugar sang something nice sticky long time need sugar something know natural stimulating hurry babe cover cover shape look body love love love baby sweet baby sweet baby baby sweet baby sweet people idiot anything idiot time cover cover cover',\n",
       " 'small beauty happy nervous storm quiet fire burn fast cheer hard young frame bright light scream adult backwards bored hateful fire burn fast cheer hard young frame bright light similarity first look young frame bright light scream',\n",
       " 'look anything permission tight foot take stand anything knew welcome person time hand mistake immature small wound feel distant love smile welcome person turn know love smile welcome love',\n",
       " 'fingers dream star guess dizzy anything made stand sweet first wine awkward bitter painful drunk drunk night memory crazy memory forget forget baby please busy phone cold someone phone know year good breaking used peer money much delicate pretend grown help ease sweet familiar scent bitter painful heart drunk drunk night memory crazy memory forget forget baby please close revolves road fall asleep drunk today closed voice drunk night memory crazy memory forget forget baby please',\n",
       " 'smile beautiful okay clear hope windy wash hope blow rest heart deeply clear hope windy wash hope blow rest heart heart place head different listen reach hear want wind heart',\n",
       " 'voice miss answer name echo sound cold time hand dark night wish long time place dawn front fail reach empty forget time word dark night wish long time place dawn countless time cold harsh name shout time place dawn',\n",
       " 'night night night night bright dark room night night busy daily life time outside many people sunlight shine night liked white skin dangerous middle shade breathe night night night night babe night tomorrow darker night bird comfort good night date good want stay night full moon heart head shoulder knee foot warmth arms heart baby baby butterfly mind night night night night babe night night pretty subtle light baby baby night night night night night night babe night night night night night bright dark room night night',\n",
       " 'small rooftop walk good beat sound empty space place find open thinking think light room bright toss turn close different place others needle loneliness night friend mask little dreamer others reality pitiful middle disease patient finger others mixed stage dream dream dream sang sang sang sang dark school bell sang sang sang pendulum bump beautiful bell sang sang sang sang cold school bell sang sang sang sang watchtraps heart reason walk dream front friend right corner someone feeling rejection close curse greeting word unlucky expression affectionate advice fought everyday opportunity perform stage thanks human grow bigger everyday busy due take walk music internet cafe groove street hobby sang sang sang sang dark school bell sang sang sang pendulum bump beautiful bell sang sang sang sang cold school bell sang sang sang sang watchtraps heart reason walk dream time smile fool smaller front paper spread blue print clear head promise place advice feeling sunk sang sang sang sang dark school bell sang sang sang pendulum bump beautiful bell sang sang sang sang cold school bell sang sang sang sang watchtraps heart reason walk dream',\n",
       " 'perfect fine home gugudan possible year nothing special happy something special swear fine good thing care anyone nothing special happy something special diego santiago matter course course care today course party receive kiss thing wait floor unfair dangerous weird nothing special happy something special look brain time right side fine today course music earth made party receive kiss thing love music earth made',\n",
       " 'prison princess house such adventure such such blow balloon such stood line line bright heart super super hero bright break heart super hero hello please ambulance contact dizzy heart heart dangerous drive crazy heart mind right line line bright heart super super hero bright break heart super hero hello please ambulance contact dizzy heart heart dangerous magic lamp bee cast spell true moon star cast spell order heart heart dangerous',\n",
       " 'baby baby wrong heart flutter heart foot step hide bigger head look cheek long time fairy tale moment today heart step time touch mind blank step stop come closer step heart bigger bigger hear step head look cheek long time fairy tale moment today head towards cheek look anything heart itching foot heart secret heart shyly pray today true',\n",
       " 'knew feel postpone hardest homework sorry late want truth handful time time easy answer many season everyone everything understand answer winter degree happy forget everyone everyone',\n",
       " 'chest moment well keep tear work time death thankful point spin heart reason point useless time life know waste chest moment well keep tear work time death thankful think drink friend drunk crazy forget difference love enough endure chest moment well keep tear work time death thankful wind passing call name forget ease smile',\n",
       " 'know shut shut shut shut word front talk hello hello hello first time girl afraid outside girl good girl appearance pathetic woman funny dance girl good girl watched soul finger hypocrisy funny kind outfit kind hair woman dance obvious obvious hello hello hello confident outside girl good girl appearance pathetic woman funny dance girl good girl watched soul finger hypocrisy someone handle pretend anxious confident afar girl good girl appearance pathetic woman funny dance girl good girl watched soul finger hypocrisy funny shut shut shut shut',\n",
       " 'hurricane venus venus swallow storm stormy storm breathe break secret attract electronic panic supersonic ironic energy uneasy whirlpool covered goosebump towards wood electronic panic supersonic ironic energy hurricane venus hurricane venus body hurry hurry hurricane venus safe place nervous moment meet dangerous electronic panic supersonic ironic energy uneasy whirlpool hidden fierce tsunami rest wood electronic panic supersonic ironic energy hurricane venus hurricane venus body hurry hurry hurricane venus area area electronic panic supersonic ironic energy hurricane venus hurricane venus hurricane venus hurricane venus body hurry hurry hurricane hurricane venus hurricane venus body hurry hurry hurricane venus',\n",
       " 'anyone world happy brightest person world person heaven star night shine home kiss narrow alley star love anyone else world happy brightest person world person pocket tell hour tight today tomorrow world word promise half thing break heart thing ground gardens love anyone else world happy brightest person world person heaven',\n",
       " 'toilet habit height stairway heart front house phone feel sick feel phone minute please hold thought breathe live please hour front house heart torn happy memory painful silence time tear rain water head goosebump feel blood pouring painful miss look singthis song please hellish place dream hurry everything tell live toilet habit height stairway heart night drunk relieved time medicine love sorry greedy pill help night change time guess punishment someone live travel star fill heart music help hellish place dream wake everything tell live toilet habit height stairway heart leave tell backward toy life toilet habit height stairway heart punishment someone live travel star fill heart music help wait matter tomorrow tomorrow',\n",
       " 'turn live talk break know girl turn live live happy love sorry sorry twenty resentful today know ease hate much everything turn live happy love sorry reason everything remember promise care protect love forget live',\n",
       " 'guess mind sorry guess mind much please forgive guess mind useless heart ache baby tight stand guess mind sorry guess mind much please forgive guess mind love sorry thank afraid girl girl sleep tonight baby tight stand guess mind sorry guess mind much please forgive guess mind kiss fall asleep guess mind',\n",
       " 'heart love game love pain feel better catch crazy gutta feel girl give whole world girl girl girl girl girl gutta love world gutta moment better heart fire high higher melt burn anywhere stay side sex better something crazy gutta feel girl give whole world girl girl girl girl girl gutta love world gutta moment better better gutta gutta together better gutta better gutta gutta together better today please gutta baby gutta love youyou gutta moment better gutta love world gutta moment better',\n",
       " 'place lock future bigger free empty look fill irresistible magic irresistible magic approach look angel reason short moment someone heart feel everything heart burn burn lock future bigger free empty look fill loverhollic robotronic loverhollic robotronic love story place feel perfect look look everything everything everything think certain point weird people leave side side lock future bigger free empty look fill glass castle blood look fool brain feel loverhollic robotronic loverhollic robotronic hate hate look burden sharper tired possession heart faint angel lock future bigger free empty look fill glass castle blood free look fool brain lock future bigger loverhollic robotronic loverhollic robotronic irresistible magic',\n",
       " 'heart miss help heart round round heart round forget laugh laugh common empty tear live forget laugh face smile cover heart keep keep hearing sound laugh common empty tear live forget smile laugh smile laugh laugh laugh common empty tear live forget smile laugh smile laugh',\n",
       " 'lady story youhey higher kill denis look fingertips pink loss mirror look okay cool girl sex smart feel splendid anna wake wake wake wake wake wake wake wake wake everyone everything true everything true everything true everyone something want come true proper spell style object anti bore style magic show show little girl girl open look call call need number cool girl sex smart feel splendid anna wake wake wake wake wake wake wake wake everyone wake wake wake wake wake wake wake wake wake wake everyone everything true everything true everything true everyone want style',\n",
       " 'beautiful okay shameless surprise happy burst curious small party candle light secret want feel feel little follow follow game closer fall imagination give freedom brain play thing happy start break fall tell everything starry night night nothing worry alarm fantasy come place sound little follow follow game welcome dream candle light secret play feel fantasy come place sound starry night night nothing worry alarm fantasy come place sound little follow follow game',\n",
       " 'heart heart heart heart heart heart madonna donna madonna everyone madonna madonna donna donna imagine lady lady lady fashionista copy trend style lady lady lady confident lady lady shout little high confident honest tell everything live madonna donna madonna everyone madonna madonna donna donna heart heart heart heart heart heart heart heart heart sex icon control lady lady lady nothing afraid super woman nothing afraid wonder woman lady lady lady look chin lady hesitate feel lady moment confident cool goddess madonna donna madonna everyone madonna madonna donna donna heart heart heart heart heart heart heart heart heart fire burn past time double move body groove crazy anyone show everything anna anna anna primadonna madonna donna madonna everyone madonna madonna donna donna madonna donna madonna everyone madonna madonna donna donna feel',\n",
       " 'mine minute place something different different person anyone something show life expectation many people crazy gutta break rest mine mine stop stop everyone rest mine stop store reply click click click click return click click click click resetclick click click click mine mine mine minutegirls girl girl girl ready tired similar thing want anyone leave feeling want show life space thing thing getting stupid self crazy crazy gutta break rest mine mine stop stop everyone rest mine stop store reply click click click click return click click click click resetclick click click click mine mine mine show mind break break change world rest mine mine stop stop everyone rest mine stop store reply click click click click return click click click click resetclick click click click mine mine mine',\n",
       " 'late year child laugh something know talk good thing stop everything sound obvious stop stop time heart head help stop hear lagging time next long feel pocket story story tease someone hears stop everything sound obvious stop stop time heart head help stop hear strength scare cut face angry something sound heart anyone angry shout sweet story obvious stop stop trust heart',\n",
       " 'tired sick single girl girl talk young embrace girl play phone picture girl girl girl body girl girl baby girl jean skirt girl suit good kimchi rice girl young woman girl mean girl calm girl girl body girl girl girl appearance problem cut girl cool different hobby taste watch movie music communicate girl girl girl front people know voice wake morning morning kiss start lean night lullaby dream heart make sweet song money something someone give heart girl girl girl gottamake mine treat right baby girl girl body girl girl baby girl girl girl girl girl girl baby girl girl girl',\n",
       " 'please break sorry everything regret regret painful word spray face sharp word spit chest stranger people heart person love sand castle pretend hear head want step good time nothing crazy baby sorry word forget sorry forget first time everything precious emotion first time night food place thing hurt anything anywhere world anymore heart drink laugh interested right mind case hand umbrella warmth coat wind cold next anymore know fool baby word forget sorry forget front second child temperature loved chest baby sorry word forget sorry forget please please please please face think voice flurry existence sorry spread bitter poison imagine smile pretend nothing wrong knew able mirror today',\n",
       " 'throw elbow throw elbow throw elbow throw hand louder louder louder louder make louder louder blood fire fire call shine jewel baby time indifferent hand shoulder relaxed suit everyone insomnia lethargy play combine spray water heavy armor baby demon street hurry beautiful time everyone gather bell today blank blank blank blank blank blank blank blank blank blank blank blank blank blank time everyone gather bell today blank blank louder voice louder something monster monster monster louder make louder louder harder waste time cool summer winter forget morning many rule standard shake hurry many word people busy ambiguous answer world fuss much need person next horse conditioned time everyone gather bell today blank blank blank blank blank blank blank blank blank blank blank blank blank blank time everyone gather bell today blank blank louder voice louder something monster monster monster louder make louder louder throw elbow throw elbow throw elbow throw hand louder voice louder something monster monster monster louder make louder make louder',\n",
       " 'been been been been been been been been been been been bird bird bird bird baby spirit spirit been been been been been been been been been been been bird bird bird bird baby spirit spirit know truth place sadness room sick mean scar dream wake people come give tired soul ease memory ease girl trust been been been been been been been been been been bird bird bird bird baby ppirippappa pparippa been been been been been been been been been been been bird bird bird bird baby ppirippappa pparippa backbegin show time heart show love feel people come give tired soul ease memory ease girl trust been been been been been been been been been been bird bird bird bird baby ppirippappa pparippa been been been been been been been been been been been bird bird bird bird baby ppirippappa pparippa back',\n",
       " 'need tonight night late love huge miracle look front heart hope world full love hear tonight love sound afar please blind sound brave please everyone need night night late love huge miracle look front heart hope world full love feel courage deep heart full heart love explode night night late love huge miracle look front heart hope world full love',\n",
       " 'hundred time sleep face mess hair today nervous hour stop flower shop flower jangmil flower look pretty meet today face flower food thing stupid naive pathetic word word night everything cool smile angel angel peeped opportunity hear anything live meet thing stupid naive pathetic word word night everything confession coolness head angel angel love night love something wanted sure stupid naive pathetic word word night everything confession coolness head angelo better',\n",
       " 'beautiful girlsall world time nothing baby nothing baby nothing baby nothing dangerous thing everything love peace peace peace bright sunlight heart race peace peace peace nothing baby nothing baby deep world little little love thing dark nevermind path regret tomorrow woman temptation world many temptation heart peace peace peace enough word word express peace peace peace girlsall world time nothing baby nothing baby nothing baby nothing baby deep world little little love thing dark nevermind path regret tomorrow beautiful girl beautiful girl beautiful girl girlsall world time nothing baby nothing baby nothing baby nothing baby',\n",
       " 'girl tear anything place girl heart love flesh sprout wound drop tear tear good woman tear woman endure woman heart love flesh sprout wound drop tear tear distant future look face stand tear know woman',\n",
       " 'cry thus thus thus thus thus baby right hard smile rough wind afraid afraid everything heart heart open hole road dark afraid afraid future scared baby girl baby girl anything right hard smile rough wind afraid afraid moment heart ache alone wipe tear sadness bare hand stay baby girl baby girl anything stand side right hard smile rough wind afraid afraid want girl heart want right hard smile rough wind afraid afraid',\n",
       " 'doll person world front talk acuteness precious jewel sorry angel wing afraid live love cut baby many time look bite pinch baby honey hide mind acuteness whole body make ring purpose curious pretty disease disease sleep voice sleep dream disease happiness live thank cut baby many time look bite pinch baby honey long feel happy hear stop please baby baby cut baby many time look bite pinch baby honey hide',\n",
       " 'person person person warm person heart ease forget person breath kind person person love anything loved choice heart spoke memory person person love anything tear sadness live close life remember time person anything loved choice love love love',\n",
       " 'whale whale cold cool sound gaze colourful whale whale whale scream salt salt surprised expression raise volume whale whale whale shout shanty anna shake shake baby shanty anna shake baby white sand blue beach everything ready cool excited nervous heart need loud cold cool sound gaze colourful whale whale whale scream salt salt surprised expression raise volume whale whale whale shout shanty anna shake shake baby shanty anna shake baby girl sour please forgive cut weird cold cool sound gaze colourful whale whale whale scream salt salt surprised expression raise volume whale whale whale shout long time dura whale shout loud long time dura whale shout loud',\n",
       " 'seat head crazy heart crazy heart many time shout many time shout feel know fool crazy someone cruel tired rest stop listen crazy heart crazy heart many time shout many time shout feel know fool crazy love look please look love side person word word play crazy word word love much forget open breathe miss crazy driving crazy',\n",
       " 'push push baby push baby push push baby push push baby push baby push push baby sound push push baby heart push push baby push push baby sweet word push push baby wake open wake hide rear mine mine matter anyone mine anyone welcome welcome world high look baby higher sex baby something fall love something sex baby girl fall look push push baby heart push push baby push push baby sweet word push push baby heart donna steal heart wait heart stop heart keep break different fashion fire ulcer anyone turn turned heart break lose sex baby something fall love something sex baby girl fall look push push baby heart push push baby push push baby sweet word push push baby push push baby push baby push push baby push push baby push baby push push baby sound',\n",
       " 'digital sounddigital welcome digital world music solution another round blade sound permeates heart supersonic hear paradise front anna getwanna everybody hand upset hand digital sounddigital welcome digital worlddigital sounddigital welcome digital world heart come heart protect robocop actionable party holly digital attack shake spacewanna getwanna everybody hand upset hand digital sounddigital welcome digital worlddigital sounddigital welcome digital world world experience play role state city juyeon young people time woman name mouse gnaws quick alley time fast youth wise divide youth bang bang welcome digital worldwelcome world world digital worlds digital sounddigital welcome digital worlddigital sounddigital welcome welcome digital sounddigital welcome digital worlddigital sounddigital welcome digital worlds',\n",
       " 'wear look much much star salt full thousand time know curious noisy noisy heart noisy fire take soft look kiss right magician magician know thousand time know curious noisy noisy heart noisy fire take know guess sweet trap girl call bird love',\n",
       " 'today fault drink stand bare emotional hate much sing song little today okay tear person fool good sorry touch much feel today okay tear person fool good sorry anything good thing love favor person tear talk ugly step pretend',\n",
       " 'lady song play song baby give love baby girl listen song baby louder good side pump shout poor musician money wife music girl baby girl smile dance sing love everything promise hard time next cheat stay give love baby girl listen song baby louder good side pump shout bright sunshine goddess world dream happy love love need song fruit love plan life someday hang name next name give happiness baby give love baby girl listen song baby louder good side pump shout double legend rock house mulberry dance headquarters everybody okay time baby give love baby girl listen song baby louder good side pump shout',\n",
       " 'pretend hear catch sorry weak time time memory memory fade turn time time call time able smile hand hard shake weak time time memory memory time able smile wait time hang time time miss time time time memory memory fade turn time',\n",
       " 'crazy heart heart call doubt nervous crazy right anything late night contact call crazy crazy night long time innocent nice crazy hate lose crazy crazy night long time know sick stop normal hurt avoid care hang crazy crazy night long time innocent nice crazy hate lose crazy crazy night long time handle friend family people break look kick tongue anne movie breath hard time everyday front crazy tired foolish person wake crazy lose cruel person please crazy crazy hate much finger hate lose crazy crazy crazy crazy crazy',\n",
       " 'feel fact ease forget everything small trace abandon song help follingin baby resolution think fact side glad ease forget everything small memory miss path walk help follingin baby resolution think live today anything hard love resolution think',\n",
       " 'look side look rush please tired attractive keep keep look blind look shabby look side look keep keep think attractive keep keep look blind look shabby look look look',\n",
       " 'want boyfriend many street second early morning train luncheon third picnic fourth piggyback couple ring basic sweet heart thing time everyday everyday everyday everything precious baby baby baby baby girlfriend sixth late night movie theme park surprise event happy heart thing time everyday everyday everyday everything precious baby baby baby baby birthday nothing weekend thing love word word word matter first time thank much baby baby baby baby booby baby baby baby',\n",
       " 'just collection line embedded hiding good hidden fancy style good illusion truth press woojust ooh common love common easy change love transfer transfer transfer least world cherish collection line embedded woojust ooh clumsy thick make place sincere heart hypocrisy press love common common love common easy change love transfer transfer transfer least world cherish collection line embedded look straight mask different little different color rainbow thirsty truth girl love pain good pretensions truth cover time least straight least world cherish collection line embedded',\n",
       " 'high get high ready talk leave mean mistake everybody tear fall dig dig broken piece glass break love tell thing know love love love love everybody cap hand dream back time love love love everybody cap dream world anna time today miss miss miss everybody dig dig sound break heart hope hold hear voice tell love love love love everybody cap hand dream back time love love love everybody cap dream world high ready microphone check call tell thing know love hold hear close cover hear voice tell love love love love everybody cap hand dream back time love love love everybody cap second world love love love',\n",
       " 'change feel shine long time sorry road tear love change feel shine voice world child whine regret memory heart everything head tear love change feel shine please tear year forget star shine',\n",
       " 'different tear cried hate love hate living want open forget pain keep happy moment different tear cried hate doubt mews good love doubt pain mews much hurt much hate wear pain tear push different tear cried hate doubt mews good love doubt pain mews waywhen nothing wish know ease hate sangcheol reason hard different tear cried hate doubt mews good love doubt pain mews different tear cried hate doubt mews good love doubt pain mews',\n",
       " 'next someone locked heart silly heart break expectation heart explode much breath house look broken tear stop okay break silly heart happy hope break expectation heart explode much breath house look watch broken tear stop moment first pretend pray back breathe waited heart love good thing pain love word',\n",
       " 'anxious horse melting bitter heart wake reminds much feel want fade word common separation drunk street front house step drive crazy heart obvious love feel nostalgic memory clear leave word common separation ease tear heart everything love spit something heart look',\n",
       " 'leave emotional hand guess forgot guess felt heart tear balaga balaga forget pain crazy crazy sing crazy person come crazy leave please heart guess forgot guess lived heart tear balaga balaga forget pain crazy crazy sings crazy person come crazy hate balaga balaga forget pain crazy crazy sing crazy person come crazy stop balaga balaga forget pain crazy crazy sing crazy person come crazy crazy balaga balaga',\n",
       " 'purity eardrum message reduces loud loud monkey magic open message tease turn loud balaga loud official meet wish different superior stay warm listen sticky charles music bloom bloom rough heart wanted different rapier sweet lying sure sleep time signal fresh sex agony purity eardrum message reduces loud loud monkey magic open message tease turn balaga turn balaga john gallant door louis button oris vanassche dole gabbana givenchy alexander queen taxed shoe body soybean different level possible bring jealous careful something sweet dream sweet thing sure sleep excitedlala lata everyone fist generous light whisky confident turn loud fool purity eardrum message reduces loud loud monkey magic open message tease turn balaga turn balaga life future best work simple harder life future best work simple harder',\n",
       " 'volume moment attention everybody corner cure hump hump hump hump prettier everyone laugh hope thing everyone want image mesh magazine work work work word delete dream hump hump anyone stop change hump hump anyone wear short skirt hair short everyone weird laugh something different everyone change baby mesh famous confident work work work word ease dream hump hump anyone touch beat young lady music innocent expression skill handle forget word ease dream hump hump anyone stop change hump hump anyone',\n",
       " 'cheat hard time tired heart love change time happy sweet word night happy sweet word ease cheat hard time tired heart first time excitement wake wake distant memory wake bury wake help happy sweet word night happy sweet word delete look cheat hard time tired heart break autograph cheat',\n",
       " 'life documentary please soul life soul documentary stop music stay night stop music freak freak hard live life made music program stage circuit head forth crossroads choice call rain dream world song clown music stage heat need stop music stay night stop music give wake night today faith lyric people money someone honor money honor half life light bulb dark life fierce jungle forest life everything life friend half life light bulb dark life fierce jungle forest life everything life stop music stay night stop music give life documentary please soul life soul documentary time time special brother thicker blood matter time meet stage close busy sick human idiot hard time lean remember stage stop music stay night stop music give',\n",
       " 'face heart talk shyly child reason fool come present heart star heart genii girl breath love reason love beautiful starlight night deep heart love light shine night beautiful light childish childish keep guess love beautiful starlight night deep heart love light shine night beautiful love light brighter sunlight hidden part heart love light love light',\n",
       " 'funny stop whining mouth sorry bored worry feeling point hard word emotion bah tired reason enjoy emotion musical fait chaudil fait tres music mamma dangerous sick long time mamma amazing today breath stop question anything stop think alright stay sober story feel rhythm wolf understand feeling whole world funny time show everything feeling take rest fait chaudil fait tres time mamma dangerous sick long time mamma amazing today dangerous play trouble short break mamma dangerous sick long time mamma marvelous mamma omaha play stop battle much sorry girl guess full medicine grow',\n",
       " 'laugh laugh listen something right okay kind woman easy easy easy laugh stop nonsense love nothing please tear deserve meet girl ridiculous word face tear move little mind easy fooled fool laugh stop nonsense love nothing please tear baby deserve meet girl come hope laugh stop nonsense love nothing please tear baby deserve meet girl laugh',\n",
       " 'word love something hear heart breakup hate last love last farewell love love flurry love beautiful voice call tear night everyone last love last farewell love love flurry love beautiful voice call tear night love love beautiful voice call tear night everyone',\n",
       " 'alone street someone long time comfort pain hard tired different love approach fall step step tough time come time time love alone street someone long time comfort pain hard tired different love approach pain hard tired different love approach fall step step tough time come time time fall love hard time step come alone time time wait love',\n",
       " 'breakup stop leave moment time goodby pretend hear anything stop step stick floor goodby stick moment time goodby pretend hear anything stop break angry spit much abandon everything goodby pretend hear stop walking',\n",
       " 'hottest anything anything thankful people song enough thank thank love love love anything thank thank thank love love love love hard song thank thank thank love love anything thank thank thank love love love tear heart forget everything thank thank love love love anything thank thank thank love love love thank',\n",
       " 'matter sure somewhere world matter much breakup cover sure live hard meet heart someday side year much world block separate love matter much love heart connect love heart someday side year sadness sick meet find keep promise walk life breath unfinished love unused love',\n",
       " 'call afraid miss letter erased deeper hurt true fear desperate heart person fall love afraid world beautiful donna fall love cause anna baby bottom heart wave good lover leaf clever happiest woman world got doubt trust baby fall love afraid world beautiful deep love fall love afraid world beautiful beautiful',\n",
       " 'ooh ooh ooh ooh ooh everyday daily life crazy tired living everyday tomorrow good side time jump jump jump jump cheer wish everybody everything true everybody ooh ooh ooh ooh ooh world today give good side time jump jump jump jump cheer wish everybody everything true everybody ooh ooh ooh ooh ooh wish everybody everything true everybody ooh ooh ooh ooh ooh ooh',\n",
       " 'responsible mistake reason look question tired yard moment take blame problem wait anything spent time thorough hide sadness front friend head several time call case meaningless anything mitchell look head look matter meet girl easy better people cherish beautiful image watch energy people tired comfort told look girl sorry lazy anything seat next empty know feel word mitchell look head look matter meet drunk bonne number hear voice stop filling head everything head everything tired love mitchell song',\n",
       " 'anything special show grow shameless word stop performance open wide much faint change head superstar stop superstar superstar shout loud superstar superstar measure stiff hair trap word frustration measure stiff hair trap word pour today last opportunity head superstar stop superstar superstar shout loud superstar superstar measure stiff hair trap word frustration measure stiff hair trap word sound chest honest measure stiff hair trap word frustration measure stiff hair trap word passion know performance everyone look wrong show judge hesitation open wide superstar ready action superstar stop superstar superstar shout loud superstar superstar superstar stage change everything superstar clip main character movie superstar something superstar superstar ready action',\n",
       " 'girl girl girl last time anything hurt nice everyday need time need time first need time love daytime side happy happy afraid lose dangerous dangerousand need time nervous right love daytime side happy close heart towards daytime side happy close',\n",
       " 'side someone someone something something someone know miss someone someone heartbroken tears love love okay heart break love first time life smile someone heart race everything anyone forgive last person life tears love love okay heart break love first time life smile love loneliness fear feel time world destiny breathe love time front dedicate love love',\n",
       " 'want playboy playboy playboy handsome sweet normal good lunch ominous playboy woman playboy love wrong fine playboy athlete anxious attention many thing head busy well time play play play others lunch woman playboy love wrong fine playboy athlete anxious attention playboy playboy love wrong fine playboy athlete anxious attention playboy break donor time blame worry busy time baby busy playboy love wrong fine playboy athlete anxious attention playboy playboy playboy playboy',\n",
       " 'club body rocking side side side side thank week feel comb life life hand hand control body baby tonight baby tonight love dance dance last last night life life right baby love keep tomorrow donna roof fire donna burn motherfuckin hand music drop hand hand body baby tonight baby tonight love dance dance last last night life life right baby love baby love baby love love dance dance last last night life life right baby love baby love dance dance last last night life life right baby love thank',\n",
       " 'last love preparation hold night countless hour reason catch happy fill empty space song sweet memory heartless time little little petal bloom spring migratory bird boomerang place kite come fill empty space song hold hand sunset somewhere place small dream fill empty space song',\n",
       " 'moon cold heart cold heading towards reckons moment moment heart suit yellow flower hand feel thing something cool love common romantic prepared sweet word breath night close walk cloud everything everything want thing something cool love common phrase romantic prepared sweet word look much',\n",
       " 'listen sister weird tease unique nickname example kkungdi raise hand yebbio mystery mystery basic formula people formula hysteria hysteria different different want want good good yebbio nananana nananana nanananana nananana nanananana trance first time heart guess love cloud fight time miss miss couple mystery mystery basic formula people formula hysteria hysteria different different want want good good yebbio nananana nananana nanananana nananana nanananana love cool emotion everything stand great dream mystic yebbio girl call call love impure love strand love something special mystery mystery basic formula people formula hysteria hysteria different different want want good good yebbio nananana nananana nanananana nananana nanananana nananana impure love strand',\n",
       " 'moment world relief live love change mean relief person matter much love good enough fingers word heart race word happy thankful thank world thank gift country life sorry woman broad care life world matter much love good enough fingers word heart race word happy thankful thank world thank gift heart today eternity first time word full love word nervous matter many time hear fingers word touch heart something thankful thank world thank gift love',\n",
       " 'yeah somebody fall much give last chance nothing give listen please give answer talk stop play clench fist revenge much give last chance approach give listen give answer talk heart apart homblaqoh give please slow told everything move beat ease much chew spit listen please give answer talk heart apart homblaqoh hot body moment baboon yeah habit',\n",
       " 'bother hear small fight word please please much hate please boring memory lagging breakup time heart change able come today please much hate alone please please hate much please please please please time please someone love marine chart please please',\n",
       " 'think heart worn place love break image leave struggle hand break love break image leave please cherish heart thing please miss wait today break afar forget',\n",
       " 'love love love love love heart heart explode heart flutter first impression good mean suit nothing want sculpture sculpture sculpture heart wear sculpture sculpture live whole life matter piece love love love little sudden obvious confession feel good right want sculpture feel special shine mind rest life sculpture sculpture sculpture heart wear sculpture sculpture live whole life matter piece love love love lover enter love life everything everything live whole life matter eternity love lover sculpture sculpture sculpture heart wear sculpture sculpture live whole life matter piece love love love lover destiny',\n",
       " 'smile spread face hard time happy love fill heart live rough world today close dream side life stand happiness memory precious warm hard time hope dream fall asleep shadow sick longing world leave memory change dust heart smile life stand happiness memory precious warm hard time hope dream fall twist countless time heart hard time sorrow wound show smile sick anymore dream call side heart',\n",
       " 'step place close reach reach hard reach tear beautiful hurt time heart tear sleep name call chest sorry kind person front love ugly person world regret sorry kind person front love breathe break thank love today',\n",
       " 'cap laugh cap mind everything happy today something think cap baby crazyclap cap crazyclap cap guess look crazy crazyclap cap crazyclap cap guess look tired cap manila memory ruin everything crazy breathe reality baby crazyclap cap crazyclap cap guess look crazy crazyclap cap crazyclap cap guess look tired cap manila crazycra crazyclap cap guess look tired klapp',\n",
       " 'heart person miss memory ease beautiful person breathe dream heart ache love endure point scared heart love crazy reach stay time someone tear heart anyone sings heart ache love endure point scared heart love crazy silly love love love life shine time eternity point miss side heart much hurt',\n",
       " 'face heart chest bright smile person remember hand tight warm spring dream heart side wake endless dream side stay nothing dream heart endless dream side stay nothing',\n",
       " 'someone person happy think kind person afraid lose vain greed suppress death death forget forgive worried love forget ease something good thirsty forgive crazy someone pain someone think kind person case heart midst useless expectation best avoid love death death forget forgive mouth anything miss curse fool proud chest crazy love disease love idiot death death death forget forgive death death forget forgive forgive death desert loneliness place room death',\n",
       " 'good meet memory wisdom teeth collapse front strength faint leave please love good break wait believe fine anxious case love wait heart good matter many time tear head warm voice love good',\n",
       " 'smile brighter face anyone fall everyone show side luck sing song shall call name dream shalalalala smile brighter face anyone fall song shall call name dream shalalalala song shall call name dream shalalalala',\n",
       " 'joking fool clumsy excuse hurry hurry selfish sweet crazy temptation moment dangerous experience dangerous experience scar make sense hand obvious habitual tired start small curiosity delete everything dangerous experience wish dangerous experience hint much nothing home work delete everything dangerous experience wish dangerous experience dangerous',\n",
       " 'protect last forever love break easy break bite crazy love crazy something crazy know innocent stupid knew easy meet look easy crazy love crazy something crazy know person woman meet resolution turn crazy think crazy crazy much forget wait',\n",
       " 'closer heart heart leave come true heart much night pathetic silly heart true heart much night pathetic become dull come pathetic moonlight next hang second',\n",
       " 'down sister second single shady girl watch movie food need water drunk matter hard nervous stomach know face girl face girl nervous afraid nervous nervous time pass heart heart heart pretensions girl care make high heel pretty clothes good feel phone hung case know hard feel face girl face girl nervous afraid nervous nervous time pass heart heart heart pretensions girl care outside endless angry pretensions stand front smaller know girl face girl much special nervous afraid nervous nervous time pass heart heart heart pretensions girl care',\n",
       " 'late moment empty spot hurt forgive pride pain place everything wait place memory even heart breathe pain place everything wait mind please feel afraid come seat empty',\n",
       " 'today board black jake people fall today cliff rope point course rustic rapier talked something brag swagger chain shoe thing hard road know youth youth dangerous grave musician greedy empty outdo frank intra easy young player wayne mess wayne gretzki game best stop want move today board black jake people fall edge cliff today today board black jake people fall edge cliff today plane much higher game personal talent youth jackson life watch broken alarm thanks late meet successful people night bigger picture year second consultation everyday choice believe year lasting night shine running running calendar torn countless time blood sweat all song baby today board black jake people fall edge cliff today today board black jake people fall edge cliff today nothing hawaii thing success hard all homeboysdo tearing clear money brotherone love till live life work money mule bird life shoulder heavy weight life bring world wave time paper boat father bishop dose free deepflow tyne elector hottest collar',\n",
       " 'stop please longing love miss much miss swallow thorn hold rest life break heart time able feel empty empty memory fill matter open short time dead hurt heart tear wound love thorn love hold rest life break heart time able much much word please collect word flow heart heart flowing towards',\n",
       " 'thankful happy nice stroke hair love shook heart sorry hate anymore picture throw everyone want hear anything hurry head fine pretend cool smile someone soothe hard time everything delete everything anymore picture throw everyone want hear anything hurry head fool world love want break leave love hear anything stay',\n",
       " 'goodby gripped point death understand explode crazy cold painful hate absence heart shower break last long heal letter forget today tear smile hurt much dream frustrated breath nothing want tear nothing letter forget today tear smile hurt much dream sick frustration breath today fool broke tear nothing tear nothing broke',\n",
       " 'memory happy memory stain tear hate someone happy sorry goodby loved nice girl confident nice guess time person good think happy sorry goodby stop love goodby goodby goodby',\n",
       " 'love love first sight heart time gift world last much anyone matter want waste waste good love love matter hard stop word many time tell something love world lose miss smile love love heart time gift world last love night thing change rain happy fairy tale fall sight woke princess umbrella rainy cool smile side heart full nervousness someone heart glance guess fate gift world last love happy time answer love last last love love love happy overwhelmed breath love love love happy love anything last love',\n",
       " 'beautiful girlsall world time nothing babythey says nothing baby thethings foremost pastor hell upon carousal around spun spunwith trying sometryna chase summer sunthis how much conscience baby stand anna sound redundantbut anna knowbut good anna episode episodeand thoughtsjust beautiful girlsall world time nothing babythey says nothing babylon nothing another one seenanother outlook style nothing and baby whole packageplus taxesand themother stay wonder woman call meme fantastic stopnow london tokyoback home georgia orleansbut steal showsteal showed frozelike intend world wastedthey nothing babythey says nothing babynothing namesake named matter girl anna singwhether planter train girl girlsall world time nothing babythey says nothing babyyeah stand ride',\n",
       " 'anna talk face crow calm action show pathetic keep choose close come pretty window made stop tell step step nervous stop time tick took tick took talk steal heart game mine mine mine hair come window made stop tell step step nervous stop time tick took tick took talk steal heart cut pretty quick plan game cheek download light hand shoulder everybody touch come step step step nervous stop time tick took tick took talk steal heart back',\n",
       " 'back today skin time ashamed time know little change little little country little late wait someday good love rest life bright smile shoe owner spot protect street night wait bright star live proud time smile know little change little little country little late wait someday good love rest life coming time back good love bright smile good love coming time',\n",
       " '',\n",
       " 'white voice breath disappeared people winter cringe hurry cross signal hurry side side confession december hurry today sour cold copy winter hurry cross signal hurry side side courage december hurry snow beautiful moment normal night dark alley hurry front house shine sincerity december tell winter season',\n",
       " 'character something ironclad next next next popularity beer bubble mistake bait humble look thank swag thank flex life trot dusty trophy scene much blow believe endless temptation dangerous deal popularity guilt spell crisis spirit popularity xhakalaka fireworks xhakalaka xhakalaka fireworks xhakalaka fire heartstill hypnotized wake cause kkondae soporific medicine humility hell fire deep life short listen smart popularity forth links stop keep tafa bone smile popularity sour moment crazy angle emotion cheer thing endless temptation dangerous deal popularity guilt spell crisis spirit popularity xhakalaka fireworks xhakalaka xhakalaka fireworks xhakalaka crisis spirit popularity xhakalaka fireworks xhakalaka xhakalaka fireworks xhakalaka fool paradise',\n",
       " 'today glass heart anything goodby today place feel goodby please useless break please empty glass cart place everyday feel goodby please useless break please empty glass drink glass stranger drinking finish love someone break please empty glass',\n",
       " 'french huge heart dangerous press little warmth whole night listen time early morning wake spark spread bigger hottest small small spark spark bloom spark spark dawn live whole body spark bloom black darkness brighten circle shine front strong wind look traveler star street yesterday small bird small bird time breathe wake spark huhuhuhu bigger hottest small small spark spark bloom spark spark dawn live whole body spark bloom time long time look wake spark spread bigger hottest burn bigger hottest small small spark',\n",
       " 'life moon rise wish parenthesis hmmmmm anchor island everything hang meet boundary time stand past dance breath half endless night heart hurt freedom tomorrow able meet place able find glance hang meet boundary time stand past dance breath last meet reason moment sleep call name withstanding tangled time foot chase future breath narrative first line afraid anything life wrap moon look',\n",
       " 'hair glass angry talk adorable drink beer yesterday memory everybody raise hand beer cheer face youth situation laugh morning everyday suit night full headache right drink beer yesterday memory everybody raise hand beer cheer face youth situation laugh morning daily life sick want live today time everyone noise face youth afraid situation everybody raise hand beer cheer face youth situation laugh morning morning come',\n",
       " 'choose cold winter cashier sweeter first time green scarlet purple night white snow christmas whole world christmas first winter gold necklace nice blue confess hope christmas world warmer christmas warmest snow heart white christmas full love christmas whole world christmas cool full love whole world merry warmest dream side',\n",
       " 'sigh sigh long silence cold wind love distant season heart guess love love love lived heart break dust small promise spread wind love frozen break pain cold wind love distant season heart guess love love love lived heart break dust small promise spread guess stranger love different love love leave memory scent guess love',\n",
       " 'look fate star night stay long time poem memories night protect hear heart forget season heart world poem memories night protect hear heart flower bloom fall please heart someday time hesitate time',\n",
       " 'starlight building room star light ambition light wanders people light everyone precious hand dark night star shine person shine expression night beautiful star light dream pitch dark night light thing shine deepest night starlight shine deepest night deeper night brighter history person person light different world life night view city city night dream shine shine brighter anyone else expression night beautiful darkness moonlight dream pitch dark night light thing shine deepest night starlight shine deepest night deeper night brighter city fire city star night young fire people full people pitch dark night shine dream smile light night shine shine dream smile light night shine tonight',\n",
       " 'drink drink drunk memory drunk strong love phone number answer alcohol problem alcohol problem crazy drink afraid memory broken drink forget ease drink drunk flurry drunk faint memory press phone number sorry alcohol problem alcohol problem crazy drink afraid memory broken live sober live right mind drink afraid sorry problem fool problem drink miss drink much drink afraid memory drink',\n",
       " 'artist call idol matter care proud free irony point care reason trade trade stop loving nice stop loving jihwaja sound good stop loving deonggideok kungdurreo deonggideok face star spotlight superhero anpanman hour enough confusion luxury than love love love dance today running running stop loving nice stop loving jihwaja sound good stop loving deonggideok kungdurreo deonggideok fine time time time okay love okay happy moment nice stop loving jihwaja sound good stop loving deonggideok kungdurreo deonggideok kungdurreo',\n",
       " 'forget breathe please spell know heard friend rice force alcohol breathe forgot face afraid hear hurt rice force alcohol breathe forgot face night endure many immature prank corner miss smile anything guess someday someone love live',\n",
       " 'year thought appear night fall everyday person love forget heart guess dream guess wait guess come love catch happen miss guess love dream guess wait guess come love dream head live dream guess dream guess wait guess come love',\n",
       " 'left autumn night season reminds please scent cold night night busy fine night miss tears night sleepless night time autumn night season reminds high please scent cold night night sorry enough hard much miss matter many time endure heart happy happy memory ease live love thing heart please past time frozen autumn night',\n",
       " 'spot head drop precious word everything humble someone special make feel special matter much world collapse painful word spoke smile special feel nothing feel feel special hide face everything meaning meaning front warm smile touch everything humble someone special make feel special matter much world collapse painful word spoke smile special feel nothing feel feel feel special make everything alright cloudy sunshine light matter dark night feel special matter much world collapse painful word spoke smile special feel nothing feel feel special',\n",
       " 'anything feel cold heart deep voice smile long want show know hard smile purple small feel empty space emptiness fill heavy rain rough wind wide shade pain hard smile purple small rest',\n",
       " 'thought tried everything start easy forget everything first time meeting memory heart race yesterday clear ease believe break everything first time meeting memory heart race yesterday clear ease memory ease anything fool word forget everything everything first time',\n",
       " 'heart feel empty second broken memory dark night star shine long make dream tomorrow heart empty call name daytime close draw miss miss give strength course cold look shabby warm word everything breathe heart empty anything long time alcohol sweet miss miss heart feel empty call name step close feel side much miss miss miss',\n",
       " 'breathe landscape love trust word lock deep night fall loneliness love trust look long night hide bright light someday trust trust please trust word',\n",
       " 'time reason wait fool innocent wish sense make nothing different everything night hope painful time pass hang hard hold forget resolution everyday habit funny okay everything night hope painful time pass hang hard hold forget resolution everyday habit okay pretend empty hard right hand last word miss thinking daytime nothing hard endure much remember love',\n",
       " 'lion queen trap fire blue flower burn lukewarm child sharp claw wound footprints hover crown cover body music obvious rhythm lion dance look body music dance lion lion queen lion lion queen lion strong turn foot vast wilderness spray hard seed magnificent call heart deep stick melody cover lion place fierce raise volume cheer everyone head crown young lion cover body music obvious rhythm lion dance look body music dance lion lion queen lion lion queen lion bite useless manner prejudice break dare someone block control careful tonsil path obvious old kick tongue applause accomplish thrilling deny queen look lion queen lion lion queen lion lion queen tame love',\n",
       " 'afraid worried word shout heart disappear lonely lean shoulder mind hurt sure side word shout heart disappear think stand side give whole world',\n",
       " 'main character movie fill window flower greet hear footstep wake smile main character today wonderful love wish happy moment open early morning smile today story story main character today wonderful love wish happy moment dream moment main character today wonderful love wish happy moment dream smile wish need happy moment',\n",
       " 'ice american american ice american unknown unknown unknown ice american please lose happiness matter stop pretend hear precious people push uneasy world unfamiliar dangerous adventure rainstorm unknown unknown unknown ice american american ice american dangerous magical secret much stronger strength heart wake unknown unknown unknown ice american american feel show ice american american ice american american ice american american ice american american dark long time unknown',\n",
       " 'full surprise happen track name suspicious machine life retirement last year thing quit sudden film music toast glass turn moment moment camera masterpiece mind little witness much mean today comfortable long night bright light anyone knowing point ready year body hide world stop shit passenger seat driven phobia driver license hobby shotgun manager award seungwoo fanhwa hyunsoo year sanghyun sang quiet hyunsoo heat time thing someone jealous matter crazy lazy crazy year cheese release ready focus invisible fear record worry fatigue increasing kill treatment light heart jump stage anyone knowing point ready year body hide world stop shit night light turn temperature studio guess heat ripe older brother club vice work runner high foot license give goosebump rich friend good experienced everything true taste emboli hand change spit person show life race right matter many head step year hang calendar anyone knowing point ready year body hide world stop shit something feed family dress look',\n",
       " 'love syndrome motherfucin trendsetter moon jem picture unique point hook love syndrome motherfucin trendsetter moon jem picture unique point shout order hook grade open school bell high school year smoking year hard shorten hongdae backpacker bill shaved hair beef bone answer syndrome hood stop show vice experience owner everything grade form group side summer panasonic point shot front who woman university seen john face borrow wear cumberland competition award okay listen world happen life magazine bounce stop matter more impossible maybe mind cold concert yeahvince carter rook school uniform crazy love syndrome motherfucin trendsetter moon jem picture unique point hook kind weak love syndrome motherfucin trendsetter moon jem picture unique point shout order hook awesome jerk wear part whistling towards communist party money scrap everything border money clean private opening champagne dare money time esaul level money money money money cuckoo money watch watch rock star best start king club park amos freak jungpal out simon mucin dominion hung seek confidence black sound master plan funkmaster flex refresh bishop weird middle school path tutoring success good tapping compare title next album spoiled everyone ready wash love syndrome motherfucin trendsetter moon jem picture unique point hook kind weak love syndrome motherfucin trendsetter moon jem picture unique point shout order hook awesome grade syndrome amazing parent name black good human help help lyric gathered vice program feel confident high school last place homeroom teacher soccer team good class present path test college entrance exam listen adult life drunk style someone raise double middle finger cool life roller coster older sick grade syndrome',\n",
       " 'problem anything problem anything approach step afraid guess know hard hard close kind touch heart guess know hard crush anyone guess expression smile problem everything everything',\n",
       " 'energy happy perfect woman countless blank feel wander homework everyday joke life good luck time right everyone want angry countless question small difference number seed look circle life good luck stumble straight take time right everyone ease hard lalalala love life mean lalalala love true nervous much trouble time life luck right everyone slow okay',\n",
       " 'love dark cold winter guess flower first sight heart first love feel expression know honest express spin star clearer dark sleep night talk hurry rise sound footstep heart come voice step who twilight twilight who twilight twilight night longer guess deeper dance night room blue contact night baby make heart flutter baby night talk hurry rise sound footstep heart come voice step who twilight twilight who twilight twilight hurry twilight dark night show moment heart shine night give come step twilight twilight come who twilight hurry',\n",
       " 'tell relationship ambiguous reply mania mania truth call feel sweet wish moon leave comment tell everything social position rich jealous talk talk lying fill cart anniversary ocean anniversary play girl brother tell relationship ambiguous reply mania mania truth late jungchop drop older tend gentle personality attitude long time want loud need many people comment long time tell nothing matter best heart girl hesitation sensitive meet lose money hand diamond neck moment shine right course everything price match hard call talk phone mania mania truth tell relationship ambiguous reply mania mania truth late',\n",
       " 'skin meal time frozen hurt death emptiness embrace street miss warm heart excitement pace miss miss time miss dark cloud dark hurt okay forget embrace street miss warm heart excitement pace miss miss time miss flower torn heart broken left hard pretend okay today embrace street miss warm heart excitement pace miss miss time miss',\n",
       " 'thank break thank heart thing make hate change best people obvious word point drag break okay break today hating regret pretend crazy break word point drag break miss love understand sorry sorry hear change word point drag break okay break today hating regret pretend crazy break waste time break last love sick tired able please drag break stop regret death much break love back time word point drag break right break',\n",
       " 'comfortable small excitement greedy guess repetition time nothing laugh warm spring enough nice nice time time time force harder nothing confidence meet warm spring happy nice nice anything shabby happy everything hugged regret miss much time time time',\n",
       " 'everything meaningless precious street gift moment who small miracle clumsy confession people make dream moment anyone else world precious person world full season warm anything like side enough moment who small miracle clumsy confession people make dream moment anyone else world precious person beautiful promise hand grateful path walk hard talk future road thankful thank much',\n",
       " 'channel white cloud beautiful look sweet voice give write heart different look inspiration write love song response obvious similar similar confess love song style wear suit taste good good quality comment matter water change shape wise everyday biting chocolate sweet rush sugar crush candy cheek blush touch moon rise night shine matter world drowsy bold beautiful anyone anything anything smile live life hate unhappy angry thing hate life tissue wear luxury brand pain heart dark moon rise night shine matter world hell sure happiness hell sure happiness moon rise night shine matter world channel white cloud beautiful look good true good true',\n",
       " 'sunny stop believe think time moment kind expression anything honest confidence break okay confident better goodby nothing honest confidence break okay confident better front breakup hard hurt break alone confidence live stand better',\n",
       " 'busy appointment appearance indifferent little little urgent moment beautiful smile crazy loved everything guess opposite much guess look believe guess anything movie forget everything guess opposite much guess look happy live miss',\n",
       " 'night heart teach hide hurry heart spark give stay night cross milky streetlight night star move step time scent night want drunk lean night cross milky streetlight night hide night cross milky streetlight dozing night',\n",
       " 'wake sound alarm clear rain dress clothes yesterday neat maker hurry pick liked sunset cool couple stop beings damn last week main character drama fire love show anything cool love silly you need happy this stop you need took needy boris sweet babecan love love love love baby happy press photo shoulder kiss someone point head know baby feelinglike huge need smile wish better pathetic anything cool love silly you need happy this stop you need took needy boris sweet babecan love love love love baby happy nice guy hate nice understand night sleep you free hope special can stop damn needy',\n",
       " 'moment leave find night desert wide world baby better tighter long road light person night eternity endless breakfast hold hand right right right right right hero world loud cheer hand trophy golden microphone everything reach answer journey baby taller stronger voice everything spread read look people want hear scent back time baby better hold tighter road towards everything touch night eternity endless breakfast hold hand right right right right right word hell hesitate please life thirsty desert hurry catch desert better hold tighter right everything useless right right right',\n",
       " 'glass sipping tapping bite tarsus gripping grape latin mood style bite steel illness drunk dionysus hand thy sauce hand transparent crystal alcohol drunk fool funny dunnoyou show something different rough wood breath sound rise party fall asleep party born pain creation bite roar time bite okay ready drink drink glass everyone fall crazy artist shot shot shot drunk call hey drink glass everyone fall crazy artist shot shot shot call playing kkwaenggwari glass sipping tapping tarsus gripping grape latin mood style steel front door world cheer stage tarsus night comesmumble humble humble night comestumble tumble tumble tone fill studio bath drum calm rise party fall asleep party born pain creation bite roar time bite okay ready drink drink glass everyone fall crazy artist shot shot shot drunk call hey drink glass everyone fall crazy artist shot shot shot call playing kkwaenggwari stage world stadium party born pop idol artist artist idol artist important much drinking record fight fight toast shot thirsty drink drink glass everyone fall crazy artist shot shot shot drunk call hey drink glass everyone fall crazy artist shot shot shot call playing kkwaenggwari glass sipping tapping tarsus gripping grape latin mood style steel drinking glass sipping tapping tarsus gripping grape latin mood style steel illness',\n",
       " 'cold winter breeze deep footstep find reason white sigh spread frozen tear lead wound season eternity hold awaybefore stumble stay survive hope bloom meet close spring full cold breath blood harsh winter seoljungmae camelia want life full paradol gutta isgettin marathon world hard everyone adult sense listen winter branch light blue scent teach different best fall resembles white light frozen hidden moon start hold hold awaybefore stumble stay survive hope bloom forget flower winter become star side awaybefore stumble stay survive hope hope bloom hope hope bloom hope bloom',\n",
       " 'doubt wake baby good lover attitude cool word water treat anna ride suit whole body night meet center look good feel good whole world turn upside trouble girl trouble dizzy wrong feel right feel head trouble girl trouble endure sick stay trace okay heal cure deep escape heaven opposite hold good feel good whole world turn upside trouble girl trouble dizzy wrong feel right feel head trouble girl trouble dream mixed reality fantastic truth trap world baby goddess fire soul girl trouble good feel good whole world turn upside trouble girl trouble dizzy wrong feel right feel head trouble girl trouble',\n",
       " 'promise love guess second person easy joke smile anything night bright word live forget footprints baby love love warm hand hard shake shadow breath kind music dance baby youth love',\n",
       " 'quiet night heart fall asleep tunnel warm breath breath soft breath heart place rest wrap angel blew wind warmth change afraid side hand life life disappear color stronger everything lonely time dream dream warm wind place dream wind warmth change afraid side hand life life disappear light dark night meaningful dizzy spark heart dream person change melt heart embrace warmth warm whenever wander wander angel life angel life flew change afraid side hand life life disappear angel angel angel angel disappear',\n",
       " 'familiar unfamiliar song feel song song write calmly song loved clothes long time twisted memory hand appearance mind smile stay hold today unusual song write calmly song loved time hope sick nothing happy sick thank thank song',\n",
       " 'feel feather sweet dream feel disappear feel soul strange feeling important thing hate petal fingertips breath breathe movement stop anna groove baby dream drowsy silver light break emotion jealous shine small breath dance capture transparent tell stay petal fingertips breath breathe movement stop anna groove baby dream shine feel space feel afraid hand become moment feel won tonight time body dance free stationary time close fall dream anna groove baby dream deeper dream baby scent deeper feel explode cloud anna groove baby dream baby',\n",
       " 'grind head everything grind heart butterfly please please heart golden heart subways station heart plant heart anything bloom bean bean please change everything head everything turn upside heart butterfly please limestone heart beat heart perfect plant heart anything bloom bean bean grind turn upside head everything turn upside heart butterfly please love',\n",
       " 'anything time anna feel sorry break tonight stranger earth fall nothing happen temperature phone appointment cold heart repeat gaze fault time cold tonight stranger earth fall nothing happen word finish earth nothing breakup hand pocket heart night call fault time someone last time tonight stranger earth fall nothing happen word finish earth nothing breakup anything time anna feel sorry anything wick burnt world change tonight stranger earth fall nothing happen word finish earth nothing breakup anything time anna feel sorry sorry answer anna feel sorry sorry',\n",
       " 'time cloudy full question hidden secret turn gaze answer lock silence side chain surface breath shot defines ready voice head terrible night break wriggle nightmare hesitation dominate break hide place hear endless drive crazy dream deep fall existence fill whole time dark blue dawn night stumble shaking shot defines ready voice head terrible night break wriggle nightmare hesitation precarious moment distant night shadow moonlight piece memory wrong night break wriggle nightmare hesitation break peace',\n",
       " 'sick side lean matter season cold warmly someone umbrella rain meet endure hard heart matter season cold give warm love someone umbrella rain meet endure hard happy express love word hard',\n",
       " 'white fall whole world snowflakes girlyou heartfelt bottom heart thank chest busy love young love song sang dream present nervous afraid wake dream tight cherish mind thank white snow fall whole world snowflakes help hand walk snow footprints road brag girlfriend give everything nice next year next winter side white snow fall whole world snowflakes help hand walk snow footprints road happy love next walking hand cheek whiter white snow kiss baby baby christmas wait side promise advance help hand walk snow footprints road girl you life baby',\n",
       " 'contract company pace number number many time cheetah false crazy make dream sister necklace idol band member confidence full evidence serotonin reach generation generation camera popularity snap dance teutonic close example track light talk plan write syllable delete write stop doorway corporate satin history office pilgrimage dark cloud rainbow crutch grizzled money case sens thunderous call thunderous young fear habit call thunderous call thunderous goodby young young young matter group leader throw game please bank account balance happy moment butterfly effect money storm care birth money birth money mean pregnant bill stomach second daughter saimdang nonsense bill stomach straight hand mean mean mean mean mean dark cloud rainbow crutch grizzled money case sens thunderous call thunderous young fear habit call thunderous call thunderous goodby young young young matter group leader thou hammer success dull wallet bang effort hope great love come jacket jacket head right time answer pick jacket jacket everyone precious live flex dark cloud rainbow crutch grizzled money case sens thunderous call thunderous young fear habit call thunderous call thunderous goodby young young young matter group leader',\n",
       " 'heart beating breath stop much heart ache happy need hold rain wetting whole body head rain replaces much happy memory love love love goodby love love whole body good good please happy step step farther word hard hold hand sigh drinking tear much happy memory love love love goodby love love whole body good good please happy step step farther heart cold heart stop breath stop love love love goodby love love whole body good good please happy step step farther wetting whole body tear whole body good good please happy step step farther',\n",
       " 'people hellowhellow fellow name slowcome fellow hellowhellow fellow fellow fellow good hurry block relationship sure meant listen last story room house woke vain moment people hellowhellow fellow name slowcome fellow hellowhellow fellow fellow fellow memory tear memory tear sleep blank miss room house woke vain moment meet room house woke vain moment people hellowhellow fellow name slowcome fellow fellow wanted hear hear hear everyday',\n",
       " 'think time pinch cheek heart feel love magic breathe heart explode love everything person come heart picture night star love everything person chase chase chase find find running find beautiful anyone world bright cause happier anyone loud confess please',\n",
       " 'last last long tonight sure busy welcome world beautiful soul city loud music black brown hair slow attitude clear confidence towards obvious confident touch heart beat excitement world show upside good good band hood hood badbut good good band hood hood down everyone crazy everyone tonight hold nobodyhold nobodyhold keep rocking rock dark front pierce high immature charm fearless youth thing mess game crazy raise volume world badbut good good band hood hood badbut good good band hood hood stop everyone crazy everyone tonight hold nobodyhold nobodyhold keep rocking rock rocking rock stop anna make rock donna stop soyna rock stop anna makeyou rock donna stop soyna anna',\n",
       " 'cheap dizzy break break nice everything break break live tonight look shabby comfort hand stranger possession thought wrong meet someone cooper regret sadness cause love love love tonight gutta fiance beyond walking destiny shabby fancy everything regret pretend sadder cool fool shit crew time gutta good ladies tonight make look shabby comfort hand stranger possession thought wrong meet someone cooper regret sadness cause love love love tonight possession thought wrong meet someone cooper regret sadness cause love love love tonight',\n",
       " 'break word apart cold body name name tell side course wait something mistaken number encounter frozen expression heart beautiful word faith either necessary angry hide breakup dozen time last last please second front house look face regret break word apart cold body name name tell side mean boyfriend word everything mean leave understand feel talk mean sorry anything come look face want waste memory need disappear point view much obvious advance good sense turn push time answer time think break word apart cold body name name tell side first want answer cheek meaningless kiss hand hair last',\n",
       " 'cap hand cap hand cap hand everyone cap cap hand everyone cap matter cap hand raise hand high winner today game hang hurry stuffy city beat everyone lion anna rock body crazy today body bump hand mimi crazy second today greed everyone walk champion everything ready cap cap hand talk cap cap mountain minute jane tartar escape vast universe explore friction deep wait time rock body body crazy today body bump hand mimi crazy second today greed everyone walk champion everyone ready cap cap hand talk cap cap attack hand cap show cold world shake earth music louder sound sound shake world feel dance anna rock body noise worry anna rock body noise heavy luggage cap cap hand talk cap cap',\n",
       " 'wear shoe street nothing sprayed perfume sure promise guess please anything sick tonight change heart much hurt nothing calmly feeling regret late love please better meet sick tonight change heart much hurt different cried recognizeyou mine change change come change come change keep heart much hurt hurt',\n",
       " 'anything love cafe night heart phone number case case night transition clumsy confession rough hand warm turn everything loved hurt love love sick nothing much okay time night drunk tone heard talk tomorrow nervous angry call goodby miss word love turn everything parted hurt much breakup sick nothing much okay forget hurt regret know know trust love love hurt much',\n",
       " 'goodby much heart ache heart heart first thing meet happy thing something precious heart first thing know late heart side mean hope goodby meet much',\n",
       " 'foolish love boring okay stop expression wrong heart tear feel short love stop foolish okay stop phone call break street stop foolish love boring okay much time love hurt ease corner heart stop foolish right stop',\n",
       " 'noah noah break nowwoah noah noah going love keep hard time problem interference make past call tell happy tell time time good pretend hear turn head breakup song higher fooled sweet temptation time goodby free moment love pain forget number quarrel sigh mouth something wrong better crime repeat kind fight beat hate ease please drive crazy hate rate tell head breakup song higher fooled sweet temptation time goodby free moment love pain wherever right pray hand happy higher fooled sweet temptation time goodby free moment love pain forget noah break nowwoah noah noah night memory memory',\n",
       " 'heart shake feel time heart anyone beautiful smile hand hope anything anyone beautiful wave hand happy heart shake fall love fall love fall nervous fall love fall love fall heart fall love love fall fall love',\n",
       " 'girl world girl right girl raindrops fall tear tears today fall tear tears singing song reason reason next mistake know cigarette alcohol deep sigh main character love song lyric dress hate weekend shabby baby girl miss personality baby girl miss raindrops fall tear tears today fall tear tears singing song heart everyday rainy handle interest life night star fill vacancy smile know smile dress hate weekend shabby baby girl miss personality baby girl miss raindrops fall tear tears today fall tear tears singing song give give raindrops fall tear tears today fall tear tears singing song',\n",
       " 'girl lorelai they lady meet minute wound stop wherever want anna anna girl look heart heart please accept heart baby heart heart stole heart please baby goddess quiet everything good girl call heart clock time girl look heart heart please accept heart baby heart heart stole heart please baby goddess noah noah noah noah baby girl baby baby girl love heart baby baby everything world venus goddess',\n",
       " 'moment thinking minute second right baby crazy know feel everyday look know waste time love anything morning open hear love everyday baby mine heart crazy confess everyday waste time love anything morning open hear love everyday speechless breath hold hand hand look moment much next keep friend love everyday kiss',\n",
       " 'guess love sorry year month heard voice break love forgive cheat hate much heart foolish love stop chest stop give heart today birthday gift breakup candle cake friend persuade heart foolish love stop chest stop give heart girl time crazy tear crazy live song love think someone someone love crazy live love',\n",
       " 'long time year hard time memory throw picture year guess forget guess place time forget time long ease month month time able forget able ease year guess forget guess place time forget time long ease okay word fill time year daytime love love love forever',\n",
       " 'love word heart time give something someone side strange scar understand love keep true thank memory memory love word heart time give something protect clumsy stupid hard time little late give chance love word heart time give something glad something heart race love word heart time give something',\n",
       " 'touch tell hold show whisper feel kiss touch show teach feel show confident confident forget time right moment world tonight open door heart hold tight soul wake touch tell hold show whisper feel kiss touch must show tell kiss touch must show tell kiss touch show teach feel cold smile fall little little afraid anyone right tonight open door heart hold tight soul wake touch tell hold show whisper feel kiss touch must show tell kiss touch must show tell kiss touch show teach feel kiss',\n",
       " 'woman know much love love pitiful toleratejust able farther others sick abandon comfortable something something understand head love wash driving sinner love harder know woman know heal tear wake nightmare something stuck heart heart tomorrow right miss please someone protect something something understand head whole body free heart time breakup love longing woman know much word enough melting heal tear wake nightmare something stuck heart breathe want breakup tear live better anyone smile chased something nervous crazy hard love love pitiful toleratejust lovejust forget love',\n",
       " 'memory mind sorry hard time stayed side happy everyday breakup catch good memory sprang wander much love place time person stop catch good memory sprang tear easy afraid look afraid become memory remain good sprang happy good person forget memory smile thank sprang',\n",
       " 'lover lead little little little little little dream short full story love story start love full story love story start love need unfold future something cherish give chance give chance love movie love',\n",
       " 'first chance meeting pain give laughter guess half heart person close kiss people closed heart heart guess half heart person close kiss people wound hurt everyone want love person close kiss kiss love love people thank thank side',\n",
       " 'love talk sunlight asleep like little dream heart right heart side side dream street sunshine fall next little dream heart right heart side side street dream',\n",
       " 'heavy eyelid morning sweet word droop shoulder afternoon magic word something hear thousand time side something want hear best prettiest long word help tear word sunlight something hear thousand time side something want hear best prettiest love give sick thank thank much thank something nice hear time side happy word best prettiest something nice hear time side happy word best prettiest',\n",
       " 'sorry anything sorry anything give give love humble live pride sorry sorry okay okay something feel common perfume gift friend mother phone afraid friend afraid pretend guess angry humble pride feel guess upset right argue fight understand understand understand left persistence sorry anything sorry anything give give love humble live pride sorry sorry hard painful fine long please okay okay smaller front small feel shabby attitude people know drive crazy busy excuse busy bother economic issue anniversary sort excuse excuse hard hard small hard price hard choice poor sorry anything sorry anything give give love humble live pride sorry sorry sorry baby good nothing give sorry baby good nothing',\n",
       " 'hold fist think first breakup stop hurry hope fist cried meet meet bite cold word look resolution repeat dream answer dream regret easy fill empty spot memory shine place mean send fist good luck home know heart hard meet meet bite cold word look resolution girl mind forget much break live case world loud noise',\n",
       " 'donna smile promise everyday everything nor nor nor story challenge nice give feeling everything make donna smile promise full time donna smile surprise different kind everyday thing nor nor unique charm show play want give feeling everything make donna smile promise full time donna smile surprise different kind everyday thing nor nor give something feel something sense fashion humor play game many idea game much watch play playing hurry heart donna smile promise full time donna smile surprise different kind everyday thing nor nor',\n",
       " 'sundry rain afternoon matter feel something better moment able everything easy sound work broken heart stand shake memory resentment subsides clear easy sound work broken heart heart pour love anything empty okay teeth tight heart sound easy broken heart sundry rain afternoon',\n",
       " 'cause lady honest call girl call girl hesitate girl dizzy dizzy bright baby girl lover high playboy casanova copy sofa rest feel root control leaf clever fragrant fresh candy shop hair baby come cause lady honest call girl call girl hesitate girl dizzy dizzy bright baby girl mysterious smile hurry soft touch warm cold show beauty hide scared hurry open heart baby juliet okay baby lady lady honest call girl call girl hesitate girl dizzy dizzy bright baby girl crazy baby crazy baby sweet baby sweet baby pick pick pick pick tick took tick took baby twenty girl pick pick pick pick long king long open heart',\n",
       " 'sound child expression colored sunlight echo play hide childhood girl first time excitement reason hidden time hidden spreading echo play hide childhood girl excitement first time reason hidden time hidden',\n",
       " 'guess heart need many time guess close afraid disappear reason first hair look mirror wrong guess heart need many time guess time date wrong waiting guess friend guess smile scent guess good guess heart need many time guess love waiting guess friend guess love',\n",
       " 'nervous nervous dream fall asleep turned night scared miss afraid guess anxious much love impatient make girl live girl life tell anything nervous tell time become better live anxious much love impatient make girl live girl life tell anything nervous tell time promise love love woman hate live girl life tell anything nervous tell time love',\n",
       " 'heart much misery break way stray farfrom side walk play safe side hard trust debut everyone afraid lose point cannot smile laugh life heart evenwhole start stray farfrom side walk play safe side hard trust debut everyone afraid heard night sleep young knownbetter lean anyone pain middle night damn thing farfrom side walk play safe sides tried hardestjust everything anyone lifebecause empty afraid',\n",
       " 'meet know kind relationship heart beat weird feel nice hold hand walk street umbrella rain first time feeling tell confess feeling anymore hate living bruise chest much love enters morning want hear voice heart lalalalalala confess feeling today hate living bruise chest much love love love love love love light dark life person love kind heart forever look love love love love love love love',\n",
       " 'check delicious hhhhhhhhh hello baby baby hmmmmm hang everyone tack thing auntie uncle moment give discount pick know ready ready waited trust please rice member different warm attention look someone mmm everyone world hmmmmmmmmm trend female group girl idol group year problem test paper need full body plastic surgery song hook song auto tune sick conscience guilty skill chart melody plagiarism trend brand attention everyone focus musician luxury luxury wrap service give time hmmmmmmm everyone world hmmmmmmmmm everyone delicious delicious line everyone delicious delicious line tiger grandmother fast wrong great listen become cool listen look short crazy cool been behalf everyone hmmmmmmm everyone world hmmmmmmmmm come hmmmmmmm everyone world hmmmmmmmmm mountain mountain mountain name mountain mountain mountain money world mountain mountain mountain mountain mountain mountain bigger',\n",
       " 'everything rhythm everyone look everyone everyone everyone thankful confident week rhythm stop help everything everything look everyone thankful confident week rhythm stop rhythm sens rhythm stop',\n",
       " 'mater down promise strong raise winter strength cliff sadness fail held hand anything humble singing song today pain hidden together right word breakup matter anyone hand world many people change little little please close friend lean trust promise that baby anything humble singing song today smile hidden pain together right word breakup matter anyone hand world night breath afraid anything world ocean baby together right word breakup matter anyone hand world',\n",
       " 'much time able come side able many cloud able come side able green broccoli bluish able able come side song tell love love love love many cripple able come side able green broccoli bluish able able come side song tell love love love love love love love love love love love love',\n",
       " 'watch place nervous hand touch bodydouble face change double date stop baby special special want keep double double double double double double everything hand double sex youdouble check want stop baby special special want keep double double double double double double everything hand double baby special special want keep double double double double double double everything hand double',\n",
       " 'ease time goodby love style sick long time flow meet girl street think scared interested kind girl make tear much decorate waste time feel anything ease time heart fool sorry girl fool girl love keep touch please hate several time understand turn ease time goodby crazy word cool word make love word hear forget time goodby',\n",
       " 'precious babe dance singer year technology skill dignity value luxury people much sleep others sleep room fish thorn watermelon seed heard insulted gather too everything party babe babe memory babe money grasshoppers foul party combine scholar anti people much sleep others sleep room fish thorn watermelon seed heard insulted gather too everything okay middle extreme much middle ground person took took took took time too everything good good good nice good good good',\n",
       " 'first person curious heart calm wheel ignorance medicine answer multiple choice question first sight far heart heart heart heart heart heart person dizzy meeting meeting crazy unfamiliar scent strange woman face unfamiliar scent strange woman face face face face face look contact contact heart rice guess disease hurry beer bottle heart heart heart heart heart heart person dizzy meeting meeting crazy unfamiliar scent strange woman face unfamiliar scent strange woman face face face face face face faceted face faceted face unfamiliar scent strange woman face unfamiliar scent strange woman face right face face face',\n",
       " 'kind dream dragon cool cool please please girls into aroundlisten girls the shine okay mind the today right right awesome right crazy today little crazytonight water point something kind something good please please little higher girls into aroundlisten girls the shine okay mind the today right right awesome right crazy today little crazytonight water everyone look noise crazy everyone look noise crazy baby university indies moment everyone thing different place right unique energy happy today awesome crazy live today',\n",
       " 'know sign signal sign send signal send sign signal send sign signal send sign signal sign send signal work hint understand cheer sign signal gesture facial expression useless connect guess sense coach express feeling point slow treat friend send signal send signal want want time meet heart everything know sign signal sign send signal smile notice several time today need feel side point slow treat friend send signal send signal want want time meet heart everything know sign signal work hint understand cheer sign signal',\n",
       " 'color haze empty bench transparent look smoke mind crazy crazy crazy watch time break heart pull crazy crazy watch side feel miss drunk crazy today crazy crazy watch',\n",
       " 'moment pick pick pick pick pick pick please heart pick pick pick pick pick time pick pick pick nervous pick pick pick please hold hold pick pick pretty afraid dream moment tonight tonight star last tonight star last pick pick pick pick pick pick pick pick pick pick pick pick pick pick pick pick pick pick pick pick crazy pick pick pick sick crazy crazy please heart pick pick pick pick pick look pick pick heart pick pick pick call call tell afraid dream fantasy heart want tonight star last tonight star last pick pick pick pick pick pick pick pick pick pick pick pick pick pick pick pick pick',\n",
       " 'last song story memory last scene first scene life movie life word welcome breakup moment much think past last image miss someone thanks thanks future survive death breakup romance blue sweet dream last song story memory last scene memory feeling look world heart break feel scent past trace memory painful remember stay thanks thanks future survive look flash time pass thank year shorter think side sadnesshope despair regret solitude peace emotion able endure sadnesshope despair regret solitude peace emotion able endure last song story memory last scene memory feeling look world',\n",
       " 'message nothing innocent coffee rice good handsome funny curious cold sure mean anything weird serious tell look face recent picture profile picture emotion hata send message nothing innocent coffee rice good touch phone drink look drunk moonlight call romantic agree wicker pathetic call drunken truth dongryul comfortable answer call tell understand send message nothing weird call coffee rice good person person scar wrong wait minute anyway coffee good drinking',\n",
       " 'doorway head night bird everybody open sesame seed cheer glass please home give baby wild horse green grassland seamen night idiot tonight obvious prodigal wherever explode empty floor everyone baby drop lower tomorrow pupil night night beautiful owner owner many into combine jjapaguri surisuri measure baby baby shake booty shake game adult much shake shout loud voice rice barley rice barley party nonsense talk girl room order hunt champagne popping bottleswith super model show time explode empty floor everyone baby drop lower tomorrow pupil night night beautiful owner owner many into mind agree martyrlike tomorrow agree everybody agree night night',\n",
       " 'need honest good infamous cancer wrong different majority young world turn step step nail stand hammer share bean share double divide success stomach something wrong everyone wrong jealous jealous world cursed world love need letter apology reflection gift world world others mine loot strong point last name sorry thing time life look sense watch learn money watch mouth watch drinking careful life jealous lose lifetime jealous jealous world cursed world love need word mouth spit pick life many scar everyone feel cause culprit blame world world cursed world love need',\n",
       " 'night deal chronic life night loud heart mean start okay night night deal chronic life night loud heart night walk deep morning morning night deep morning morning alone tell honest look night deal chronic life night loud heart night walk deep morning morning night deep morning morning',\n",
       " 'sick happy today yesterday dozen possible selfish crazy resentful course forget dare right please much miss hope happy sorry break heart care care sorry curse mistake drinking excuse smile please sick crazy resentful course nice want cherish dare right please much miss hope happy sorry someone least hope meet someone person laugh enough make tear please sick much miss hope happy sorry',\n",
       " 'miss anything home guess course curious much meet anyone particular forget curious wrong night cold home sure warm wear shabby curious wrong nothing change someone stay hope hide',\n",
       " 'baby darkness disappears time stop space love painful afraid emotion love trap light bright star world regret reason heart sentimental hurt sleep think emotion steps reminds light bright star world regret reason love lived long time heart sentimental hurt light bright star world regret reason love',\n",
       " 'wake wake hate hand hear anything close moment whole world dizzy everything minute dream feel date guess light round round pace guess guess look measure distance span know reach moment whole world dizzy everything minute dream feel date guess light round round pace guess guess melody drawn countless time nervousness excitement dance light light heart dream feel date love guess light round round pace know guess guess lover',\n",
       " 'vision truth hessian reason eternal life revival opera something cannot watch chose town making excuse remember young history open time belief depends belief step proof life artist dejavu yesterday face tomorrow follow follow chairman chair leader leader leader understand life year different path heaven wanders miracle memory tomorrow memory tomorrow bring more tomorrow memory living lifetime life dejavu tomorrow become memory live time dejavu dejavu dejavu dejavu dejavu dejavu dejavu lifetime life dejavu praise history open waggon faith jaerim legend value currency money useless change present first time door possibility people breath source teaching dangerous course endure music tomorrow literature tomorrow culture tomorrow shine unna envy young bowl different dimension weight name world handle tomorrow memory living lifetime life dejavu tomorrow become memory live time dejavu dejavu dejavu dejavu dejavu dejavu dejavu lifetime life dejavu praise history open center life fancy direction need watch tomorrow memory lifetime life dejavu tomorrow become memory live time dejavu dejavu dejavu dejavu dejavu dejavu dejavu lifetime life dejavu praise history open time',\n",
       " 'mess breakfast cell phone door night feel beggar happy hard time fine fine sorry sorry donna heart lighter shook good call hard time next precious anyone something important donna heart lighter used draw night upset sorry sure sick much think smile sure donna heart lighter donna heart lighter summer nothing laugh',\n",
       " 'mind first time night memory past come night distrust tilted word tried best memory past come night memory past come',\n",
       " 'girl miss sorry thatwoop againspinnin circle neverwant hate matter neverwant hate hate youth break laugh much obvious shut handsome front heart sorry sorry thing love funny stop funny dirty dirty dirty hand funny funny love disappear tried guess goodby changed look waste others shut tease funny want heart sorry sorry thing love funny stop funny dirty dirty dirty hand funny funny love right please goodby goodby hand lean shoulder hate hate hate tease please sorry sorry thing love funny stop funny dirty dirty dirty hand funny funny love neverwant hate matter neverwant hate hate youth',\n",
       " 'place right walk crazy matter matter matter someone hello hello breakup meaning different alive happen able answer place path tear hear excuse regret able start alive strong need side best need place path meet okay breath okay good matter',\n",
       " 'hate faith word rhythm kick line letter polite drop tear term color gray clear darker cloudy youbaby free freedom lady afraid tomorrow right mean goodby goodby goodby goodby nothing comfortable baby live miss funny baby popular girl time miss live comfortable love hope short time perfect voice face briefly wind scar goodby goodby goodby goodby good right watch nothing comfortable baby live miss funny baby feel feel feel nothing comfortable baby live miss funny baby living',\n",
       " 'first meet ridiculous reach meet black measure anything lake price make suit butterfly phone look long forget home home check text message dirty dirty dirty heart care thing obvious dirty dirty dirty dirty innocent heart care much thing dirty handsome face careful write sound people thought kind young thing girl careful half world male stay girl long right told hang fine face okay dirty dirty dirty heart care thing obvious dirty dirty dirty dirty innocent heart care much thing dirty thought realbut band care history possibility zero sorry dirty dirty dirty history dirty sick sick dirty dirty dirty dirty dirty dirty dirty dirty dirty dirty',\n",
       " 'weird matter much look person goodby text message look text memory organize text text wrong watch mind blank phone call smile yesterday nothing break laughter prepared nothing different yesterday text message word ease make sense wrong call button know answer keep several contact worried curious wondering something blame thankful sorry everything care sick stay healthy talk sick smile last word text message word ease make sense wrong love voice face last time forget memory memory ease ease ease forget memory memory ease ease ease goodby text easy ease easy ease easy',\n",
       " 'everyday haduntil slip rainy rainy time time feel know desperate love love love miss phrase much goodbyetoo late wipe sorry much stranger many time many time call name life heart awaytell know dose slow life step step fill empty chest pain heal quickly heart moment jump time time build time many time tear knowyou desperate love love face last time time happy fine you sleep today mistake forced spending room collapse love pain cruel game player obvious main character life drama love piano memory melodyjust memory feel know desperate love love word phrase love please',\n",
       " 'feel heart beat time heart little little today smile anything love time heart grows heart mine word bigger heart time heart grows long able stay harder heart heart change love time heart grows love',\n",
       " 'night take last wish flame heart sake tear hard forget year last wish flame heart tear hard forget year tear hard forget year',\n",
       " 'windy night next follow anything single step approach black heart moon look anything miss memory cold darkness small star many time hear answer single step approach moonlight black heart moon look anything miss memory foolish faith grows expectation kind feeling split help heart unfortunate feeling moonlight black heart moon look anything miss black moonlight black heart moon look miss miss memory white tear',\n",
       " 'warrior donna rock street soul point revolution block block evil virus warrior name game everyone stand endless bang head hypocrisy bomb dark mask throw everything warrior chest digit digit digit digit digit digit warrior bullet chest digit digit digit digit digit digit neck thirsty long time punch different different side mean ignorant people word heart different time peace truth pray hidden system black shadow badge name game swamp despair bang bang nightmare bother compass devilish bomb bomb bomb hellish word stop breathing warrior chest digit digit digit digit digit digit warrior bullet heart digit digit digit digit digit digit neck hide kneel front truth warrior chest digit digit digit digit digit digit warrior bullet heart digit digit digit digit digit digit neck',\n",
       " 'empty heart tear heart world shadow dark disappears dark darkness cover shadow comfort hand foolish wandering sigh bruised heart tear heart world shadow dark many time trick hide relationship moment empty heart tear heart world shadow dark disappears shady world empty chest empty heart tear heart world shadow dark disappears heart tear heart soothe shadow dark disappear shadow',\n",
       " 'playful mention cooper anyone okay thank look discouraged squeaky voice loud wonder meeting watch watch wrong wrong playful mention cooper anyone okay lean tired cheek lean heart sure guess girl meet meeting popular crazy mind played quite wonder meeting watch watch wrong wrong smile bright soul star heart beat love happy happy whenever balaga balaga deep heart keep hold tight love foreverwith life people close destiny heart look heart people close destiny heart look heart different thing crazy crazy staff',\n",
       " 'moment enter place flash light anyone deny everything everyone hurry hand little late name gonzorepin music different others want name number trust love moment club empty dance enjoy night girl little closercuz know talk dance dance give chance aunt anna slow night meet floor show tell name know anna name name step different others nameknow name beautiful give chance name girl speed stay heart crazy hold aunt anna slow night continue meet floor show check tell name know anna name name step step different others nameknow name beautiful give chance name name name name name name name heart know name girl aunt game know anna namejust anna name know anna name anna name step step different others nameknow name beautiful give chance name',\n",
       " 'shine side sunny bench tight close know warm heart light word biggest star world darkened heart biggest star world frozen high side close starlight hold hand hand shoulder glad tear open able gain courage biggest star world darkened heart biggest star world frozen biggest star world darkened heart biggest star world frozen',\n",
       " 'night heart long time night precious feeling watch movie wait appearance heart baby moment moment heart hand side anyone night precious emotion stole night sleep heart baby moment moment heart hand side anyone heart baby moment heart hand side anyone hidden heart person anyone night face path smile',\n",
       " 'ready crazy give thought sorry thank please place place thankful trust anyone love sweet warm love talk share sweet warm love talk story much fire fire heart matter approach hard lighthorse ship dream today heart fire anyone love need right anyone love need right anyone love need love need love',\n",
       " 'darkness heart tear trace ease trace late shake love time late shake love time please please desired heart long time heart heart affection perfect memory heart memory wait listen please shake wake love time rest gutta',\n",
       " 'stop count pull time test luck afraid heart beating nothing special painful word word meaningful break heart hold till need point hand feel cold cold last time everything work nothing something overcame harsh word hesitate hold till need point hand afraid afraid better breathing heart numb hurting crazy hold amazing block block time blood tear black everything trust point hand',\n",
       " 'sunlight window someone shine person approach talk week moment moment guess cheek small mouth smile stuck imagine romantic draw street crazy person help guess cheek small mouth smile stuck imagine romantic cloud feel hand stay everyone world head imagine romantic',\n",
       " 'season cold melt longing fill familiar something know mean baby baby baby baby problem give blame curse long short meeting quarrel fight repeat fight situation time judgment wrong common obvious thing breakup song voice stretch caught shot good conclusion everything baby problem give blame curse babylon better first time deep thought understand life cold wind blow single moment eternity doubt please late regret idiot sure feel good give chance baby baby wrong problem give time blame curse need baby',\n",
       " 'river time anchor heart hidden heart show not love forever hand leave alivedon hold hand forest turn light heart heart show not love forever hand leave alivedon hold hand',\n",
       " 'come time wait come time hesitate front okay obvious excuse turn change front hold time expression word spit wait nothing stand drag time time time time wrong want hurry want time time time thought good break turn tell worry time expression everyday word drag time time time time wrong want hurry want time time time time time time time time wrong want hurry want time time time time time anna time time time',\n",
       " 'sick love tear medicine nothing wrong sorry okay understand person soft soft love cold heart ache good memory frozen ease sunlight cold need hand something know hard fool person love cold heart ache good memory frozen ease please catch touch feel afraid give pain tear memory colder',\n",
       " 'hello year winter close dream longing strength exhausted smile hello hello comfort hello hello tell hello hello hello hello dream pinch normal life tired remember hello hello smile hello hello happy hello hello smile hello hello hello hello smile hello hello forget hello twenty year winter',\n",
       " 'nothing wrong nothing wrong first kind girl someone change mind everything love wrong want fine everything okay drunk front house forth several time answer forget walk hand hold talk heart wrong want fine everything okay calmly single step heart break left love want fine everything okay',\n",
       " 'fine hello love hello memory moment thank thank break first hard guess pain care skin cold wind cold sick side care love love much breath miss much hurt sorry point cold hated lagging much meet good person someone look care nothing matter love love much breath miss much hurt sorry meet future smile thankful care love',\n",
       " 'anyone spent night draw laugh memory happy love image happy heart ache afraid ease back look happy right place laugh many promise ease happy image love happy heart ache afraid ease hard time look happy right nothing meaningless tear nothing change draw death fool front hard time look happy right place',\n",
       " ...]"
      ]
     },
     "execution_count": 67,
     "metadata": {},
     "output_type": "execute_result"
    }
   ],
   "source": [
    "kpop_en"
   ]
  },
  {
   "cell_type": "code",
   "execution_count": 59,
   "id": "e384dd50",
   "metadata": {},
   "outputs": [],
   "source": [
    "df_kpop_kr=pd.DataFrame(kpop_kr)\n",
    "df_pop_kr=pd.DataFrame(pop_kr)\n",
    "df_pop_en=pd.DataFrame(pop_en)\n",
    "df_kpop_en=pd.DataFrame(kpop_en)"
   ]
  },
  {
   "cell_type": "code",
   "execution_count": 60,
   "id": "ef78b5b2",
   "metadata": {},
   "outputs": [],
   "source": [
    "pop_pre=pd.concat([df_pop_kr, df_pop_en], axis=1)\n",
    "kpop_pre=pd.concat([df_kpop_kr, df_kpop_en], axis=1)"
   ]
  },
  {
   "cell_type": "code",
   "execution_count": 61,
   "id": "1cb315fb",
   "metadata": {},
   "outputs": [],
   "source": [
    "pop_pre.columns = ['pop_kr_Lyrics', 'pop_en_Lyrics']\n",
    "kpop_pre.columns = ['kpop_kr_Lyrics', 'kpop_en_Lyrics']"
   ]
  },
  {
   "cell_type": "code",
   "execution_count": 62,
   "id": "49272d92",
   "metadata": {},
   "outputs": [],
   "source": [
    "pop_pre.to_csv('pop_pre.csv', index=False, encoding='utf-8-sig')\n",
    "kpop_pre.to_csv('kpop_pre.csv', index=False, encoding='utf-8-sig')"
   ]
  },
  {
   "cell_type": "markdown",
   "id": "076f6341",
   "metadata": {},
   "source": [
    "# Kpop 한글 Top2vec"
   ]
  },
  {
   "cell_type": "code",
   "execution_count": 72,
   "id": "e27b6d41",
   "metadata": {},
   "outputs": [
    {
     "name": "stderr",
     "output_type": "stream",
     "text": [
      "2021-12-14 03:33:23,599 - top2vec - INFO - Pre-processing documents for training\n",
      "2021-12-14 03:33:23,983 - top2vec - INFO - Creating joint document/word embedding\n",
      "2021-12-14 03:33:30,706 - top2vec - INFO - Creating lower dimension embedding of documents\n",
      "2021-12-14 03:33:35,072 - top2vec - INFO - Finding dense areas of documents\n",
      "2021-12-14 03:33:35,254 - top2vec - INFO - Finding topics\n"
     ]
    }
   ],
   "source": [
    "kpop_kr_model = Top2Vec(kpop_kr)"
   ]
  },
  {
   "cell_type": "code",
   "execution_count": 73,
   "id": "da54c222",
   "metadata": {},
   "outputs": [
    {
     "data": {
      "text/plain": [
       "28"
      ]
     },
     "execution_count": 73,
     "metadata": {},
     "output_type": "execute_result"
    }
   ],
   "source": [
    "kpop_kr_topic_words, kpop_kr_word_scores, kpop_kr_topic_nums = kpop_kr_model.get_topics()\n",
    "len(kpop_kr_topic_nums)"
   ]
  },
  {
   "cell_type": "code",
   "execution_count": 202,
   "id": "311e5172",
   "metadata": {},
   "outputs": [
    {
     "data": {
      "text/plain": [
       "[['필요', '손짓', '손끝', '큰일', '천사', '눈앞', '거부', '수록', '공간', '게이'],\n",
       " ['수배', '현상', '집착', '대화', '침대', '나인', '이불', '지네', '굳이', '일도'],\n",
       " ['행복', '너머', '공간', '건너', '파도', '푸른', '우릴', '두운', '태양', '기도'],\n",
       " ['솔로', '연애', '영혼', '용기', '지구', '수배', '너뿐이야', '현상', '관심', '우주'],\n",
       " ['파란', '눈동자', '글자', '천국', '온기', '비밀', '말투', '송이', '미소', '분명'],\n",
       " ['웃기', '미안', '모해', '오해', '이해', '취한', '감당', '꿈속', '박수', '반대'],\n",
       " ['소린', '믿음', '역사', '마마', '바닥', '현실', '보이지', '리가', '미로', '주기'],\n",
       " ['외톨이야', '도록', '번지', '굿바이', '대론', '부디', '유리', '편지', '사람과', '온몸'],\n",
       " ['지난날', '글자', '감동', '스물', '봄바람', '비교', '냄새', '금은', '존재', '크리스마스'],\n",
       " ['꿈속', '악몽', '지도', '의미', '갈수록', '일지', '어젯밤', '진실', '관심', '금은'],\n",
       " ['허리', '무릎', '어쩜', '관심', '별로', '이불', '전화번호', '전화기', '머리', '굳이'],\n",
       " ['주르륵', '자격', '소린', '입맞춤', '피하', '입가', '거릴', '어우리', '자고', '수도'],\n",
       " ['현상', '수배', '금도', '우연', '서서', '마주', '안녕', '결혼', '밤하늘', '우주'],\n",
       " ['분명', '제자리', '피해', '의심', '연기', '공기', '지도', '가기', '감고', '존재'],\n",
       " ['외로움', '하필', '자격', '다해', '보이지', '힘껏', '두운', '어둠', '믿음', '습관'],\n",
       " ['첫사랑', '뿌리', '는걸', '의심', '일지', '주변', '피해', '지도', '연기', '어쩜'],\n",
       " ['대론', '언니', '편지', '도록', '아내', '외톨이야', '죽지', '부탁', '어젯밤', '모습'],\n",
       " ['다운', '하자', '어쩜', '고개', '다행', '마나', '소식', '바다', '푸른', '제자리'],\n",
       " ['거울', '제일', '낯선', '보지', '아마', '번만', '버릇', '수만', '마나', '음악'],\n",
       " ['아저씨', '온몸', '아주', '무릎', '키스', '어서', '물어', '며칠', '가기', '어깨'],\n",
       " ['표현', '설레임', '필요', '말로', '도난', '일도', '걸너', '영화', '변명', '눈앞'],\n",
       " ['조심', '주인공', '여름', '뭔가', '분위기', '공기', '조명', '무대', '세계', '게이'],\n",
       " ['서울', '게임', '무릎', '반복', '먼지', '별로', '달리', '기쁨', '나이', '신경'],\n",
       " ['먼지', '나야', '서울', '달리', '발자국', '불빛', '피어', '구름', '높이', '불어'],\n",
       " ['솔로', '원한', '더욱', '영혼', '너뿐이야', '우주', '인연', '지구', '하필', '외로움'],\n",
       " ['외톨이야', '모해', '굿바이', '커피', '박수', '주르륵', '아내', '전화번호', '부디', '그대만'],\n",
       " ['커피', '어쩜', '꿈속', '마다', '술잔', '자꾸', '나로', '귓가', '한잔', '색깔'],\n",
       " ['완전', '장난', '분위기', '거지', '영화', '뭔가', '연인', '방법', '벌써', '감동']]"
      ]
     },
     "execution_count": 202,
     "metadata": {},
     "output_type": "execute_result"
    }
   ],
   "source": [
    "kpop_kr_topic_list = []\n",
    "for i in range(len(kpop_kr_topic_nums)):\n",
    "    kpop_kr_topic_list.append(kpop_kr_topic_words[i][:10].tolist())\n",
    "kpop_kr_topic_list"
   ]
  },
  {
   "cell_type": "markdown",
   "id": "9468551f",
   "metadata": {},
   "source": [
    "# Pop 한글 Top2vec"
   ]
  },
  {
   "cell_type": "code",
   "execution_count": 75,
   "id": "016ac9a4",
   "metadata": {},
   "outputs": [
    {
     "name": "stderr",
     "output_type": "stream",
     "text": [
      "2021-12-14 03:33:35,326 - top2vec - INFO - Pre-processing documents for training\n",
      "2021-12-14 03:33:36,210 - top2vec - INFO - Creating joint document/word embedding\n",
      "2021-12-14 03:33:47,044 - top2vec - INFO - Creating lower dimension embedding of documents\n",
      "2021-12-14 03:33:51,224 - top2vec - INFO - Finding dense areas of documents\n",
      "2021-12-14 03:33:51,460 - top2vec - INFO - Finding topics\n"
     ]
    }
   ],
   "source": [
    "pop_kr_model = Top2Vec(pop_kr)"
   ]
  },
  {
   "cell_type": "code",
   "execution_count": 76,
   "id": "251347d4",
   "metadata": {},
   "outputs": [
    {
     "data": {
      "text/plain": [
       "46"
      ]
     },
     "execution_count": 76,
     "metadata": {},
     "output_type": "execute_result"
    }
   ],
   "source": [
    "pop_kr_topic_words, pop_kr_word_scores, pop_kr_topic_nums = pop_kr_model.get_topics()\n",
    "len(pop_kr_topic_nums)"
   ]
  },
  {
   "cell_type": "code",
   "execution_count": 83,
   "id": "52141694",
   "metadata": {},
   "outputs": [
    {
     "data": {
      "text/plain": [
       "[['글록', '계집애', '변호사', '막대기', '리처드', '저격수', '헬기', '방금', '참호', '동생'],\n",
       " ['안고', '세월', '희망이', '낙원', '사람과', '연인', '낯선', '기쁨', '미소', '후회'],\n",
       " ['감히', '전설', '동의', '괴물', '배신', '고모', '빚진', '평화', '오마이갓', '최근'],\n",
       " ['구걸', '문화', '불평', '개인', '교훈', '싱글', '축복', '책임', '목적', '마음'],\n",
       " ['시골', '컨트리', '뒷길', '라디오', '마을', '타이어', '맥주', '트럭', '맨발', '먼지'],\n",
       " ['예수님', '주님', '아버지', '믿음', '신의', '평화', '하나님', '희망', '하느님', '상처'],\n",
       " ['불길', '자제력', '한밤중', '자연', '세월', '상처', '가장자리', '오늘밤', '어쩌면', '운명'],\n",
       " ['위스키', '테네시', '맥주', '햇살', '여름', '시골', '뒷길', '남쪽', '마을', '라디오'],\n",
       " ['영감', '뉴욕', '정글', '번가', '유행', '거리', '건배', '말리', '택시', '나이'],\n",
       " ['굿나잇', '해제', '소금', '앞길', '젊은이', '습관', '실현', '분노', '멀리', '구석'],\n",
       " ['이상은', '다라', '위험', '이자', '절망', '그림자', '낯선', '감수', '샤워', '세월'],\n",
       " ['작별', '손길', '인사', '작별인사', '미소', '가끔', '갈망', '눈빛', '안고', '굿나잇'],\n",
       " ['외로워', '부정', '작별', '연인', '어쩌면', '손길', '작별인사', '슬픔', '안나', '절망'],\n",
       " ['행복', '시절', '인간', '유행', '세트', '며칠', '배합', '운영', '세계', '거절'],\n",
       " ['천둥', '빗속', '다비', '번개', '자연', '죄악', '동물', '눈물', '구름', '불꽃'],\n",
       " ['무감각', '해지', '러브', '라이프스타일', '소름', '니드', '온통', '명의', '펌프', '네네'],\n",
       " ['작별인사', '벌써', '인사', '안녕', '외출', '경보', '몇몇', '작별', '구석', '거짓'],\n",
       " ['노크', '충격', '가든', '시티', '해안', '조명', '가치', '파이', '형제', '소고기'],\n",
       " ['네온', '불빛', '플로', '술집', '댄스', '시골', '위스키', '맥주', '부츠', '눈동자'],\n",
       " ['슬픔', '복도', '오빠', '이용', '여자친구', '표정', '겨누', '여름', '기억', '어젯밤'],\n",
       " ['크리스마스', '산타', '호호', '할아버지', '메리', '편지', '장난감', '선물', '소원', '올해'],\n",
       " ['휘파람', '한잔', '다운', '기절', '아래', '오른쪽', '이상은', '베이스', '표시', '포함'],\n",
       " ['안내', '혼란', '눈빛', '지도', '최악', '마날', '후회', '진정', '가끔', '결점'],\n",
       " ['리듬', '멜로디', '재생', '노예', '라디오', '노래', '음악', '스테레오', '연주', '토요일'],\n",
       " ['낭비', '갈망', '지배', '인내심', '가세', '여왕', '환상', '종류', '라그', '어우리'],\n",
       " ['온몸', '스케이트', '해너', '우후', '바이브', '분위기', '접시', '답장', '너뿐이야', '구걸'],\n",
       " ['마날', '내면', '가짜', '차지', '충성', '굴복', '바이브', '변화', '운명', '가내'],\n",
       " ['저리', '오우', '레몬', '실행', '팝핀', '자루', '전화번호', '가끔', '차도', '우주'],\n",
       " ['산산조각', '죽지', '실연', '글쎄', '숨쉬기', '작별', '인사', '마음', '자유', '소름'],\n",
       " ['금요일', '주말', '토요일', '일요일', '재미', '월요일', '틱톡', '좌석', '다다', '시골'],\n",
       " ['욕망', '엉망', '진창', '비밀', '입장', '이륙', '대한', '방울', '간직', '존경'],\n",
       " ['첫날', '죄악', '엿먹어', '엿먹', '친구', '결점', '애니', '위협', '일인', '글쎄'],\n",
       " ['추억', '감기', '아가씨', '대의', '자물쇠', '하트', '노래', '젊음', '속도', '찾기'],\n",
       " ['알리', '범죄자', '해치', '발짝', '푸시', '지붕', '스테레오', '이빨', '트러블', '드라마'],\n",
       " ['거짓말쟁이', '린다', '라디오', '죄악', '결코', '상황', '짐승', '달이', '진실', '요즘'],\n",
       " ['합창', '코러스', '설탕', '건대', '드라마', '트러블', '소개', '장담', '트랙', '마음'],\n",
       " ['바이', '이그', '마침내', '오디', '해변', '평생', '흡연', '카메라', '취하', '조명'],\n",
       " ['플로', '댄스', '연락', '거품', '전화기', '전화', '핸드폰', '결정', '기내', '홀짝'],\n",
       " ['원래', '저걸', '소유', '티셔츠', '마찬가지', '상황', '스케이트', '주인', '카터', '생명'],\n",
       " ['도나', '도난', '무도', '걱정', '의미', '해사', '자네', '서나', '화해', '오이'],\n",
       " ['로맨스', '복수', '해사', '난난', '라그', '열정', '연인', '다라', '패션', '손길'],\n",
       " ['솔로', '진행', '파티', '하자', '레드', '터치', '촛불', '숙취', '선생님', '메리'],\n",
       " ['나우', '절반', '애틀랜타', '갈망', '판다', '커피', '말로', '살기', '미나', '도난'],\n",
       " ['남자친구', '여자친구', '호텔', '향수', '쪼리', '지갑', '물결', '미안', '나무', '금요일'],\n",
       " ['할렐루야', '하나님', '추락', '다비', '승리', '감기', '의자', '믿음', '증거', '주님'],\n",
       " ['아멘', '교회', '건물', '죽음', '설교', '구절', '다행', '커플', '갱스터', '하느님']]"
      ]
     },
     "execution_count": 83,
     "metadata": {},
     "output_type": "execute_result"
    }
   ],
   "source": [
    "pop_kr_topic_list = []\n",
    "for i in range(len(pop_kr_topic_nums)):\n",
    "    pop_kr_topic_list.append(pop_kr_topic_words[i][:10].tolist())\n",
    "pop_kr_topic_list"
   ]
  },
  {
   "cell_type": "markdown",
   "id": "76f94687",
   "metadata": {},
   "source": [
    "# Pop 영어 Top2vec"
   ]
  },
  {
   "cell_type": "code",
   "execution_count": 78,
   "id": "b8bdab10",
   "metadata": {},
   "outputs": [
    {
     "name": "stderr",
     "output_type": "stream",
     "text": [
      "2021-12-14 03:33:51,549 - top2vec - INFO - Pre-processing documents for training\n",
      "2021-12-14 03:33:52,567 - top2vec - INFO - Creating joint document/word embedding\n",
      "2021-12-14 03:34:13,387 - top2vec - INFO - Creating lower dimension embedding of documents\n",
      "2021-12-14 03:34:17,863 - top2vec - INFO - Finding dense areas of documents\n",
      "2021-12-14 03:34:18,076 - top2vec - INFO - Finding topics\n"
     ]
    }
   ],
   "source": [
    "pop_en_model = Top2Vec(pop_en)"
   ]
  },
  {
   "cell_type": "code",
   "execution_count": 79,
   "id": "9a7a3d12",
   "metadata": {},
   "outputs": [
    {
     "data": {
      "text/plain": [
       "34"
      ]
     },
     "execution_count": 79,
     "metadata": {},
     "output_type": "execute_result"
    }
   ],
   "source": [
    "pop_en_topic_words, pop_en_word_scores, pop_en_topic_nums = pop_en_model.get_topics()\n",
    "len(pop_en_topic_nums)"
   ]
  },
  {
   "cell_type": "code",
   "execution_count": 80,
   "id": "d0c6781c",
   "metadata": {},
   "outputs": [
    {
     "data": {
      "text/plain": [
       "[['trench',\n",
       "  'bitch',\n",
       "  'clip',\n",
       "  'block',\n",
       "  'tint',\n",
       "  'shit',\n",
       "  'business',\n",
       "  'rapier',\n",
       "  'clock',\n",
       "  'richard'],\n",
       " ['country',\n",
       "  'beer',\n",
       "  'radio',\n",
       "  'cowboy',\n",
       "  'southern',\n",
       "  'dust',\n",
       "  'whiskey',\n",
       "  'truck',\n",
       "  'dirt',\n",
       "  'town'],\n",
       " ['survive',\n",
       "  'strength',\n",
       "  'ground',\n",
       "  'alive',\n",
       "  'tear',\n",
       "  'fire',\n",
       "  'fade',\n",
       "  'pride',\n",
       "  'world',\n",
       "  'fear'],\n",
       " ['deserve',\n",
       "  'beautiful',\n",
       "  'perfect',\n",
       "  'somebody',\n",
       "  'mistake',\n",
       "  'love',\n",
       "  'book',\n",
       "  'worst',\n",
       "  'someone',\n",
       "  'anybody'],\n",
       " ['jesus',\n",
       "  'father',\n",
       "  'lord',\n",
       "  'daughter',\n",
       "  'mother',\n",
       "  'heal',\n",
       "  'faith',\n",
       "  'piece',\n",
       "  'prison',\n",
       "  'throne'],\n",
       " ['melody',\n",
       "  'sing',\n",
       "  'rhythm',\n",
       "  'song',\n",
       "  'radio',\n",
       "  'singing',\n",
       "  'dance',\n",
       "  'music',\n",
       "  'note',\n",
       "  'moon'],\n",
       " ['came',\n",
       "  'est',\n",
       "  'eyes',\n",
       "  'also',\n",
       "  'same',\n",
       "  'die',\n",
       "  'beside',\n",
       "  'pierre',\n",
       "  'sent',\n",
       "  'more'],\n",
       " ['numb',\n",
       "  'telephone',\n",
       "  'calling',\n",
       "  'emotion',\n",
       "  'pain',\n",
       "  'mission',\n",
       "  'left',\n",
       "  'busy',\n",
       "  'relate',\n",
       "  'claim'],\n",
       " ['awake',\n",
       "  'wide',\n",
       "  'inside',\n",
       "  'mistake',\n",
       "  'daylight',\n",
       "  'cloud',\n",
       "  'fear',\n",
       "  'pretend',\n",
       "  'worse',\n",
       "  'follow'],\n",
       " ['christmas',\n",
       "  'merry',\n",
       "  'holiday',\n",
       "  'santa',\n",
       "  'snow',\n",
       "  'bell',\n",
       "  'underneath',\n",
       "  'cheer',\n",
       "  'class',\n",
       "  'year'],\n",
       " ['thigh',\n",
       "  'vice',\n",
       "  'coast',\n",
       "  'suck',\n",
       "  'channel',\n",
       "  'fancy',\n",
       "  'private',\n",
       "  'west',\n",
       "  'plane',\n",
       "  'climb'],\n",
       " ['used',\n",
       "  'halfway',\n",
       "  'build',\n",
       "  'proof',\n",
       "  'platino',\n",
       "  'system',\n",
       "  'mention',\n",
       "  'pride',\n",
       "  'view',\n",
       "  'strain'],\n",
       " ['wondering',\n",
       "  'deeper',\n",
       "  'waste',\n",
       "  'time',\n",
       "  'love',\n",
       "  'sunrise',\n",
       "  'mind',\n",
       "  'wasted',\n",
       "  'hoping',\n",
       "  'underneath'],\n",
       " ['lover',\n",
       "  'forever',\n",
       "  'force',\n",
       "  'bah',\n",
       "  'course',\n",
       "  'love',\n",
       "  'survive',\n",
       "  'thing',\n",
       "  'fade',\n",
       "  'hurting'],\n",
       " ['universe',\n",
       "  'focus',\n",
       "  'world',\n",
       "  'warm',\n",
       "  'sister',\n",
       "  'star',\n",
       "  'brighter',\n",
       "  'glad',\n",
       "  'lucky',\n",
       "  'legend'],\n",
       " ['wasted',\n",
       "  'goodby',\n",
       "  'patience',\n",
       "  'time',\n",
       "  'waste',\n",
       "  'promise',\n",
       "  'loving',\n",
       "  'drug',\n",
       "  'love',\n",
       "  'hoping'],\n",
       " ['breath',\n",
       "  'louder',\n",
       "  'classic',\n",
       "  'breathe',\n",
       "  'strange',\n",
       "  'worst',\n",
       "  'begin',\n",
       "  'prince',\n",
       "  'america',\n",
       "  'easy'],\n",
       " ['broken',\n",
       "  'heart',\n",
       "  'tear',\n",
       "  'bone',\n",
       "  'break',\n",
       "  'hurt',\n",
       "  'afraid',\n",
       "  'mistake',\n",
       "  'code',\n",
       "  'thing'],\n",
       " ['toxic',\n",
       "  'ordinary',\n",
       "  'poison',\n",
       "  'vein',\n",
       "  'julie',\n",
       "  'dreaming',\n",
       "  'surface',\n",
       "  'cure',\n",
       "  'place',\n",
       "  'loving'],\n",
       " ['careful',\n",
       "  'mary',\n",
       "  'attack',\n",
       "  'nail',\n",
       "  'hurting',\n",
       "  'daughter',\n",
       "  'yeah',\n",
       "  'child',\n",
       "  'everything',\n",
       "  'course'],\n",
       " ['separate',\n",
       "  'millionaire',\n",
       "  'religion',\n",
       "  'angry',\n",
       "  'conversation',\n",
       "  'freedom',\n",
       "  'fate',\n",
       "  'banana',\n",
       "  'path',\n",
       "  'draw'],\n",
       " ['drag',\n",
       "  'damage',\n",
       "  'tone',\n",
       "  'blind',\n",
       "  'float',\n",
       "  'semi',\n",
       "  'hole',\n",
       "  'storm',\n",
       "  'midnight',\n",
       "  'bullet'],\n",
       " ['fault',\n",
       "  'anything',\n",
       "  'blame',\n",
       "  'mistake',\n",
       "  'dripping',\n",
       "  'bleed',\n",
       "  'fool',\n",
       "  'hurting',\n",
       "  'mile',\n",
       "  'impossible'],\n",
       " ['california',\n",
       "  'coast',\n",
       "  'mountain',\n",
       "  'west',\n",
       "  'palm',\n",
       "  'wondering',\n",
       "  'headache',\n",
       "  'north',\n",
       "  'beach',\n",
       "  'distance'],\n",
       " ['chorus',\n",
       "  'tyler',\n",
       "  'bridge',\n",
       "  'sugar',\n",
       "  'drama',\n",
       "  'picked',\n",
       "  'sleeping',\n",
       "  'think',\n",
       "  'into',\n",
       "  'sweet'],\n",
       " ['darling',\n",
       "  'throat',\n",
       "  'special',\n",
       "  'clear',\n",
       "  'separate',\n",
       "  'strength',\n",
       "  'liar',\n",
       "  'picking',\n",
       "  'tear',\n",
       "  'child'],\n",
       " ['friday',\n",
       "  'weekend',\n",
       "  'monday',\n",
       "  'seat',\n",
       "  'sunday',\n",
       "  'saturday',\n",
       "  'spring',\n",
       "  'lane',\n",
       "  'front',\n",
       "  'everybody'],\n",
       " ['paradise',\n",
       "  'sunrise',\n",
       "  'repeat',\n",
       "  'inside',\n",
       "  'summer',\n",
       "  'ocean',\n",
       "  'dive',\n",
       "  'moonlight',\n",
       "  'planet',\n",
       "  'breeze'],\n",
       " ['oh',\n",
       "  'limit',\n",
       "  'goodby',\n",
       "  'fall',\n",
       "  'memory',\n",
       "  'can',\n",
       "  'pour',\n",
       "  'running',\n",
       "  'tomorrow',\n",
       "  'world'],\n",
       " ['ruin',\n",
       "  'noise',\n",
       "  'ease',\n",
       "  'shady',\n",
       "  'hetty',\n",
       "  'slim',\n",
       "  'down',\n",
       "  'dancing',\n",
       "  'cell',\n",
       "  'call'],\n",
       " ['awesome',\n",
       "  'ganglia',\n",
       "  'dumb',\n",
       "  'hunted',\n",
       "  'due',\n",
       "  'public',\n",
       "  'mail',\n",
       "  'eating',\n",
       "  'afford',\n",
       "  'buck'],\n",
       " ['lonely',\n",
       "  'save',\n",
       "  'paris',\n",
       "  'waste',\n",
       "  'broken',\n",
       "  'fold',\n",
       "  'catching',\n",
       "  'know',\n",
       "  'caught',\n",
       "  'thing'],\n",
       " ['bah',\n",
       "  'belong',\n",
       "  'stranger',\n",
       "  'small',\n",
       "  'soft',\n",
       "  'inch',\n",
       "  'lover',\n",
       "  'saying',\n",
       "  'serving',\n",
       "  'spending'],\n",
       " ['hallelujah',\n",
       "  'throne',\n",
       "  'proof',\n",
       "  'chair',\n",
       "  'judy',\n",
       "  'prayer',\n",
       "  'glory',\n",
       "  'roof',\n",
       "  'jesus',\n",
       "  'angel']]"
      ]
     },
     "execution_count": 80,
     "metadata": {},
     "output_type": "execute_result"
    }
   ],
   "source": [
    "pop_en_topic_list = []\n",
    "for i in range(len(pop_en_topic_nums)):\n",
    "    pop_en_topic_list.append(pop_en_topic_words[i][:10].tolist())\n",
    "pop_en_topic_list"
   ]
  },
  {
   "cell_type": "markdown",
   "id": "0dfe5c1a",
   "metadata": {},
   "source": [
    "# Kpop 영어 Top2vec"
   ]
  },
  {
   "cell_type": "code",
   "execution_count": 63,
   "id": "faeafa94",
   "metadata": {},
   "outputs": [
    {
     "name": "stderr",
     "output_type": "stream",
     "text": [
      "2021-12-14 03:30:36,655 - top2vec - INFO - Pre-processing documents for training\n",
      "2021-12-14 03:30:37,233 - top2vec - INFO - Creating joint document/word embedding\n",
      "2021-12-14 03:30:45,331 - top2vec - INFO - Creating lower dimension embedding of documents\n",
      "2021-12-14 03:30:49,078 - top2vec - INFO - Finding dense areas of documents\n",
      "2021-12-14 03:30:49,297 - top2vec - INFO - Finding topics\n"
     ]
    }
   ],
   "source": [
    "kpop_en_model = Top2Vec(kpop_en)"
   ]
  },
  {
   "cell_type": "code",
   "execution_count": 64,
   "id": "534ffa36",
   "metadata": {},
   "outputs": [
    {
     "data": {
      "text/plain": [
       "48"
      ]
     },
     "execution_count": 64,
     "metadata": {},
     "output_type": "execute_result"
    }
   ],
   "source": [
    "kpop_en_topic_words, kpop_en_word_scores, kpop_en_topic_nums = kpop_en_model.get_topics()\n",
    "len(pop_en_topic_nums)"
   ]
  },
  {
   "cell_type": "code",
   "execution_count": 236,
   "id": "d02fdf2c",
   "metadata": {},
   "outputs": [
    {
     "data": {
      "text/plain": [
       "[['money',\n",
       "  'success',\n",
       "  'rapier',\n",
       "  'level',\n",
       "  'plan',\n",
       "  'neck',\n",
       "  'stage',\n",
       "  'trend',\n",
       "  'rich',\n",
       "  'best'],\n",
       " ['rainy',\n",
       "  'umbrella',\n",
       "  'longing',\n",
       "  'forgotten',\n",
       "  'rain',\n",
       "  'memory',\n",
       "  'breakup',\n",
       "  'painful',\n",
       "  'window',\n",
       "  'cloudy'],\n",
       " ['shake',\n",
       "  'rhythm',\n",
       "  'bounce',\n",
       "  'raise',\n",
       "  'dance',\n",
       "  'floor',\n",
       "  'party',\n",
       "  'body',\n",
       "  'everybody',\n",
       "  'volume'],\n",
       " ['foolish',\n",
       "  'fault',\n",
       "  'cried',\n",
       "  'sorry',\n",
       "  'loved',\n",
       "  'several',\n",
       "  'tear',\n",
       "  'heal',\n",
       "  'knew',\n",
       "  'fool'],\n",
       " ['shadow',\n",
       "  'breakup',\n",
       "  'jumping',\n",
       "  'dark',\n",
       "  'sigh',\n",
       "  'darkness',\n",
       "  'pain',\n",
       "  'memory',\n",
       "  'tear',\n",
       "  'weak'],\n",
       " ['forgot',\n",
       "  'disease',\n",
       "  'loved',\n",
       "  'scar',\n",
       "  'hate',\n",
       "  'hurt',\n",
       "  'able',\n",
       "  'painful',\n",
       "  'breakup',\n",
       "  'flurry'],\n",
       " ['blossom',\n",
       "  'spring',\n",
       "  'cherry',\n",
       "  'petal',\n",
       "  'breeze',\n",
       "  'bloom',\n",
       "  'resembles',\n",
       "  'leaf',\n",
       "  'season',\n",
       "  'wind'],\n",
       " ['phone',\n",
       "  'hang',\n",
       "  'kind',\n",
       "  'relationship',\n",
       "  'attention',\n",
       "  'text',\n",
       "  'mouth',\n",
       "  'honest',\n",
       "  'worse',\n",
       "  'busy'],\n",
       " ['foolish',\n",
       "  'painful',\n",
       "  'ache',\n",
       "  'breakup',\n",
       "  'cried',\n",
       "  'forgotten',\n",
       "  'ease',\n",
       "  'fool',\n",
       "  'heal',\n",
       "  'loved'],\n",
       " ['destiny',\n",
       "  'coincidence',\n",
       "  'broken',\n",
       "  'fate',\n",
       "  'dust',\n",
       "  'wound',\n",
       "  'endure',\n",
       "  'remember',\n",
       "  'sunshine',\n",
       "  'countless'],\n",
       " ['loving',\n",
       "  'fingers',\n",
       "  'breakup',\n",
       "  'broken',\n",
       "  'meaningless',\n",
       "  'tear',\n",
       "  'memory',\n",
       "  'scar',\n",
       "  'leave',\n",
       "  'expectation'],\n",
       " ['teach',\n",
       "  'dovey',\n",
       "  'angel',\n",
       "  'dear',\n",
       "  'coffee',\n",
       "  'view',\n",
       "  'darkness',\n",
       "  'ocean',\n",
       "  'count',\n",
       "  'greedy'],\n",
       " ['worse',\n",
       "  'text',\n",
       "  'shut',\n",
       "  'message',\n",
       "  'several',\n",
       "  'pathetic',\n",
       "  'listen',\n",
       "  'answer',\n",
       "  'ease',\n",
       "  'forgot'],\n",
       " ['awkward',\n",
       "  'fate',\n",
       "  'heaven',\n",
       "  'confess',\n",
       "  'feel',\n",
       "  'sunset',\n",
       "  'love',\n",
       "  'race',\n",
       "  'little',\n",
       "  'breathe'],\n",
       " ['lonely',\n",
       "  'loved',\n",
       "  'guess',\n",
       "  'cherish',\n",
       "  'finish',\n",
       "  'breakup',\n",
       "  'simple',\n",
       "  'painful',\n",
       "  'okay',\n",
       "  'death'],\n",
       " ['stranger',\n",
       "  'calm',\n",
       "  'slow',\n",
       "  'wrong',\n",
       "  'choose',\n",
       "  'butterfly',\n",
       "  'endure',\n",
       "  'month',\n",
       "  'umbrella',\n",
       "  'luck'],\n",
       " ['dumb',\n",
       "  'rice',\n",
       "  'hour',\n",
       "  'brother',\n",
       "  'dizzy',\n",
       "  'hurry',\n",
       "  'honest',\n",
       "  'thing',\n",
       "  'start',\n",
       "  'listen'],\n",
       " ['longer',\n",
       "  'far',\n",
       "  'heal',\n",
       "  'breaking',\n",
       "  'countless',\n",
       "  'fingertips',\n",
       "  'hurt',\n",
       "  'painful',\n",
       "  'habit',\n",
       "  'honest'],\n",
       " ['happier',\n",
       "  'forgotten',\n",
       "  'click',\n",
       "  'blame',\n",
       "  'disappear',\n",
       "  'breakup',\n",
       "  'confidence',\n",
       "  'image',\n",
       "  'collapse',\n",
       "  'habit'],\n",
       " ['cross',\n",
       "  'lift',\n",
       "  'hush',\n",
       "  'drop',\n",
       "  'line',\n",
       "  'older',\n",
       "  'week',\n",
       "  'expression',\n",
       "  'different',\n",
       "  'greedy'],\n",
       " ['snow',\n",
       "  'christmas',\n",
       "  'winter',\n",
       "  'white',\n",
       "  'gift',\n",
       "  'season',\n",
       "  'frozen',\n",
       "  'tree',\n",
       "  'whisper',\n",
       "  'cold'],\n",
       " ['airplane',\n",
       "  'balaga',\n",
       "  'peep',\n",
       "  'sentimental',\n",
       "  'trip',\n",
       "  'imagination',\n",
       "  'nananana',\n",
       "  'cruel',\n",
       "  'rainbow',\n",
       "  'full'],\n",
       " ['possible',\n",
       "  'terrible',\n",
       "  'taxi',\n",
       "  'wash',\n",
       "  'drama',\n",
       "  'thing',\n",
       "  'year',\n",
       "  'tear',\n",
       "  'medicine',\n",
       "  'memory'],\n",
       " ['skirt',\n",
       "  'hair',\n",
       "  'short',\n",
       "  'chin',\n",
       "  'interested',\n",
       "  'shirt',\n",
       "  'wear',\n",
       "  'nose',\n",
       "  'born',\n",
       "  'diamond'],\n",
       " ['autumn',\n",
       "  'season',\n",
       "  'tree',\n",
       "  'winter',\n",
       "  'leaf',\n",
       "  'window',\n",
       "  'resembles',\n",
       "  'breeze',\n",
       "  'street',\n",
       "  'memory'],\n",
       " ['wonderful',\n",
       "  'done',\n",
       "  'handsome',\n",
       "  'character',\n",
       "  'girlfriend',\n",
       "  'hallo',\n",
       "  'main',\n",
       "  'style',\n",
       "  'upset',\n",
       "  'cool'],\n",
       " ['waerduriju',\n",
       "  'mamma',\n",
       "  'disco',\n",
       "  'nightmare',\n",
       "  'ambiguous',\n",
       "  'repeat',\n",
       "  'terrible',\n",
       "  'truth',\n",
       "  'coincidence',\n",
       "  'hard'],\n",
       " ['alive',\n",
       "  'simple',\n",
       "  'alright',\n",
       "  'overcome',\n",
       "  'upset',\n",
       "  'living',\n",
       "  'success',\n",
       "  'death',\n",
       "  'medicine',\n",
       "  'okay'],\n",
       " ['door',\n",
       "  'knock',\n",
       "  'harder',\n",
       "  'open',\n",
       "  'asleep',\n",
       "  'smoke',\n",
       "  'happiness',\n",
       "  'miracle',\n",
       "  'sunlight',\n",
       "  'tell'],\n",
       " ['took',\n",
       "  'tick',\n",
       "  'mountain',\n",
       "  'round',\n",
       "  'price',\n",
       "  'supra',\n",
       "  'freedom',\n",
       "  'steal',\n",
       "  'grab',\n",
       "  'jumping'],\n",
       " ['cream',\n",
       "  'chill',\n",
       "  'sweet',\n",
       "  'taste',\n",
       "  'sugar',\n",
       "  'chocolate',\n",
       "  'favorite',\n",
       "  'skin',\n",
       "  'diamond',\n",
       "  'melt'],\n",
       " ['cruel',\n",
       "  'hurt',\n",
       "  'freeze',\n",
       "  'endure',\n",
       "  'memory',\n",
       "  'yesterday',\n",
       "  'medicine',\n",
       "  'trace',\n",
       "  'ease',\n",
       "  'avoid'],\n",
       " ['starlight',\n",
       "  'shine',\n",
       "  'deeper',\n",
       "  'precious',\n",
       "  'moonlight',\n",
       "  'taxi',\n",
       "  'dark',\n",
       "  'rain',\n",
       "  'remember',\n",
       "  'walking'],\n",
       " ['dingy',\n",
       "  'speak',\n",
       "  'booty',\n",
       "  'river',\n",
       "  'image',\n",
       "  'difference',\n",
       "  'need',\n",
       "  'endure',\n",
       "  'long',\n",
       "  'wanted'],\n",
       " ['candy',\n",
       "  'eternal',\n",
       "  'sweet',\n",
       "  'favorite',\n",
       "  'cream',\n",
       "  'bottom',\n",
       "  'bell',\n",
       "  'melt',\n",
       "  'sugar',\n",
       "  'part'],\n",
       " ['whistle',\n",
       "  'bubble',\n",
       "  'waerduriju',\n",
       "  'ball',\n",
       "  'thank',\n",
       "  'bomb',\n",
       "  'hear',\n",
       "  'sang',\n",
       "  'common',\n",
       "  'yellow'],\n",
       " ['sunday',\n",
       "  'saturday',\n",
       "  'friday',\n",
       "  'monday',\n",
       "  'cheer',\n",
       "  'jump',\n",
       "  'strength',\n",
       "  'asleep',\n",
       "  'month',\n",
       "  'tonight'],\n",
       " ['bird',\n",
       "  'been',\n",
       "  'tired',\n",
       "  'sadness',\n",
       "  'rich',\n",
       "  'shock',\n",
       "  'rest',\n",
       "  'loneliness',\n",
       "  'scar',\n",
       "  'holder'],\n",
       " ['sex',\n",
       "  'lady',\n",
       "  'drive',\n",
       "  'girl',\n",
       "  'woman',\n",
       "  'interested',\n",
       "  'crazy',\n",
       "  'type',\n",
       "  'mystery',\n",
       "  'charm'],\n",
       " ['goodby',\n",
       "  'forgot',\n",
       "  'breakup',\n",
       "  'waerduriju',\n",
       "  'romance',\n",
       "  'mamma',\n",
       "  'meaningless',\n",
       "  'trace',\n",
       "  'painful',\n",
       "  'spent'],\n",
       " ['monster',\n",
       "  'blank',\n",
       "  'louder',\n",
       "  'island',\n",
       "  'throw',\n",
       "  'history',\n",
       "  'stretch',\n",
       "  'moon',\n",
       "  'sharp',\n",
       "  'path'],\n",
       " ['fine',\n",
       "  'search',\n",
       "  'repeat',\n",
       "  'comfortable',\n",
       "  'hung',\n",
       "  'donna',\n",
       "  'okay',\n",
       "  'week',\n",
       "  'used',\n",
       "  'happen'],\n",
       " ['drink',\n",
       "  'shot',\n",
       "  'glass',\n",
       "  'alcohol',\n",
       "  'image',\n",
       "  'drunk',\n",
       "  'drinking',\n",
       "  'bite',\n",
       "  'rise',\n",
       "  'lock'],\n",
       " ['honey',\n",
       "  'noah',\n",
       "  'beer',\n",
       "  'mood',\n",
       "  'sweet',\n",
       "  'cafe',\n",
       "  'dear',\n",
       "  'bitter',\n",
       "  'ill',\n",
       "  'bite'],\n",
       " ['dejavu',\n",
       "  'ill',\n",
       "  'push',\n",
       "  'faith',\n",
       "  'done',\n",
       "  'card',\n",
       "  'open',\n",
       "  'handle',\n",
       "  'present',\n",
       "  'hallo'],\n",
       " ['utah',\n",
       "  'rumor',\n",
       "  'devil',\n",
       "  'better',\n",
       "  'attention',\n",
       "  'date',\n",
       "  'holder',\n",
       "  'rich',\n",
       "  'sticky',\n",
       "  'pull'],\n",
       " ['fallen',\n",
       "  'wipe',\n",
       "  'shiny',\n",
       "  'action',\n",
       "  'water',\n",
       "  'doubt',\n",
       "  'text',\n",
       "  'else',\n",
       "  'careful',\n",
       "  'happen'],\n",
       " ['daytime',\n",
       "  'confession',\n",
       "  'backwards',\n",
       "  'youth',\n",
       "  'press',\n",
       "  'thank',\n",
       "  'reason',\n",
       "  'remember',\n",
       "  'phone',\n",
       "  'number'],\n",
       " ['hello',\n",
       "  'curious',\n",
       "  'rumor',\n",
       "  'backwards',\n",
       "  'tell',\n",
       "  'goodby',\n",
       "  'foolish',\n",
       "  'tick',\n",
       "  'hell',\n",
       "  'disappears'],\n",
       " ['who',\n",
       "  'write',\n",
       "  'fallen',\n",
       "  'doubt',\n",
       "  'waerduriju',\n",
       "  'pray',\n",
       "  'second',\n",
       "  'blank',\n",
       "  'know',\n",
       "  'handle']]"
      ]
     },
     "execution_count": 236,
     "metadata": {},
     "output_type": "execute_result"
    }
   ],
   "source": [
    "kpop_en_topic_list = []\n",
    "for i in range(len(kpop_en_topic_nums)):\n",
    "    kpop_en_topic_list.append(kpop_en_topic_words[i][:10].tolist())\n",
    "kpop_en_topic_list"
   ]
  },
  {
   "cell_type": "code",
   "execution_count": 152,
   "id": "6bec5880",
   "metadata": {},
   "outputs": [
    {
     "data": {
      "text/plain": [
       "28"
      ]
     },
     "execution_count": 152,
     "metadata": {},
     "output_type": "execute_result"
    }
   ],
   "source": [
    "len(kpop_kr_topic_nums)"
   ]
  },
  {
   "cell_type": "code",
   "execution_count": 153,
   "id": "7ac5524a",
   "metadata": {},
   "outputs": [
    {
     "data": {
      "text/plain": [
       "46"
      ]
     },
     "execution_count": 153,
     "metadata": {},
     "output_type": "execute_result"
    }
   ],
   "source": [
    "len(pop_kr_topic_nums)"
   ]
  },
  {
   "cell_type": "code",
   "execution_count": 154,
   "id": "3e055df4",
   "metadata": {},
   "outputs": [
    {
     "data": {
      "text/plain": [
       "50"
      ]
     },
     "execution_count": 154,
     "metadata": {},
     "output_type": "execute_result"
    }
   ],
   "source": [
    "len(kpop_en_topic_nums)"
   ]
  },
  {
   "cell_type": "code",
   "execution_count": 155,
   "id": "a8b5b5c3",
   "metadata": {},
   "outputs": [
    {
     "data": {
      "text/plain": [
       "34"
      ]
     },
     "execution_count": 155,
     "metadata": {},
     "output_type": "execute_result"
    }
   ],
   "source": [
    "len(pop_en_topic_nums)"
   ]
  },
  {
   "cell_type": "markdown",
   "id": "3e1afd1c",
   "metadata": {},
   "source": [
    "# KPOP_KR_PWI"
   ]
  },
  {
   "cell_type": "raw",
   "id": "0c66c4fd",
   "metadata": {},
   "source": [
    "from nltk import ngrams, FreqDist\n",
    "freq_dist = FreqDist()\n",
    "for doc in kpop_kr:\n",
    "    doc = doc.split()\n",
    "    for word in doc:\n",
    "        freq_dist[word.lower()] += 1\n",
    "freq_dist"
   ]
  },
  {
   "cell_type": "code",
   "execution_count": 222,
   "id": "939c1d68",
   "metadata": {
    "scrolled": true
   },
   "outputs": [
    {
     "name": "stderr",
     "output_type": "stream",
     "text": [
      "100%|█████████████████████████████████████████████████████████████████████████| 4577/4577 [00:00<00:00, 1529789.58it/s]\n"
     ]
    },
    {
     "data": {
      "text/plain": [
       "587852"
      ]
     },
     "execution_count": 222,
     "metadata": {},
     "output_type": "execute_result"
    }
   ],
   "source": [
    "count=0\n",
    "for i in tqdm(range(4577)):\n",
    "    a =len(kpop_kr[i])\n",
    "    count = count+a\n",
    "count"
   ]
  },
  {
   "cell_type": "code",
   "execution_count": 224,
   "id": "8bc0aa78",
   "metadata": {
    "scrolled": true
   },
   "outputs": [
    {
     "name": "stderr",
     "output_type": "stream",
     "text": [
      "  0%|                                                                                           | 0/28 [00:00<?, ?it/s]<ipython-input-224-794fc3adce1d>:22: RuntimeWarning: divide by zero encountered in log\n",
      "  if np.log(P_wi_dj/(P_wi * P_dj)) == -inf:\n",
      "  4%|██▉                                                                                | 1/28 [00:00<00:24,  1.09it/s]"
     ]
    },
    {
     "name": "stdout",
     "output_type": "stream",
     "text": [
      "0.009212113214213216\n"
     ]
    },
    {
     "name": "stderr",
     "output_type": "stream",
     "text": [
      "\r",
      "  7%|█████▉                                                                             | 2/28 [00:01<00:24,  1.07it/s]"
     ]
    },
    {
     "name": "stdout",
     "output_type": "stream",
     "text": [
      "0.0068661748591183425\n"
     ]
    },
    {
     "name": "stderr",
     "output_type": "stream",
     "text": [
      "\r",
      " 11%|████████▉                                                                          | 3/28 [00:02<00:23,  1.07it/s]"
     ]
    },
    {
     "name": "stdout",
     "output_type": "stream",
     "text": [
      "0.013562889427173885\n"
     ]
    },
    {
     "name": "stderr",
     "output_type": "stream",
     "text": [
      "\r",
      " 14%|███████████▊                                                                       | 4/28 [00:03<00:22,  1.07it/s]"
     ]
    },
    {
     "name": "stdout",
     "output_type": "stream",
     "text": [
      "0.008735135142622443\n"
     ]
    },
    {
     "name": "stderr",
     "output_type": "stream",
     "text": [
      "\r",
      " 18%|██████████████▊                                                                    | 5/28 [00:04<00:21,  1.07it/s]"
     ]
    },
    {
     "name": "stdout",
     "output_type": "stream",
     "text": [
      "0.007426887710470032\n"
     ]
    },
    {
     "name": "stderr",
     "output_type": "stream",
     "text": [
      "\r",
      " 21%|█████████████████▊                                                                 | 6/28 [00:05<00:20,  1.07it/s]"
     ]
    },
    {
     "name": "stdout",
     "output_type": "stream",
     "text": [
      "0.008215592535029445\n"
     ]
    },
    {
     "name": "stderr",
     "output_type": "stream",
     "text": [
      "\r",
      " 25%|████████████████████▊                                                              | 7/28 [00:06<00:19,  1.07it/s]"
     ]
    },
    {
     "name": "stdout",
     "output_type": "stream",
     "text": [
      "0.009935636031181541\n"
     ]
    },
    {
     "name": "stderr",
     "output_type": "stream",
     "text": [
      "\r",
      " 29%|███████████████████████▋                                                           | 8/28 [00:07<00:18,  1.08it/s]"
     ]
    },
    {
     "name": "stdout",
     "output_type": "stream",
     "text": [
      "0.0032580378615335425\n"
     ]
    },
    {
     "name": "stderr",
     "output_type": "stream",
     "text": [
      "\r",
      " 32%|██████████████████████████▋                                                        | 9/28 [00:08<00:17,  1.09it/s]"
     ]
    },
    {
     "name": "stdout",
     "output_type": "stream",
     "text": [
      "0.008463119355637282\n"
     ]
    },
    {
     "name": "stderr",
     "output_type": "stream",
     "text": [
      "\r",
      " 36%|█████████████████████████████▎                                                    | 10/28 [00:09<00:16,  1.08it/s]"
     ]
    },
    {
     "name": "stdout",
     "output_type": "stream",
     "text": [
      "0.010404119036295853\n"
     ]
    },
    {
     "name": "stderr",
     "output_type": "stream",
     "text": [
      "\r",
      " 39%|████████████████████████████████▏                                                 | 11/28 [00:10<00:15,  1.08it/s]"
     ]
    },
    {
     "name": "stdout",
     "output_type": "stream",
     "text": [
      "0.012266163662723017\n"
     ]
    },
    {
     "name": "stderr",
     "output_type": "stream",
     "text": [
      "\r",
      " 43%|███████████████████████████████████▏                                              | 12/28 [00:11<00:14,  1.08it/s]"
     ]
    },
    {
     "name": "stdout",
     "output_type": "stream",
     "text": [
      "0.008437812902055494\n"
     ]
    },
    {
     "name": "stderr",
     "output_type": "stream",
     "text": [
      "\r",
      " 46%|██████████████████████████████████████                                            | 13/28 [00:12<00:13,  1.08it/s]"
     ]
    },
    {
     "name": "stdout",
     "output_type": "stream",
     "text": [
      "0.008616384494647892\n"
     ]
    },
    {
     "name": "stderr",
     "output_type": "stream",
     "text": [
      "\r",
      " 50%|█████████████████████████████████████████                                         | 14/28 [00:13<00:13,  1.07it/s]"
     ]
    },
    {
     "name": "stdout",
     "output_type": "stream",
     "text": [
      "0.008677662561778052\n"
     ]
    },
    {
     "name": "stderr",
     "output_type": "stream",
     "text": [
      "\r",
      " 54%|███████████████████████████████████████████▉                                      | 15/28 [00:13<00:12,  1.07it/s]"
     ]
    },
    {
     "name": "stdout",
     "output_type": "stream",
     "text": [
      "0.008816001946488263\n"
     ]
    },
    {
     "name": "stderr",
     "output_type": "stream",
     "text": [
      "\r",
      " 57%|██████████████████████████████████████████████▊                                   | 16/28 [00:14<00:11,  1.08it/s]"
     ]
    },
    {
     "name": "stdout",
     "output_type": "stream",
     "text": [
      "0.008113294805204114\n"
     ]
    },
    {
     "name": "stderr",
     "output_type": "stream",
     "text": [
      "\r",
      " 61%|█████████████████████████████████████████████████▊                                | 17/28 [00:15<00:10,  1.09it/s]"
     ]
    },
    {
     "name": "stdout",
     "output_type": "stream",
     "text": [
      "0.008297766148682032\n"
     ]
    },
    {
     "name": "stderr",
     "output_type": "stream",
     "text": [
      "\r",
      " 64%|████████████████████████████████████████████████████▋                             | 18/28 [00:16<00:09,  1.08it/s]"
     ]
    },
    {
     "name": "stdout",
     "output_type": "stream",
     "text": [
      "0.009178447080946193\n"
     ]
    },
    {
     "name": "stderr",
     "output_type": "stream",
     "text": [
      "\r",
      " 68%|███████████████████████████████████████████████████████▋                          | 19/28 [00:17<00:08,  1.08it/s]"
     ]
    },
    {
     "name": "stdout",
     "output_type": "stream",
     "text": [
      "0.011071885032284701\n"
     ]
    },
    {
     "name": "stderr",
     "output_type": "stream",
     "text": [
      "\r",
      " 71%|██████████████████████████████████████████████████████████▌                       | 20/28 [00:18<00:07,  1.08it/s]"
     ]
    },
    {
     "name": "stdout",
     "output_type": "stream",
     "text": [
      "0.01446217297215401\n"
     ]
    },
    {
     "name": "stderr",
     "output_type": "stream",
     "text": [
      "\r",
      " 75%|█████████████████████████████████████████████████████████████▌                    | 21/28 [00:19<00:06,  1.08it/s]"
     ]
    },
    {
     "name": "stdout",
     "output_type": "stream",
     "text": [
      "0.00893419006214152\n"
     ]
    },
    {
     "name": "stderr",
     "output_type": "stream",
     "text": [
      "\r",
      " 79%|████████████████████████████████████████████████████████████████▍                 | 22/28 [00:20<00:05,  1.08it/s]"
     ]
    },
    {
     "name": "stdout",
     "output_type": "stream",
     "text": [
      "0.014003704346014782\n"
     ]
    },
    {
     "name": "stderr",
     "output_type": "stream",
     "text": [
      "\r",
      " 82%|███████████████████████████████████████████████████████████████████▎              | 23/28 [00:21<00:04,  1.08it/s]"
     ]
    },
    {
     "name": "stdout",
     "output_type": "stream",
     "text": [
      "0.014208195119357033\n"
     ]
    },
    {
     "name": "stderr",
     "output_type": "stream",
     "text": [
      "\r",
      " 86%|██████████████████████████████████████████████████████████████████████▎           | 24/28 [00:22<00:03,  1.08it/s]"
     ]
    },
    {
     "name": "stdout",
     "output_type": "stream",
     "text": [
      "0.009679333368039581\n"
     ]
    },
    {
     "name": "stderr",
     "output_type": "stream",
     "text": [
      "\r",
      " 89%|█████████████████████████████████████████████████████████████████████████▏        | 25/28 [00:23<00:02,  1.08it/s]"
     ]
    },
    {
     "name": "stdout",
     "output_type": "stream",
     "text": [
      "0.008667629248440738\n"
     ]
    },
    {
     "name": "stderr",
     "output_type": "stream",
     "text": [
      "\r",
      " 93%|████████████████████████████████████████████████████████████████████████████▏     | 26/28 [00:24<00:01,  1.10it/s]"
     ]
    },
    {
     "name": "stdout",
     "output_type": "stream",
     "text": [
      "0.0049862600043099605\n"
     ]
    },
    {
     "name": "stderr",
     "output_type": "stream",
     "text": [
      "\r",
      " 96%|███████████████████████████████████████████████████████████████████████████████   | 27/28 [00:24<00:00,  1.09it/s]"
     ]
    },
    {
     "name": "stdout",
     "output_type": "stream",
     "text": [
      "0.0033272396642122573\n"
     ]
    },
    {
     "name": "stderr",
     "output_type": "stream",
     "text": [
      "100%|██████████████████████████████████████████████████████████████████████████████████| 28/28 [00:25<00:00,  1.08it/s]"
     ]
    },
    {
     "name": "stdout",
     "output_type": "stream",
     "text": [
      "0.014462301120783394\n"
     ]
    },
    {
     "name": "stderr",
     "output_type": "stream",
     "text": [
      "\n"
     ]
    }
   ],
   "source": [
    "from numpy import inf\n",
    "\n",
    "kpop_kr_total_pwi=[]\n",
    "N = 4577\n",
    "\n",
    "F = count\n",
    "\n",
    "P_dj = (1 / N)\n",
    "\n",
    "for i in tqdm(range(len(kpop_kr_topic_nums))):\n",
    "    dj_wi_pwi_list = []\n",
    "    for d in pop_kr:\n",
    "        words_in_t = []\n",
    "        #Iterate over n topic words\n",
    "        fake_topic_words = kpop_kr_topic_list[i]\n",
    "        for word in fake_topic_words:\n",
    "            tokenized_doc = [x.lower() for x in list(d.split(' '))] \n",
    "            f_ij = sum([1 for x in tokenized_doc if word == x])\n",
    "            P_wi_dj = (f_ij / F)\n",
    "            P_wi = freq_dist.freq(word)\n",
    "            try:\n",
    "                if np.log(P_wi_dj/(P_wi * P_dj)) == -inf:\n",
    "                    pmi = 0\n",
    "                else :\n",
    "                    pmi = np.log(P_wi_dj/(P_wi * P_dj))\n",
    "            except:\n",
    "                pass\n",
    "            pwi = P_wi_dj * pmi\n",
    "            words_in_t.append(pwi)\n",
    "            dj_wi_pwi_list.append(pwi)\n",
    "    topic_pwi = sum(dj_wi_pwi_list)\n",
    "    print(topic_pwi)\n",
    "    kpop_kr_total_pwi.append(topic_pwi)"
   ]
  },
  {
   "cell_type": "code",
   "execution_count": 229,
   "id": "e027b4fd",
   "metadata": {},
   "outputs": [
    {
     "data": {
      "text/plain": [
       "0.26228614971353864"
      ]
     },
     "execution_count": 229,
     "metadata": {},
     "output_type": "execute_result"
    }
   ],
   "source": [
    "sum(kpop_kr_total_pwi)"
   ]
  },
  {
   "cell_type": "code",
   "execution_count": 205,
   "id": "4792d2de",
   "metadata": {},
   "outputs": [],
   "source": [
    "import pandas as pd\n",
    "\n",
    "Topic_Pwi = pd.DataFrame()\n",
    "Topic_Pwi['keywords']= kpop_kr_topic_list\n",
    "Topic_Pwi['pwi']=total_pwi"
   ]
  },
  {
   "cell_type": "code",
   "execution_count": 206,
   "id": "d15e8d7e",
   "metadata": {},
   "outputs": [
    {
     "data": {
      "text/plain": [
       "['필요', '손짓', '손끝', '큰일', '천사', '눈앞', '거부', '수록', '공간', '게이']"
      ]
     },
     "execution_count": 206,
     "metadata": {},
     "output_type": "execute_result"
    }
   ],
   "source": [
    "Topic_Pwi['keywords'][0]"
   ]
  },
  {
   "cell_type": "code",
   "execution_count": 209,
   "id": "3f529f39",
   "metadata": {
    "collapsed": true
   },
   "outputs": [
    {
     "data": {
      "text/html": [
       "<div>\n",
       "<style scoped>\n",
       "    .dataframe tbody tr th:only-of-type {\n",
       "        vertical-align: middle;\n",
       "    }\n",
       "\n",
       "    .dataframe tbody tr th {\n",
       "        vertical-align: top;\n",
       "    }\n",
       "\n",
       "    .dataframe thead th {\n",
       "        text-align: right;\n",
       "    }\n",
       "</style>\n",
       "<table border=\"1\" class=\"dataframe\">\n",
       "  <thead>\n",
       "    <tr style=\"text-align: right;\">\n",
       "      <th></th>\n",
       "      <th>keywords</th>\n",
       "      <th>pwi</th>\n",
       "    </tr>\n",
       "  </thead>\n",
       "  <tbody>\n",
       "    <tr>\n",
       "      <th>18</th>\n",
       "      <td>[거울, 제일, 낯선, 보지, 아마, 번만, 버릇, 수만, 마나, 음악]</td>\n",
       "      <td>0.003184</td>\n",
       "    </tr>\n",
       "    <tr>\n",
       "      <th>12</th>\n",
       "      <td>[현상, 수배, 금도, 우연, 서서, 마주, 안녕, 결혼, 밤하늘, 우주]</td>\n",
       "      <td>0.002832</td>\n",
       "    </tr>\n",
       "    <tr>\n",
       "      <th>21</th>\n",
       "      <td>[조심, 주인공, 여름, 뭔가, 분위기, 공기, 조명, 무대, 세계, 게이]</td>\n",
       "      <td>0.002666</td>\n",
       "    </tr>\n",
       "    <tr>\n",
       "      <th>19</th>\n",
       "      <td>[아저씨, 온몸, 아주, 무릎, 키스, 어서, 물어, 며칠, 가기, 어깨]</td>\n",
       "      <td>0.002535</td>\n",
       "    </tr>\n",
       "    <tr>\n",
       "      <th>2</th>\n",
       "      <td>[행복, 너머, 공간, 건너, 파도, 푸른, 우릴, 두운, 태양, 기도]</td>\n",
       "      <td>0.002477</td>\n",
       "    </tr>\n",
       "    <tr>\n",
       "      <th>23</th>\n",
       "      <td>[먼지, 나야, 서울, 달리, 발자국, 불빛, 피어, 구름, 높이, 불어]</td>\n",
       "      <td>0.002460</td>\n",
       "    </tr>\n",
       "    <tr>\n",
       "      <th>25</th>\n",
       "      <td>[외톨이야, 모해, 굿바이, 커피, 박수, 주르륵, 아내, 전화번호, 부디, 그대만]</td>\n",
       "      <td>0.002412</td>\n",
       "    </tr>\n",
       "    <tr>\n",
       "      <th>26</th>\n",
       "      <td>[커피, 어쩜, 꿈속, 마다, 술잔, 자꾸, 나로, 귓가, 한잔, 색깔]</td>\n",
       "      <td>0.002363</td>\n",
       "    </tr>\n",
       "    <tr>\n",
       "      <th>27</th>\n",
       "      <td>[완전, 장난, 분위기, 거지, 영화, 뭔가, 연인, 방법, 벌써, 감동]</td>\n",
       "      <td>0.002362</td>\n",
       "    </tr>\n",
       "    <tr>\n",
       "      <th>20</th>\n",
       "      <td>[표현, 설레임, 필요, 말로, 도난, 일도, 걸너, 영화, 변명, 눈앞]</td>\n",
       "      <td>0.002354</td>\n",
       "    </tr>\n",
       "    <tr>\n",
       "      <th>3</th>\n",
       "      <td>[솔로, 연애, 영혼, 용기, 지구, 수배, 너뿐이야, 현상, 관심, 우주]</td>\n",
       "      <td>0.002195</td>\n",
       "    </tr>\n",
       "    <tr>\n",
       "      <th>17</th>\n",
       "      <td>[다운, 하자, 어쩜, 고개, 다행, 마나, 소식, 바다, 푸른, 제자리]</td>\n",
       "      <td>0.002185</td>\n",
       "    </tr>\n",
       "    <tr>\n",
       "      <th>22</th>\n",
       "      <td>[서울, 게임, 무릎, 반복, 먼지, 별로, 달리, 기쁨, 나이, 신경]</td>\n",
       "      <td>0.002184</td>\n",
       "    </tr>\n",
       "    <tr>\n",
       "      <th>4</th>\n",
       "      <td>[파란, 눈동자, 글자, 천국, 온기, 비밀, 말투, 송이, 미소, 분명]</td>\n",
       "      <td>0.002079</td>\n",
       "    </tr>\n",
       "    <tr>\n",
       "      <th>1</th>\n",
       "      <td>[수배, 현상, 집착, 대화, 침대, 나인, 이불, 지네, 굳이, 일도]</td>\n",
       "      <td>0.001969</td>\n",
       "    </tr>\n",
       "    <tr>\n",
       "      <th>10</th>\n",
       "      <td>[허리, 무릎, 어쩜, 관심, 별로, 이불, 전화번호, 전화기, 머리, 굳이]</td>\n",
       "      <td>0.001956</td>\n",
       "    </tr>\n",
       "    <tr>\n",
       "      <th>0</th>\n",
       "      <td>[필요, 손짓, 손끝, 큰일, 천사, 눈앞, 거부, 수록, 공간, 게이]</td>\n",
       "      <td>0.001955</td>\n",
       "    </tr>\n",
       "    <tr>\n",
       "      <th>24</th>\n",
       "      <td>[솔로, 원한, 더욱, 영혼, 너뿐이야, 우주, 인연, 지구, 하필, 외로움]</td>\n",
       "      <td>0.001947</td>\n",
       "    </tr>\n",
       "    <tr>\n",
       "      <th>14</th>\n",
       "      <td>[외로움, 하필, 자격, 다해, 보이지, 힘껏, 두운, 어둠, 믿음, 습관]</td>\n",
       "      <td>0.001916</td>\n",
       "    </tr>\n",
       "    <tr>\n",
       "      <th>9</th>\n",
       "      <td>[꿈속, 악몽, 지도, 의미, 갈수록, 일지, 어젯밤, 진실, 관심, 금은]</td>\n",
       "      <td>0.001908</td>\n",
       "    </tr>\n",
       "    <tr>\n",
       "      <th>5</th>\n",
       "      <td>[웃기, 미안, 모해, 오해, 이해, 취한, 감당, 꿈속, 박수, 반대]</td>\n",
       "      <td>0.001868</td>\n",
       "    </tr>\n",
       "    <tr>\n",
       "      <th>15</th>\n",
       "      <td>[첫사랑, 뿌리, 는걸, 의심, 일지, 주변, 피해, 지도, 연기, 어쩜]</td>\n",
       "      <td>0.001841</td>\n",
       "    </tr>\n",
       "    <tr>\n",
       "      <th>7</th>\n",
       "      <td>[외톨이야, 도록, 번지, 굿바이, 대론, 부디, 유리, 편지, 사람과, 온몸]</td>\n",
       "      <td>0.001779</td>\n",
       "    </tr>\n",
       "    <tr>\n",
       "      <th>13</th>\n",
       "      <td>[분명, 제자리, 피해, 의심, 연기, 공기, 지도, 가기, 감고, 존재]</td>\n",
       "      <td>0.001778</td>\n",
       "    </tr>\n",
       "    <tr>\n",
       "      <th>6</th>\n",
       "      <td>[소린, 믿음, 역사, 마마, 바닥, 현실, 보이지, 리가, 미로, 주기]</td>\n",
       "      <td>0.001710</td>\n",
       "    </tr>\n",
       "    <tr>\n",
       "      <th>11</th>\n",
       "      <td>[주르륵, 자격, 소린, 입맞춤, 피하, 입가, 거릴, 어우리, 자고, 수도]</td>\n",
       "      <td>0.001679</td>\n",
       "    </tr>\n",
       "    <tr>\n",
       "      <th>8</th>\n",
       "      <td>[지난날, 글자, 감동, 스물, 봄바람, 비교, 냄새, 금은, 존재, 크리스마스]</td>\n",
       "      <td>0.001670</td>\n",
       "    </tr>\n",
       "    <tr>\n",
       "      <th>16</th>\n",
       "      <td>[대론, 언니, 편지, 도록, 아내, 외톨이야, 죽지, 부탁, 어젯밤, 모습]</td>\n",
       "      <td>0.001644</td>\n",
       "    </tr>\n",
       "  </tbody>\n",
       "</table>\n",
       "</div>"
      ],
      "text/plain": [
       "                                           keywords       pwi\n",
       "18         [거울, 제일, 낯선, 보지, 아마, 번만, 버릇, 수만, 마나, 음악]  0.003184\n",
       "12        [현상, 수배, 금도, 우연, 서서, 마주, 안녕, 결혼, 밤하늘, 우주]  0.002832\n",
       "21       [조심, 주인공, 여름, 뭔가, 분위기, 공기, 조명, 무대, 세계, 게이]  0.002666\n",
       "19        [아저씨, 온몸, 아주, 무릎, 키스, 어서, 물어, 며칠, 가기, 어깨]  0.002535\n",
       "2          [행복, 너머, 공간, 건너, 파도, 푸른, 우릴, 두운, 태양, 기도]  0.002477\n",
       "23        [먼지, 나야, 서울, 달리, 발자국, 불빛, 피어, 구름, 높이, 불어]  0.002460\n",
       "25  [외톨이야, 모해, 굿바이, 커피, 박수, 주르륵, 아내, 전화번호, 부디, 그대만]  0.002412\n",
       "26         [커피, 어쩜, 꿈속, 마다, 술잔, 자꾸, 나로, 귓가, 한잔, 색깔]  0.002363\n",
       "27        [완전, 장난, 분위기, 거지, 영화, 뭔가, 연인, 방법, 벌써, 감동]  0.002362\n",
       "20        [표현, 설레임, 필요, 말로, 도난, 일도, 걸너, 영화, 변명, 눈앞]  0.002354\n",
       "3        [솔로, 연애, 영혼, 용기, 지구, 수배, 너뿐이야, 현상, 관심, 우주]  0.002195\n",
       "17        [다운, 하자, 어쩜, 고개, 다행, 마나, 소식, 바다, 푸른, 제자리]  0.002185\n",
       "22         [서울, 게임, 무릎, 반복, 먼지, 별로, 달리, 기쁨, 나이, 신경]  0.002184\n",
       "4         [파란, 눈동자, 글자, 천국, 온기, 비밀, 말투, 송이, 미소, 분명]  0.002079\n",
       "1          [수배, 현상, 집착, 대화, 침대, 나인, 이불, 지네, 굳이, 일도]  0.001969\n",
       "10      [허리, 무릎, 어쩜, 관심, 별로, 이불, 전화번호, 전화기, 머리, 굳이]  0.001956\n",
       "0          [필요, 손짓, 손끝, 큰일, 천사, 눈앞, 거부, 수록, 공간, 게이]  0.001955\n",
       "24      [솔로, 원한, 더욱, 영혼, 너뿐이야, 우주, 인연, 지구, 하필, 외로움]  0.001947\n",
       "14       [외로움, 하필, 자격, 다해, 보이지, 힘껏, 두운, 어둠, 믿음, 습관]  0.001916\n",
       "9        [꿈속, 악몽, 지도, 의미, 갈수록, 일지, 어젯밤, 진실, 관심, 금은]  0.001908\n",
       "5          [웃기, 미안, 모해, 오해, 이해, 취한, 감당, 꿈속, 박수, 반대]  0.001868\n",
       "15        [첫사랑, 뿌리, 는걸, 의심, 일지, 주변, 피해, 지도, 연기, 어쩜]  0.001841\n",
       "7      [외톨이야, 도록, 번지, 굿바이, 대론, 부디, 유리, 편지, 사람과, 온몸]  0.001779\n",
       "13        [분명, 제자리, 피해, 의심, 연기, 공기, 지도, 가기, 감고, 존재]  0.001778\n",
       "6         [소린, 믿음, 역사, 마마, 바닥, 현실, 보이지, 리가, 미로, 주기]  0.001710\n",
       "11      [주르륵, 자격, 소린, 입맞춤, 피하, 입가, 거릴, 어우리, 자고, 수도]  0.001679\n",
       "8     [지난날, 글자, 감동, 스물, 봄바람, 비교, 냄새, 금은, 존재, 크리스마스]  0.001670\n",
       "16      [대론, 언니, 편지, 도록, 아내, 외톨이야, 죽지, 부탁, 어젯밤, 모습]  0.001644"
      ]
     },
     "execution_count": 209,
     "metadata": {},
     "output_type": "execute_result"
    }
   ],
   "source": [
    "Topic_Pwi_sort_value = Topic_Pwi.sort_values('pwi', ascending=False)\n",
    "Topic_Pwi_sort_value"
   ]
  },
  {
   "cell_type": "markdown",
   "id": "8287d68d",
   "metadata": {},
   "source": [
    "# Pop_kr_PWI"
   ]
  },
  {
   "cell_type": "code",
   "execution_count": 226,
   "id": "0372c6cb",
   "metadata": {},
   "outputs": [
    {
     "data": {
      "text/plain": [
       "FreqDist({'사랑': 10793, '우린': 4537, '그냥': 3569, '그래그래': 2780, '마음': 2476, '친구': 2360, '오늘': 2269, '계속': 2220, '절대': 2131, '노래': 1876, ...})"
      ]
     },
     "execution_count": 226,
     "metadata": {},
     "output_type": "execute_result"
    }
   ],
   "source": [
    "from nltk import ngrams, FreqDist\n",
    "freq_dist = FreqDist()\n",
    "for doc in pop_kr:\n",
    "    doc = doc.split()\n",
    "    for word in doc:\n",
    "        freq_dist[word.lower()] += 1\n",
    "freq_dist"
   ]
  },
  {
   "cell_type": "code",
   "execution_count": 227,
   "id": "d11f8fb4",
   "metadata": {},
   "outputs": [
    {
     "name": "stderr",
     "output_type": "stream",
     "text": [
      "100%|█████████████████████████████████████████████████████████████████████████| 5147/5147 [00:00<00:00, 2581997.69it/s]\n"
     ]
    },
    {
     "data": {
      "text/plain": [
       "1357885"
      ]
     },
     "execution_count": 227,
     "metadata": {},
     "output_type": "execute_result"
    }
   ],
   "source": [
    "count=0\n",
    "for i in tqdm(range(5147)):\n",
    "    a =len(pop_kr[i])\n",
    "    count = count+a\n",
    "count"
   ]
  },
  {
   "cell_type": "code",
   "execution_count": 228,
   "id": "451490cc",
   "metadata": {},
   "outputs": [
    {
     "name": "stderr",
     "output_type": "stream",
     "text": [
      "  0%|                                                                                           | 0/46 [00:00<?, ?it/s]<ipython-input-228-02029e237824>:22: RuntimeWarning: divide by zero encountered in log\n",
      "  if np.log(P_wi_dj/(P_wi * P_dj)) == -inf:\n",
      "  2%|█▊                                                                                 | 1/46 [00:00<00:41,  1.09it/s]"
     ]
    },
    {
     "name": "stdout",
     "output_type": "stream",
     "text": [
      "0.0043567993808159445\n"
     ]
    },
    {
     "name": "stderr",
     "output_type": "stream",
     "text": [
      "\r",
      "  4%|███▌                                                                               | 2/46 [00:01<00:40,  1.09it/s]"
     ]
    },
    {
     "name": "stdout",
     "output_type": "stream",
     "text": [
      "0.0027989983448495413\n"
     ]
    },
    {
     "name": "stderr",
     "output_type": "stream",
     "text": [
      "\r",
      "  7%|█████▍                                                                             | 3/46 [00:02<00:39,  1.09it/s]"
     ]
    },
    {
     "name": "stdout",
     "output_type": "stream",
     "text": [
      "0.002588904809848238\n"
     ]
    },
    {
     "name": "stderr",
     "output_type": "stream",
     "text": [
      "\r",
      "  9%|███████▏                                                                           | 4/46 [00:03<00:38,  1.10it/s]"
     ]
    },
    {
     "name": "stdout",
     "output_type": "stream",
     "text": [
      "0.003648641877293278\n"
     ]
    },
    {
     "name": "stderr",
     "output_type": "stream",
     "text": [
      "\r",
      " 11%|█████████                                                                          | 5/46 [00:04<00:37,  1.09it/s]"
     ]
    },
    {
     "name": "stdout",
     "output_type": "stream",
     "text": [
      "0.003975650304603569\n"
     ]
    },
    {
     "name": "stderr",
     "output_type": "stream",
     "text": [
      "\r",
      " 13%|██████████▊                                                                        | 6/46 [00:05<00:36,  1.09it/s]"
     ]
    },
    {
     "name": "stdout",
     "output_type": "stream",
     "text": [
      "0.004075213727417261\n"
     ]
    },
    {
     "name": "stderr",
     "output_type": "stream",
     "text": [
      "\r",
      " 15%|████████████▋                                                                      | 7/46 [00:06<00:35,  1.09it/s]"
     ]
    },
    {
     "name": "stdout",
     "output_type": "stream",
     "text": [
      "0.0038015861847094947\n"
     ]
    },
    {
     "name": "stderr",
     "output_type": "stream",
     "text": [
      "\r",
      " 17%|██████████████▍                                                                    | 8/46 [00:07<00:34,  1.09it/s]"
     ]
    },
    {
     "name": "stdout",
     "output_type": "stream",
     "text": [
      "0.004734713910595277\n"
     ]
    },
    {
     "name": "stderr",
     "output_type": "stream",
     "text": [
      "\r",
      " 20%|████████████████▏                                                                  | 9/46 [00:08<00:33,  1.09it/s]"
     ]
    },
    {
     "name": "stdout",
     "output_type": "stream",
     "text": [
      "0.0033891606624093336\n"
     ]
    },
    {
     "name": "stderr",
     "output_type": "stream",
     "text": [
      "\r",
      " 22%|█████████████████▊                                                                | 10/46 [00:09<00:32,  1.09it/s]"
     ]
    },
    {
     "name": "stdout",
     "output_type": "stream",
     "text": [
      "0.0025312871620749734\n"
     ]
    },
    {
     "name": "stderr",
     "output_type": "stream",
     "text": [
      "\r",
      " 24%|███████████████████▌                                                              | 11/46 [00:10<00:32,  1.09it/s]"
     ]
    },
    {
     "name": "stdout",
     "output_type": "stream",
     "text": [
      "0.0021848563687363294\n"
     ]
    },
    {
     "name": "stderr",
     "output_type": "stream",
     "text": [
      "\r",
      " 26%|█████████████████████▍                                                            | 12/46 [00:10<00:31,  1.09it/s]"
     ]
    },
    {
     "name": "stdout",
     "output_type": "stream",
     "text": [
      "0.0033529416685042614\n"
     ]
    },
    {
     "name": "stderr",
     "output_type": "stream",
     "text": [
      "\r",
      " 28%|███████████████████████▏                                                          | 13/46 [00:11<00:30,  1.09it/s]"
     ]
    },
    {
     "name": "stdout",
     "output_type": "stream",
     "text": [
      "0.00312878589640637\n"
     ]
    },
    {
     "name": "stderr",
     "output_type": "stream",
     "text": [
      "\r",
      " 30%|████████████████████████▉                                                         | 14/46 [00:12<00:29,  1.09it/s]"
     ]
    },
    {
     "name": "stdout",
     "output_type": "stream",
     "text": [
      "0.003911421160642971\n"
     ]
    },
    {
     "name": "stderr",
     "output_type": "stream",
     "text": [
      "\r",
      " 33%|██████████████████████████▋                                                       | 15/46 [00:13<00:28,  1.09it/s]"
     ]
    },
    {
     "name": "stdout",
     "output_type": "stream",
     "text": [
      "0.0037362371041287255\n"
     ]
    },
    {
     "name": "stderr",
     "output_type": "stream",
     "text": [
      "\r",
      " 35%|████████████████████████████▌                                                     | 16/46 [00:14<00:27,  1.09it/s]"
     ]
    },
    {
     "name": "stdout",
     "output_type": "stream",
     "text": [
      "0.002266336682711989\n"
     ]
    },
    {
     "name": "stderr",
     "output_type": "stream",
     "text": [
      "\r",
      " 37%|██████████████████████████████▎                                                   | 17/46 [00:15<00:26,  1.09it/s]"
     ]
    },
    {
     "name": "stdout",
     "output_type": "stream",
     "text": [
      "0.0036321642986138513\n"
     ]
    },
    {
     "name": "stderr",
     "output_type": "stream",
     "text": [
      "\r",
      " 39%|████████████████████████████████                                                  | 18/46 [00:16<00:25,  1.09it/s]"
     ]
    },
    {
     "name": "stdout",
     "output_type": "stream",
     "text": [
      "0.003352455481535452\n"
     ]
    },
    {
     "name": "stderr",
     "output_type": "stream",
     "text": [
      "\r",
      " 41%|█████████████████████████████████▊                                                | 19/46 [00:17<00:24,  1.09it/s]"
     ]
    },
    {
     "name": "stdout",
     "output_type": "stream",
     "text": [
      "0.0041128589548484465\n"
     ]
    },
    {
     "name": "stderr",
     "output_type": "stream",
     "text": [
      "\r",
      " 43%|███████████████████████████████████▋                                              | 20/46 [00:18<00:23,  1.09it/s]"
     ]
    },
    {
     "name": "stdout",
     "output_type": "stream",
     "text": [
      "0.0037881543202576812\n"
     ]
    },
    {
     "name": "stderr",
     "output_type": "stream",
     "text": [
      "\r",
      " 46%|█████████████████████████████████████▍                                            | 21/46 [00:19<00:22,  1.09it/s]"
     ]
    },
    {
     "name": "stdout",
     "output_type": "stream",
     "text": [
      "0.0038692360289934954\n"
     ]
    },
    {
     "name": "stderr",
     "output_type": "stream",
     "text": [
      "\r",
      " 48%|███████████████████████████████████████▏                                          | 22/46 [00:20<00:22,  1.09it/s]"
     ]
    },
    {
     "name": "stdout",
     "output_type": "stream",
     "text": [
      "0.004714177291654329\n"
     ]
    },
    {
     "name": "stderr",
     "output_type": "stream",
     "text": [
      "\r",
      " 50%|█████████████████████████████████████████                                         | 23/46 [00:21<00:21,  1.09it/s]"
     ]
    },
    {
     "name": "stdout",
     "output_type": "stream",
     "text": [
      "0.0032107419284069217\n"
     ]
    },
    {
     "name": "stderr",
     "output_type": "stream",
     "text": [
      "\r",
      " 52%|██████████████████████████████████████████▊                                       | 24/46 [00:22<00:20,  1.09it/s]"
     ]
    },
    {
     "name": "stdout",
     "output_type": "stream",
     "text": [
      "0.005226626588746334\n"
     ]
    },
    {
     "name": "stderr",
     "output_type": "stream",
     "text": [
      "\r",
      " 54%|████████████████████████████████████████████▌                                     | 25/46 [00:22<00:19,  1.09it/s]"
     ]
    },
    {
     "name": "stdout",
     "output_type": "stream",
     "text": [
      "0.003737397225600673\n"
     ]
    },
    {
     "name": "stderr",
     "output_type": "stream",
     "text": [
      "\r",
      " 57%|██████████████████████████████████████████████▎                                   | 26/46 [00:23<00:18,  1.09it/s]"
     ]
    },
    {
     "name": "stdout",
     "output_type": "stream",
     "text": [
      "0.0025298333969461352\n"
     ]
    },
    {
     "name": "stderr",
     "output_type": "stream",
     "text": [
      "\r",
      " 59%|████████████████████████████████████████████████▏                                 | 27/46 [00:24<00:17,  1.09it/s]"
     ]
    },
    {
     "name": "stdout",
     "output_type": "stream",
     "text": [
      "0.0028298451001910986\n"
     ]
    },
    {
     "name": "stderr",
     "output_type": "stream",
     "text": [
      "\r",
      " 61%|█████████████████████████████████████████████████▉                                | 28/46 [00:25<00:16,  1.09it/s]"
     ]
    },
    {
     "name": "stdout",
     "output_type": "stream",
     "text": [
      "0.003264655890397336\n"
     ]
    },
    {
     "name": "stderr",
     "output_type": "stream",
     "text": [
      "\r",
      " 63%|███████████████████████████████████████████████████▋                              | 29/46 [00:26<00:15,  1.09it/s]"
     ]
    },
    {
     "name": "stdout",
     "output_type": "stream",
     "text": [
      "0.003647240163244022\n"
     ]
    },
    {
     "name": "stderr",
     "output_type": "stream",
     "text": [
      "\r",
      " 65%|█████████████████████████████████████████████████████▍                            | 30/46 [00:27<00:14,  1.09it/s]"
     ]
    },
    {
     "name": "stdout",
     "output_type": "stream",
     "text": [
      "0.0034482016872611153\n"
     ]
    },
    {
     "name": "stderr",
     "output_type": "stream",
     "text": [
      "\r",
      " 67%|███████████████████████████████████████████████████████▎                          | 31/46 [00:28<00:13,  1.09it/s]"
     ]
    },
    {
     "name": "stdout",
     "output_type": "stream",
     "text": [
      "0.0033110987793480025\n"
     ]
    },
    {
     "name": "stderr",
     "output_type": "stream",
     "text": [
      "\r",
      " 70%|█████████████████████████████████████████████████████████                         | 32/46 [00:29<00:12,  1.10it/s]"
     ]
    },
    {
     "name": "stdout",
     "output_type": "stream",
     "text": [
      "0.003394325011404239\n"
     ]
    },
    {
     "name": "stderr",
     "output_type": "stream",
     "text": [
      "\r",
      " 72%|██████████████████████████████████████████████████████████▊                       | 33/46 [00:30<00:11,  1.09it/s]"
     ]
    },
    {
     "name": "stdout",
     "output_type": "stream",
     "text": [
      "0.004502873486061811\n"
     ]
    },
    {
     "name": "stderr",
     "output_type": "stream",
     "text": [
      "\r",
      " 74%|████████████████████████████████████████████████████████████▌                     | 34/46 [00:31<00:11,  1.09it/s]"
     ]
    },
    {
     "name": "stdout",
     "output_type": "stream",
     "text": [
      "0.002272257311310903\n"
     ]
    },
    {
     "name": "stderr",
     "output_type": "stream",
     "text": [
      "\r",
      " 76%|██████████████████████████████████████████████████████████████▍                   | 35/46 [00:32<00:10,  1.09it/s]"
     ]
    },
    {
     "name": "stdout",
     "output_type": "stream",
     "text": [
      "0.003360999497061532\n"
     ]
    },
    {
     "name": "stderr",
     "output_type": "stream",
     "text": [
      "\r",
      " 78%|████████████████████████████████████████████████████████████████▏                 | 36/46 [00:32<00:09,  1.09it/s]"
     ]
    },
    {
     "name": "stdout",
     "output_type": "stream",
     "text": [
      "0.003400067172608844\n"
     ]
    },
    {
     "name": "stderr",
     "output_type": "stream",
     "text": [
      "\r",
      " 80%|█████████████████████████████████████████████████████████████████▉                | 37/46 [00:33<00:08,  1.09it/s]"
     ]
    },
    {
     "name": "stdout",
     "output_type": "stream",
     "text": [
      "0.004035060368443481\n"
     ]
    },
    {
     "name": "stderr",
     "output_type": "stream",
     "text": [
      "\r",
      " 83%|███████████████████████████████████████████████████████████████████▋              | 38/46 [00:34<00:07,  1.09it/s]"
     ]
    },
    {
     "name": "stdout",
     "output_type": "stream",
     "text": [
      "0.003907878149876768\n"
     ]
    },
    {
     "name": "stderr",
     "output_type": "stream",
     "text": [
      "\r",
      " 85%|█████████████████████████████████████████████████████████████████████▌            | 39/46 [00:35<00:06,  1.09it/s]"
     ]
    },
    {
     "name": "stdout",
     "output_type": "stream",
     "text": [
      "0.002451578372022501\n"
     ]
    },
    {
     "name": "stderr",
     "output_type": "stream",
     "text": [
      "\r",
      " 87%|███████████████████████████████████████████████████████████████████████▎          | 40/46 [00:36<00:05,  1.09it/s]"
     ]
    },
    {
     "name": "stdout",
     "output_type": "stream",
     "text": [
      "0.0037344550985379554\n"
     ]
    },
    {
     "name": "stderr",
     "output_type": "stream",
     "text": [
      "\r",
      " 89%|█████████████████████████████████████████████████████████████████████████         | 41/46 [00:37<00:04,  1.09it/s]"
     ]
    },
    {
     "name": "stdout",
     "output_type": "stream",
     "text": [
      "0.0031757352403968884\n"
     ]
    },
    {
     "name": "stderr",
     "output_type": "stream",
     "text": [
      "\r",
      " 91%|██████████████████████████████████████████████████████████████████████████▊       | 42/46 [00:38<00:03,  1.09it/s]"
     ]
    },
    {
     "name": "stdout",
     "output_type": "stream",
     "text": [
      "0.004844483657755084\n"
     ]
    },
    {
     "name": "stderr",
     "output_type": "stream",
     "text": [
      "\r",
      " 93%|████████████████████████████████████████████████████████████████████████████▋     | 43/46 [00:39<00:02,  1.09it/s]"
     ]
    },
    {
     "name": "stdout",
     "output_type": "stream",
     "text": [
      "0.001890788363547609\n"
     ]
    },
    {
     "name": "stderr",
     "output_type": "stream",
     "text": [
      "\r",
      " 96%|██████████████████████████████████████████████████████████████████████████████▍   | 44/46 [00:40<00:01,  1.09it/s]"
     ]
    },
    {
     "name": "stdout",
     "output_type": "stream",
     "text": [
      "0.0033725080753944665\n"
     ]
    },
    {
     "name": "stderr",
     "output_type": "stream",
     "text": [
      "\r",
      " 98%|████████████████████████████████████████████████████████████████████████████████▏ | 45/46 [00:41<00:00,  1.09it/s]"
     ]
    },
    {
     "name": "stdout",
     "output_type": "stream",
     "text": [
      "0.0035536565720197797\n"
     ]
    },
    {
     "name": "stderr",
     "output_type": "stream",
     "text": [
      "100%|██████████████████████████████████████████████████████████████████████████████████| 46/46 [00:42<00:00,  1.09it/s]"
     ]
    },
    {
     "name": "stdout",
     "output_type": "stream",
     "text": [
      "0.0033513189695350606\n"
     ]
    },
    {
     "name": "stderr",
     "output_type": "stream",
     "text": [
      "\n"
     ]
    }
   ],
   "source": [
    "from numpy import inf\n",
    "\n",
    "pop_kr_total_pwi=[]\n",
    "N = 5147\n",
    "\n",
    "F = count\n",
    "\n",
    "P_dj = (1 / N)\n",
    "\n",
    "for i in tqdm(range(len(pop_kr_topic_nums))):\n",
    "    dj_wi_pwi_list = []\n",
    "    for d in pop_kr:\n",
    "        words_in_t = []\n",
    "        #Iterate over n topic words\n",
    "        fake_topic_words = pop_kr_topic_list[i]\n",
    "        for word in fake_topic_words:\n",
    "            tokenized_doc = [x.lower() for x in list(d.split(' '))] \n",
    "            f_ij = sum([1 for x in tokenized_doc if word == x])\n",
    "            P_wi_dj = (f_ij / F)\n",
    "            P_wi = freq_dist.freq(word)\n",
    "            try:\n",
    "                if np.log(P_wi_dj/(P_wi * P_dj)) == -inf:\n",
    "                    pmi = 0\n",
    "                else :\n",
    "                    pmi = np.log(P_wi_dj/(P_wi * P_dj))\n",
    "            except:\n",
    "                pass\n",
    "            pwi = P_wi_dj * pmi\n",
    "            words_in_t.append(pwi)\n",
    "            dj_wi_pwi_list.append(pwi)\n",
    "    topic_pwi = sum(dj_wi_pwi_list)\n",
    "    print(topic_pwi)\n",
    "    pop_kr_total_pwi.append(topic_pwi)"
   ]
  },
  {
   "cell_type": "code",
   "execution_count": 230,
   "id": "da9eb718",
   "metadata": {},
   "outputs": [
    {
     "data": {
      "text/plain": [
       "0.1604042077277694"
      ]
     },
     "execution_count": 230,
     "metadata": {},
     "output_type": "execute_result"
    }
   ],
   "source": [
    "sum(pop_kr_total_pwi)"
   ]
  },
  {
   "cell_type": "markdown",
   "id": "4c8db8a5",
   "metadata": {},
   "source": [
    "# Kpop_en_Pwi"
   ]
  },
  {
   "cell_type": "code",
   "execution_count": 232,
   "id": "b185ccc4",
   "metadata": {},
   "outputs": [
    {
     "data": {
      "text/plain": [
       "FreqDist({'love': 7930, 'heart': 7796, 'time': 6638, 'night': 3741, 'baby': 3531, 'everything': 3095, 'good': 2681, 'girl': 2629, 'look': 2304, 'today': 2175, ...})"
      ]
     },
     "execution_count": 232,
     "metadata": {},
     "output_type": "execute_result"
    }
   ],
   "source": [
    "from nltk import ngrams, FreqDist\n",
    "freq_dist = FreqDist()\n",
    "for doc in kpop_en:\n",
    "    doc = doc.split()\n",
    "    for word in doc:\n",
    "        freq_dist[word.lower()] += 1\n",
    "freq_dist"
   ]
  },
  {
   "cell_type": "code",
   "execution_count": 234,
   "id": "ce831429",
   "metadata": {},
   "outputs": [
    {
     "name": "stderr",
     "output_type": "stream",
     "text": [
      "100%|█████████████████████████████████████████████████████████████████████████| 4577/4577 [00:00<00:00, 2189476.44it/s]\n"
     ]
    },
    {
     "data": {
      "text/plain": [
       "1939883"
      ]
     },
     "execution_count": 234,
     "metadata": {},
     "output_type": "execute_result"
    }
   ],
   "source": [
    "count=0\n",
    "for i in tqdm(range(4577)):\n",
    "    a =len(kpop_en[i])\n",
    "    count = count+a\n",
    "count"
   ]
  },
  {
   "cell_type": "code",
   "execution_count": 240,
   "id": "da20b367",
   "metadata": {
    "scrolled": true
   },
   "outputs": [
    {
     "name": "stderr",
     "output_type": "stream",
     "text": [
      "  0%|                                                                                           | 0/50 [00:00<?, ?it/s]<ipython-input-240-d2c4c7f59763>:22: RuntimeWarning: divide by zero encountered in log\n",
      "  if np.log(P_wi_dj/(P_wi * P_dj)) == -inf:\n",
      "  2%|█▋                                                                                 | 1/50 [00:00<00:28,  1.74it/s]"
     ]
    },
    {
     "name": "stdout",
     "output_type": "stream",
     "text": [
      "0.001617495068082791\n"
     ]
    },
    {
     "name": "stderr",
     "output_type": "stream",
     "text": [
      "\r",
      "  4%|███▎                                                                               | 2/50 [00:01<00:27,  1.74it/s]"
     ]
    },
    {
     "name": "stdout",
     "output_type": "stream",
     "text": [
      "0.0018074945392969482\n"
     ]
    },
    {
     "name": "stderr",
     "output_type": "stream",
     "text": [
      "\r",
      "  6%|████▉                                                                              | 3/50 [00:01<00:27,  1.74it/s]"
     ]
    },
    {
     "name": "stdout",
     "output_type": "stream",
     "text": [
      "0.0034333621461684833\n"
     ]
    },
    {
     "name": "stderr",
     "output_type": "stream",
     "text": [
      "\r",
      "  8%|██████▋                                                                            | 4/50 [00:02<00:26,  1.73it/s]"
     ]
    },
    {
     "name": "stdout",
     "output_type": "stream",
     "text": [
      "0.0016608505000071112\n"
     ]
    },
    {
     "name": "stderr",
     "output_type": "stream",
     "text": [
      "\r",
      " 10%|████████▎                                                                          | 5/50 [00:02<00:25,  1.73it/s]"
     ]
    },
    {
     "name": "stdout",
     "output_type": "stream",
     "text": [
      "0.0017883239126662287\n"
     ]
    },
    {
     "name": "stderr",
     "output_type": "stream",
     "text": [
      "\r",
      " 12%|█████████▉                                                                         | 6/50 [00:03<00:25,  1.73it/s]"
     ]
    },
    {
     "name": "stdout",
     "output_type": "stream",
     "text": [
      "0.0020681888081424873\n"
     ]
    },
    {
     "name": "stderr",
     "output_type": "stream",
     "text": [
      "\r",
      " 14%|███████████▌                                                                       | 7/50 [00:04<00:25,  1.72it/s]"
     ]
    },
    {
     "name": "stdout",
     "output_type": "stream",
     "text": [
      "0.0018547387641054272\n"
     ]
    },
    {
     "name": "stderr",
     "output_type": "stream",
     "text": [
      "\r",
      " 16%|█████████████▎                                                                     | 8/50 [00:04<00:24,  1.71it/s]"
     ]
    },
    {
     "name": "stdout",
     "output_type": "stream",
     "text": [
      "0.0019708472170126105\n"
     ]
    },
    {
     "name": "stderr",
     "output_type": "stream",
     "text": [
      "\r",
      " 18%|██████████████▉                                                                    | 9/50 [00:05<00:24,  1.70it/s]"
     ]
    },
    {
     "name": "stdout",
     "output_type": "stream",
     "text": [
      "0.0018898805245248977\n"
     ]
    },
    {
     "name": "stderr",
     "output_type": "stream",
     "text": [
      "\r",
      " 20%|████████████████▍                                                                 | 10/50 [00:05<00:23,  1.70it/s]"
     ]
    },
    {
     "name": "stdout",
     "output_type": "stream",
     "text": [
      "0.0015021830957765191\n"
     ]
    },
    {
     "name": "stderr",
     "output_type": "stream",
     "text": [
      "\r",
      " 22%|██████████████████                                                                | 11/50 [00:06<00:22,  1.70it/s]"
     ]
    },
    {
     "name": "stdout",
     "output_type": "stream",
     "text": [
      "0.0012374709799633523\n"
     ]
    },
    {
     "name": "stderr",
     "output_type": "stream",
     "text": [
      "\r",
      " 24%|███████████████████▋                                                              | 12/50 [00:06<00:22,  1.70it/s]"
     ]
    },
    {
     "name": "stdout",
     "output_type": "stream",
     "text": [
      "0.001384969629535795\n"
     ]
    },
    {
     "name": "stderr",
     "output_type": "stream",
     "text": [
      "\r",
      " 26%|█████████████████████▎                                                            | 13/50 [00:07<00:21,  1.69it/s]"
     ]
    },
    {
     "name": "stdout",
     "output_type": "stream",
     "text": [
      "0.0016499675169292483\n"
     ]
    },
    {
     "name": "stderr",
     "output_type": "stream",
     "text": [
      "\r",
      " 28%|██████████████████████▉                                                           | 14/50 [00:08<00:21,  1.69it/s]"
     ]
    },
    {
     "name": "stdout",
     "output_type": "stream",
     "text": [
      "-0.0018122999159548704\n"
     ]
    },
    {
     "name": "stderr",
     "output_type": "stream",
     "text": [
      "\r",
      " 30%|████████████████████████▌                                                         | 15/50 [00:08<00:20,  1.69it/s]"
     ]
    },
    {
     "name": "stdout",
     "output_type": "stream",
     "text": [
      "0.0021278276259949712\n"
     ]
    },
    {
     "name": "stderr",
     "output_type": "stream",
     "text": [
      "\r",
      " 32%|██████████████████████████▏                                                       | 16/50 [00:09<00:19,  1.71it/s]"
     ]
    },
    {
     "name": "stdout",
     "output_type": "stream",
     "text": [
      "0.001734708668895139\n"
     ]
    },
    {
     "name": "stderr",
     "output_type": "stream",
     "text": [
      "\r",
      " 34%|███████████████████████████▉                                                      | 17/50 [00:09<00:19,  1.71it/s]"
     ]
    },
    {
     "name": "stdout",
     "output_type": "stream",
     "text": [
      "0.0026307411417778783\n"
     ]
    },
    {
     "name": "stderr",
     "output_type": "stream",
     "text": [
      "\r",
      " 36%|█████████████████████████████▌                                                    | 18/50 [00:10<00:18,  1.72it/s]"
     ]
    },
    {
     "name": "stdout",
     "output_type": "stream",
     "text": [
      "0.0017827501594121298\n"
     ]
    },
    {
     "name": "stderr",
     "output_type": "stream",
     "text": [
      "\r",
      " 38%|███████████████████████████████▏                                                  | 19/50 [00:11<00:18,  1.72it/s]"
     ]
    },
    {
     "name": "stdout",
     "output_type": "stream",
     "text": [
      "0.0014176319470647282\n"
     ]
    },
    {
     "name": "stderr",
     "output_type": "stream",
     "text": [
      "\r",
      " 40%|████████████████████████████████▊                                                 | 20/50 [00:11<00:17,  1.72it/s]"
     ]
    },
    {
     "name": "stdout",
     "output_type": "stream",
     "text": [
      "0.0019402593835942683\n"
     ]
    },
    {
     "name": "stderr",
     "output_type": "stream",
     "text": [
      "\r",
      " 42%|██████████████████████████████████▍                                               | 21/50 [00:12<00:16,  1.72it/s]"
     ]
    },
    {
     "name": "stdout",
     "output_type": "stream",
     "text": [
      "0.0023605894676300915\n"
     ]
    },
    {
     "name": "stderr",
     "output_type": "stream",
     "text": [
      "\r",
      " 44%|████████████████████████████████████                                              | 22/50 [00:12<00:16,  1.72it/s]"
     ]
    },
    {
     "name": "stdout",
     "output_type": "stream",
     "text": [
      "0.002217829654117181\n"
     ]
    },
    {
     "name": "stderr",
     "output_type": "stream",
     "text": [
      "\r",
      " 46%|█████████████████████████████████████▋                                            | 23/50 [00:13<00:15,  1.72it/s]"
     ]
    },
    {
     "name": "stdout",
     "output_type": "stream",
     "text": [
      "0.001256350246858909\n"
     ]
    },
    {
     "name": "stderr",
     "output_type": "stream",
     "text": [
      "\r",
      " 48%|███████████████████████████████████████▎                                          | 24/50 [00:14<00:15,  1.72it/s]"
     ]
    },
    {
     "name": "stdout",
     "output_type": "stream",
     "text": [
      "0.0012939333788073556\n"
     ]
    },
    {
     "name": "stderr",
     "output_type": "stream",
     "text": [
      "\r",
      " 50%|█████████████████████████████████████████                                         | 25/50 [00:14<00:14,  1.73it/s]"
     ]
    },
    {
     "name": "stdout",
     "output_type": "stream",
     "text": [
      "0.001608145545573678\n"
     ]
    },
    {
     "name": "stderr",
     "output_type": "stream",
     "text": [
      "\r",
      " 52%|██████████████████████████████████████████▋                                       | 26/50 [00:15<00:13,  1.73it/s]"
     ]
    },
    {
     "name": "stdout",
     "output_type": "stream",
     "text": [
      "0.0017343712983808118\n"
     ]
    },
    {
     "name": "stderr",
     "output_type": "stream",
     "text": [
      "\r",
      " 54%|████████████████████████████████████████████▎                                     | 27/50 [00:15<00:13,  1.73it/s]"
     ]
    },
    {
     "name": "stdout",
     "output_type": "stream",
     "text": [
      "0.0013409607236609827\n"
     ]
    },
    {
     "name": "stderr",
     "output_type": "stream",
     "text": [
      "\r",
      " 56%|█████████████████████████████████████████████▉                                    | 28/50 [00:16<00:12,  1.73it/s]"
     ]
    },
    {
     "name": "stdout",
     "output_type": "stream",
     "text": [
      "0.0015425920231107797\n"
     ]
    },
    {
     "name": "stderr",
     "output_type": "stream",
     "text": [
      "\r",
      " 58%|███████████████████████████████████████████████▌                                  | 29/50 [00:16<00:12,  1.74it/s]"
     ]
    },
    {
     "name": "stdout",
     "output_type": "stream",
     "text": [
      "0.002697067696956327\n"
     ]
    },
    {
     "name": "stderr",
     "output_type": "stream",
     "text": [
      "\r",
      " 60%|█████████████████████████████████████████████████▏                                | 30/50 [00:17<00:11,  1.73it/s]"
     ]
    },
    {
     "name": "stdout",
     "output_type": "stream",
     "text": [
      "0.0018997153671215532\n"
     ]
    },
    {
     "name": "stderr",
     "output_type": "stream",
     "text": [
      "\r",
      " 62%|██████████████████████████████████████████████████▊                               | 31/50 [00:18<00:10,  1.73it/s]"
     ]
    },
    {
     "name": "stdout",
     "output_type": "stream",
     "text": [
      "0.001687871526639867\n"
     ]
    },
    {
     "name": "stderr",
     "output_type": "stream",
     "text": [
      "\r",
      " 64%|████████████████████████████████████████████████████▍                             | 32/50 [00:18<00:10,  1.73it/s]"
     ]
    },
    {
     "name": "stdout",
     "output_type": "stream",
     "text": [
      "0.0015818515046834138\n"
     ]
    },
    {
     "name": "stderr",
     "output_type": "stream",
     "text": [
      "\r",
      " 66%|██████████████████████████████████████████████████████                            | 33/50 [00:19<00:09,  1.72it/s]"
     ]
    },
    {
     "name": "stdout",
     "output_type": "stream",
     "text": [
      "0.0021055485497777195\n"
     ]
    },
    {
     "name": "stderr",
     "output_type": "stream",
     "text": [
      "\r",
      " 68%|███████████████████████████████████████████████████████▊                          | 34/50 [00:19<00:09,  1.72it/s]"
     ]
    },
    {
     "name": "stdout",
     "output_type": "stream",
     "text": [
      "0.0015284726727095646\n"
     ]
    },
    {
     "name": "stderr",
     "output_type": "stream",
     "text": [
      "\r",
      " 70%|█████████████████████████████████████████████████████████▍                        | 35/50 [00:20<00:08,  1.73it/s]"
     ]
    },
    {
     "name": "stdout",
     "output_type": "stream",
     "text": [
      "0.0018832603642309205\n"
     ]
    },
    {
     "name": "stderr",
     "output_type": "stream",
     "text": [
      "\r",
      " 72%|███████████████████████████████████████████████████████████                       | 36/50 [00:20<00:08,  1.72it/s]"
     ]
    },
    {
     "name": "stdout",
     "output_type": "stream",
     "text": [
      "0.0020090925403709434\n"
     ]
    },
    {
     "name": "stderr",
     "output_type": "stream",
     "text": [
      "\r",
      " 74%|████████████████████████████████████████████████████████████▋                     | 37/50 [00:21<00:07,  1.72it/s]"
     ]
    },
    {
     "name": "stdout",
     "output_type": "stream",
     "text": [
      "0.0018685161921306295\n"
     ]
    },
    {
     "name": "stderr",
     "output_type": "stream",
     "text": [
      "\r",
      " 76%|██████████████████████████████████████████████████████████████▎                   | 38/50 [00:22<00:06,  1.72it/s]"
     ]
    },
    {
     "name": "stdout",
     "output_type": "stream",
     "text": [
      "0.0020514731876676855\n"
     ]
    },
    {
     "name": "stderr",
     "output_type": "stream",
     "text": [
      "\r",
      " 78%|███████████████████████████████████████████████████████████████▉                  | 39/50 [00:22<00:06,  1.73it/s]"
     ]
    },
    {
     "name": "stdout",
     "output_type": "stream",
     "text": [
      "0.003301639101485229\n"
     ]
    },
    {
     "name": "stderr",
     "output_type": "stream",
     "text": [
      "\r",
      " 80%|█████████████████████████████████████████████████████████████████▌                | 40/50 [00:23<00:05,  1.73it/s]"
     ]
    },
    {
     "name": "stdout",
     "output_type": "stream",
     "text": [
      "0.0019597646413233743\n"
     ]
    },
    {
     "name": "stderr",
     "output_type": "stream",
     "text": [
      "\r",
      " 82%|███████████████████████████████████████████████████████████████████▏              | 41/50 [00:23<00:05,  1.74it/s]"
     ]
    },
    {
     "name": "stdout",
     "output_type": "stream",
     "text": [
      "0.0015552093442930417\n"
     ]
    },
    {
     "name": "stderr",
     "output_type": "stream",
     "text": [
      "\r",
      " 84%|████████████████████████████████████████████████████████████████████▉             | 42/50 [00:24<00:04,  1.74it/s]"
     ]
    },
    {
     "name": "stdout",
     "output_type": "stream",
     "text": [
      "0.002198004392121185\n"
     ]
    },
    {
     "name": "stderr",
     "output_type": "stream",
     "text": [
      "\r",
      " 86%|██████████████████████████████████████████████████████████████████████▌           | 43/50 [00:24<00:04,  1.73it/s]"
     ]
    },
    {
     "name": "stdout",
     "output_type": "stream",
     "text": [
      "0.0017865726780605137\n"
     ]
    },
    {
     "name": "stderr",
     "output_type": "stream",
     "text": [
      "\r",
      " 88%|████████████████████████████████████████████████████████████████████████▏         | 44/50 [00:25<00:03,  1.73it/s]"
     ]
    },
    {
     "name": "stdout",
     "output_type": "stream",
     "text": [
      "0.0016778688224788727\n"
     ]
    },
    {
     "name": "stderr",
     "output_type": "stream",
     "text": [
      "\r",
      " 90%|█████████████████████████████████████████████████████████████████████████▊        | 45/50 [00:26<00:02,  1.73it/s]"
     ]
    },
    {
     "name": "stdout",
     "output_type": "stream",
     "text": [
      "0.0015620575115752496\n"
     ]
    },
    {
     "name": "stderr",
     "output_type": "stream",
     "text": [
      "\r",
      " 92%|███████████████████████████████████████████████████████████████████████████▍      | 46/50 [00:26<00:02,  1.73it/s]"
     ]
    },
    {
     "name": "stdout",
     "output_type": "stream",
     "text": [
      "0.0014754927271126463\n"
     ]
    },
    {
     "name": "stderr",
     "output_type": "stream",
     "text": [
      "\r",
      " 94%|█████████████████████████████████████████████████████████████████████████████     | 47/50 [00:27<00:01,  1.72it/s]"
     ]
    },
    {
     "name": "stdout",
     "output_type": "stream",
     "text": [
      "0.00135209888770901\n"
     ]
    },
    {
     "name": "stderr",
     "output_type": "stream",
     "text": [
      "\r",
      " 96%|██████████████████████████████████████████████████████████████████████████████▋   | 48/50 [00:27<00:01,  1.73it/s]"
     ]
    },
    {
     "name": "stdout",
     "output_type": "stream",
     "text": [
      "0.0019931364196203493\n"
     ]
    },
    {
     "name": "stderr",
     "output_type": "stream",
     "text": [
      "\r",
      " 98%|████████████████████████████████████████████████████████████████████████████████▎ | 49/50 [00:28<00:00,  1.73it/s]"
     ]
    },
    {
     "name": "stdout",
     "output_type": "stream",
     "text": [
      "0.0023383711172481176\n"
     ]
    },
    {
     "name": "stderr",
     "output_type": "stream",
     "text": [
      "100%|██████████████████████████████████████████████████████████████████████████████████| 50/50 [00:29<00:00,  1.72it/s]"
     ]
    },
    {
     "name": "stdout",
     "output_type": "stream",
     "text": [
      "0.001697863983203284\n"
     ]
    },
    {
     "name": "stderr",
     "output_type": "stream",
     "text": [
      "\n"
     ]
    }
   ],
   "source": [
    "from numpy import inf\n",
    "\n",
    "kpop_en_total_pwi=[]\n",
    "N = 4577\n",
    "\n",
    "F = count\n",
    "\n",
    "P_dj = (1 / N)\n",
    "\n",
    "for i in tqdm(range(len(kpop_en_topic_nums))):\n",
    "    dj_wi_pwi_list = []\n",
    "    for d in kpop_en:\n",
    "        words_in_t = []\n",
    "        #Iterate over n topic words\n",
    "        fake_topic_words = kpop_en_topic_list[i]\n",
    "        for word in fake_topic_words:\n",
    "            tokenized_doc = [x.lower() for x in list(d.split(' '))] \n",
    "            f_ij = sum([1 for x in tokenized_doc if word == x])\n",
    "            P_wi_dj = (f_ij / F)\n",
    "            P_wi = freq_dist.freq(word)\n",
    "            try:\n",
    "                if np.log(P_wi_dj/(P_wi * P_dj)) == -inf:\n",
    "                    pmi = 0\n",
    "                else :\n",
    "                    pmi = np.log(P_wi_dj/(P_wi * P_dj))\n",
    "            except:\n",
    "                pass\n",
    "            pwi = P_wi_dj * pmi\n",
    "            words_in_t.append(pwi)\n",
    "            dj_wi_pwi_list.append(pwi)\n",
    "    topic_pwi = sum(dj_wi_pwi_list)\n",
    "    print(topic_pwi)\n",
    "    kpop_en_total_pwi.append(topic_pwi)"
   ]
  },
  {
   "cell_type": "code",
   "execution_count": 241,
   "id": "8f678fa4",
   "metadata": {},
   "outputs": [
    {
     "data": {
      "text/plain": [
       "0.08925311327965542"
      ]
     },
     "execution_count": 241,
     "metadata": {},
     "output_type": "execute_result"
    }
   ],
   "source": [
    "sum(kpop_en_total_pwi)"
   ]
  },
  {
   "cell_type": "markdown",
   "id": "59b9557e",
   "metadata": {},
   "source": [
    "# Pop_en_PWI"
   ]
  },
  {
   "cell_type": "code",
   "execution_count": 242,
   "id": "5e8d7024",
   "metadata": {},
   "outputs": [
    {
     "data": {
      "text/plain": [
       "FreqDist({'night': 11938, 'baby': 7931, 'bitch': 6815, 'time': 6648, 'cause': 6443, 'girl': 6252, 'love': 5666, 'anna': 5196, 'life': 3650, 'fuck': 3562, ...})"
      ]
     },
     "execution_count": 242,
     "metadata": {},
     "output_type": "execute_result"
    }
   ],
   "source": [
    "from nltk import ngrams, FreqDist\n",
    "freq_dist = FreqDist()\n",
    "for doc in pop_en:\n",
    "    doc = doc.split()\n",
    "    for word in doc:\n",
    "        freq_dist[word.lower()] += 1\n",
    "freq_dist"
   ]
  },
  {
   "cell_type": "code",
   "execution_count": 243,
   "id": "8df9f301",
   "metadata": {},
   "outputs": [
    {
     "name": "stderr",
     "output_type": "stream",
     "text": [
      "100%|█████████████████████████████████████████████████████████████████████████| 5147/5147 [00:00<00:00, 2580146.13it/s]\n"
     ]
    },
    {
     "data": {
      "text/plain": [
       "3489346"
      ]
     },
     "execution_count": 243,
     "metadata": {},
     "output_type": "execute_result"
    }
   ],
   "source": [
    "count=0\n",
    "for i in tqdm(range(5147)):\n",
    "    a =len(pop_en[i])\n",
    "    count = count+a\n",
    "count"
   ]
  },
  {
   "cell_type": "code",
   "execution_count": 244,
   "id": "4f1614a7",
   "metadata": {},
   "outputs": [
    {
     "name": "stderr",
     "output_type": "stream",
     "text": [
      "  0%|                                                                                           | 0/34 [00:00<?, ?it/s]<ipython-input-244-d6593d561403>:22: RuntimeWarning: divide by zero encountered in log\n",
      "  if np.log(P_wi_dj/(P_wi * P_dj)) == -inf:\n",
      "  3%|██▍                                                                                | 1/34 [00:00<00:30,  1.08it/s]"
     ]
    },
    {
     "name": "stdout",
     "output_type": "stream",
     "text": [
      "0.0008826859555534895\n"
     ]
    },
    {
     "name": "stderr",
     "output_type": "stream",
     "text": [
      "\r",
      "  6%|████▉                                                                              | 2/34 [00:01<00:29,  1.07it/s]"
     ]
    },
    {
     "name": "stdout",
     "output_type": "stream",
     "text": [
      "0.0015368276400689468\n"
     ]
    },
    {
     "name": "stderr",
     "output_type": "stream",
     "text": [
      "\r",
      "  9%|███████▎                                                                           | 3/34 [00:02<00:29,  1.06it/s]"
     ]
    },
    {
     "name": "stdout",
     "output_type": "stream",
     "text": [
      "0.0016663265429988612\n"
     ]
    },
    {
     "name": "stderr",
     "output_type": "stream",
     "text": [
      "\r",
      " 12%|█████████▊                                                                         | 4/34 [00:03<00:28,  1.06it/s]"
     ]
    },
    {
     "name": "stdout",
     "output_type": "stream",
     "text": [
      "0.0018017843376402986\n"
     ]
    },
    {
     "name": "stderr",
     "output_type": "stream",
     "text": [
      "\r",
      " 15%|████████████▏                                                                      | 5/34 [00:04<00:27,  1.07it/s]"
     ]
    },
    {
     "name": "stdout",
     "output_type": "stream",
     "text": [
      "0.0011450903748572527\n"
     ]
    },
    {
     "name": "stderr",
     "output_type": "stream",
     "text": [
      "\r",
      " 18%|██████████████▋                                                                    | 6/34 [00:05<00:26,  1.07it/s]"
     ]
    },
    {
     "name": "stdout",
     "output_type": "stream",
     "text": [
      "0.0017749664737493913\n"
     ]
    },
    {
     "name": "stderr",
     "output_type": "stream",
     "text": [
      "\r",
      " 21%|█████████████████                                                                  | 7/34 [00:06<00:25,  1.07it/s]"
     ]
    },
    {
     "name": "stdout",
     "output_type": "stream",
     "text": [
      "0.0007241834732671968\n"
     ]
    },
    {
     "name": "stderr",
     "output_type": "stream",
     "text": [
      "\r",
      " 24%|███████████████████▌                                                               | 8/34 [00:07<00:24,  1.08it/s]"
     ]
    },
    {
     "name": "stdout",
     "output_type": "stream",
     "text": [
      "0.001142802975337432\n"
     ]
    },
    {
     "name": "stderr",
     "output_type": "stream",
     "text": [
      "\r",
      " 26%|█████████████████████▉                                                             | 9/34 [00:08<00:23,  1.08it/s]"
     ]
    },
    {
     "name": "stdout",
     "output_type": "stream",
     "text": [
      "0.0010736973696150454\n"
     ]
    },
    {
     "name": "stderr",
     "output_type": "stream",
     "text": [
      "\r",
      " 29%|████████████████████████                                                          | 10/34 [00:09<00:22,  1.07it/s]"
     ]
    },
    {
     "name": "stdout",
     "output_type": "stream",
     "text": [
      "0.0013212619201431776\n"
     ]
    },
    {
     "name": "stderr",
     "output_type": "stream",
     "text": [
      "\r",
      " 32%|██████████████████████████▌                                                       | 11/34 [00:10<00:21,  1.07it/s]"
     ]
    },
    {
     "name": "stdout",
     "output_type": "stream",
     "text": [
      "0.0011157122210180385\n"
     ]
    },
    {
     "name": "stderr",
     "output_type": "stream",
     "text": [
      "\r",
      " 35%|████████████████████████████▉                                                     | 12/34 [00:11<00:20,  1.07it/s]"
     ]
    },
    {
     "name": "stdout",
     "output_type": "stream",
     "text": [
      "0.0007648764865886786\n"
     ]
    },
    {
     "name": "stderr",
     "output_type": "stream",
     "text": [
      "\r",
      " 38%|███████████████████████████████▎                                                  | 13/34 [00:12<00:19,  1.07it/s]"
     ]
    },
    {
     "name": "stdout",
     "output_type": "stream",
     "text": [
      "-0.0006089888425815944\n"
     ]
    },
    {
     "name": "stderr",
     "output_type": "stream",
     "text": [
      "\r",
      " 41%|█████████████████████████████████▊                                                | 14/34 [00:13<00:18,  1.07it/s]"
     ]
    },
    {
     "name": "stdout",
     "output_type": "stream",
     "text": [
      "0.00037386561119225227\n"
     ]
    },
    {
     "name": "stderr",
     "output_type": "stream",
     "text": [
      "\r",
      " 44%|████████████████████████████████████▏                                             | 15/34 [00:13<00:17,  1.08it/s]"
     ]
    },
    {
     "name": "stdout",
     "output_type": "stream",
     "text": [
      "0.0013229973649395608\n"
     ]
    },
    {
     "name": "stderr",
     "output_type": "stream",
     "text": [
      "\r",
      " 47%|██████████████████████████████████████▌                                           | 16/34 [00:14<00:16,  1.08it/s]"
     ]
    },
    {
     "name": "stdout",
     "output_type": "stream",
     "text": [
      "-0.00020842700010580964\n"
     ]
    },
    {
     "name": "stderr",
     "output_type": "stream",
     "text": [
      "\r",
      " 50%|█████████████████████████████████████████                                         | 17/34 [00:15<00:15,  1.08it/s]"
     ]
    },
    {
     "name": "stdout",
     "output_type": "stream",
     "text": [
      "0.001120560144108793\n"
     ]
    },
    {
     "name": "stderr",
     "output_type": "stream",
     "text": [
      "\r",
      " 53%|███████████████████████████████████████████▍                                      | 18/34 [00:16<00:14,  1.08it/s]"
     ]
    },
    {
     "name": "stdout",
     "output_type": "stream",
     "text": [
      "0.0011261544241569468\n"
     ]
    },
    {
     "name": "stderr",
     "output_type": "stream",
     "text": [
      "\r",
      " 56%|█████████████████████████████████████████████▊                                    | 19/34 [00:17<00:13,  1.08it/s]"
     ]
    },
    {
     "name": "stdout",
     "output_type": "stream",
     "text": [
      "0.0009693529184191719\n"
     ]
    },
    {
     "name": "stderr",
     "output_type": "stream",
     "text": [
      "\r",
      " 59%|████████████████████████████████████████████████▏                                 | 20/34 [00:18<00:13,  1.07it/s]"
     ]
    },
    {
     "name": "stdout",
     "output_type": "stream",
     "text": [
      "0.0009388049681031934\n"
     ]
    },
    {
     "name": "stderr",
     "output_type": "stream",
     "text": [
      "\r",
      " 62%|██████████████████████████████████████████████████▋                               | 21/34 [00:19<00:12,  1.07it/s]"
     ]
    },
    {
     "name": "stdout",
     "output_type": "stream",
     "text": [
      "0.0006837747401823055\n"
     ]
    },
    {
     "name": "stderr",
     "output_type": "stream",
     "text": [
      "\r",
      " 65%|█████████████████████████████████████████████████████                             | 22/34 [00:20<00:11,  1.07it/s]"
     ]
    },
    {
     "name": "stdout",
     "output_type": "stream",
     "text": [
      "0.000880494793205338\n"
     ]
    },
    {
     "name": "stderr",
     "output_type": "stream",
     "text": [
      "\r",
      " 68%|███████████████████████████████████████████████████████▍                          | 23/34 [00:21<00:10,  1.07it/s]"
     ]
    },
    {
     "name": "stdout",
     "output_type": "stream",
     "text": [
      "0.001461264911530355\n"
     ]
    },
    {
     "name": "stderr",
     "output_type": "stream",
     "text": [
      "\r",
      " 71%|█████████████████████████████████████████████████████████▉                        | 24/34 [00:22<00:09,  1.07it/s]"
     ]
    },
    {
     "name": "stdout",
     "output_type": "stream",
     "text": [
      "0.0008000860396038892\n"
     ]
    },
    {
     "name": "stderr",
     "output_type": "stream",
     "text": [
      "\r",
      " 74%|████████████████████████████████████████████████████████████▎                     | 25/34 [00:23<00:08,  1.07it/s]"
     ]
    },
    {
     "name": "stdout",
     "output_type": "stream",
     "text": [
      "0.0010890216044785316\n"
     ]
    },
    {
     "name": "stderr",
     "output_type": "stream",
     "text": [
      "\r",
      " 76%|██████████████████████████████████████████████████████████████▋                   | 26/34 [00:24<00:07,  1.07it/s]"
     ]
    },
    {
     "name": "stdout",
     "output_type": "stream",
     "text": [
      "0.001000592861910945\n"
     ]
    },
    {
     "name": "stderr",
     "output_type": "stream",
     "text": [
      "\r",
      " 79%|█████████████████████████████████████████████████████████████████                 | 27/34 [00:25<00:06,  1.08it/s]"
     ]
    },
    {
     "name": "stdout",
     "output_type": "stream",
     "text": [
      "0.0014601459643124545\n"
     ]
    },
    {
     "name": "stderr",
     "output_type": "stream",
     "text": [
      "\r",
      " 82%|███████████████████████████████████████████████████████████████████▌              | 28/34 [00:26<00:05,  1.07it/s]"
     ]
    },
    {
     "name": "stdout",
     "output_type": "stream",
     "text": [
      "0.001049286077664724\n"
     ]
    },
    {
     "name": "stderr",
     "output_type": "stream",
     "text": [
      "\r",
      " 85%|█████████████████████████████████████████████████████████████████████▉            | 29/34 [00:27<00:04,  1.08it/s]"
     ]
    },
    {
     "name": "stdout",
     "output_type": "stream",
     "text": [
      "0.0016712463812696883\n"
     ]
    },
    {
     "name": "stderr",
     "output_type": "stream",
     "text": [
      "\r",
      " 88%|████████████████████████████████████████████████████████████████████████▎         | 30/34 [00:27<00:03,  1.08it/s]"
     ]
    },
    {
     "name": "stdout",
     "output_type": "stream",
     "text": [
      "0.0009758199792791725\n"
     ]
    },
    {
     "name": "stderr",
     "output_type": "stream",
     "text": [
      "\r",
      " 91%|██████████████████████████████████████████████████████████████████████████▊       | 31/34 [00:28<00:02,  1.08it/s]"
     ]
    },
    {
     "name": "stdout",
     "output_type": "stream",
     "text": [
      "0.0010044333604918704\n"
     ]
    },
    {
     "name": "stderr",
     "output_type": "stream",
     "text": [
      "\r",
      " 94%|█████████████████████████████████████████████████████████████████████████████▏    | 32/34 [00:29<00:01,  1.08it/s]"
     ]
    },
    {
     "name": "stdout",
     "output_type": "stream",
     "text": [
      "0.000550563869834772\n"
     ]
    },
    {
     "name": "stderr",
     "output_type": "stream",
     "text": [
      "\r",
      " 97%|███████████████████████████████████████████████████████████████████████████████▌  | 33/34 [00:30<00:00,  1.08it/s]"
     ]
    },
    {
     "name": "stdout",
     "output_type": "stream",
     "text": [
      "0.0011356557438076545\n"
     ]
    },
    {
     "name": "stderr",
     "output_type": "stream",
     "text": [
      "100%|██████████████████████████████████████████████████████████████████████████████████| 34/34 [00:31<00:00,  1.07it/s]"
     ]
    },
    {
     "name": "stdout",
     "output_type": "stream",
     "text": [
      "0.0013284728285838177\n"
     ]
    },
    {
     "name": "stderr",
     "output_type": "stream",
     "text": [
      "\n"
     ]
    }
   ],
   "source": [
    "from numpy import inf\n",
    "\n",
    "pop_en_total_pwi=[]\n",
    "N = 5147\n",
    "\n",
    "F = count\n",
    "\n",
    "P_dj = (1 / N)\n",
    "\n",
    "for i in tqdm(range(len(pop_en_topic_nums))):\n",
    "    dj_wi_pwi_list = []\n",
    "    for d in pop_en:\n",
    "        words_in_t = []\n",
    "        #Iterate over n topic words\n",
    "        fake_topic_words = pop_en_topic_list[i]\n",
    "        for word in fake_topic_words:\n",
    "            tokenized_doc = [x.lower() for x in list(d.split(' '))] \n",
    "            f_ij = sum([1 for x in tokenized_doc if word == x])\n",
    "            P_wi_dj = (f_ij / F)\n",
    "            P_wi = freq_dist.freq(word)\n",
    "            try:\n",
    "                if np.log(P_wi_dj/(P_wi * P_dj)) == -inf:\n",
    "                    pmi = 0\n",
    "                else :\n",
    "                    pmi = np.log(P_wi_dj/(P_wi * P_dj))\n",
    "            except:\n",
    "                pass\n",
    "            pwi = P_wi_dj * pmi\n",
    "            words_in_t.append(pwi)\n",
    "            dj_wi_pwi_list.append(pwi)\n",
    "    topic_pwi = sum(dj_wi_pwi_list)\n",
    "    print(topic_pwi)\n",
    "    pop_en_total_pwi.append(topic_pwi)"
   ]
  },
  {
   "cell_type": "code",
   "execution_count": 245,
   "id": "4eaf060b",
   "metadata": {},
   "outputs": [
    {
     "data": {
      "text/plain": [
       "0.03507539451522584"
      ]
     },
     "execution_count": 245,
     "metadata": {},
     "output_type": "execute_result"
    }
   ],
   "source": [
    "sum(pop_en_total_pwi)"
   ]
  },
  {
   "cell_type": "markdown",
   "id": "abc791fb",
   "metadata": {},
   "source": [
    "# Top2vec 문서추천 한국어"
   ]
  },
  {
   "cell_type": "code",
   "execution_count": 247,
   "id": "9117ba20",
   "metadata": {},
   "outputs": [],
   "source": [
    "kpop_kr_word_list=[]\n",
    "for i in range(10):\n",
    "    a = kpop_kr_topic_list[i][0]\n",
    "    kpop_kr_word_list.append(a)"
   ]
  },
  {
   "cell_type": "code",
   "execution_count": 248,
   "id": "67c9e622",
   "metadata": {},
   "outputs": [
    {
     "data": {
      "text/plain": [
       "['필요', '수배', '행복', '솔로', '파란', '웃기', '소린', '외톨이야', '지난날', '꿈속']"
      ]
     },
     "execution_count": 248,
     "metadata": {},
     "output_type": "execute_result"
    }
   ],
   "source": [
    "kpop_kr_word_list"
   ]
  },
  {
   "cell_type": "code",
   "execution_count": 261,
   "id": "626d67a8",
   "metadata": {},
   "outputs": [
    {
     "data": {
      "text/html": [
       "<div>\n",
       "<style scoped>\n",
       "    .dataframe tbody tr th:only-of-type {\n",
       "        vertical-align: middle;\n",
       "    }\n",
       "\n",
       "    .dataframe tbody tr th {\n",
       "        vertical-align: top;\n",
       "    }\n",
       "\n",
       "    .dataframe thead th {\n",
       "        text-align: right;\n",
       "    }\n",
       "</style>\n",
       "<table border=\"1\" class=\"dataframe\">\n",
       "  <thead>\n",
       "    <tr style=\"text-align: right;\">\n",
       "      <th></th>\n",
       "      <th>0</th>\n",
       "    </tr>\n",
       "  </thead>\n",
       "  <tbody>\n",
       "    <tr>\n",
       "      <th>0</th>\n",
       "      <td>수도 우주 열기구 공기 상관 지붕 손뼉 행복 진리 박수 행복 박수 소식 고난 경고 ...</td>\n",
       "    </tr>\n",
       "    <tr>\n",
       "      <th>1</th>\n",
       "      <td>할리 사이 휘발유 판매 군대 부인 문신 요흥 방송국 노래 정부 수도 수백 전형 행복...</td>\n",
       "    </tr>\n",
       "    <tr>\n",
       "      <th>2</th>\n",
       "      <td>여보 나무 세월 은신 음악 불신 재창 직면 행복 행복 행복 타박상 지나 저주 절규 ...</td>\n",
       "    </tr>\n",
       "    <tr>\n",
       "      <th>3</th>\n",
       "      <td>호호 행복 행복 행복 크리스마스 이야기 세상 기억 조립 옛날 옛적 마을 소녀 소원 ...</td>\n",
       "    </tr>\n",
       "    <tr>\n",
       "      <th>4</th>\n",
       "      <td>뭔가 기회 통제 불능 그냥 바보 게임 얼굴 보기 행복 심장 시작 나이 사진 액자 절...</td>\n",
       "    </tr>\n",
       "  </tbody>\n",
       "</table>\n",
       "</div>"
      ],
      "text/plain": [
       "                                                   0\n",
       "0  수도 우주 열기구 공기 상관 지붕 손뼉 행복 진리 박수 행복 박수 소식 고난 경고 ...\n",
       "1  할리 사이 휘발유 판매 군대 부인 문신 요흥 방송국 노래 정부 수도 수백 전형 행복...\n",
       "2  여보 나무 세월 은신 음악 불신 재창 직면 행복 행복 행복 타박상 지나 저주 절규 ...\n",
       "3  호호 행복 행복 행복 크리스마스 이야기 세상 기억 조립 옛날 옛적 마을 소녀 소원 ...\n",
       "4  뭔가 기회 통제 불능 그냥 바보 게임 얼굴 보기 행복 심장 시작 나이 사진 액자 절..."
      ]
     },
     "execution_count": 261,
     "metadata": {},
     "output_type": "execute_result"
    }
   ],
   "source": []
  },
  {
   "cell_type": "code",
   "execution_count": 285,
   "id": "fb2fb39f",
   "metadata": {},
   "outputs": [
    {
     "name": "stdout",
     "output_type": "stream",
     "text": [
      "Document: 3109, Score: 0.5868451595306396\n",
      "-----------\n",
      "Title :  ONE BEER , Artist :  HARDY Feat. Lauren Alaina & Devin Dawson\n",
      "-----------\n",
      "\n",
      "Document: 3579, Score: 0.5364699363708496\n",
      "-----------\n",
      "Title :  Cold Beer Calling My Name , Artist :  Jameson Rodgers & Luke Combs\n",
      "-----------\n",
      "\n",
      "Document: 3294, Score: 0.5269269943237305\n",
      "-----------\n",
      "Title :  Beers And Sunshine , Artist :  Darius Rucker\n",
      "-----------\n",
      "\n",
      "Document: 4115, Score: 0.5105506777763367\n",
      "-----------\n",
      "Title :  Cold One , Artist :  Eric Church\n",
      "-----------\n",
      "\n",
      "Document: 3778, Score: 0.5041806697845459\n",
      "-----------\n",
      "Title :  Shark In The Water  , Artist :  V V Brown\n",
      "-----------\n",
      "\n"
     ]
    }
   ],
   "source": [
    "documents, document_scores, document_ids = pop_kr_model.search_documents_by_keywords(keywords=['맥주'], num_docs=5)\n",
    "for doc, score, doc_id in zip(documents, document_scores, document_ids):\n",
    "    print(f\"Document: {doc_id}, Score: {score}\")\n",
    "    print(\"-----------\")\n",
    "    print('Title : ', Pop_title[int(doc_id)], ', Artist : ', Pop_artist[int(doc_id)])\n",
    "    print(\"-----------\")\n",
    "    print()"
   ]
  },
  {
   "cell_type": "code",
   "execution_count": 264,
   "id": "7290225d",
   "metadata": {},
   "outputs": [
    {
     "data": {
      "text/plain": [
       "'Happy Does  '"
      ]
     },
     "execution_count": 264,
     "metadata": {},
     "output_type": "execute_result"
    }
   ],
   "source": [
    "Pop_title[4508]"
   ]
  },
  {
   "cell_type": "code",
   "execution_count": 266,
   "id": "196d23f5",
   "metadata": {},
   "outputs": [
    {
     "data": {
      "text/plain": [
       "'  \\n87년산 할리를 몰다\\n오전 8시에서 3시 사이에 휘발유와 마시는 것을 판매합니다\\n군대와 전 부인 4번 문신이 있어요\\n흥민이 따라다니면서 자기 방송국에 있는 노래들을 널 가르쳤지\\n그는 정부를 욕하는 또 다른 사람이 될 수도 있다\\n아니\\n하지만 그는 웃는다\\n안 될 이유는 수백 가지지만\\n그는 그의 전형이다\\n행복은 행복만큼 중요하다\\n6번 트랙을 잡고\\n밧줄 그네를 찾아라\\n트럭에 야자수 매달아라\\n그냥 맥주나 마셔요\\n비바람 속에서 느린 춤을 훔쳐라\\n그리고 당신이 사랑하는 사람으로부터의 키스\\n반 컵 가득히 먹고 웃으며 살아라\\n그래\\n행복은 행복한 것만큼\\n어떤 이는 성경이나 폴라로이드 그림에서 찾을 수 있다\\n동전 던지던지 앞면 던지던지 애리조나 투손으로 가는거야\\n하지만 네가 하지 않았던 일들을 돌이켜보진 않을 거야\\n가끔은 그렇게 느끼겠지만\\n삶이 더 나아질 때\\n행복은 행복만큼 중요하다\\n여섯 줄을 잡고\\n밧줄 그네를 찾아라\\n트럭에 야자수 매달아라\\n그냥 맥주나 마셔요\\n비바람 속에서 느린 춤을 훔쳐라\\n그리고 당신이 사랑하는 사람으로부터의 키스\\n반 컵 가득히 먹고 웃으며 살아라\\n행복은 행복한 것만큼 좋은 거니까 그게 우리가 원하는 전부야\\n그게 다야\\n우리가 원하는 전부야\\n그녀는 예전의 그녀와는 거리가 멀다\\n볼더에 있는 이 산에서 다이빙을 합니다\\n모든 피클 항아리\\n구겨진 달러\\n1마일 더 높이 올라가서\\n행복은 행복만큼 중요하다\\n여섯 줄을 잡고\\n밧줄 그네를 찾아라\\n트럭에 야자수 매달아라\\n그냥 맥주나 마셔요\\n비바람 속에서 느린 춤을 훔쳐라\\n그리고 당신이 사랑하는 사람으로부터의 키스\\n반 컵 가득히 먹고 웃으며 살아라\\n먹구름이 잔뜩 끼면 태양을 찾아라\\n행복은 행복한 것만큼 좋은 거니까 그게 우리가 원하는 전부야\\n그게 다야\\n우리가 원하는 전부야\\n행복은 행복한 것만큼 좋은 것이다\\n그게 다야\\n반 컵 가득히 먹고 웃으며 살아라'"
      ]
     },
     "execution_count": 266,
     "metadata": {},
     "output_type": "execute_result"
    }
   ],
   "source": []
  },
  {
   "cell_type": "code",
   "execution_count": null,
   "id": "aa42c433",
   "metadata": {},
   "outputs": [],
   "source": []
  },
  {
   "cell_type": "code",
   "execution_count": null,
   "id": "dd581634",
   "metadata": {},
   "outputs": [],
   "source": []
  },
  {
   "cell_type": "code",
   "execution_count": null,
   "id": "76976fa0",
   "metadata": {},
   "outputs": [],
   "source": []
  },
  {
   "cell_type": "code",
   "execution_count": null,
   "id": "349e25dc",
   "metadata": {},
   "outputs": [],
   "source": []
  },
  {
   "cell_type": "code",
   "execution_count": null,
   "id": "97efbad5",
   "metadata": {},
   "outputs": [],
   "source": []
  },
  {
   "cell_type": "code",
   "execution_count": null,
   "id": "3454a5f1",
   "metadata": {},
   "outputs": [],
   "source": []
  },
  {
   "cell_type": "code",
   "execution_count": null,
   "id": "2b50596d",
   "metadata": {},
   "outputs": [],
   "source": []
  },
  {
   "cell_type": "code",
   "execution_count": null,
   "id": "22692990",
   "metadata": {},
   "outputs": [],
   "source": []
  },
  {
   "cell_type": "code",
   "execution_count": null,
   "id": "07aad251",
   "metadata": {},
   "outputs": [],
   "source": []
  }
 ],
 "metadata": {
  "kernelspec": {
   "display_name": "Python 3",
   "language": "python",
   "name": "python3"
  },
  "language_info": {
   "codemirror_mode": {
    "name": "ipython",
    "version": 3
   },
   "file_extension": ".py",
   "mimetype": "text/x-python",
   "name": "python",
   "nbconvert_exporter": "python",
   "pygments_lexer": "ipython3",
   "version": "3.8.10"
  }
 },
 "nbformat": 4,
 "nbformat_minor": 5
}
